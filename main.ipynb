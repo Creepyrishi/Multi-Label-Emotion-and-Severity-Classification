{
  "cells": [
    {
      "cell_type": "code",
      "execution_count": null,
      "metadata": {
        "colab": {
          "base_uri": "https://localhost:8080/"
        },
        "id": "rHITDwxcOS2y",
        "outputId": "ae0c0232-7fb1-4615-e292-3bb859a1fcda"
      },
      "outputs": [
        {
          "output_type": "stream",
          "name": "stdout",
          "text": [
            "Collecting pydub\n",
            "  Downloading pydub-0.25.1-py2.py3-none-any.whl.metadata (1.4 kB)\n",
            "Downloading pydub-0.25.1-py2.py3-none-any.whl (32 kB)\n",
            "Installing collected packages: pydub\n",
            "Successfully installed pydub-0.25.1\n"
          ]
        }
      ],
      "source": [
        "!pip install pydub"
      ]
    },
    {
      "cell_type": "code",
      "execution_count": null,
      "metadata": {
        "colab": {
          "base_uri": "https://localhost:8080/"
        },
        "id": "ug5N7aT-tvQ3",
        "outputId": "a28b4169-81bd-4c01-a31c-820f0674bfdc"
      },
      "outputs": [
        {
          "output_type": "stream",
          "name": "stdout",
          "text": [
            "Downloading from https://www.kaggle.com/api/v1/datasets/download/adrivg/ravdess-emotional-speech-video?dataset_version_number=1...\n"
          ]
        },
        {
          "output_type": "stream",
          "name": "stderr",
          "text": [
            "100%|██████████| 12.4G/12.4G [09:52<00:00, 22.5MB/s]"
          ]
        },
        {
          "output_type": "stream",
          "name": "stdout",
          "text": [
            "Extracting files...\n"
          ]
        },
        {
          "output_type": "stream",
          "name": "stderr",
          "text": [
            "\n"
          ]
        },
        {
          "output_type": "stream",
          "name": "stdout",
          "text": [
            "Path to dataset files: /root/.cache/kagglehub/datasets/adrivg/ravdess-emotional-speech-video/versions/1\n"
          ]
        }
      ],
      "source": [
        "import kagglehub\n",
        "path = kagglehub.dataset_download(\"adrivg/ravdess-emotional-speech-video\")\n",
        "print(\"Path to dataset files:\", path)"
      ]
    },
    {
      "cell_type": "code",
      "execution_count": null,
      "metadata": {
        "colab": {
          "base_uri": "https://localhost:8080/"
        },
        "id": "F231TYbbM_vI",
        "outputId": "8bd14bd3-4d11-4c0a-d748-1e6fe2c347f5"
      },
      "outputs": [
        {
          "output_type": "stream",
          "name": "stderr",
          "text": [
            "WARNING:py.warnings:/usr/local/lib/python3.11/dist-packages/moviepy/video/io/sliders.py:61: SyntaxWarning: \"is\" with a literal. Did you mean \"==\"?\n",
            "  if event.key is 'enter':\n",
            "\n"
          ]
        }
      ],
      "source": [
        "import os\n",
        "import torch\n",
        "from torch import nn\n",
        "from torch.utils.data import DataLoader, Dataset\n",
        "import cv2\n",
        "import numpy as np\n",
        "from moviepy.editor import VideoFileClip\n",
        "from scipy.io import wavfile\n",
        "from scipy.signal import spectrogram\n",
        "import matplotlib.pyplot as plt\n",
        "import moviepy.editor as mp\n",
        "from torchsummary import summary\n",
        "from torch.nn.functional import one_hot\n",
        "from torchvision.models import vgg16\n",
        "from torchvision.models.video import r3d_18"
      ]
    },
    {
      "cell_type": "code",
      "source": [
        "if torch.cuda.is_available():\n",
        "    print(\"GPU is available\")\n",
        "    print(\"Device:\", torch.cuda.get_device_name(0))\n",
        "else:\n",
        "    print(\"GPU is not available\")\n",
        "device = torch.device(\"cuda\" if torch.cuda.is_available() else \"cpu\")"
      ],
      "metadata": {
        "colab": {
          "base_uri": "https://localhost:8080/"
        },
        "id": "21otcAdtwnv7",
        "outputId": "5381216d-8661-4501-ac3b-ce13aba23ed3"
      },
      "execution_count": null,
      "outputs": [
        {
          "output_type": "stream",
          "name": "stdout",
          "text": [
            "GPU is available\n",
            "Device: Tesla T4\n"
          ]
        }
      ]
    },
    {
      "cell_type": "code",
      "execution_count": null,
      "metadata": {
        "id": "EajpU94q7sHj"
      },
      "outputs": [],
      "source": [
        "emotion_map = {\n",
        "    '01': 'neutral',\n",
        "    '02': 'calm',\n",
        "    '03': 'happy',\n",
        "    '04': 'sad',\n",
        "    '05': 'angry',\n",
        "    '06': 'fearful',\n",
        "    '07': 'disgust',\n",
        "    '08': 'surprised'\n",
        "}\n",
        "severity_map = {\n",
        "    1: \"Low Intensity\",\n",
        "    2: \"High Intensity\"\n",
        "}"
      ]
    },
    {
      "cell_type": "code",
      "execution_count": null,
      "metadata": {
        "id": "zlylxl1-FNU_"
      },
      "outputs": [],
      "source": [
        "emotion_lst = [(int(x)-1) for x in emotion_map.keys()]\n",
        "severit_lst = [(int(x)-1) for x in severity_map.keys()]\n",
        "emotion_map_oh = one_hot(torch.tensor(emotion_lst), num_classes=8)\n",
        "severity_map_oh = one_hot(torch.tensor(severit_lst), num_classes=2)"
      ]
    },
    {
      "cell_type": "code",
      "execution_count": null,
      "metadata": {
        "id": "Hczw1jnRIEh1"
      },
      "outputs": [],
      "source": [
        "class Mydata(Dataset):\n",
        "  def __init__(self, rootdir, num_frame = 16, size = (112, 112), sr = 22050, transform = None):\n",
        "    super().__init__()\n",
        "    self.rootdir = rootdir\n",
        "    self.num_frame = num_frame\n",
        "    self.size = size\n",
        "    self.sr = sr\n",
        "    self.transform = transform\n",
        "    self.filepaths = []\n",
        "\n",
        "    for (root,dirs,files) in os.walk(self.rootdir):\n",
        "      for file_name in files:\n",
        "        if file_name.endswith(\".mp4\"):\n",
        "          splits = file_name.split(\"-\")\n",
        "          if int(splits[0]) == 1: # adding that have both audio and video\n",
        "            self.filepaths.append(os.path.join(root, file_name))\n",
        "\n",
        "    print(self.filepaths)\n",
        "\n",
        "  def __len__(self):\n",
        "    return len(self.filepaths)\n",
        "\n",
        "  def extract_frames(self, video_path):\n",
        "\n",
        "    cap = cv2.VideoCapture(video_path)\n",
        "    length = int(cap.get(cv2.CAP_PROP_FRAME_COUNT)) - 1\n",
        "    arr = np.linspace(0, length, self.num_frame)\n",
        "    frames = []\n",
        "\n",
        "    for i in arr:\n",
        "      cap.set(cv2.CAP_PROP_POS_FRAMES, i)\n",
        "      ret, frame = cap.read()\n",
        "\n",
        "      if ret:\n",
        "        frame = cv2.resize(frame, (112, 112))\n",
        "        frame = cv2.cvtColor(frame, cv2.COLOR_BGR2RGB)\n",
        "        frames.append(frame)\n",
        "      else: # if frame is not read successfully, append a blank frame\n",
        "        frames.append(np.zeros((112, 112, 3), dtype=np.uint8)) # Append blank frame\n",
        "\n",
        "\n",
        "    cap.release()\n",
        "    frames = np.array(frames)\n",
        "    frames = frames.transpose(3, 0, 1, 2)\n",
        "    # To (num_Frame, C, H, W)\n",
        "\n",
        "    return torch.tensor(frames, dtype=torch.float32) / 255.\n",
        "\n",
        "  def generate_spectrogram(self, video_path):\n",
        "    temp_audio_path = \"temp_audio.wav\"\n",
        "\n",
        "    video = VideoFileClip(video_path)\n",
        "    video.audio.write_audiofile(temp_audio_path)\n",
        "    sample_rate, samples = wavfile.read(temp_audio_path)\n",
        "\n",
        "    # Convert stereo to mono\n",
        "    if samples.ndim == 2:\n",
        "        samples = samples.mean(axis=1)\n",
        "\n",
        "    max_val = np.max(np.abs(samples))\n",
        "\n",
        "    # Normalize and amplify\n",
        "    if max_val == 0:\n",
        "        print(\"Audio appears to be completely silent.\")\n",
        "        normalized = samples\n",
        "    else:\n",
        "        normalized = samples / max_val\n",
        "    amplified = normalized * 50\n",
        "    amplified = np.clip(amplified, -1.0, 1.0)\n",
        "\n",
        "    frequencies, times, Sxx = spectrogram(amplified, self.sr)\n",
        "\n",
        "    spectrogram_array = 10 * np.log10(Sxx + 1e-10)\n",
        "\n",
        "    if spectrogram_array.ndim > 2:\n",
        "        spectrogram_array = np.mean(spectrogram_array, axis=0)\n",
        "\n",
        "    # Pad or trim to target length\n",
        "    current_length = spectrogram_array.shape[1]\n",
        "    target_length = 650\n",
        "    if current_length < target_length:\n",
        "        # Pad with zeros\n",
        "        pad_width = target_length - current_length\n",
        "        spectrogram_array = np.pad(spectrogram_array, pad_width=((0, 0), (0, pad_width)), mode='constant')\n",
        "    elif current_length > target_length:\n",
        "        # Trim to target length\n",
        "        spectrogram_array = spectrogram_array[:, :target_length]\n",
        "\n",
        "    return torch.tensor(spectrogram_array, dtype=torch.float32).unsqueeze(0)\n",
        "\n",
        "  def get_lebel(self, video_path):\n",
        "    video_path = video_path.split(\"/\")[-1]\n",
        "    emotion = video_path.split(\"-\")[2]\n",
        "    severity = video_path.split(\"-\")[3]\n",
        "    emotion_oh = one_hot(torch.tensor([int(emotion)-1]), num_classes=8).float()\n",
        "    severity_oh = one_hot(torch.tensor([int(severity)-1]), num_classes=2).float()\n",
        "    return emotion_oh, severity_oh\n",
        "\n",
        "  def __getitem__(self, idx):\n",
        "    video_path = self.filepaths[idx]\n",
        "    frames = self.extract_frames(video_path)\n",
        "    spectrogram = self.generate_spectrogram(video_path)\n",
        "    emotion, severity = self.get_lebel(video_path)\n",
        "\n",
        "    if self.transform:\n",
        "      frames = self.transform(frames)\n",
        "      spectrogram = self.transform(spectrogram)\n",
        "\n",
        "    return frames, spectrogram, emotion, severity"
      ]
    },
    {
      "cell_type": "code",
      "execution_count": null,
      "metadata": {
        "id": "bVtn5jqFItRQ"
      },
      "outputs": [],
      "source": [
        "class MyModel(nn.Module):\n",
        "  def __init__(self, num_classes_emotion, num_classes_sev):\n",
        "    super().__init__()\n",
        "    self.num_classes = num_classes_emotion\n",
        "    self.num_classes_sev = num_classes_sev\n",
        "\n",
        "### Fine tuning r3d\n",
        "\n",
        "    # Tranning only last 2 conv layer of r3d\n",
        "    vid_c = r3d_18(pretrained=True)\n",
        "    for name, para in vid_c.named_parameters():\n",
        "      if \"layer4.0\" in name:\n",
        "        para.requires_grad = True\n",
        "      else:\n",
        "        para.requires_grad = False\n",
        "    # Removing Last and only FC layer in r3d\n",
        "    vid_c.fc = nn.Identity()\n",
        "\n",
        "    self.vid_c = vid_c\n",
        "    # Passing Through one FC layer that will be train\n",
        "    self.vid_d = nn.Sequential(\n",
        "        nn.Flatten(),\n",
        "        nn.Linear(512, 128),\n",
        "        nn.ReLU(),\n",
        "    )\n",
        "\n",
        "###\n",
        "\n",
        "### Fine tuning vgg16\n",
        "    aud_c = vgg16(pretrained=True)\n",
        "    aud_c.features[0] = nn.Conv2d(1, 64, kernel_size=(3, 3), stride=(1, 1))\n",
        "    for name, params in aud_c.named_parameters():\n",
        "      if  \"features.26\" in name or \"features.28\" in name or \"features.30\" in name : # fine-tuning only last 3 conv layers in features\n",
        "        params.requires_grad = True\n",
        "      else:\n",
        "        params.requires_grad = False\n",
        "    aud_c.features[0].requires_grad = True\n",
        "    aud_c.classifier = nn.Identity()\n",
        "\n",
        "    self.aud_c = aud_c\n",
        "\n",
        "    # Passing Through one FC layer that will be train\n",
        "    self.aud_d = nn.Sequential(\n",
        "        nn.Flatten(),\n",
        "        nn.Linear(25088, 128),\n",
        "        nn.ReLU(),\n",
        "    )\n",
        "###\n",
        "\n",
        "    self.fc = nn.Sequential(\n",
        "        nn.Linear(256, 128),\n",
        "        nn.ReLU()\n",
        "        )\n",
        "\n",
        "    # OutPutting 2 output\n",
        "    self.output_emo = nn.Linear(128, num_classes_emotion)\n",
        "    self.output_sev = nn.Linear(128, num_classes_sev)\n",
        "\n",
        "  def forward(self, x_vid, x_aud):\n",
        "    #videos\n",
        "    x_vid = self.vid_c(x_vid)\n",
        "    x_vid = self.vid_d(x_vid)\n",
        "\n",
        "    #audio\n",
        "    x_aud = self.aud_c(x_aud)\n",
        "    x_aud = self.aud_d(x_aud)\n",
        "\n",
        "    #concat\n",
        "    x = torch.cat([x_vid, x_aud], dim=1)\n",
        "\n",
        "    # after\n",
        "    x = self.fc(x)\n",
        "\n",
        "    # output\n",
        "    output_emo = self.output_emo(x)\n",
        "    output_emo = nn.Softmax(dim=1)(output_emo)\n",
        "    output_sev = self.output_sev(x)\n",
        "    output_sev = nn.Softmax(dim=1)(output_sev)\n",
        "\n",
        "    return output_emo, output_sev"
      ]
    },
    {
      "cell_type": "code",
      "source": [
        "def train(model, epochs, lr, dataset, loss_fn_emotion, loss_fn_serverity, accumulation_step):\n",
        "    model.train()\n",
        "    optimizer = torch.optim.Adam(model.parameters(), lr=lr)\n",
        "    scaler = torch.cuda.amp.GradScaler() # Making object for Mixed precision\n",
        "\n",
        "    for epoch in range(epochs):\n",
        "      for batch_idx, batch in enumerate(dataset):\n",
        "        frames, spectrogram, emotion, severity = batch\n",
        "        frames = frames.to(device)\n",
        "        spectrogram = spectrogram.to(device)\n",
        "        emotion = emotion.to(device)\n",
        "        severity = severity.to(device)\n",
        "\n",
        "        # Forward pass\n",
        "        ### output_emo, output_sev = model(frames, spectrogram) # Noraml\n",
        "        with torch.cuda.amp.autocast(): # By AMP api\n",
        "          output_emo, output_sev = model(frames, spectrogram)\n",
        "\n",
        "          # Calculate loss\n",
        "\n",
        "          loss_emo = loss_fn_emotion(torch.squeeze(output_emo), torch.squeeze(emotion))\n",
        "          loss_sev = loss_fn_serverity(torch.squeeze(output_sev), torch.squeeze(severity))\n",
        "\n",
        "          loss = loss_emo + loss_sev\n",
        "          loss = loss / accumulation_step\n",
        "\n",
        "        # Backward pass and optimization after accumulation\n",
        "        ### loss.backward() # Normal\n",
        "        scaler.scale(loss).backward() # By AMP api\n",
        "\n",
        "        if (batch_idx + 1) % accumulation_step == 0:\n",
        "          ### optimizer.step() # Normal\n",
        "          # By AMP api\n",
        "          scaler.step(optimizer)\n",
        "          scaler.update()\n",
        "\n",
        "          optimizer.zero_grad()\n",
        "\n",
        "        print(f\"Epoch: {epoch+1}/{epochs}, Loss: {loss.item()}\") #Print loss for monitoring\n",
        "        if batch_idx % 50 == 0:\n",
        "            torch.cuda.empty_cache()\n"
      ],
      "metadata": {
        "id": "fV6jo-PGIlqg"
      },
      "execution_count": null,
      "outputs": []
    },
    {
      "cell_type": "code",
      "source": [
        "dataset = Mydata(rootdir=path)\n",
        "# dataloader = DataLoader(dataset, batch_size=64, shuffle=True)\n",
        "dataloader = DataLoader(dataset, batch_size=1, shuffle=True)"
      ],
      "metadata": {
        "colab": {
          "base_uri": "https://localhost:8080/"
        },
        "id": "jV5jHabnwdQ9",
        "outputId": "d6f4edf8-1697-47a1-a0eb-7fb4a58da48f"
      },
      "execution_count": null,
      "outputs": [
        {
          "output_type": "stream",
          "name": "stdout",
          "text": [
            "['/root/.cache/kagglehub/datasets/adrivg/ravdess-emotional-speech-video/versions/1/RAVDESS dataset/Video_Speech_Actor_14/Actor_14/01-01-06-02-01-01-14.mp4', '/root/.cache/kagglehub/datasets/adrivg/ravdess-emotional-speech-video/versions/1/RAVDESS dataset/Video_Speech_Actor_14/Actor_14/01-01-04-02-01-02-14.mp4', '/root/.cache/kagglehub/datasets/adrivg/ravdess-emotional-speech-video/versions/1/RAVDESS dataset/Video_Speech_Actor_14/Actor_14/01-01-05-02-01-02-14.mp4', '/root/.cache/kagglehub/datasets/adrivg/ravdess-emotional-speech-video/versions/1/RAVDESS dataset/Video_Speech_Actor_14/Actor_14/01-01-08-02-02-02-14.mp4', '/root/.cache/kagglehub/datasets/adrivg/ravdess-emotional-speech-video/versions/1/RAVDESS dataset/Video_Speech_Actor_14/Actor_14/01-01-08-01-01-01-14.mp4', '/root/.cache/kagglehub/datasets/adrivg/ravdess-emotional-speech-video/versions/1/RAVDESS dataset/Video_Speech_Actor_14/Actor_14/01-01-05-02-02-01-14.mp4', '/root/.cache/kagglehub/datasets/adrivg/ravdess-emotional-speech-video/versions/1/RAVDESS dataset/Video_Speech_Actor_14/Actor_14/01-01-07-01-02-02-14.mp4', '/root/.cache/kagglehub/datasets/adrivg/ravdess-emotional-speech-video/versions/1/RAVDESS dataset/Video_Speech_Actor_14/Actor_14/01-01-05-02-02-02-14.mp4', '/root/.cache/kagglehub/datasets/adrivg/ravdess-emotional-speech-video/versions/1/RAVDESS dataset/Video_Speech_Actor_14/Actor_14/01-01-06-02-01-02-14.mp4', '/root/.cache/kagglehub/datasets/adrivg/ravdess-emotional-speech-video/versions/1/RAVDESS dataset/Video_Speech_Actor_14/Actor_14/01-01-05-01-01-02-14.mp4', '/root/.cache/kagglehub/datasets/adrivg/ravdess-emotional-speech-video/versions/1/RAVDESS dataset/Video_Speech_Actor_14/Actor_14/01-01-04-02-01-01-14.mp4', '/root/.cache/kagglehub/datasets/adrivg/ravdess-emotional-speech-video/versions/1/RAVDESS dataset/Video_Speech_Actor_14/Actor_14/01-01-08-02-01-02-14.mp4', '/root/.cache/kagglehub/datasets/adrivg/ravdess-emotional-speech-video/versions/1/RAVDESS dataset/Video_Speech_Actor_14/Actor_14/01-01-01-01-01-02-14.mp4', '/root/.cache/kagglehub/datasets/adrivg/ravdess-emotional-speech-video/versions/1/RAVDESS dataset/Video_Speech_Actor_14/Actor_14/01-01-06-01-02-01-14.mp4', '/root/.cache/kagglehub/datasets/adrivg/ravdess-emotional-speech-video/versions/1/RAVDESS dataset/Video_Speech_Actor_14/Actor_14/01-01-07-02-01-02-14.mp4', '/root/.cache/kagglehub/datasets/adrivg/ravdess-emotional-speech-video/versions/1/RAVDESS dataset/Video_Speech_Actor_14/Actor_14/01-01-03-02-01-01-14.mp4', '/root/.cache/kagglehub/datasets/adrivg/ravdess-emotional-speech-video/versions/1/RAVDESS dataset/Video_Speech_Actor_14/Actor_14/01-01-01-01-02-02-14.mp4', '/root/.cache/kagglehub/datasets/adrivg/ravdess-emotional-speech-video/versions/1/RAVDESS dataset/Video_Speech_Actor_14/Actor_14/01-01-04-01-01-01-14.mp4', '/root/.cache/kagglehub/datasets/adrivg/ravdess-emotional-speech-video/versions/1/RAVDESS dataset/Video_Speech_Actor_14/Actor_14/01-01-04-01-02-02-14.mp4', '/root/.cache/kagglehub/datasets/adrivg/ravdess-emotional-speech-video/versions/1/RAVDESS dataset/Video_Speech_Actor_14/Actor_14/01-01-03-02-02-02-14.mp4', '/root/.cache/kagglehub/datasets/adrivg/ravdess-emotional-speech-video/versions/1/RAVDESS dataset/Video_Speech_Actor_14/Actor_14/01-01-01-01-01-01-14.mp4', '/root/.cache/kagglehub/datasets/adrivg/ravdess-emotional-speech-video/versions/1/RAVDESS dataset/Video_Speech_Actor_14/Actor_14/01-01-02-01-01-02-14.mp4', '/root/.cache/kagglehub/datasets/adrivg/ravdess-emotional-speech-video/versions/1/RAVDESS dataset/Video_Speech_Actor_14/Actor_14/01-01-05-02-01-01-14.mp4', '/root/.cache/kagglehub/datasets/adrivg/ravdess-emotional-speech-video/versions/1/RAVDESS dataset/Video_Speech_Actor_14/Actor_14/01-01-03-02-02-01-14.mp4', '/root/.cache/kagglehub/datasets/adrivg/ravdess-emotional-speech-video/versions/1/RAVDESS dataset/Video_Speech_Actor_14/Actor_14/01-01-07-02-02-01-14.mp4', '/root/.cache/kagglehub/datasets/adrivg/ravdess-emotional-speech-video/versions/1/RAVDESS dataset/Video_Speech_Actor_14/Actor_14/01-01-08-01-02-02-14.mp4', '/root/.cache/kagglehub/datasets/adrivg/ravdess-emotional-speech-video/versions/1/RAVDESS dataset/Video_Speech_Actor_14/Actor_14/01-01-03-01-01-01-14.mp4', '/root/.cache/kagglehub/datasets/adrivg/ravdess-emotional-speech-video/versions/1/RAVDESS dataset/Video_Speech_Actor_14/Actor_14/01-01-07-02-02-02-14.mp4', '/root/.cache/kagglehub/datasets/adrivg/ravdess-emotional-speech-video/versions/1/RAVDESS dataset/Video_Speech_Actor_14/Actor_14/01-01-05-01-01-01-14.mp4', '/root/.cache/kagglehub/datasets/adrivg/ravdess-emotional-speech-video/versions/1/RAVDESS dataset/Video_Speech_Actor_14/Actor_14/01-01-07-02-01-01-14.mp4', '/root/.cache/kagglehub/datasets/adrivg/ravdess-emotional-speech-video/versions/1/RAVDESS dataset/Video_Speech_Actor_14/Actor_14/01-01-02-01-02-02-14.mp4', '/root/.cache/kagglehub/datasets/adrivg/ravdess-emotional-speech-video/versions/1/RAVDESS dataset/Video_Speech_Actor_14/Actor_14/01-01-08-01-01-02-14.mp4', '/root/.cache/kagglehub/datasets/adrivg/ravdess-emotional-speech-video/versions/1/RAVDESS dataset/Video_Speech_Actor_14/Actor_14/01-01-08-02-02-01-14.mp4', '/root/.cache/kagglehub/datasets/adrivg/ravdess-emotional-speech-video/versions/1/RAVDESS dataset/Video_Speech_Actor_14/Actor_14/01-01-04-01-01-02-14.mp4', '/root/.cache/kagglehub/datasets/adrivg/ravdess-emotional-speech-video/versions/1/RAVDESS dataset/Video_Speech_Actor_14/Actor_14/01-01-06-02-02-01-14.mp4', '/root/.cache/kagglehub/datasets/adrivg/ravdess-emotional-speech-video/versions/1/RAVDESS dataset/Video_Speech_Actor_14/Actor_14/01-01-04-02-02-01-14.mp4', '/root/.cache/kagglehub/datasets/adrivg/ravdess-emotional-speech-video/versions/1/RAVDESS dataset/Video_Speech_Actor_14/Actor_14/01-01-02-02-02-01-14.mp4', '/root/.cache/kagglehub/datasets/adrivg/ravdess-emotional-speech-video/versions/1/RAVDESS dataset/Video_Speech_Actor_14/Actor_14/01-01-05-01-02-02-14.mp4', '/root/.cache/kagglehub/datasets/adrivg/ravdess-emotional-speech-video/versions/1/RAVDESS dataset/Video_Speech_Actor_14/Actor_14/01-01-06-01-01-02-14.mp4', '/root/.cache/kagglehub/datasets/adrivg/ravdess-emotional-speech-video/versions/1/RAVDESS dataset/Video_Speech_Actor_14/Actor_14/01-01-07-01-01-01-14.mp4', '/root/.cache/kagglehub/datasets/adrivg/ravdess-emotional-speech-video/versions/1/RAVDESS dataset/Video_Speech_Actor_14/Actor_14/01-01-02-02-01-02-14.mp4', '/root/.cache/kagglehub/datasets/adrivg/ravdess-emotional-speech-video/versions/1/RAVDESS dataset/Video_Speech_Actor_14/Actor_14/01-01-05-01-02-01-14.mp4', '/root/.cache/kagglehub/datasets/adrivg/ravdess-emotional-speech-video/versions/1/RAVDESS dataset/Video_Speech_Actor_14/Actor_14/01-01-02-01-02-01-14.mp4', '/root/.cache/kagglehub/datasets/adrivg/ravdess-emotional-speech-video/versions/1/RAVDESS dataset/Video_Speech_Actor_14/Actor_14/01-01-04-02-02-02-14.mp4', '/root/.cache/kagglehub/datasets/adrivg/ravdess-emotional-speech-video/versions/1/RAVDESS dataset/Video_Speech_Actor_14/Actor_14/01-01-03-01-01-02-14.mp4', '/root/.cache/kagglehub/datasets/adrivg/ravdess-emotional-speech-video/versions/1/RAVDESS dataset/Video_Speech_Actor_14/Actor_14/01-01-01-01-02-01-14.mp4', '/root/.cache/kagglehub/datasets/adrivg/ravdess-emotional-speech-video/versions/1/RAVDESS dataset/Video_Speech_Actor_14/Actor_14/01-01-06-01-02-02-14.mp4', '/root/.cache/kagglehub/datasets/adrivg/ravdess-emotional-speech-video/versions/1/RAVDESS dataset/Video_Speech_Actor_14/Actor_14/01-01-06-02-02-02-14.mp4', '/root/.cache/kagglehub/datasets/adrivg/ravdess-emotional-speech-video/versions/1/RAVDESS dataset/Video_Speech_Actor_14/Actor_14/01-01-06-01-01-01-14.mp4', '/root/.cache/kagglehub/datasets/adrivg/ravdess-emotional-speech-video/versions/1/RAVDESS dataset/Video_Speech_Actor_14/Actor_14/01-01-02-02-02-02-14.mp4', '/root/.cache/kagglehub/datasets/adrivg/ravdess-emotional-speech-video/versions/1/RAVDESS dataset/Video_Speech_Actor_14/Actor_14/01-01-03-01-02-01-14.mp4', '/root/.cache/kagglehub/datasets/adrivg/ravdess-emotional-speech-video/versions/1/RAVDESS dataset/Video_Speech_Actor_14/Actor_14/01-01-08-02-01-01-14.mp4', '/root/.cache/kagglehub/datasets/adrivg/ravdess-emotional-speech-video/versions/1/RAVDESS dataset/Video_Speech_Actor_14/Actor_14/01-01-08-01-02-01-14.mp4', '/root/.cache/kagglehub/datasets/adrivg/ravdess-emotional-speech-video/versions/1/RAVDESS dataset/Video_Speech_Actor_14/Actor_14/01-01-07-01-01-02-14.mp4', '/root/.cache/kagglehub/datasets/adrivg/ravdess-emotional-speech-video/versions/1/RAVDESS dataset/Video_Speech_Actor_14/Actor_14/01-01-02-01-01-01-14.mp4', '/root/.cache/kagglehub/datasets/adrivg/ravdess-emotional-speech-video/versions/1/RAVDESS dataset/Video_Speech_Actor_14/Actor_14/01-01-03-02-01-02-14.mp4', '/root/.cache/kagglehub/datasets/adrivg/ravdess-emotional-speech-video/versions/1/RAVDESS dataset/Video_Speech_Actor_14/Actor_14/01-01-04-01-02-01-14.mp4', '/root/.cache/kagglehub/datasets/adrivg/ravdess-emotional-speech-video/versions/1/RAVDESS dataset/Video_Speech_Actor_14/Actor_14/01-01-02-02-01-01-14.mp4', '/root/.cache/kagglehub/datasets/adrivg/ravdess-emotional-speech-video/versions/1/RAVDESS dataset/Video_Speech_Actor_14/Actor_14/01-01-07-01-02-01-14.mp4', '/root/.cache/kagglehub/datasets/adrivg/ravdess-emotional-speech-video/versions/1/RAVDESS dataset/Video_Speech_Actor_14/Actor_14/01-01-03-01-02-02-14.mp4', '/root/.cache/kagglehub/datasets/adrivg/ravdess-emotional-speech-video/versions/1/RAVDESS dataset/Video_Speech_Actor_01/Actor_01/01-01-06-01-02-02-01.mp4', '/root/.cache/kagglehub/datasets/adrivg/ravdess-emotional-speech-video/versions/1/RAVDESS dataset/Video_Speech_Actor_01/Actor_01/01-01-06-02-02-01-01.mp4', '/root/.cache/kagglehub/datasets/adrivg/ravdess-emotional-speech-video/versions/1/RAVDESS dataset/Video_Speech_Actor_01/Actor_01/01-01-03-02-01-02-01.mp4', '/root/.cache/kagglehub/datasets/adrivg/ravdess-emotional-speech-video/versions/1/RAVDESS dataset/Video_Speech_Actor_01/Actor_01/01-01-04-01-01-02-01.mp4', '/root/.cache/kagglehub/datasets/adrivg/ravdess-emotional-speech-video/versions/1/RAVDESS dataset/Video_Speech_Actor_01/Actor_01/01-01-03-01-01-02-01.mp4', '/root/.cache/kagglehub/datasets/adrivg/ravdess-emotional-speech-video/versions/1/RAVDESS dataset/Video_Speech_Actor_01/Actor_01/01-01-05-01-01-02-01.mp4', '/root/.cache/kagglehub/datasets/adrivg/ravdess-emotional-speech-video/versions/1/RAVDESS dataset/Video_Speech_Actor_01/Actor_01/01-01-05-01-01-01-01.mp4', '/root/.cache/kagglehub/datasets/adrivg/ravdess-emotional-speech-video/versions/1/RAVDESS dataset/Video_Speech_Actor_01/Actor_01/01-01-03-02-02-01-01.mp4', '/root/.cache/kagglehub/datasets/adrivg/ravdess-emotional-speech-video/versions/1/RAVDESS dataset/Video_Speech_Actor_01/Actor_01/01-01-07-02-02-01-01.mp4', '/root/.cache/kagglehub/datasets/adrivg/ravdess-emotional-speech-video/versions/1/RAVDESS dataset/Video_Speech_Actor_01/Actor_01/01-01-04-02-02-01-01.mp4', '/root/.cache/kagglehub/datasets/adrivg/ravdess-emotional-speech-video/versions/1/RAVDESS dataset/Video_Speech_Actor_01/Actor_01/01-01-04-02-01-02-01.mp4', '/root/.cache/kagglehub/datasets/adrivg/ravdess-emotional-speech-video/versions/1/RAVDESS dataset/Video_Speech_Actor_01/Actor_01/01-01-06-01-02-01-01.mp4', '/root/.cache/kagglehub/datasets/adrivg/ravdess-emotional-speech-video/versions/1/RAVDESS dataset/Video_Speech_Actor_01/Actor_01/01-01-05-02-01-02-01.mp4', '/root/.cache/kagglehub/datasets/adrivg/ravdess-emotional-speech-video/versions/1/RAVDESS dataset/Video_Speech_Actor_01/Actor_01/01-01-07-02-01-02-01.mp4', '/root/.cache/kagglehub/datasets/adrivg/ravdess-emotional-speech-video/versions/1/RAVDESS dataset/Video_Speech_Actor_01/Actor_01/01-01-02-02-02-02-01.mp4', '/root/.cache/kagglehub/datasets/adrivg/ravdess-emotional-speech-video/versions/1/RAVDESS dataset/Video_Speech_Actor_01/Actor_01/01-01-07-01-01-01-01.mp4', '/root/.cache/kagglehub/datasets/adrivg/ravdess-emotional-speech-video/versions/1/RAVDESS dataset/Video_Speech_Actor_01/Actor_01/01-01-06-02-01-01-01.mp4', '/root/.cache/kagglehub/datasets/adrivg/ravdess-emotional-speech-video/versions/1/RAVDESS dataset/Video_Speech_Actor_01/Actor_01/01-01-04-02-01-01-01.mp4', '/root/.cache/kagglehub/datasets/adrivg/ravdess-emotional-speech-video/versions/1/RAVDESS dataset/Video_Speech_Actor_01/Actor_01/01-01-06-02-01-02-01.mp4', '/root/.cache/kagglehub/datasets/adrivg/ravdess-emotional-speech-video/versions/1/RAVDESS dataset/Video_Speech_Actor_01/Actor_01/01-01-03-02-02-02-01.mp4', '/root/.cache/kagglehub/datasets/adrivg/ravdess-emotional-speech-video/versions/1/RAVDESS dataset/Video_Speech_Actor_01/Actor_01/01-01-03-02-01-01-01.mp4', '/root/.cache/kagglehub/datasets/adrivg/ravdess-emotional-speech-video/versions/1/RAVDESS dataset/Video_Speech_Actor_01/Actor_01/01-01-04-01-02-01-01.mp4', '/root/.cache/kagglehub/datasets/adrivg/ravdess-emotional-speech-video/versions/1/RAVDESS dataset/Video_Speech_Actor_01/Actor_01/01-01-08-02-02-01-01.mp4', '/root/.cache/kagglehub/datasets/adrivg/ravdess-emotional-speech-video/versions/1/RAVDESS dataset/Video_Speech_Actor_01/Actor_01/01-01-03-01-02-01-01.mp4', '/root/.cache/kagglehub/datasets/adrivg/ravdess-emotional-speech-video/versions/1/RAVDESS dataset/Video_Speech_Actor_01/Actor_01/01-01-05-01-02-02-01.mp4', '/root/.cache/kagglehub/datasets/adrivg/ravdess-emotional-speech-video/versions/1/RAVDESS dataset/Video_Speech_Actor_01/Actor_01/01-01-03-01-01-01-01.mp4', '/root/.cache/kagglehub/datasets/adrivg/ravdess-emotional-speech-video/versions/1/RAVDESS dataset/Video_Speech_Actor_01/Actor_01/01-01-01-01-02-02-01.mp4', '/root/.cache/kagglehub/datasets/adrivg/ravdess-emotional-speech-video/versions/1/RAVDESS dataset/Video_Speech_Actor_01/Actor_01/01-01-04-01-01-01-01.mp4', '/root/.cache/kagglehub/datasets/adrivg/ravdess-emotional-speech-video/versions/1/RAVDESS dataset/Video_Speech_Actor_01/Actor_01/01-01-03-01-02-02-01.mp4', '/root/.cache/kagglehub/datasets/adrivg/ravdess-emotional-speech-video/versions/1/RAVDESS dataset/Video_Speech_Actor_01/Actor_01/01-01-07-01-02-01-01.mp4', '/root/.cache/kagglehub/datasets/adrivg/ravdess-emotional-speech-video/versions/1/RAVDESS dataset/Video_Speech_Actor_01/Actor_01/01-01-08-01-02-01-01.mp4', '/root/.cache/kagglehub/datasets/adrivg/ravdess-emotional-speech-video/versions/1/RAVDESS dataset/Video_Speech_Actor_01/Actor_01/01-01-07-01-01-02-01.mp4', '/root/.cache/kagglehub/datasets/adrivg/ravdess-emotional-speech-video/versions/1/RAVDESS dataset/Video_Speech_Actor_01/Actor_01/01-01-08-01-02-02-01.mp4', '/root/.cache/kagglehub/datasets/adrivg/ravdess-emotional-speech-video/versions/1/RAVDESS dataset/Video_Speech_Actor_01/Actor_01/01-01-08-01-01-02-01.mp4', '/root/.cache/kagglehub/datasets/adrivg/ravdess-emotional-speech-video/versions/1/RAVDESS dataset/Video_Speech_Actor_01/Actor_01/01-01-05-02-01-01-01.mp4', '/root/.cache/kagglehub/datasets/adrivg/ravdess-emotional-speech-video/versions/1/RAVDESS dataset/Video_Speech_Actor_01/Actor_01/01-01-06-02-02-02-01.mp4', '/root/.cache/kagglehub/datasets/adrivg/ravdess-emotional-speech-video/versions/1/RAVDESS dataset/Video_Speech_Actor_01/Actor_01/01-01-06-01-01-02-01.mp4', '/root/.cache/kagglehub/datasets/adrivg/ravdess-emotional-speech-video/versions/1/RAVDESS dataset/Video_Speech_Actor_01/Actor_01/01-01-08-02-01-02-01.mp4', '/root/.cache/kagglehub/datasets/adrivg/ravdess-emotional-speech-video/versions/1/RAVDESS dataset/Video_Speech_Actor_01/Actor_01/01-01-01-01-01-02-01.mp4', '/root/.cache/kagglehub/datasets/adrivg/ravdess-emotional-speech-video/versions/1/RAVDESS dataset/Video_Speech_Actor_01/Actor_01/01-01-01-01-01-01-01.mp4', '/root/.cache/kagglehub/datasets/adrivg/ravdess-emotional-speech-video/versions/1/RAVDESS dataset/Video_Speech_Actor_01/Actor_01/01-01-02-01-02-01-01.mp4', '/root/.cache/kagglehub/datasets/adrivg/ravdess-emotional-speech-video/versions/1/RAVDESS dataset/Video_Speech_Actor_01/Actor_01/01-01-02-01-02-02-01.mp4', '/root/.cache/kagglehub/datasets/adrivg/ravdess-emotional-speech-video/versions/1/RAVDESS dataset/Video_Speech_Actor_01/Actor_01/01-01-01-01-02-01-01.mp4', '/root/.cache/kagglehub/datasets/adrivg/ravdess-emotional-speech-video/versions/1/RAVDESS dataset/Video_Speech_Actor_01/Actor_01/01-01-02-02-01-01-01.mp4', '/root/.cache/kagglehub/datasets/adrivg/ravdess-emotional-speech-video/versions/1/RAVDESS dataset/Video_Speech_Actor_01/Actor_01/01-01-05-02-02-01-01.mp4', '/root/.cache/kagglehub/datasets/adrivg/ravdess-emotional-speech-video/versions/1/RAVDESS dataset/Video_Speech_Actor_01/Actor_01/01-01-02-02-01-02-01.mp4', '/root/.cache/kagglehub/datasets/adrivg/ravdess-emotional-speech-video/versions/1/RAVDESS dataset/Video_Speech_Actor_01/Actor_01/01-01-05-01-02-01-01.mp4', '/root/.cache/kagglehub/datasets/adrivg/ravdess-emotional-speech-video/versions/1/RAVDESS dataset/Video_Speech_Actor_01/Actor_01/01-01-07-02-01-01-01.mp4', '/root/.cache/kagglehub/datasets/adrivg/ravdess-emotional-speech-video/versions/1/RAVDESS dataset/Video_Speech_Actor_01/Actor_01/01-01-06-01-01-01-01.mp4', '/root/.cache/kagglehub/datasets/adrivg/ravdess-emotional-speech-video/versions/1/RAVDESS dataset/Video_Speech_Actor_01/Actor_01/01-01-02-02-02-01-01.mp4', '/root/.cache/kagglehub/datasets/adrivg/ravdess-emotional-speech-video/versions/1/RAVDESS dataset/Video_Speech_Actor_01/Actor_01/01-01-04-02-02-02-01.mp4', '/root/.cache/kagglehub/datasets/adrivg/ravdess-emotional-speech-video/versions/1/RAVDESS dataset/Video_Speech_Actor_01/Actor_01/01-01-08-01-01-01-01.mp4', '/root/.cache/kagglehub/datasets/adrivg/ravdess-emotional-speech-video/versions/1/RAVDESS dataset/Video_Speech_Actor_01/Actor_01/01-01-07-02-02-02-01.mp4', '/root/.cache/kagglehub/datasets/adrivg/ravdess-emotional-speech-video/versions/1/RAVDESS dataset/Video_Speech_Actor_01/Actor_01/01-01-02-01-01-01-01.mp4', '/root/.cache/kagglehub/datasets/adrivg/ravdess-emotional-speech-video/versions/1/RAVDESS dataset/Video_Speech_Actor_01/Actor_01/01-01-05-02-02-02-01.mp4', '/root/.cache/kagglehub/datasets/adrivg/ravdess-emotional-speech-video/versions/1/RAVDESS dataset/Video_Speech_Actor_01/Actor_01/01-01-07-01-02-02-01.mp4', '/root/.cache/kagglehub/datasets/adrivg/ravdess-emotional-speech-video/versions/1/RAVDESS dataset/Video_Speech_Actor_01/Actor_01/01-01-02-01-01-02-01.mp4', '/root/.cache/kagglehub/datasets/adrivg/ravdess-emotional-speech-video/versions/1/RAVDESS dataset/Video_Speech_Actor_01/Actor_01/01-01-08-02-02-02-01.mp4', '/root/.cache/kagglehub/datasets/adrivg/ravdess-emotional-speech-video/versions/1/RAVDESS dataset/Video_Speech_Actor_01/Actor_01/01-01-04-01-02-02-01.mp4', '/root/.cache/kagglehub/datasets/adrivg/ravdess-emotional-speech-video/versions/1/RAVDESS dataset/Video_Speech_Actor_01/Actor_01/01-01-08-02-01-01-01.mp4', '/root/.cache/kagglehub/datasets/adrivg/ravdess-emotional-speech-video/versions/1/RAVDESS dataset/Video_Speech_Actor_18/Actor_18/01-01-03-01-02-01-18.mp4', '/root/.cache/kagglehub/datasets/adrivg/ravdess-emotional-speech-video/versions/1/RAVDESS dataset/Video_Speech_Actor_18/Actor_18/01-01-02-01-02-02-18.mp4', '/root/.cache/kagglehub/datasets/adrivg/ravdess-emotional-speech-video/versions/1/RAVDESS dataset/Video_Speech_Actor_18/Actor_18/01-01-03-02-01-01-18.mp4', '/root/.cache/kagglehub/datasets/adrivg/ravdess-emotional-speech-video/versions/1/RAVDESS dataset/Video_Speech_Actor_18/Actor_18/01-01-08-01-02-02-18.mp4', '/root/.cache/kagglehub/datasets/adrivg/ravdess-emotional-speech-video/versions/1/RAVDESS dataset/Video_Speech_Actor_18/Actor_18/01-01-02-01-01-01-18.mp4', '/root/.cache/kagglehub/datasets/adrivg/ravdess-emotional-speech-video/versions/1/RAVDESS dataset/Video_Speech_Actor_18/Actor_18/01-01-04-02-02-02-18.mp4', '/root/.cache/kagglehub/datasets/adrivg/ravdess-emotional-speech-video/versions/1/RAVDESS dataset/Video_Speech_Actor_18/Actor_18/01-01-06-01-02-01-18.mp4', '/root/.cache/kagglehub/datasets/adrivg/ravdess-emotional-speech-video/versions/1/RAVDESS dataset/Video_Speech_Actor_18/Actor_18/01-01-03-02-02-01-18.mp4', '/root/.cache/kagglehub/datasets/adrivg/ravdess-emotional-speech-video/versions/1/RAVDESS dataset/Video_Speech_Actor_18/Actor_18/01-01-03-01-01-01-18.mp4', '/root/.cache/kagglehub/datasets/adrivg/ravdess-emotional-speech-video/versions/1/RAVDESS dataset/Video_Speech_Actor_18/Actor_18/01-01-07-01-02-02-18.mp4', '/root/.cache/kagglehub/datasets/adrivg/ravdess-emotional-speech-video/versions/1/RAVDESS dataset/Video_Speech_Actor_18/Actor_18/01-01-02-01-02-01-18.mp4', '/root/.cache/kagglehub/datasets/adrivg/ravdess-emotional-speech-video/versions/1/RAVDESS dataset/Video_Speech_Actor_18/Actor_18/01-01-06-01-02-02-18.mp4', '/root/.cache/kagglehub/datasets/adrivg/ravdess-emotional-speech-video/versions/1/RAVDESS dataset/Video_Speech_Actor_18/Actor_18/01-01-08-02-02-02-18.mp4', '/root/.cache/kagglehub/datasets/adrivg/ravdess-emotional-speech-video/versions/1/RAVDESS dataset/Video_Speech_Actor_18/Actor_18/01-01-05-02-02-02-18.mp4', '/root/.cache/kagglehub/datasets/adrivg/ravdess-emotional-speech-video/versions/1/RAVDESS dataset/Video_Speech_Actor_18/Actor_18/01-01-08-01-02-01-18.mp4', '/root/.cache/kagglehub/datasets/adrivg/ravdess-emotional-speech-video/versions/1/RAVDESS dataset/Video_Speech_Actor_18/Actor_18/01-01-06-02-01-01-18.mp4', '/root/.cache/kagglehub/datasets/adrivg/ravdess-emotional-speech-video/versions/1/RAVDESS dataset/Video_Speech_Actor_18/Actor_18/01-01-08-02-02-01-18.mp4', '/root/.cache/kagglehub/datasets/adrivg/ravdess-emotional-speech-video/versions/1/RAVDESS dataset/Video_Speech_Actor_18/Actor_18/01-01-06-02-02-02-18.mp4', '/root/.cache/kagglehub/datasets/adrivg/ravdess-emotional-speech-video/versions/1/RAVDESS dataset/Video_Speech_Actor_18/Actor_18/01-01-07-01-01-01-18.mp4', '/root/.cache/kagglehub/datasets/adrivg/ravdess-emotional-speech-video/versions/1/RAVDESS dataset/Video_Speech_Actor_18/Actor_18/01-01-04-01-02-01-18.mp4', '/root/.cache/kagglehub/datasets/adrivg/ravdess-emotional-speech-video/versions/1/RAVDESS dataset/Video_Speech_Actor_18/Actor_18/01-01-01-01-01-01-18.mp4', '/root/.cache/kagglehub/datasets/adrivg/ravdess-emotional-speech-video/versions/1/RAVDESS dataset/Video_Speech_Actor_18/Actor_18/01-01-07-01-01-02-18.mp4', '/root/.cache/kagglehub/datasets/adrivg/ravdess-emotional-speech-video/versions/1/RAVDESS dataset/Video_Speech_Actor_18/Actor_18/01-01-07-02-01-02-18.mp4', '/root/.cache/kagglehub/datasets/adrivg/ravdess-emotional-speech-video/versions/1/RAVDESS dataset/Video_Speech_Actor_18/Actor_18/01-01-01-01-02-02-18.mp4', '/root/.cache/kagglehub/datasets/adrivg/ravdess-emotional-speech-video/versions/1/RAVDESS dataset/Video_Speech_Actor_18/Actor_18/01-01-08-01-01-02-18.mp4', '/root/.cache/kagglehub/datasets/adrivg/ravdess-emotional-speech-video/versions/1/RAVDESS dataset/Video_Speech_Actor_18/Actor_18/01-01-05-01-01-02-18.mp4', '/root/.cache/kagglehub/datasets/adrivg/ravdess-emotional-speech-video/versions/1/RAVDESS dataset/Video_Speech_Actor_18/Actor_18/01-01-05-01-02-02-18.mp4', '/root/.cache/kagglehub/datasets/adrivg/ravdess-emotional-speech-video/versions/1/RAVDESS dataset/Video_Speech_Actor_18/Actor_18/01-01-05-02-01-02-18.mp4', '/root/.cache/kagglehub/datasets/adrivg/ravdess-emotional-speech-video/versions/1/RAVDESS dataset/Video_Speech_Actor_18/Actor_18/01-01-08-02-01-02-18.mp4', '/root/.cache/kagglehub/datasets/adrivg/ravdess-emotional-speech-video/versions/1/RAVDESS dataset/Video_Speech_Actor_18/Actor_18/01-01-04-01-01-02-18.mp4', '/root/.cache/kagglehub/datasets/adrivg/ravdess-emotional-speech-video/versions/1/RAVDESS dataset/Video_Speech_Actor_18/Actor_18/01-01-07-02-02-02-18.mp4', '/root/.cache/kagglehub/datasets/adrivg/ravdess-emotional-speech-video/versions/1/RAVDESS dataset/Video_Speech_Actor_18/Actor_18/01-01-02-02-01-01-18.mp4', '/root/.cache/kagglehub/datasets/adrivg/ravdess-emotional-speech-video/versions/1/RAVDESS dataset/Video_Speech_Actor_18/Actor_18/01-01-01-01-02-01-18.mp4', '/root/.cache/kagglehub/datasets/adrivg/ravdess-emotional-speech-video/versions/1/RAVDESS dataset/Video_Speech_Actor_18/Actor_18/01-01-04-02-01-01-18.mp4', '/root/.cache/kagglehub/datasets/adrivg/ravdess-emotional-speech-video/versions/1/RAVDESS dataset/Video_Speech_Actor_18/Actor_18/01-01-05-02-01-01-18.mp4', '/root/.cache/kagglehub/datasets/adrivg/ravdess-emotional-speech-video/versions/1/RAVDESS dataset/Video_Speech_Actor_18/Actor_18/01-01-04-01-01-01-18.mp4', '/root/.cache/kagglehub/datasets/adrivg/ravdess-emotional-speech-video/versions/1/RAVDESS dataset/Video_Speech_Actor_18/Actor_18/01-01-01-01-01-02-18.mp4', '/root/.cache/kagglehub/datasets/adrivg/ravdess-emotional-speech-video/versions/1/RAVDESS dataset/Video_Speech_Actor_18/Actor_18/01-01-07-01-02-01-18.mp4', '/root/.cache/kagglehub/datasets/adrivg/ravdess-emotional-speech-video/versions/1/RAVDESS dataset/Video_Speech_Actor_18/Actor_18/01-01-03-02-01-02-18.mp4', '/root/.cache/kagglehub/datasets/adrivg/ravdess-emotional-speech-video/versions/1/RAVDESS dataset/Video_Speech_Actor_18/Actor_18/01-01-06-01-01-01-18.mp4', '/root/.cache/kagglehub/datasets/adrivg/ravdess-emotional-speech-video/versions/1/RAVDESS dataset/Video_Speech_Actor_18/Actor_18/01-01-06-01-01-02-18.mp4', '/root/.cache/kagglehub/datasets/adrivg/ravdess-emotional-speech-video/versions/1/RAVDESS dataset/Video_Speech_Actor_18/Actor_18/01-01-02-02-01-02-18.mp4', '/root/.cache/kagglehub/datasets/adrivg/ravdess-emotional-speech-video/versions/1/RAVDESS dataset/Video_Speech_Actor_18/Actor_18/01-01-03-01-02-02-18.mp4', '/root/.cache/kagglehub/datasets/adrivg/ravdess-emotional-speech-video/versions/1/RAVDESS dataset/Video_Speech_Actor_18/Actor_18/01-01-02-01-01-02-18.mp4', '/root/.cache/kagglehub/datasets/adrivg/ravdess-emotional-speech-video/versions/1/RAVDESS dataset/Video_Speech_Actor_18/Actor_18/01-01-07-02-01-01-18.mp4', '/root/.cache/kagglehub/datasets/adrivg/ravdess-emotional-speech-video/versions/1/RAVDESS dataset/Video_Speech_Actor_18/Actor_18/01-01-05-01-01-01-18.mp4', '/root/.cache/kagglehub/datasets/adrivg/ravdess-emotional-speech-video/versions/1/RAVDESS dataset/Video_Speech_Actor_18/Actor_18/01-01-07-02-02-01-18.mp4', '/root/.cache/kagglehub/datasets/adrivg/ravdess-emotional-speech-video/versions/1/RAVDESS dataset/Video_Speech_Actor_18/Actor_18/01-01-06-02-02-01-18.mp4', '/root/.cache/kagglehub/datasets/adrivg/ravdess-emotional-speech-video/versions/1/RAVDESS dataset/Video_Speech_Actor_18/Actor_18/01-01-03-02-02-02-18.mp4', '/root/.cache/kagglehub/datasets/adrivg/ravdess-emotional-speech-video/versions/1/RAVDESS dataset/Video_Speech_Actor_18/Actor_18/01-01-05-01-02-01-18.mp4', '/root/.cache/kagglehub/datasets/adrivg/ravdess-emotional-speech-video/versions/1/RAVDESS dataset/Video_Speech_Actor_18/Actor_18/01-01-08-02-01-01-18.mp4', '/root/.cache/kagglehub/datasets/adrivg/ravdess-emotional-speech-video/versions/1/RAVDESS dataset/Video_Speech_Actor_18/Actor_18/01-01-04-01-02-02-18.mp4', '/root/.cache/kagglehub/datasets/adrivg/ravdess-emotional-speech-video/versions/1/RAVDESS dataset/Video_Speech_Actor_18/Actor_18/01-01-04-02-02-01-18.mp4', '/root/.cache/kagglehub/datasets/adrivg/ravdess-emotional-speech-video/versions/1/RAVDESS dataset/Video_Speech_Actor_18/Actor_18/01-01-02-02-02-02-18.mp4', '/root/.cache/kagglehub/datasets/adrivg/ravdess-emotional-speech-video/versions/1/RAVDESS dataset/Video_Speech_Actor_18/Actor_18/01-01-08-01-01-01-18.mp4', '/root/.cache/kagglehub/datasets/adrivg/ravdess-emotional-speech-video/versions/1/RAVDESS dataset/Video_Speech_Actor_18/Actor_18/01-01-03-01-01-02-18.mp4', '/root/.cache/kagglehub/datasets/adrivg/ravdess-emotional-speech-video/versions/1/RAVDESS dataset/Video_Speech_Actor_18/Actor_18/01-01-05-02-02-01-18.mp4', '/root/.cache/kagglehub/datasets/adrivg/ravdess-emotional-speech-video/versions/1/RAVDESS dataset/Video_Speech_Actor_18/Actor_18/01-01-04-02-01-02-18.mp4', '/root/.cache/kagglehub/datasets/adrivg/ravdess-emotional-speech-video/versions/1/RAVDESS dataset/Video_Speech_Actor_18/Actor_18/01-01-02-02-02-01-18.mp4', '/root/.cache/kagglehub/datasets/adrivg/ravdess-emotional-speech-video/versions/1/RAVDESS dataset/Video_Speech_Actor_18/Actor_18/01-01-06-02-01-02-18.mp4', '/root/.cache/kagglehub/datasets/adrivg/ravdess-emotional-speech-video/versions/1/RAVDESS dataset/Video_Speech_Actor_13/Actor_13/01-01-02-01-01-01-13.mp4', '/root/.cache/kagglehub/datasets/adrivg/ravdess-emotional-speech-video/versions/1/RAVDESS dataset/Video_Speech_Actor_13/Actor_13/01-01-04-01-02-01-13.mp4', '/root/.cache/kagglehub/datasets/adrivg/ravdess-emotional-speech-video/versions/1/RAVDESS dataset/Video_Speech_Actor_13/Actor_13/01-01-01-01-02-01-13.mp4', '/root/.cache/kagglehub/datasets/adrivg/ravdess-emotional-speech-video/versions/1/RAVDESS dataset/Video_Speech_Actor_13/Actor_13/01-01-07-02-02-01-13.mp4', '/root/.cache/kagglehub/datasets/adrivg/ravdess-emotional-speech-video/versions/1/RAVDESS dataset/Video_Speech_Actor_13/Actor_13/01-01-04-02-02-02-13.mp4', '/root/.cache/kagglehub/datasets/adrivg/ravdess-emotional-speech-video/versions/1/RAVDESS dataset/Video_Speech_Actor_13/Actor_13/01-01-04-02-02-01-13.mp4', '/root/.cache/kagglehub/datasets/adrivg/ravdess-emotional-speech-video/versions/1/RAVDESS dataset/Video_Speech_Actor_13/Actor_13/01-01-08-01-02-02-13.mp4', '/root/.cache/kagglehub/datasets/adrivg/ravdess-emotional-speech-video/versions/1/RAVDESS dataset/Video_Speech_Actor_13/Actor_13/01-01-03-01-01-02-13.mp4', '/root/.cache/kagglehub/datasets/adrivg/ravdess-emotional-speech-video/versions/1/RAVDESS dataset/Video_Speech_Actor_13/Actor_13/01-01-06-02-02-02-13.mp4', '/root/.cache/kagglehub/datasets/adrivg/ravdess-emotional-speech-video/versions/1/RAVDESS dataset/Video_Speech_Actor_13/Actor_13/01-01-04-01-01-02-13.mp4', '/root/.cache/kagglehub/datasets/adrivg/ravdess-emotional-speech-video/versions/1/RAVDESS dataset/Video_Speech_Actor_13/Actor_13/01-01-03-01-02-02-13.mp4', '/root/.cache/kagglehub/datasets/adrivg/ravdess-emotional-speech-video/versions/1/RAVDESS dataset/Video_Speech_Actor_13/Actor_13/01-01-03-02-02-02-13.mp4', '/root/.cache/kagglehub/datasets/adrivg/ravdess-emotional-speech-video/versions/1/RAVDESS dataset/Video_Speech_Actor_13/Actor_13/01-01-06-02-01-02-13.mp4', '/root/.cache/kagglehub/datasets/adrivg/ravdess-emotional-speech-video/versions/1/RAVDESS dataset/Video_Speech_Actor_13/Actor_13/01-01-05-02-01-02-13.mp4', '/root/.cache/kagglehub/datasets/adrivg/ravdess-emotional-speech-video/versions/1/RAVDESS dataset/Video_Speech_Actor_13/Actor_13/01-01-06-02-02-01-13.mp4', '/root/.cache/kagglehub/datasets/adrivg/ravdess-emotional-speech-video/versions/1/RAVDESS dataset/Video_Speech_Actor_13/Actor_13/01-01-07-02-02-02-13.mp4', '/root/.cache/kagglehub/datasets/adrivg/ravdess-emotional-speech-video/versions/1/RAVDESS dataset/Video_Speech_Actor_13/Actor_13/01-01-08-02-02-01-13.mp4', '/root/.cache/kagglehub/datasets/adrivg/ravdess-emotional-speech-video/versions/1/RAVDESS dataset/Video_Speech_Actor_13/Actor_13/01-01-08-02-01-02-13.mp4', '/root/.cache/kagglehub/datasets/adrivg/ravdess-emotional-speech-video/versions/1/RAVDESS dataset/Video_Speech_Actor_13/Actor_13/01-01-02-01-01-02-13.mp4', '/root/.cache/kagglehub/datasets/adrivg/ravdess-emotional-speech-video/versions/1/RAVDESS dataset/Video_Speech_Actor_13/Actor_13/01-01-04-02-01-02-13.mp4', '/root/.cache/kagglehub/datasets/adrivg/ravdess-emotional-speech-video/versions/1/RAVDESS dataset/Video_Speech_Actor_13/Actor_13/01-01-07-02-01-02-13.mp4', '/root/.cache/kagglehub/datasets/adrivg/ravdess-emotional-speech-video/versions/1/RAVDESS dataset/Video_Speech_Actor_13/Actor_13/01-01-05-01-01-01-13.mp4', '/root/.cache/kagglehub/datasets/adrivg/ravdess-emotional-speech-video/versions/1/RAVDESS dataset/Video_Speech_Actor_13/Actor_13/01-01-07-01-02-02-13.mp4', '/root/.cache/kagglehub/datasets/adrivg/ravdess-emotional-speech-video/versions/1/RAVDESS dataset/Video_Speech_Actor_13/Actor_13/01-01-02-02-01-02-13.mp4', '/root/.cache/kagglehub/datasets/adrivg/ravdess-emotional-speech-video/versions/1/RAVDESS dataset/Video_Speech_Actor_13/Actor_13/01-01-01-01-01-02-13.mp4', '/root/.cache/kagglehub/datasets/adrivg/ravdess-emotional-speech-video/versions/1/RAVDESS dataset/Video_Speech_Actor_13/Actor_13/01-01-07-01-01-02-13.mp4', '/root/.cache/kagglehub/datasets/adrivg/ravdess-emotional-speech-video/versions/1/RAVDESS dataset/Video_Speech_Actor_13/Actor_13/01-01-08-01-01-02-13.mp4', '/root/.cache/kagglehub/datasets/adrivg/ravdess-emotional-speech-video/versions/1/RAVDESS dataset/Video_Speech_Actor_13/Actor_13/01-01-01-01-02-02-13.mp4', '/root/.cache/kagglehub/datasets/adrivg/ravdess-emotional-speech-video/versions/1/RAVDESS dataset/Video_Speech_Actor_13/Actor_13/01-01-03-02-01-01-13.mp4', '/root/.cache/kagglehub/datasets/adrivg/ravdess-emotional-speech-video/versions/1/RAVDESS dataset/Video_Speech_Actor_13/Actor_13/01-01-01-01-01-01-13.mp4', '/root/.cache/kagglehub/datasets/adrivg/ravdess-emotional-speech-video/versions/1/RAVDESS dataset/Video_Speech_Actor_13/Actor_13/01-01-07-02-01-01-13.mp4', '/root/.cache/kagglehub/datasets/adrivg/ravdess-emotional-speech-video/versions/1/RAVDESS dataset/Video_Speech_Actor_13/Actor_13/01-01-08-01-01-01-13.mp4', '/root/.cache/kagglehub/datasets/adrivg/ravdess-emotional-speech-video/versions/1/RAVDESS dataset/Video_Speech_Actor_13/Actor_13/01-01-06-01-02-01-13.mp4', '/root/.cache/kagglehub/datasets/adrivg/ravdess-emotional-speech-video/versions/1/RAVDESS dataset/Video_Speech_Actor_13/Actor_13/01-01-04-01-01-01-13.mp4', '/root/.cache/kagglehub/datasets/adrivg/ravdess-emotional-speech-video/versions/1/RAVDESS dataset/Video_Speech_Actor_13/Actor_13/01-01-02-02-02-01-13.mp4', '/root/.cache/kagglehub/datasets/adrivg/ravdess-emotional-speech-video/versions/1/RAVDESS dataset/Video_Speech_Actor_13/Actor_13/01-01-08-01-02-01-13.mp4', '/root/.cache/kagglehub/datasets/adrivg/ravdess-emotional-speech-video/versions/1/RAVDESS dataset/Video_Speech_Actor_13/Actor_13/01-01-04-01-02-02-13.mp4', '/root/.cache/kagglehub/datasets/adrivg/ravdess-emotional-speech-video/versions/1/RAVDESS dataset/Video_Speech_Actor_13/Actor_13/01-01-06-01-01-02-13.mp4', '/root/.cache/kagglehub/datasets/adrivg/ravdess-emotional-speech-video/versions/1/RAVDESS dataset/Video_Speech_Actor_13/Actor_13/01-01-05-01-01-02-13.mp4', '/root/.cache/kagglehub/datasets/adrivg/ravdess-emotional-speech-video/versions/1/RAVDESS dataset/Video_Speech_Actor_13/Actor_13/01-01-03-01-02-01-13.mp4', '/root/.cache/kagglehub/datasets/adrivg/ravdess-emotional-speech-video/versions/1/RAVDESS dataset/Video_Speech_Actor_13/Actor_13/01-01-06-01-02-02-13.mp4', '/root/.cache/kagglehub/datasets/adrivg/ravdess-emotional-speech-video/versions/1/RAVDESS dataset/Video_Speech_Actor_13/Actor_13/01-01-04-02-01-01-13.mp4', '/root/.cache/kagglehub/datasets/adrivg/ravdess-emotional-speech-video/versions/1/RAVDESS dataset/Video_Speech_Actor_13/Actor_13/01-01-08-02-01-01-13.mp4', '/root/.cache/kagglehub/datasets/adrivg/ravdess-emotional-speech-video/versions/1/RAVDESS dataset/Video_Speech_Actor_13/Actor_13/01-01-03-01-01-01-13.mp4', '/root/.cache/kagglehub/datasets/adrivg/ravdess-emotional-speech-video/versions/1/RAVDESS dataset/Video_Speech_Actor_13/Actor_13/01-01-02-02-01-01-13.mp4', '/root/.cache/kagglehub/datasets/adrivg/ravdess-emotional-speech-video/versions/1/RAVDESS dataset/Video_Speech_Actor_13/Actor_13/01-01-03-02-02-01-13.mp4', '/root/.cache/kagglehub/datasets/adrivg/ravdess-emotional-speech-video/versions/1/RAVDESS dataset/Video_Speech_Actor_13/Actor_13/01-01-02-01-02-02-13.mp4', '/root/.cache/kagglehub/datasets/adrivg/ravdess-emotional-speech-video/versions/1/RAVDESS dataset/Video_Speech_Actor_13/Actor_13/01-01-05-01-02-01-13.mp4', '/root/.cache/kagglehub/datasets/adrivg/ravdess-emotional-speech-video/versions/1/RAVDESS dataset/Video_Speech_Actor_13/Actor_13/01-01-07-01-02-01-13.mp4', '/root/.cache/kagglehub/datasets/adrivg/ravdess-emotional-speech-video/versions/1/RAVDESS dataset/Video_Speech_Actor_13/Actor_13/01-01-05-01-02-02-13.mp4', '/root/.cache/kagglehub/datasets/adrivg/ravdess-emotional-speech-video/versions/1/RAVDESS dataset/Video_Speech_Actor_13/Actor_13/01-01-06-02-01-01-13.mp4', '/root/.cache/kagglehub/datasets/adrivg/ravdess-emotional-speech-video/versions/1/RAVDESS dataset/Video_Speech_Actor_13/Actor_13/01-01-03-02-01-02-13.mp4', '/root/.cache/kagglehub/datasets/adrivg/ravdess-emotional-speech-video/versions/1/RAVDESS dataset/Video_Speech_Actor_13/Actor_13/01-01-05-02-01-01-13.mp4', '/root/.cache/kagglehub/datasets/adrivg/ravdess-emotional-speech-video/versions/1/RAVDESS dataset/Video_Speech_Actor_13/Actor_13/01-01-02-02-02-02-13.mp4', '/root/.cache/kagglehub/datasets/adrivg/ravdess-emotional-speech-video/versions/1/RAVDESS dataset/Video_Speech_Actor_13/Actor_13/01-01-07-01-01-01-13.mp4', '/root/.cache/kagglehub/datasets/adrivg/ravdess-emotional-speech-video/versions/1/RAVDESS dataset/Video_Speech_Actor_13/Actor_13/01-01-06-01-01-01-13.mp4', '/root/.cache/kagglehub/datasets/adrivg/ravdess-emotional-speech-video/versions/1/RAVDESS dataset/Video_Speech_Actor_13/Actor_13/01-01-05-02-02-01-13.mp4', '/root/.cache/kagglehub/datasets/adrivg/ravdess-emotional-speech-video/versions/1/RAVDESS dataset/Video_Speech_Actor_13/Actor_13/01-01-02-01-02-01-13.mp4', '/root/.cache/kagglehub/datasets/adrivg/ravdess-emotional-speech-video/versions/1/RAVDESS dataset/Video_Speech_Actor_13/Actor_13/01-01-08-02-02-02-13.mp4', '/root/.cache/kagglehub/datasets/adrivg/ravdess-emotional-speech-video/versions/1/RAVDESS dataset/Video_Speech_Actor_13/Actor_13/01-01-05-02-02-02-13.mp4', '/root/.cache/kagglehub/datasets/adrivg/ravdess-emotional-speech-video/versions/1/RAVDESS dataset/Video_Speech_Actor_17/Actor_17/01-01-07-02-02-01-17.mp4', '/root/.cache/kagglehub/datasets/adrivg/ravdess-emotional-speech-video/versions/1/RAVDESS dataset/Video_Speech_Actor_17/Actor_17/01-01-08-01-01-02-17.mp4', '/root/.cache/kagglehub/datasets/adrivg/ravdess-emotional-speech-video/versions/1/RAVDESS dataset/Video_Speech_Actor_17/Actor_17/01-01-06-01-01-01-17.mp4', '/root/.cache/kagglehub/datasets/adrivg/ravdess-emotional-speech-video/versions/1/RAVDESS dataset/Video_Speech_Actor_17/Actor_17/01-01-04-01-02-02-17.mp4', '/root/.cache/kagglehub/datasets/adrivg/ravdess-emotional-speech-video/versions/1/RAVDESS dataset/Video_Speech_Actor_17/Actor_17/01-01-05-01-02-01-17.mp4', '/root/.cache/kagglehub/datasets/adrivg/ravdess-emotional-speech-video/versions/1/RAVDESS dataset/Video_Speech_Actor_17/Actor_17/01-01-07-01-02-02-17.mp4', '/root/.cache/kagglehub/datasets/adrivg/ravdess-emotional-speech-video/versions/1/RAVDESS dataset/Video_Speech_Actor_17/Actor_17/01-01-01-01-01-01-17.mp4', '/root/.cache/kagglehub/datasets/adrivg/ravdess-emotional-speech-video/versions/1/RAVDESS dataset/Video_Speech_Actor_17/Actor_17/01-01-04-01-01-02-17.mp4', '/root/.cache/kagglehub/datasets/adrivg/ravdess-emotional-speech-video/versions/1/RAVDESS dataset/Video_Speech_Actor_17/Actor_17/01-01-03-02-02-02-17.mp4', '/root/.cache/kagglehub/datasets/adrivg/ravdess-emotional-speech-video/versions/1/RAVDESS dataset/Video_Speech_Actor_17/Actor_17/01-01-02-02-02-01-17.mp4', '/root/.cache/kagglehub/datasets/adrivg/ravdess-emotional-speech-video/versions/1/RAVDESS dataset/Video_Speech_Actor_17/Actor_17/01-01-01-01-02-02-17.mp4', '/root/.cache/kagglehub/datasets/adrivg/ravdess-emotional-speech-video/versions/1/RAVDESS dataset/Video_Speech_Actor_17/Actor_17/01-01-04-01-01-01-17.mp4', '/root/.cache/kagglehub/datasets/adrivg/ravdess-emotional-speech-video/versions/1/RAVDESS dataset/Video_Speech_Actor_17/Actor_17/01-01-06-01-02-01-17.mp4', '/root/.cache/kagglehub/datasets/adrivg/ravdess-emotional-speech-video/versions/1/RAVDESS dataset/Video_Speech_Actor_17/Actor_17/01-01-08-01-02-02-17.mp4', '/root/.cache/kagglehub/datasets/adrivg/ravdess-emotional-speech-video/versions/1/RAVDESS dataset/Video_Speech_Actor_17/Actor_17/01-01-04-02-01-02-17.mp4', '/root/.cache/kagglehub/datasets/adrivg/ravdess-emotional-speech-video/versions/1/RAVDESS dataset/Video_Speech_Actor_17/Actor_17/01-01-08-01-01-01-17.mp4', '/root/.cache/kagglehub/datasets/adrivg/ravdess-emotional-speech-video/versions/1/RAVDESS dataset/Video_Speech_Actor_17/Actor_17/01-01-06-02-01-02-17.mp4', '/root/.cache/kagglehub/datasets/adrivg/ravdess-emotional-speech-video/versions/1/RAVDESS dataset/Video_Speech_Actor_17/Actor_17/01-01-05-02-01-01-17.mp4', '/root/.cache/kagglehub/datasets/adrivg/ravdess-emotional-speech-video/versions/1/RAVDESS dataset/Video_Speech_Actor_17/Actor_17/01-01-08-02-01-01-17.mp4', '/root/.cache/kagglehub/datasets/adrivg/ravdess-emotional-speech-video/versions/1/RAVDESS dataset/Video_Speech_Actor_17/Actor_17/01-01-07-02-02-02-17.mp4', '/root/.cache/kagglehub/datasets/adrivg/ravdess-emotional-speech-video/versions/1/RAVDESS dataset/Video_Speech_Actor_17/Actor_17/01-01-03-02-01-02-17.mp4', '/root/.cache/kagglehub/datasets/adrivg/ravdess-emotional-speech-video/versions/1/RAVDESS dataset/Video_Speech_Actor_17/Actor_17/01-01-02-02-01-02-17.mp4', '/root/.cache/kagglehub/datasets/adrivg/ravdess-emotional-speech-video/versions/1/RAVDESS dataset/Video_Speech_Actor_17/Actor_17/01-01-03-02-02-01-17.mp4', '/root/.cache/kagglehub/datasets/adrivg/ravdess-emotional-speech-video/versions/1/RAVDESS dataset/Video_Speech_Actor_17/Actor_17/01-01-07-02-01-02-17.mp4', '/root/.cache/kagglehub/datasets/adrivg/ravdess-emotional-speech-video/versions/1/RAVDESS dataset/Video_Speech_Actor_17/Actor_17/01-01-03-01-02-02-17.mp4', '/root/.cache/kagglehub/datasets/adrivg/ravdess-emotional-speech-video/versions/1/RAVDESS dataset/Video_Speech_Actor_17/Actor_17/01-01-07-01-02-01-17.mp4', '/root/.cache/kagglehub/datasets/adrivg/ravdess-emotional-speech-video/versions/1/RAVDESS dataset/Video_Speech_Actor_17/Actor_17/01-01-01-01-01-02-17.mp4', '/root/.cache/kagglehub/datasets/adrivg/ravdess-emotional-speech-video/versions/1/RAVDESS dataset/Video_Speech_Actor_17/Actor_17/01-01-02-02-02-02-17.mp4', '/root/.cache/kagglehub/datasets/adrivg/ravdess-emotional-speech-video/versions/1/RAVDESS dataset/Video_Speech_Actor_17/Actor_17/01-01-04-02-02-02-17.mp4', '/root/.cache/kagglehub/datasets/adrivg/ravdess-emotional-speech-video/versions/1/RAVDESS dataset/Video_Speech_Actor_17/Actor_17/01-01-07-01-01-02-17.mp4', '/root/.cache/kagglehub/datasets/adrivg/ravdess-emotional-speech-video/versions/1/RAVDESS dataset/Video_Speech_Actor_17/Actor_17/01-01-07-01-01-01-17.mp4', '/root/.cache/kagglehub/datasets/adrivg/ravdess-emotional-speech-video/versions/1/RAVDESS dataset/Video_Speech_Actor_17/Actor_17/01-01-06-02-01-01-17.mp4', '/root/.cache/kagglehub/datasets/adrivg/ravdess-emotional-speech-video/versions/1/RAVDESS dataset/Video_Speech_Actor_17/Actor_17/01-01-05-01-02-02-17.mp4', '/root/.cache/kagglehub/datasets/adrivg/ravdess-emotional-speech-video/versions/1/RAVDESS dataset/Video_Speech_Actor_17/Actor_17/01-01-01-01-02-01-17.mp4', '/root/.cache/kagglehub/datasets/adrivg/ravdess-emotional-speech-video/versions/1/RAVDESS dataset/Video_Speech_Actor_17/Actor_17/01-01-03-02-01-01-17.mp4', '/root/.cache/kagglehub/datasets/adrivg/ravdess-emotional-speech-video/versions/1/RAVDESS dataset/Video_Speech_Actor_17/Actor_17/01-01-03-01-02-01-17.mp4', '/root/.cache/kagglehub/datasets/adrivg/ravdess-emotional-speech-video/versions/1/RAVDESS dataset/Video_Speech_Actor_17/Actor_17/01-01-02-01-01-02-17.mp4', '/root/.cache/kagglehub/datasets/adrivg/ravdess-emotional-speech-video/versions/1/RAVDESS dataset/Video_Speech_Actor_17/Actor_17/01-01-05-02-01-02-17.mp4', '/root/.cache/kagglehub/datasets/adrivg/ravdess-emotional-speech-video/versions/1/RAVDESS dataset/Video_Speech_Actor_17/Actor_17/01-01-08-02-02-01-17.mp4', '/root/.cache/kagglehub/datasets/adrivg/ravdess-emotional-speech-video/versions/1/RAVDESS dataset/Video_Speech_Actor_17/Actor_17/01-01-07-02-01-01-17.mp4', '/root/.cache/kagglehub/datasets/adrivg/ravdess-emotional-speech-video/versions/1/RAVDESS dataset/Video_Speech_Actor_17/Actor_17/01-01-04-02-02-01-17.mp4', '/root/.cache/kagglehub/datasets/adrivg/ravdess-emotional-speech-video/versions/1/RAVDESS dataset/Video_Speech_Actor_17/Actor_17/01-01-02-01-01-01-17.mp4', '/root/.cache/kagglehub/datasets/adrivg/ravdess-emotional-speech-video/versions/1/RAVDESS dataset/Video_Speech_Actor_17/Actor_17/01-01-08-01-02-01-17.mp4', '/root/.cache/kagglehub/datasets/adrivg/ravdess-emotional-speech-video/versions/1/RAVDESS dataset/Video_Speech_Actor_17/Actor_17/01-01-06-02-02-02-17.mp4', '/root/.cache/kagglehub/datasets/adrivg/ravdess-emotional-speech-video/versions/1/RAVDESS dataset/Video_Speech_Actor_17/Actor_17/01-01-05-01-01-02-17.mp4', '/root/.cache/kagglehub/datasets/adrivg/ravdess-emotional-speech-video/versions/1/RAVDESS dataset/Video_Speech_Actor_17/Actor_17/01-01-05-02-02-01-17.mp4', '/root/.cache/kagglehub/datasets/adrivg/ravdess-emotional-speech-video/versions/1/RAVDESS dataset/Video_Speech_Actor_17/Actor_17/01-01-03-01-01-02-17.mp4', '/root/.cache/kagglehub/datasets/adrivg/ravdess-emotional-speech-video/versions/1/RAVDESS dataset/Video_Speech_Actor_17/Actor_17/01-01-04-02-01-01-17.mp4', '/root/.cache/kagglehub/datasets/adrivg/ravdess-emotional-speech-video/versions/1/RAVDESS dataset/Video_Speech_Actor_17/Actor_17/01-01-04-01-02-01-17.mp4', '/root/.cache/kagglehub/datasets/adrivg/ravdess-emotional-speech-video/versions/1/RAVDESS dataset/Video_Speech_Actor_17/Actor_17/01-01-02-01-02-01-17.mp4', '/root/.cache/kagglehub/datasets/adrivg/ravdess-emotional-speech-video/versions/1/RAVDESS dataset/Video_Speech_Actor_17/Actor_17/01-01-06-01-01-02-17.mp4', '/root/.cache/kagglehub/datasets/adrivg/ravdess-emotional-speech-video/versions/1/RAVDESS dataset/Video_Speech_Actor_17/Actor_17/01-01-08-02-01-02-17.mp4', '/root/.cache/kagglehub/datasets/adrivg/ravdess-emotional-speech-video/versions/1/RAVDESS dataset/Video_Speech_Actor_17/Actor_17/01-01-05-01-01-01-17.mp4', '/root/.cache/kagglehub/datasets/adrivg/ravdess-emotional-speech-video/versions/1/RAVDESS dataset/Video_Speech_Actor_17/Actor_17/01-01-02-02-01-01-17.mp4', '/root/.cache/kagglehub/datasets/adrivg/ravdess-emotional-speech-video/versions/1/RAVDESS dataset/Video_Speech_Actor_17/Actor_17/01-01-06-01-02-02-17.mp4', '/root/.cache/kagglehub/datasets/adrivg/ravdess-emotional-speech-video/versions/1/RAVDESS dataset/Video_Speech_Actor_17/Actor_17/01-01-03-01-01-01-17.mp4', '/root/.cache/kagglehub/datasets/adrivg/ravdess-emotional-speech-video/versions/1/RAVDESS dataset/Video_Speech_Actor_17/Actor_17/01-01-08-02-02-02-17.mp4', '/root/.cache/kagglehub/datasets/adrivg/ravdess-emotional-speech-video/versions/1/RAVDESS dataset/Video_Speech_Actor_17/Actor_17/01-01-06-02-02-01-17.mp4', '/root/.cache/kagglehub/datasets/adrivg/ravdess-emotional-speech-video/versions/1/RAVDESS dataset/Video_Speech_Actor_17/Actor_17/01-01-02-01-02-02-17.mp4', '/root/.cache/kagglehub/datasets/adrivg/ravdess-emotional-speech-video/versions/1/RAVDESS dataset/Video_Speech_Actor_17/Actor_17/01-01-05-02-02-02-17.mp4', '/root/.cache/kagglehub/datasets/adrivg/ravdess-emotional-speech-video/versions/1/RAVDESS dataset/Video_Speech_Actor_08/Actor_08/01-01-06-01-01-01-08.mp4', '/root/.cache/kagglehub/datasets/adrivg/ravdess-emotional-speech-video/versions/1/RAVDESS dataset/Video_Speech_Actor_08/Actor_08/01-01-03-01-01-02-08.mp4', '/root/.cache/kagglehub/datasets/adrivg/ravdess-emotional-speech-video/versions/1/RAVDESS dataset/Video_Speech_Actor_08/Actor_08/01-01-06-02-02-01-08.mp4', '/root/.cache/kagglehub/datasets/adrivg/ravdess-emotional-speech-video/versions/1/RAVDESS dataset/Video_Speech_Actor_08/Actor_08/01-01-07-02-02-02-08.mp4', '/root/.cache/kagglehub/datasets/adrivg/ravdess-emotional-speech-video/versions/1/RAVDESS dataset/Video_Speech_Actor_08/Actor_08/01-01-07-01-01-01-08.mp4', '/root/.cache/kagglehub/datasets/adrivg/ravdess-emotional-speech-video/versions/1/RAVDESS dataset/Video_Speech_Actor_08/Actor_08/01-01-05-01-01-01-08.mp4', '/root/.cache/kagglehub/datasets/adrivg/ravdess-emotional-speech-video/versions/1/RAVDESS dataset/Video_Speech_Actor_08/Actor_08/01-01-04-01-01-01-08.mp4', '/root/.cache/kagglehub/datasets/adrivg/ravdess-emotional-speech-video/versions/1/RAVDESS dataset/Video_Speech_Actor_08/Actor_08/01-01-08-02-01-01-08.mp4', '/root/.cache/kagglehub/datasets/adrivg/ravdess-emotional-speech-video/versions/1/RAVDESS dataset/Video_Speech_Actor_08/Actor_08/01-01-05-01-01-02-08.mp4', '/root/.cache/kagglehub/datasets/adrivg/ravdess-emotional-speech-video/versions/1/RAVDESS dataset/Video_Speech_Actor_08/Actor_08/01-01-01-01-02-01-08.mp4', '/root/.cache/kagglehub/datasets/adrivg/ravdess-emotional-speech-video/versions/1/RAVDESS dataset/Video_Speech_Actor_08/Actor_08/01-01-01-01-02-02-08.mp4', '/root/.cache/kagglehub/datasets/adrivg/ravdess-emotional-speech-video/versions/1/RAVDESS dataset/Video_Speech_Actor_08/Actor_08/01-01-08-01-02-01-08.mp4', '/root/.cache/kagglehub/datasets/adrivg/ravdess-emotional-speech-video/versions/1/RAVDESS dataset/Video_Speech_Actor_08/Actor_08/01-01-03-02-01-01-08.mp4', '/root/.cache/kagglehub/datasets/adrivg/ravdess-emotional-speech-video/versions/1/RAVDESS dataset/Video_Speech_Actor_08/Actor_08/01-01-06-02-01-01-08.mp4', '/root/.cache/kagglehub/datasets/adrivg/ravdess-emotional-speech-video/versions/1/RAVDESS dataset/Video_Speech_Actor_08/Actor_08/01-01-08-02-02-02-08.mp4', '/root/.cache/kagglehub/datasets/adrivg/ravdess-emotional-speech-video/versions/1/RAVDESS dataset/Video_Speech_Actor_08/Actor_08/01-01-06-02-02-02-08.mp4', '/root/.cache/kagglehub/datasets/adrivg/ravdess-emotional-speech-video/versions/1/RAVDESS dataset/Video_Speech_Actor_08/Actor_08/01-01-01-01-01-02-08.mp4', '/root/.cache/kagglehub/datasets/adrivg/ravdess-emotional-speech-video/versions/1/RAVDESS dataset/Video_Speech_Actor_08/Actor_08/01-01-02-02-02-01-08.mp4', '/root/.cache/kagglehub/datasets/adrivg/ravdess-emotional-speech-video/versions/1/RAVDESS dataset/Video_Speech_Actor_08/Actor_08/01-01-05-02-01-02-08.mp4', '/root/.cache/kagglehub/datasets/adrivg/ravdess-emotional-speech-video/versions/1/RAVDESS dataset/Video_Speech_Actor_08/Actor_08/01-01-07-01-01-02-08.mp4', '/root/.cache/kagglehub/datasets/adrivg/ravdess-emotional-speech-video/versions/1/RAVDESS dataset/Video_Speech_Actor_08/Actor_08/01-01-06-02-01-02-08.mp4', '/root/.cache/kagglehub/datasets/adrivg/ravdess-emotional-speech-video/versions/1/RAVDESS dataset/Video_Speech_Actor_08/Actor_08/01-01-02-01-01-02-08.mp4', '/root/.cache/kagglehub/datasets/adrivg/ravdess-emotional-speech-video/versions/1/RAVDESS dataset/Video_Speech_Actor_08/Actor_08/01-01-07-02-01-01-08.mp4', '/root/.cache/kagglehub/datasets/adrivg/ravdess-emotional-speech-video/versions/1/RAVDESS dataset/Video_Speech_Actor_08/Actor_08/01-01-07-01-02-01-08.mp4', '/root/.cache/kagglehub/datasets/adrivg/ravdess-emotional-speech-video/versions/1/RAVDESS dataset/Video_Speech_Actor_08/Actor_08/01-01-02-02-02-02-08.mp4', '/root/.cache/kagglehub/datasets/adrivg/ravdess-emotional-speech-video/versions/1/RAVDESS dataset/Video_Speech_Actor_08/Actor_08/01-01-05-02-02-01-08.mp4', '/root/.cache/kagglehub/datasets/adrivg/ravdess-emotional-speech-video/versions/1/RAVDESS dataset/Video_Speech_Actor_08/Actor_08/01-01-02-01-02-01-08.mp4', '/root/.cache/kagglehub/datasets/adrivg/ravdess-emotional-speech-video/versions/1/RAVDESS dataset/Video_Speech_Actor_08/Actor_08/01-01-03-01-02-01-08.mp4', '/root/.cache/kagglehub/datasets/adrivg/ravdess-emotional-speech-video/versions/1/RAVDESS dataset/Video_Speech_Actor_08/Actor_08/01-01-04-02-02-01-08.mp4', '/root/.cache/kagglehub/datasets/adrivg/ravdess-emotional-speech-video/versions/1/RAVDESS dataset/Video_Speech_Actor_08/Actor_08/01-01-08-01-01-01-08.mp4', '/root/.cache/kagglehub/datasets/adrivg/ravdess-emotional-speech-video/versions/1/RAVDESS dataset/Video_Speech_Actor_08/Actor_08/01-01-02-01-01-01-08.mp4', '/root/.cache/kagglehub/datasets/adrivg/ravdess-emotional-speech-video/versions/1/RAVDESS dataset/Video_Speech_Actor_08/Actor_08/01-01-04-01-02-02-08.mp4', '/root/.cache/kagglehub/datasets/adrivg/ravdess-emotional-speech-video/versions/1/RAVDESS dataset/Video_Speech_Actor_08/Actor_08/01-01-08-02-02-01-08.mp4', '/root/.cache/kagglehub/datasets/adrivg/ravdess-emotional-speech-video/versions/1/RAVDESS dataset/Video_Speech_Actor_08/Actor_08/01-01-03-01-02-02-08.mp4', '/root/.cache/kagglehub/datasets/adrivg/ravdess-emotional-speech-video/versions/1/RAVDESS dataset/Video_Speech_Actor_08/Actor_08/01-01-04-02-01-01-08.mp4', '/root/.cache/kagglehub/datasets/adrivg/ravdess-emotional-speech-video/versions/1/RAVDESS dataset/Video_Speech_Actor_08/Actor_08/01-01-07-02-02-01-08.mp4', '/root/.cache/kagglehub/datasets/adrivg/ravdess-emotional-speech-video/versions/1/RAVDESS dataset/Video_Speech_Actor_08/Actor_08/01-01-08-01-01-02-08.mp4', '/root/.cache/kagglehub/datasets/adrivg/ravdess-emotional-speech-video/versions/1/RAVDESS dataset/Video_Speech_Actor_08/Actor_08/01-01-03-01-01-01-08.mp4', '/root/.cache/kagglehub/datasets/adrivg/ravdess-emotional-speech-video/versions/1/RAVDESS dataset/Video_Speech_Actor_08/Actor_08/01-01-05-01-02-02-08.mp4', '/root/.cache/kagglehub/datasets/adrivg/ravdess-emotional-speech-video/versions/1/RAVDESS dataset/Video_Speech_Actor_08/Actor_08/01-01-05-02-01-01-08.mp4', '/root/.cache/kagglehub/datasets/adrivg/ravdess-emotional-speech-video/versions/1/RAVDESS dataset/Video_Speech_Actor_08/Actor_08/01-01-06-01-02-02-08.mp4', '/root/.cache/kagglehub/datasets/adrivg/ravdess-emotional-speech-video/versions/1/RAVDESS dataset/Video_Speech_Actor_08/Actor_08/01-01-05-02-02-02-08.mp4', '/root/.cache/kagglehub/datasets/adrivg/ravdess-emotional-speech-video/versions/1/RAVDESS dataset/Video_Speech_Actor_08/Actor_08/01-01-04-02-02-02-08.mp4', '/root/.cache/kagglehub/datasets/adrivg/ravdess-emotional-speech-video/versions/1/RAVDESS dataset/Video_Speech_Actor_08/Actor_08/01-01-01-01-01-01-08.mp4', '/root/.cache/kagglehub/datasets/adrivg/ravdess-emotional-speech-video/versions/1/RAVDESS dataset/Video_Speech_Actor_08/Actor_08/01-01-04-02-01-02-08.mp4', '/root/.cache/kagglehub/datasets/adrivg/ravdess-emotional-speech-video/versions/1/RAVDESS dataset/Video_Speech_Actor_08/Actor_08/01-01-04-01-01-02-08.mp4', '/root/.cache/kagglehub/datasets/adrivg/ravdess-emotional-speech-video/versions/1/RAVDESS dataset/Video_Speech_Actor_08/Actor_08/01-01-02-02-01-01-08.mp4', '/root/.cache/kagglehub/datasets/adrivg/ravdess-emotional-speech-video/versions/1/RAVDESS dataset/Video_Speech_Actor_08/Actor_08/01-01-06-01-02-01-08.mp4', '/root/.cache/kagglehub/datasets/adrivg/ravdess-emotional-speech-video/versions/1/RAVDESS dataset/Video_Speech_Actor_08/Actor_08/01-01-08-01-02-02-08.mp4', '/root/.cache/kagglehub/datasets/adrivg/ravdess-emotional-speech-video/versions/1/RAVDESS dataset/Video_Speech_Actor_08/Actor_08/01-01-05-01-02-01-08.mp4', '/root/.cache/kagglehub/datasets/adrivg/ravdess-emotional-speech-video/versions/1/RAVDESS dataset/Video_Speech_Actor_08/Actor_08/01-01-02-01-02-02-08.mp4', '/root/.cache/kagglehub/datasets/adrivg/ravdess-emotional-speech-video/versions/1/RAVDESS dataset/Video_Speech_Actor_08/Actor_08/01-01-03-02-02-02-08.mp4', '/root/.cache/kagglehub/datasets/adrivg/ravdess-emotional-speech-video/versions/1/RAVDESS dataset/Video_Speech_Actor_08/Actor_08/01-01-03-02-01-02-08.mp4', '/root/.cache/kagglehub/datasets/adrivg/ravdess-emotional-speech-video/versions/1/RAVDESS dataset/Video_Speech_Actor_08/Actor_08/01-01-07-01-02-02-08.mp4', '/root/.cache/kagglehub/datasets/adrivg/ravdess-emotional-speech-video/versions/1/RAVDESS dataset/Video_Speech_Actor_08/Actor_08/01-01-02-02-01-02-08.mp4', '/root/.cache/kagglehub/datasets/adrivg/ravdess-emotional-speech-video/versions/1/RAVDESS dataset/Video_Speech_Actor_08/Actor_08/01-01-04-01-02-01-08.mp4', '/root/.cache/kagglehub/datasets/adrivg/ravdess-emotional-speech-video/versions/1/RAVDESS dataset/Video_Speech_Actor_08/Actor_08/01-01-03-02-02-01-08.mp4', '/root/.cache/kagglehub/datasets/adrivg/ravdess-emotional-speech-video/versions/1/RAVDESS dataset/Video_Speech_Actor_08/Actor_08/01-01-06-01-01-02-08.mp4', '/root/.cache/kagglehub/datasets/adrivg/ravdess-emotional-speech-video/versions/1/RAVDESS dataset/Video_Speech_Actor_08/Actor_08/01-01-08-02-01-02-08.mp4', '/root/.cache/kagglehub/datasets/adrivg/ravdess-emotional-speech-video/versions/1/RAVDESS dataset/Video_Speech_Actor_08/Actor_08/01-01-07-02-01-02-08.mp4', '/root/.cache/kagglehub/datasets/adrivg/ravdess-emotional-speech-video/versions/1/RAVDESS dataset/Video_Speech_Actor_19/Actor_19/01-01-04-02-01-01-19.mp4', '/root/.cache/kagglehub/datasets/adrivg/ravdess-emotional-speech-video/versions/1/RAVDESS dataset/Video_Speech_Actor_19/Actor_19/01-01-07-01-01-01-19.mp4', '/root/.cache/kagglehub/datasets/adrivg/ravdess-emotional-speech-video/versions/1/RAVDESS dataset/Video_Speech_Actor_19/Actor_19/01-01-08-02-01-02-19.mp4', '/root/.cache/kagglehub/datasets/adrivg/ravdess-emotional-speech-video/versions/1/RAVDESS dataset/Video_Speech_Actor_19/Actor_19/01-01-02-01-01-01-19.mp4', '/root/.cache/kagglehub/datasets/adrivg/ravdess-emotional-speech-video/versions/1/RAVDESS dataset/Video_Speech_Actor_19/Actor_19/01-01-06-02-02-01-19.mp4', '/root/.cache/kagglehub/datasets/adrivg/ravdess-emotional-speech-video/versions/1/RAVDESS dataset/Video_Speech_Actor_19/Actor_19/01-01-01-01-02-01-19.mp4', '/root/.cache/kagglehub/datasets/adrivg/ravdess-emotional-speech-video/versions/1/RAVDESS dataset/Video_Speech_Actor_19/Actor_19/01-01-05-02-02-01-19.mp4', '/root/.cache/kagglehub/datasets/adrivg/ravdess-emotional-speech-video/versions/1/RAVDESS dataset/Video_Speech_Actor_19/Actor_19/01-01-08-02-02-02-19.mp4', '/root/.cache/kagglehub/datasets/adrivg/ravdess-emotional-speech-video/versions/1/RAVDESS dataset/Video_Speech_Actor_19/Actor_19/01-01-06-02-01-01-19.mp4', '/root/.cache/kagglehub/datasets/adrivg/ravdess-emotional-speech-video/versions/1/RAVDESS dataset/Video_Speech_Actor_19/Actor_19/01-01-05-02-01-01-19.mp4', '/root/.cache/kagglehub/datasets/adrivg/ravdess-emotional-speech-video/versions/1/RAVDESS dataset/Video_Speech_Actor_19/Actor_19/01-01-04-02-02-02-19.mp4', '/root/.cache/kagglehub/datasets/adrivg/ravdess-emotional-speech-video/versions/1/RAVDESS dataset/Video_Speech_Actor_19/Actor_19/01-01-03-02-02-01-19.mp4', '/root/.cache/kagglehub/datasets/adrivg/ravdess-emotional-speech-video/versions/1/RAVDESS dataset/Video_Speech_Actor_19/Actor_19/01-01-05-02-02-02-19.mp4', '/root/.cache/kagglehub/datasets/adrivg/ravdess-emotional-speech-video/versions/1/RAVDESS dataset/Video_Speech_Actor_19/Actor_19/01-01-04-01-02-02-19.mp4', '/root/.cache/kagglehub/datasets/adrivg/ravdess-emotional-speech-video/versions/1/RAVDESS dataset/Video_Speech_Actor_19/Actor_19/01-01-08-02-01-01-19.mp4', '/root/.cache/kagglehub/datasets/adrivg/ravdess-emotional-speech-video/versions/1/RAVDESS dataset/Video_Speech_Actor_19/Actor_19/01-01-03-02-02-02-19.mp4', '/root/.cache/kagglehub/datasets/adrivg/ravdess-emotional-speech-video/versions/1/RAVDESS dataset/Video_Speech_Actor_19/Actor_19/01-01-02-02-02-01-19.mp4', '/root/.cache/kagglehub/datasets/adrivg/ravdess-emotional-speech-video/versions/1/RAVDESS dataset/Video_Speech_Actor_19/Actor_19/01-01-05-01-02-01-19.mp4', '/root/.cache/kagglehub/datasets/adrivg/ravdess-emotional-speech-video/versions/1/RAVDESS dataset/Video_Speech_Actor_19/Actor_19/01-01-07-02-02-02-19.mp4', '/root/.cache/kagglehub/datasets/adrivg/ravdess-emotional-speech-video/versions/1/RAVDESS dataset/Video_Speech_Actor_19/Actor_19/01-01-06-02-01-02-19.mp4', '/root/.cache/kagglehub/datasets/adrivg/ravdess-emotional-speech-video/versions/1/RAVDESS dataset/Video_Speech_Actor_19/Actor_19/01-01-04-01-02-01-19.mp4', '/root/.cache/kagglehub/datasets/adrivg/ravdess-emotional-speech-video/versions/1/RAVDESS dataset/Video_Speech_Actor_19/Actor_19/01-01-05-01-01-02-19.mp4', '/root/.cache/kagglehub/datasets/adrivg/ravdess-emotional-speech-video/versions/1/RAVDESS dataset/Video_Speech_Actor_19/Actor_19/01-01-03-02-01-02-19.mp4', '/root/.cache/kagglehub/datasets/adrivg/ravdess-emotional-speech-video/versions/1/RAVDESS dataset/Video_Speech_Actor_19/Actor_19/01-01-04-01-01-02-19.mp4', '/root/.cache/kagglehub/datasets/adrivg/ravdess-emotional-speech-video/versions/1/RAVDESS dataset/Video_Speech_Actor_19/Actor_19/01-01-07-02-01-01-19.mp4', '/root/.cache/kagglehub/datasets/adrivg/ravdess-emotional-speech-video/versions/1/RAVDESS dataset/Video_Speech_Actor_19/Actor_19/01-01-07-02-02-01-19.mp4', '/root/.cache/kagglehub/datasets/adrivg/ravdess-emotional-speech-video/versions/1/RAVDESS dataset/Video_Speech_Actor_19/Actor_19/01-01-03-01-01-02-19.mp4', '/root/.cache/kagglehub/datasets/adrivg/ravdess-emotional-speech-video/versions/1/RAVDESS dataset/Video_Speech_Actor_19/Actor_19/01-01-02-01-01-02-19.mp4', '/root/.cache/kagglehub/datasets/adrivg/ravdess-emotional-speech-video/versions/1/RAVDESS dataset/Video_Speech_Actor_19/Actor_19/01-01-04-02-01-02-19.mp4', '/root/.cache/kagglehub/datasets/adrivg/ravdess-emotional-speech-video/versions/1/RAVDESS dataset/Video_Speech_Actor_19/Actor_19/01-01-04-02-02-01-19.mp4', '/root/.cache/kagglehub/datasets/adrivg/ravdess-emotional-speech-video/versions/1/RAVDESS dataset/Video_Speech_Actor_19/Actor_19/01-01-06-01-02-01-19.mp4', '/root/.cache/kagglehub/datasets/adrivg/ravdess-emotional-speech-video/versions/1/RAVDESS dataset/Video_Speech_Actor_19/Actor_19/01-01-02-02-02-02-19.mp4', '/root/.cache/kagglehub/datasets/adrivg/ravdess-emotional-speech-video/versions/1/RAVDESS dataset/Video_Speech_Actor_19/Actor_19/01-01-07-01-02-02-19.mp4', '/root/.cache/kagglehub/datasets/adrivg/ravdess-emotional-speech-video/versions/1/RAVDESS dataset/Video_Speech_Actor_19/Actor_19/01-01-02-01-02-02-19.mp4', '/root/.cache/kagglehub/datasets/adrivg/ravdess-emotional-speech-video/versions/1/RAVDESS dataset/Video_Speech_Actor_19/Actor_19/01-01-07-01-01-02-19.mp4', '/root/.cache/kagglehub/datasets/adrivg/ravdess-emotional-speech-video/versions/1/RAVDESS dataset/Video_Speech_Actor_19/Actor_19/01-01-03-02-01-01-19.mp4', '/root/.cache/kagglehub/datasets/adrivg/ravdess-emotional-speech-video/versions/1/RAVDESS dataset/Video_Speech_Actor_19/Actor_19/01-01-08-01-01-02-19.mp4', '/root/.cache/kagglehub/datasets/adrivg/ravdess-emotional-speech-video/versions/1/RAVDESS dataset/Video_Speech_Actor_19/Actor_19/01-01-05-01-02-02-19.mp4', '/root/.cache/kagglehub/datasets/adrivg/ravdess-emotional-speech-video/versions/1/RAVDESS dataset/Video_Speech_Actor_19/Actor_19/01-01-01-01-01-02-19.mp4', '/root/.cache/kagglehub/datasets/adrivg/ravdess-emotional-speech-video/versions/1/RAVDESS dataset/Video_Speech_Actor_19/Actor_19/01-01-03-01-02-01-19.mp4', '/root/.cache/kagglehub/datasets/adrivg/ravdess-emotional-speech-video/versions/1/RAVDESS dataset/Video_Speech_Actor_19/Actor_19/01-01-01-01-02-02-19.mp4', '/root/.cache/kagglehub/datasets/adrivg/ravdess-emotional-speech-video/versions/1/RAVDESS dataset/Video_Speech_Actor_19/Actor_19/01-01-08-01-02-02-19.mp4', '/root/.cache/kagglehub/datasets/adrivg/ravdess-emotional-speech-video/versions/1/RAVDESS dataset/Video_Speech_Actor_19/Actor_19/01-01-06-01-01-02-19.mp4', '/root/.cache/kagglehub/datasets/adrivg/ravdess-emotional-speech-video/versions/1/RAVDESS dataset/Video_Speech_Actor_19/Actor_19/01-01-04-01-01-01-19.mp4', '/root/.cache/kagglehub/datasets/adrivg/ravdess-emotional-speech-video/versions/1/RAVDESS dataset/Video_Speech_Actor_19/Actor_19/01-01-06-01-02-02-19.mp4', '/root/.cache/kagglehub/datasets/adrivg/ravdess-emotional-speech-video/versions/1/RAVDESS dataset/Video_Speech_Actor_19/Actor_19/01-01-07-01-02-01-19.mp4', '/root/.cache/kagglehub/datasets/adrivg/ravdess-emotional-speech-video/versions/1/RAVDESS dataset/Video_Speech_Actor_19/Actor_19/01-01-02-02-01-01-19.mp4', '/root/.cache/kagglehub/datasets/adrivg/ravdess-emotional-speech-video/versions/1/RAVDESS dataset/Video_Speech_Actor_19/Actor_19/01-01-02-01-02-01-19.mp4', '/root/.cache/kagglehub/datasets/adrivg/ravdess-emotional-speech-video/versions/1/RAVDESS dataset/Video_Speech_Actor_19/Actor_19/01-01-05-01-01-01-19.mp4', '/root/.cache/kagglehub/datasets/adrivg/ravdess-emotional-speech-video/versions/1/RAVDESS dataset/Video_Speech_Actor_19/Actor_19/01-01-08-01-02-01-19.mp4', '/root/.cache/kagglehub/datasets/adrivg/ravdess-emotional-speech-video/versions/1/RAVDESS dataset/Video_Speech_Actor_19/Actor_19/01-01-05-02-01-02-19.mp4', '/root/.cache/kagglehub/datasets/adrivg/ravdess-emotional-speech-video/versions/1/RAVDESS dataset/Video_Speech_Actor_19/Actor_19/01-01-08-01-01-01-19.mp4', '/root/.cache/kagglehub/datasets/adrivg/ravdess-emotional-speech-video/versions/1/RAVDESS dataset/Video_Speech_Actor_19/Actor_19/01-01-07-02-01-02-19.mp4', '/root/.cache/kagglehub/datasets/adrivg/ravdess-emotional-speech-video/versions/1/RAVDESS dataset/Video_Speech_Actor_19/Actor_19/01-01-06-02-02-02-19.mp4', '/root/.cache/kagglehub/datasets/adrivg/ravdess-emotional-speech-video/versions/1/RAVDESS dataset/Video_Speech_Actor_19/Actor_19/01-01-06-01-01-01-19.mp4', '/root/.cache/kagglehub/datasets/adrivg/ravdess-emotional-speech-video/versions/1/RAVDESS dataset/Video_Speech_Actor_19/Actor_19/01-01-01-01-01-01-19.mp4', '/root/.cache/kagglehub/datasets/adrivg/ravdess-emotional-speech-video/versions/1/RAVDESS dataset/Video_Speech_Actor_19/Actor_19/01-01-02-02-01-02-19.mp4', '/root/.cache/kagglehub/datasets/adrivg/ravdess-emotional-speech-video/versions/1/RAVDESS dataset/Video_Speech_Actor_19/Actor_19/01-01-08-02-02-01-19.mp4', '/root/.cache/kagglehub/datasets/adrivg/ravdess-emotional-speech-video/versions/1/RAVDESS dataset/Video_Speech_Actor_19/Actor_19/01-01-03-01-02-02-19.mp4', '/root/.cache/kagglehub/datasets/adrivg/ravdess-emotional-speech-video/versions/1/RAVDESS dataset/Video_Speech_Actor_19/Actor_19/01-01-03-01-01-01-19.mp4', '/root/.cache/kagglehub/datasets/adrivg/ravdess-emotional-speech-video/versions/1/RAVDESS dataset/Video_Speech_Actor_24/Actor_24/01-01-01-01-01-01-24.mp4', '/root/.cache/kagglehub/datasets/adrivg/ravdess-emotional-speech-video/versions/1/RAVDESS dataset/Video_Speech_Actor_24/Actor_24/01-01-03-01-01-02-24.mp4', '/root/.cache/kagglehub/datasets/adrivg/ravdess-emotional-speech-video/versions/1/RAVDESS dataset/Video_Speech_Actor_24/Actor_24/01-01-08-02-01-01-24.mp4', '/root/.cache/kagglehub/datasets/adrivg/ravdess-emotional-speech-video/versions/1/RAVDESS dataset/Video_Speech_Actor_24/Actor_24/01-01-05-02-01-01-24.mp4', '/root/.cache/kagglehub/datasets/adrivg/ravdess-emotional-speech-video/versions/1/RAVDESS dataset/Video_Speech_Actor_24/Actor_24/01-01-01-01-02-02-24.mp4', '/root/.cache/kagglehub/datasets/adrivg/ravdess-emotional-speech-video/versions/1/RAVDESS dataset/Video_Speech_Actor_24/Actor_24/01-01-07-02-01-02-24.mp4', '/root/.cache/kagglehub/datasets/adrivg/ravdess-emotional-speech-video/versions/1/RAVDESS dataset/Video_Speech_Actor_24/Actor_24/01-01-02-02-01-01-24.mp4', '/root/.cache/kagglehub/datasets/adrivg/ravdess-emotional-speech-video/versions/1/RAVDESS dataset/Video_Speech_Actor_24/Actor_24/01-01-06-02-02-01-24.mp4', '/root/.cache/kagglehub/datasets/adrivg/ravdess-emotional-speech-video/versions/1/RAVDESS dataset/Video_Speech_Actor_24/Actor_24/01-01-01-01-01-02-24.mp4', '/root/.cache/kagglehub/datasets/adrivg/ravdess-emotional-speech-video/versions/1/RAVDESS dataset/Video_Speech_Actor_24/Actor_24/01-01-02-02-01-02-24.mp4', '/root/.cache/kagglehub/datasets/adrivg/ravdess-emotional-speech-video/versions/1/RAVDESS dataset/Video_Speech_Actor_24/Actor_24/01-01-03-02-01-02-24.mp4', '/root/.cache/kagglehub/datasets/adrivg/ravdess-emotional-speech-video/versions/1/RAVDESS dataset/Video_Speech_Actor_24/Actor_24/01-01-04-01-01-01-24.mp4', '/root/.cache/kagglehub/datasets/adrivg/ravdess-emotional-speech-video/versions/1/RAVDESS dataset/Video_Speech_Actor_24/Actor_24/01-01-08-01-01-01-24.mp4', '/root/.cache/kagglehub/datasets/adrivg/ravdess-emotional-speech-video/versions/1/RAVDESS dataset/Video_Speech_Actor_24/Actor_24/01-01-07-02-02-02-24.mp4', '/root/.cache/kagglehub/datasets/adrivg/ravdess-emotional-speech-video/versions/1/RAVDESS dataset/Video_Speech_Actor_24/Actor_24/01-01-03-01-01-01-24.mp4', '/root/.cache/kagglehub/datasets/adrivg/ravdess-emotional-speech-video/versions/1/RAVDESS dataset/Video_Speech_Actor_24/Actor_24/01-01-07-02-02-01-24.mp4', '/root/.cache/kagglehub/datasets/adrivg/ravdess-emotional-speech-video/versions/1/RAVDESS dataset/Video_Speech_Actor_24/Actor_24/01-01-08-02-02-01-24.mp4', '/root/.cache/kagglehub/datasets/adrivg/ravdess-emotional-speech-video/versions/1/RAVDESS dataset/Video_Speech_Actor_24/Actor_24/01-01-05-01-01-02-24.mp4', '/root/.cache/kagglehub/datasets/adrivg/ravdess-emotional-speech-video/versions/1/RAVDESS dataset/Video_Speech_Actor_24/Actor_24/01-01-03-02-01-01-24.mp4', '/root/.cache/kagglehub/datasets/adrivg/ravdess-emotional-speech-video/versions/1/RAVDESS dataset/Video_Speech_Actor_24/Actor_24/01-01-07-01-02-02-24.mp4', '/root/.cache/kagglehub/datasets/adrivg/ravdess-emotional-speech-video/versions/1/RAVDESS dataset/Video_Speech_Actor_24/Actor_24/01-01-03-01-02-02-24.mp4', '/root/.cache/kagglehub/datasets/adrivg/ravdess-emotional-speech-video/versions/1/RAVDESS dataset/Video_Speech_Actor_24/Actor_24/01-01-02-01-01-02-24.mp4', '/root/.cache/kagglehub/datasets/adrivg/ravdess-emotional-speech-video/versions/1/RAVDESS dataset/Video_Speech_Actor_24/Actor_24/01-01-04-01-01-02-24.mp4', '/root/.cache/kagglehub/datasets/adrivg/ravdess-emotional-speech-video/versions/1/RAVDESS dataset/Video_Speech_Actor_24/Actor_24/01-01-02-02-02-02-24.mp4', '/root/.cache/kagglehub/datasets/adrivg/ravdess-emotional-speech-video/versions/1/RAVDESS dataset/Video_Speech_Actor_24/Actor_24/01-01-06-01-01-02-24.mp4', '/root/.cache/kagglehub/datasets/adrivg/ravdess-emotional-speech-video/versions/1/RAVDESS dataset/Video_Speech_Actor_24/Actor_24/01-01-07-02-01-01-24.mp4', '/root/.cache/kagglehub/datasets/adrivg/ravdess-emotional-speech-video/versions/1/RAVDESS dataset/Video_Speech_Actor_24/Actor_24/01-01-03-02-02-01-24.mp4', '/root/.cache/kagglehub/datasets/adrivg/ravdess-emotional-speech-video/versions/1/RAVDESS dataset/Video_Speech_Actor_24/Actor_24/01-01-05-02-02-01-24.mp4', '/root/.cache/kagglehub/datasets/adrivg/ravdess-emotional-speech-video/versions/1/RAVDESS dataset/Video_Speech_Actor_24/Actor_24/01-01-04-02-02-01-24.mp4', '/root/.cache/kagglehub/datasets/adrivg/ravdess-emotional-speech-video/versions/1/RAVDESS dataset/Video_Speech_Actor_24/Actor_24/01-01-04-02-01-02-24.mp4', '/root/.cache/kagglehub/datasets/adrivg/ravdess-emotional-speech-video/versions/1/RAVDESS dataset/Video_Speech_Actor_24/Actor_24/01-01-05-01-02-02-24.mp4', '/root/.cache/kagglehub/datasets/adrivg/ravdess-emotional-speech-video/versions/1/RAVDESS dataset/Video_Speech_Actor_24/Actor_24/01-01-06-01-02-01-24.mp4', '/root/.cache/kagglehub/datasets/adrivg/ravdess-emotional-speech-video/versions/1/RAVDESS dataset/Video_Speech_Actor_24/Actor_24/01-01-08-01-02-01-24.mp4', '/root/.cache/kagglehub/datasets/adrivg/ravdess-emotional-speech-video/versions/1/RAVDESS dataset/Video_Speech_Actor_24/Actor_24/01-01-08-01-01-02-24.mp4', '/root/.cache/kagglehub/datasets/adrivg/ravdess-emotional-speech-video/versions/1/RAVDESS dataset/Video_Speech_Actor_24/Actor_24/01-01-07-01-02-01-24.mp4', '/root/.cache/kagglehub/datasets/adrivg/ravdess-emotional-speech-video/versions/1/RAVDESS dataset/Video_Speech_Actor_24/Actor_24/01-01-06-02-02-02-24.mp4', '/root/.cache/kagglehub/datasets/adrivg/ravdess-emotional-speech-video/versions/1/RAVDESS dataset/Video_Speech_Actor_24/Actor_24/01-01-07-01-01-02-24.mp4', '/root/.cache/kagglehub/datasets/adrivg/ravdess-emotional-speech-video/versions/1/RAVDESS dataset/Video_Speech_Actor_24/Actor_24/01-01-06-02-01-01-24.mp4', '/root/.cache/kagglehub/datasets/adrivg/ravdess-emotional-speech-video/versions/1/RAVDESS dataset/Video_Speech_Actor_24/Actor_24/01-01-07-01-01-01-24.mp4', '/root/.cache/kagglehub/datasets/adrivg/ravdess-emotional-speech-video/versions/1/RAVDESS dataset/Video_Speech_Actor_24/Actor_24/01-01-01-01-02-01-24.mp4', '/root/.cache/kagglehub/datasets/adrivg/ravdess-emotional-speech-video/versions/1/RAVDESS dataset/Video_Speech_Actor_24/Actor_24/01-01-06-02-01-02-24.mp4', '/root/.cache/kagglehub/datasets/adrivg/ravdess-emotional-speech-video/versions/1/RAVDESS dataset/Video_Speech_Actor_24/Actor_24/01-01-03-02-02-02-24.mp4', '/root/.cache/kagglehub/datasets/adrivg/ravdess-emotional-speech-video/versions/1/RAVDESS dataset/Video_Speech_Actor_24/Actor_24/01-01-05-01-01-01-24.mp4', '/root/.cache/kagglehub/datasets/adrivg/ravdess-emotional-speech-video/versions/1/RAVDESS dataset/Video_Speech_Actor_24/Actor_24/01-01-02-01-01-01-24.mp4', '/root/.cache/kagglehub/datasets/adrivg/ravdess-emotional-speech-video/versions/1/RAVDESS dataset/Video_Speech_Actor_24/Actor_24/01-01-05-01-02-01-24.mp4', '/root/.cache/kagglehub/datasets/adrivg/ravdess-emotional-speech-video/versions/1/RAVDESS dataset/Video_Speech_Actor_24/Actor_24/01-01-06-01-01-01-24.mp4', '/root/.cache/kagglehub/datasets/adrivg/ravdess-emotional-speech-video/versions/1/RAVDESS dataset/Video_Speech_Actor_24/Actor_24/01-01-05-02-01-02-24.mp4', '/root/.cache/kagglehub/datasets/adrivg/ravdess-emotional-speech-video/versions/1/RAVDESS dataset/Video_Speech_Actor_24/Actor_24/01-01-06-01-02-02-24.mp4', '/root/.cache/kagglehub/datasets/adrivg/ravdess-emotional-speech-video/versions/1/RAVDESS dataset/Video_Speech_Actor_24/Actor_24/01-01-02-02-02-01-24.mp4', '/root/.cache/kagglehub/datasets/adrivg/ravdess-emotional-speech-video/versions/1/RAVDESS dataset/Video_Speech_Actor_24/Actor_24/01-01-05-02-02-02-24.mp4', '/root/.cache/kagglehub/datasets/adrivg/ravdess-emotional-speech-video/versions/1/RAVDESS dataset/Video_Speech_Actor_24/Actor_24/01-01-02-01-02-02-24.mp4', '/root/.cache/kagglehub/datasets/adrivg/ravdess-emotional-speech-video/versions/1/RAVDESS dataset/Video_Speech_Actor_24/Actor_24/01-01-03-01-02-01-24.mp4', '/root/.cache/kagglehub/datasets/adrivg/ravdess-emotional-speech-video/versions/1/RAVDESS dataset/Video_Speech_Actor_24/Actor_24/01-01-08-02-02-02-24.mp4', '/root/.cache/kagglehub/datasets/adrivg/ravdess-emotional-speech-video/versions/1/RAVDESS dataset/Video_Speech_Actor_24/Actor_24/01-01-08-02-01-02-24.mp4', '/root/.cache/kagglehub/datasets/adrivg/ravdess-emotional-speech-video/versions/1/RAVDESS dataset/Video_Speech_Actor_24/Actor_24/01-01-02-01-02-01-24.mp4', '/root/.cache/kagglehub/datasets/adrivg/ravdess-emotional-speech-video/versions/1/RAVDESS dataset/Video_Speech_Actor_24/Actor_24/01-01-04-01-02-01-24.mp4', '/root/.cache/kagglehub/datasets/adrivg/ravdess-emotional-speech-video/versions/1/RAVDESS dataset/Video_Speech_Actor_24/Actor_24/01-01-04-02-02-02-24.mp4', '/root/.cache/kagglehub/datasets/adrivg/ravdess-emotional-speech-video/versions/1/RAVDESS dataset/Video_Speech_Actor_24/Actor_24/01-01-04-01-02-02-24.mp4', '/root/.cache/kagglehub/datasets/adrivg/ravdess-emotional-speech-video/versions/1/RAVDESS dataset/Video_Speech_Actor_24/Actor_24/01-01-04-02-01-01-24.mp4', '/root/.cache/kagglehub/datasets/adrivg/ravdess-emotional-speech-video/versions/1/RAVDESS dataset/Video_Speech_Actor_24/Actor_24/01-01-08-01-02-02-24.mp4', '/root/.cache/kagglehub/datasets/adrivg/ravdess-emotional-speech-video/versions/1/RAVDESS dataset/Video_Speech_Actor_12/Actor_12/01-01-08-02-02-01-12.mp4', '/root/.cache/kagglehub/datasets/adrivg/ravdess-emotional-speech-video/versions/1/RAVDESS dataset/Video_Speech_Actor_12/Actor_12/01-01-08-01-01-01-12.mp4', '/root/.cache/kagglehub/datasets/adrivg/ravdess-emotional-speech-video/versions/1/RAVDESS dataset/Video_Speech_Actor_12/Actor_12/01-01-07-01-01-01-12.mp4', '/root/.cache/kagglehub/datasets/adrivg/ravdess-emotional-speech-video/versions/1/RAVDESS dataset/Video_Speech_Actor_12/Actor_12/01-01-03-02-02-01-12.mp4', '/root/.cache/kagglehub/datasets/adrivg/ravdess-emotional-speech-video/versions/1/RAVDESS dataset/Video_Speech_Actor_12/Actor_12/01-01-02-01-02-02-12.mp4', '/root/.cache/kagglehub/datasets/adrivg/ravdess-emotional-speech-video/versions/1/RAVDESS dataset/Video_Speech_Actor_12/Actor_12/01-01-03-02-02-02-12.mp4', '/root/.cache/kagglehub/datasets/adrivg/ravdess-emotional-speech-video/versions/1/RAVDESS dataset/Video_Speech_Actor_12/Actor_12/01-01-08-02-01-02-12.mp4', '/root/.cache/kagglehub/datasets/adrivg/ravdess-emotional-speech-video/versions/1/RAVDESS dataset/Video_Speech_Actor_12/Actor_12/01-01-05-02-01-02-12.mp4', '/root/.cache/kagglehub/datasets/adrivg/ravdess-emotional-speech-video/versions/1/RAVDESS dataset/Video_Speech_Actor_12/Actor_12/01-01-02-02-02-01-12.mp4', '/root/.cache/kagglehub/datasets/adrivg/ravdess-emotional-speech-video/versions/1/RAVDESS dataset/Video_Speech_Actor_12/Actor_12/01-01-05-01-02-02-12.mp4', '/root/.cache/kagglehub/datasets/adrivg/ravdess-emotional-speech-video/versions/1/RAVDESS dataset/Video_Speech_Actor_12/Actor_12/01-01-02-01-01-01-12.mp4', '/root/.cache/kagglehub/datasets/adrivg/ravdess-emotional-speech-video/versions/1/RAVDESS dataset/Video_Speech_Actor_12/Actor_12/01-01-06-01-01-02-12.mp4', '/root/.cache/kagglehub/datasets/adrivg/ravdess-emotional-speech-video/versions/1/RAVDESS dataset/Video_Speech_Actor_12/Actor_12/01-01-01-01-02-01-12.mp4', '/root/.cache/kagglehub/datasets/adrivg/ravdess-emotional-speech-video/versions/1/RAVDESS dataset/Video_Speech_Actor_12/Actor_12/01-01-05-01-02-01-12.mp4', '/root/.cache/kagglehub/datasets/adrivg/ravdess-emotional-speech-video/versions/1/RAVDESS dataset/Video_Speech_Actor_12/Actor_12/01-01-04-02-01-01-12.mp4', '/root/.cache/kagglehub/datasets/adrivg/ravdess-emotional-speech-video/versions/1/RAVDESS dataset/Video_Speech_Actor_12/Actor_12/01-01-07-02-01-01-12.mp4', '/root/.cache/kagglehub/datasets/adrivg/ravdess-emotional-speech-video/versions/1/RAVDESS dataset/Video_Speech_Actor_12/Actor_12/01-01-02-02-02-02-12.mp4', '/root/.cache/kagglehub/datasets/adrivg/ravdess-emotional-speech-video/versions/1/RAVDESS dataset/Video_Speech_Actor_12/Actor_12/01-01-06-02-02-01-12.mp4', '/root/.cache/kagglehub/datasets/adrivg/ravdess-emotional-speech-video/versions/1/RAVDESS dataset/Video_Speech_Actor_12/Actor_12/01-01-01-01-01-02-12.mp4', '/root/.cache/kagglehub/datasets/adrivg/ravdess-emotional-speech-video/versions/1/RAVDESS dataset/Video_Speech_Actor_12/Actor_12/01-01-06-02-01-01-12.mp4', '/root/.cache/kagglehub/datasets/adrivg/ravdess-emotional-speech-video/versions/1/RAVDESS dataset/Video_Speech_Actor_12/Actor_12/01-01-07-02-02-02-12.mp4', '/root/.cache/kagglehub/datasets/adrivg/ravdess-emotional-speech-video/versions/1/RAVDESS dataset/Video_Speech_Actor_12/Actor_12/01-01-01-01-01-01-12.mp4', '/root/.cache/kagglehub/datasets/adrivg/ravdess-emotional-speech-video/versions/1/RAVDESS dataset/Video_Speech_Actor_12/Actor_12/01-01-07-01-02-01-12.mp4', '/root/.cache/kagglehub/datasets/adrivg/ravdess-emotional-speech-video/versions/1/RAVDESS dataset/Video_Speech_Actor_12/Actor_12/01-01-02-01-01-02-12.mp4', '/root/.cache/kagglehub/datasets/adrivg/ravdess-emotional-speech-video/versions/1/RAVDESS dataset/Video_Speech_Actor_12/Actor_12/01-01-04-01-02-01-12.mp4', '/root/.cache/kagglehub/datasets/adrivg/ravdess-emotional-speech-video/versions/1/RAVDESS dataset/Video_Speech_Actor_12/Actor_12/01-01-03-01-02-02-12.mp4', '/root/.cache/kagglehub/datasets/adrivg/ravdess-emotional-speech-video/versions/1/RAVDESS dataset/Video_Speech_Actor_12/Actor_12/01-01-07-01-02-02-12.mp4', '/root/.cache/kagglehub/datasets/adrivg/ravdess-emotional-speech-video/versions/1/RAVDESS dataset/Video_Speech_Actor_12/Actor_12/01-01-07-01-01-02-12.mp4', '/root/.cache/kagglehub/datasets/adrivg/ravdess-emotional-speech-video/versions/1/RAVDESS dataset/Video_Speech_Actor_12/Actor_12/01-01-04-01-01-02-12.mp4', '/root/.cache/kagglehub/datasets/adrivg/ravdess-emotional-speech-video/versions/1/RAVDESS dataset/Video_Speech_Actor_12/Actor_12/01-01-04-02-02-01-12.mp4', '/root/.cache/kagglehub/datasets/adrivg/ravdess-emotional-speech-video/versions/1/RAVDESS dataset/Video_Speech_Actor_12/Actor_12/01-01-06-01-01-01-12.mp4', '/root/.cache/kagglehub/datasets/adrivg/ravdess-emotional-speech-video/versions/1/RAVDESS dataset/Video_Speech_Actor_12/Actor_12/01-01-07-02-02-01-12.mp4', '/root/.cache/kagglehub/datasets/adrivg/ravdess-emotional-speech-video/versions/1/RAVDESS dataset/Video_Speech_Actor_12/Actor_12/01-01-06-01-02-01-12.mp4', '/root/.cache/kagglehub/datasets/adrivg/ravdess-emotional-speech-video/versions/1/RAVDESS dataset/Video_Speech_Actor_12/Actor_12/01-01-08-01-02-02-12.mp4', '/root/.cache/kagglehub/datasets/adrivg/ravdess-emotional-speech-video/versions/1/RAVDESS dataset/Video_Speech_Actor_12/Actor_12/01-01-01-01-02-02-12.mp4', '/root/.cache/kagglehub/datasets/adrivg/ravdess-emotional-speech-video/versions/1/RAVDESS dataset/Video_Speech_Actor_12/Actor_12/01-01-04-02-01-02-12.mp4', '/root/.cache/kagglehub/datasets/adrivg/ravdess-emotional-speech-video/versions/1/RAVDESS dataset/Video_Speech_Actor_12/Actor_12/01-01-02-02-01-01-12.mp4', '/root/.cache/kagglehub/datasets/adrivg/ravdess-emotional-speech-video/versions/1/RAVDESS dataset/Video_Speech_Actor_12/Actor_12/01-01-06-02-01-02-12.mp4', '/root/.cache/kagglehub/datasets/adrivg/ravdess-emotional-speech-video/versions/1/RAVDESS dataset/Video_Speech_Actor_12/Actor_12/01-01-04-02-02-02-12.mp4', '/root/.cache/kagglehub/datasets/adrivg/ravdess-emotional-speech-video/versions/1/RAVDESS dataset/Video_Speech_Actor_12/Actor_12/01-01-03-01-02-01-12.mp4', '/root/.cache/kagglehub/datasets/adrivg/ravdess-emotional-speech-video/versions/1/RAVDESS dataset/Video_Speech_Actor_12/Actor_12/01-01-08-01-02-01-12.mp4', '/root/.cache/kagglehub/datasets/adrivg/ravdess-emotional-speech-video/versions/1/RAVDESS dataset/Video_Speech_Actor_12/Actor_12/01-01-05-02-02-01-12.mp4', '/root/.cache/kagglehub/datasets/adrivg/ravdess-emotional-speech-video/versions/1/RAVDESS dataset/Video_Speech_Actor_12/Actor_12/01-01-08-01-01-02-12.mp4', '/root/.cache/kagglehub/datasets/adrivg/ravdess-emotional-speech-video/versions/1/RAVDESS dataset/Video_Speech_Actor_12/Actor_12/01-01-05-02-01-01-12.mp4', '/root/.cache/kagglehub/datasets/adrivg/ravdess-emotional-speech-video/versions/1/RAVDESS dataset/Video_Speech_Actor_12/Actor_12/01-01-05-02-02-02-12.mp4', '/root/.cache/kagglehub/datasets/adrivg/ravdess-emotional-speech-video/versions/1/RAVDESS dataset/Video_Speech_Actor_12/Actor_12/01-01-04-01-01-01-12.mp4', '/root/.cache/kagglehub/datasets/adrivg/ravdess-emotional-speech-video/versions/1/RAVDESS dataset/Video_Speech_Actor_12/Actor_12/01-01-05-01-01-01-12.mp4', '/root/.cache/kagglehub/datasets/adrivg/ravdess-emotional-speech-video/versions/1/RAVDESS dataset/Video_Speech_Actor_12/Actor_12/01-01-08-02-01-01-12.mp4', '/root/.cache/kagglehub/datasets/adrivg/ravdess-emotional-speech-video/versions/1/RAVDESS dataset/Video_Speech_Actor_12/Actor_12/01-01-06-01-02-02-12.mp4', '/root/.cache/kagglehub/datasets/adrivg/ravdess-emotional-speech-video/versions/1/RAVDESS dataset/Video_Speech_Actor_12/Actor_12/01-01-05-01-01-02-12.mp4', '/root/.cache/kagglehub/datasets/adrivg/ravdess-emotional-speech-video/versions/1/RAVDESS dataset/Video_Speech_Actor_12/Actor_12/01-01-03-02-01-02-12.mp4', '/root/.cache/kagglehub/datasets/adrivg/ravdess-emotional-speech-video/versions/1/RAVDESS dataset/Video_Speech_Actor_12/Actor_12/01-01-06-02-02-02-12.mp4', '/root/.cache/kagglehub/datasets/adrivg/ravdess-emotional-speech-video/versions/1/RAVDESS dataset/Video_Speech_Actor_12/Actor_12/01-01-03-02-01-01-12.mp4', '/root/.cache/kagglehub/datasets/adrivg/ravdess-emotional-speech-video/versions/1/RAVDESS dataset/Video_Speech_Actor_12/Actor_12/01-01-07-02-01-02-12.mp4', '/root/.cache/kagglehub/datasets/adrivg/ravdess-emotional-speech-video/versions/1/RAVDESS dataset/Video_Speech_Actor_12/Actor_12/01-01-02-01-02-01-12.mp4', '/root/.cache/kagglehub/datasets/adrivg/ravdess-emotional-speech-video/versions/1/RAVDESS dataset/Video_Speech_Actor_12/Actor_12/01-01-08-02-02-02-12.mp4', '/root/.cache/kagglehub/datasets/adrivg/ravdess-emotional-speech-video/versions/1/RAVDESS dataset/Video_Speech_Actor_12/Actor_12/01-01-02-02-01-02-12.mp4', '/root/.cache/kagglehub/datasets/adrivg/ravdess-emotional-speech-video/versions/1/RAVDESS dataset/Video_Speech_Actor_12/Actor_12/01-01-04-01-02-02-12.mp4', '/root/.cache/kagglehub/datasets/adrivg/ravdess-emotional-speech-video/versions/1/RAVDESS dataset/Video_Speech_Actor_12/Actor_12/01-01-03-01-01-01-12.mp4', '/root/.cache/kagglehub/datasets/adrivg/ravdess-emotional-speech-video/versions/1/RAVDESS dataset/Video_Speech_Actor_12/Actor_12/01-01-03-01-01-02-12.mp4', '/root/.cache/kagglehub/datasets/adrivg/ravdess-emotional-speech-video/versions/1/RAVDESS dataset/Video_Speech_Actor_16/Actor_16/01-01-08-01-02-01-16.mp4', '/root/.cache/kagglehub/datasets/adrivg/ravdess-emotional-speech-video/versions/1/RAVDESS dataset/Video_Speech_Actor_16/Actor_16/01-01-02-02-01-01-16.mp4', '/root/.cache/kagglehub/datasets/adrivg/ravdess-emotional-speech-video/versions/1/RAVDESS dataset/Video_Speech_Actor_16/Actor_16/01-01-07-02-02-01-16.mp4', '/root/.cache/kagglehub/datasets/adrivg/ravdess-emotional-speech-video/versions/1/RAVDESS dataset/Video_Speech_Actor_16/Actor_16/01-01-04-02-01-02-16.mp4', '/root/.cache/kagglehub/datasets/adrivg/ravdess-emotional-speech-video/versions/1/RAVDESS dataset/Video_Speech_Actor_16/Actor_16/01-01-05-01-02-01-16.mp4', '/root/.cache/kagglehub/datasets/adrivg/ravdess-emotional-speech-video/versions/1/RAVDESS dataset/Video_Speech_Actor_16/Actor_16/01-01-07-01-02-02-16.mp4', '/root/.cache/kagglehub/datasets/adrivg/ravdess-emotional-speech-video/versions/1/RAVDESS dataset/Video_Speech_Actor_16/Actor_16/01-01-07-02-01-01-16.mp4', '/root/.cache/kagglehub/datasets/adrivg/ravdess-emotional-speech-video/versions/1/RAVDESS dataset/Video_Speech_Actor_16/Actor_16/01-01-06-01-01-01-16.mp4', '/root/.cache/kagglehub/datasets/adrivg/ravdess-emotional-speech-video/versions/1/RAVDESS dataset/Video_Speech_Actor_16/Actor_16/01-01-06-02-01-01-16.mp4', '/root/.cache/kagglehub/datasets/adrivg/ravdess-emotional-speech-video/versions/1/RAVDESS dataset/Video_Speech_Actor_16/Actor_16/01-01-01-01-01-01-16.mp4', '/root/.cache/kagglehub/datasets/adrivg/ravdess-emotional-speech-video/versions/1/RAVDESS dataset/Video_Speech_Actor_16/Actor_16/01-01-08-02-02-01-16.mp4', '/root/.cache/kagglehub/datasets/adrivg/ravdess-emotional-speech-video/versions/1/RAVDESS dataset/Video_Speech_Actor_16/Actor_16/01-01-04-02-02-02-16.mp4', '/root/.cache/kagglehub/datasets/adrivg/ravdess-emotional-speech-video/versions/1/RAVDESS dataset/Video_Speech_Actor_16/Actor_16/01-01-02-01-02-02-16.mp4', '/root/.cache/kagglehub/datasets/adrivg/ravdess-emotional-speech-video/versions/1/RAVDESS dataset/Video_Speech_Actor_16/Actor_16/01-01-01-01-01-02-16.mp4', '/root/.cache/kagglehub/datasets/adrivg/ravdess-emotional-speech-video/versions/1/RAVDESS dataset/Video_Speech_Actor_16/Actor_16/01-01-02-02-02-01-16.mp4', '/root/.cache/kagglehub/datasets/adrivg/ravdess-emotional-speech-video/versions/1/RAVDESS dataset/Video_Speech_Actor_16/Actor_16/01-01-08-02-02-02-16.mp4', '/root/.cache/kagglehub/datasets/adrivg/ravdess-emotional-speech-video/versions/1/RAVDESS dataset/Video_Speech_Actor_16/Actor_16/01-01-06-02-02-01-16.mp4', '/root/.cache/kagglehub/datasets/adrivg/ravdess-emotional-speech-video/versions/1/RAVDESS dataset/Video_Speech_Actor_16/Actor_16/01-01-07-02-01-02-16.mp4', '/root/.cache/kagglehub/datasets/adrivg/ravdess-emotional-speech-video/versions/1/RAVDESS dataset/Video_Speech_Actor_16/Actor_16/01-01-05-02-02-01-16.mp4', '/root/.cache/kagglehub/datasets/adrivg/ravdess-emotional-speech-video/versions/1/RAVDESS dataset/Video_Speech_Actor_16/Actor_16/01-01-08-01-01-02-16.mp4', '/root/.cache/kagglehub/datasets/adrivg/ravdess-emotional-speech-video/versions/1/RAVDESS dataset/Video_Speech_Actor_16/Actor_16/01-01-05-02-01-01-16.mp4', '/root/.cache/kagglehub/datasets/adrivg/ravdess-emotional-speech-video/versions/1/RAVDESS dataset/Video_Speech_Actor_16/Actor_16/01-01-03-01-02-02-16.mp4', '/root/.cache/kagglehub/datasets/adrivg/ravdess-emotional-speech-video/versions/1/RAVDESS dataset/Video_Speech_Actor_16/Actor_16/01-01-02-02-01-02-16.mp4', '/root/.cache/kagglehub/datasets/adrivg/ravdess-emotional-speech-video/versions/1/RAVDESS dataset/Video_Speech_Actor_16/Actor_16/01-01-01-01-02-02-16.mp4', '/root/.cache/kagglehub/datasets/adrivg/ravdess-emotional-speech-video/versions/1/RAVDESS dataset/Video_Speech_Actor_16/Actor_16/01-01-06-01-01-02-16.mp4', '/root/.cache/kagglehub/datasets/adrivg/ravdess-emotional-speech-video/versions/1/RAVDESS dataset/Video_Speech_Actor_16/Actor_16/01-01-03-02-02-01-16.mp4', '/root/.cache/kagglehub/datasets/adrivg/ravdess-emotional-speech-video/versions/1/RAVDESS dataset/Video_Speech_Actor_16/Actor_16/01-01-08-01-02-02-16.mp4', '/root/.cache/kagglehub/datasets/adrivg/ravdess-emotional-speech-video/versions/1/RAVDESS dataset/Video_Speech_Actor_16/Actor_16/01-01-04-01-02-01-16.mp4', '/root/.cache/kagglehub/datasets/adrivg/ravdess-emotional-speech-video/versions/1/RAVDESS dataset/Video_Speech_Actor_16/Actor_16/01-01-05-01-01-02-16.mp4', '/root/.cache/kagglehub/datasets/adrivg/ravdess-emotional-speech-video/versions/1/RAVDESS dataset/Video_Speech_Actor_16/Actor_16/01-01-03-02-01-02-16.mp4', '/root/.cache/kagglehub/datasets/adrivg/ravdess-emotional-speech-video/versions/1/RAVDESS dataset/Video_Speech_Actor_16/Actor_16/01-01-02-01-02-01-16.mp4', '/root/.cache/kagglehub/datasets/adrivg/ravdess-emotional-speech-video/versions/1/RAVDESS dataset/Video_Speech_Actor_16/Actor_16/01-01-07-01-01-01-16.mp4', '/root/.cache/kagglehub/datasets/adrivg/ravdess-emotional-speech-video/versions/1/RAVDESS dataset/Video_Speech_Actor_16/Actor_16/01-01-03-01-01-02-16.mp4', '/root/.cache/kagglehub/datasets/adrivg/ravdess-emotional-speech-video/versions/1/RAVDESS dataset/Video_Speech_Actor_16/Actor_16/01-01-06-02-02-02-16.mp4', '/root/.cache/kagglehub/datasets/adrivg/ravdess-emotional-speech-video/versions/1/RAVDESS dataset/Video_Speech_Actor_16/Actor_16/01-01-04-01-01-02-16.mp4', '/root/.cache/kagglehub/datasets/adrivg/ravdess-emotional-speech-video/versions/1/RAVDESS dataset/Video_Speech_Actor_16/Actor_16/01-01-03-01-02-01-16.mp4', '/root/.cache/kagglehub/datasets/adrivg/ravdess-emotional-speech-video/versions/1/RAVDESS dataset/Video_Speech_Actor_16/Actor_16/01-01-06-02-01-02-16.mp4', '/root/.cache/kagglehub/datasets/adrivg/ravdess-emotional-speech-video/versions/1/RAVDESS dataset/Video_Speech_Actor_16/Actor_16/01-01-02-02-02-02-16.mp4', '/root/.cache/kagglehub/datasets/adrivg/ravdess-emotional-speech-video/versions/1/RAVDESS dataset/Video_Speech_Actor_16/Actor_16/01-01-07-02-02-02-16.mp4', '/root/.cache/kagglehub/datasets/adrivg/ravdess-emotional-speech-video/versions/1/RAVDESS dataset/Video_Speech_Actor_16/Actor_16/01-01-08-02-01-01-16.mp4', '/root/.cache/kagglehub/datasets/adrivg/ravdess-emotional-speech-video/versions/1/RAVDESS dataset/Video_Speech_Actor_16/Actor_16/01-01-04-01-01-01-16.mp4', '/root/.cache/kagglehub/datasets/adrivg/ravdess-emotional-speech-video/versions/1/RAVDESS dataset/Video_Speech_Actor_16/Actor_16/01-01-06-01-02-02-16.mp4', '/root/.cache/kagglehub/datasets/adrivg/ravdess-emotional-speech-video/versions/1/RAVDESS dataset/Video_Speech_Actor_16/Actor_16/01-01-05-01-02-02-16.mp4', '/root/.cache/kagglehub/datasets/adrivg/ravdess-emotional-speech-video/versions/1/RAVDESS dataset/Video_Speech_Actor_16/Actor_16/01-01-08-01-01-01-16.mp4', '/root/.cache/kagglehub/datasets/adrivg/ravdess-emotional-speech-video/versions/1/RAVDESS dataset/Video_Speech_Actor_16/Actor_16/01-01-03-01-01-01-16.mp4', '/root/.cache/kagglehub/datasets/adrivg/ravdess-emotional-speech-video/versions/1/RAVDESS dataset/Video_Speech_Actor_16/Actor_16/01-01-08-02-01-02-16.mp4', '/root/.cache/kagglehub/datasets/adrivg/ravdess-emotional-speech-video/versions/1/RAVDESS dataset/Video_Speech_Actor_16/Actor_16/01-01-02-01-01-01-16.mp4', '/root/.cache/kagglehub/datasets/adrivg/ravdess-emotional-speech-video/versions/1/RAVDESS dataset/Video_Speech_Actor_16/Actor_16/01-01-03-02-02-02-16.mp4', '/root/.cache/kagglehub/datasets/adrivg/ravdess-emotional-speech-video/versions/1/RAVDESS dataset/Video_Speech_Actor_16/Actor_16/01-01-06-01-02-01-16.mp4', '/root/.cache/kagglehub/datasets/adrivg/ravdess-emotional-speech-video/versions/1/RAVDESS dataset/Video_Speech_Actor_16/Actor_16/01-01-01-01-02-01-16.mp4', '/root/.cache/kagglehub/datasets/adrivg/ravdess-emotional-speech-video/versions/1/RAVDESS dataset/Video_Speech_Actor_16/Actor_16/01-01-04-01-02-02-16.mp4', '/root/.cache/kagglehub/datasets/adrivg/ravdess-emotional-speech-video/versions/1/RAVDESS dataset/Video_Speech_Actor_16/Actor_16/01-01-07-01-01-02-16.mp4', '/root/.cache/kagglehub/datasets/adrivg/ravdess-emotional-speech-video/versions/1/RAVDESS dataset/Video_Speech_Actor_16/Actor_16/01-01-05-01-01-01-16.mp4', '/root/.cache/kagglehub/datasets/adrivg/ravdess-emotional-speech-video/versions/1/RAVDESS dataset/Video_Speech_Actor_16/Actor_16/01-01-03-02-01-01-16.mp4', '/root/.cache/kagglehub/datasets/adrivg/ravdess-emotional-speech-video/versions/1/RAVDESS dataset/Video_Speech_Actor_16/Actor_16/01-01-04-02-02-01-16.mp4', '/root/.cache/kagglehub/datasets/adrivg/ravdess-emotional-speech-video/versions/1/RAVDESS dataset/Video_Speech_Actor_16/Actor_16/01-01-07-01-02-01-16.mp4', '/root/.cache/kagglehub/datasets/adrivg/ravdess-emotional-speech-video/versions/1/RAVDESS dataset/Video_Speech_Actor_16/Actor_16/01-01-02-01-01-02-16.mp4', '/root/.cache/kagglehub/datasets/adrivg/ravdess-emotional-speech-video/versions/1/RAVDESS dataset/Video_Speech_Actor_16/Actor_16/01-01-05-02-02-02-16.mp4', '/root/.cache/kagglehub/datasets/adrivg/ravdess-emotional-speech-video/versions/1/RAVDESS dataset/Video_Speech_Actor_16/Actor_16/01-01-04-02-01-01-16.mp4', '/root/.cache/kagglehub/datasets/adrivg/ravdess-emotional-speech-video/versions/1/RAVDESS dataset/Video_Speech_Actor_16/Actor_16/01-01-05-02-01-02-16.mp4', '/root/.cache/kagglehub/datasets/adrivg/ravdess-emotional-speech-video/versions/1/RAVDESS dataset/Video_Speech_Actor_03/Actor_03/01-01-02-02-01-01-03.mp4', '/root/.cache/kagglehub/datasets/adrivg/ravdess-emotional-speech-video/versions/1/RAVDESS dataset/Video_Speech_Actor_03/Actor_03/01-01-03-02-01-01-03.mp4', '/root/.cache/kagglehub/datasets/adrivg/ravdess-emotional-speech-video/versions/1/RAVDESS dataset/Video_Speech_Actor_03/Actor_03/01-01-03-01-02-01-03.mp4', '/root/.cache/kagglehub/datasets/adrivg/ravdess-emotional-speech-video/versions/1/RAVDESS dataset/Video_Speech_Actor_03/Actor_03/01-01-03-01-01-02-03.mp4', '/root/.cache/kagglehub/datasets/adrivg/ravdess-emotional-speech-video/versions/1/RAVDESS dataset/Video_Speech_Actor_03/Actor_03/01-01-01-01-01-01-03.mp4', '/root/.cache/kagglehub/datasets/adrivg/ravdess-emotional-speech-video/versions/1/RAVDESS dataset/Video_Speech_Actor_03/Actor_03/01-01-06-01-01-01-03.mp4', '/root/.cache/kagglehub/datasets/adrivg/ravdess-emotional-speech-video/versions/1/RAVDESS dataset/Video_Speech_Actor_03/Actor_03/01-01-03-02-02-01-03.mp4', '/root/.cache/kagglehub/datasets/adrivg/ravdess-emotional-speech-video/versions/1/RAVDESS dataset/Video_Speech_Actor_03/Actor_03/01-01-02-01-02-02-03.mp4', '/root/.cache/kagglehub/datasets/adrivg/ravdess-emotional-speech-video/versions/1/RAVDESS dataset/Video_Speech_Actor_03/Actor_03/01-01-07-01-01-02-03.mp4', '/root/.cache/kagglehub/datasets/adrivg/ravdess-emotional-speech-video/versions/1/RAVDESS dataset/Video_Speech_Actor_03/Actor_03/01-01-04-01-01-02-03.mp4', '/root/.cache/kagglehub/datasets/adrivg/ravdess-emotional-speech-video/versions/1/RAVDESS dataset/Video_Speech_Actor_03/Actor_03/01-01-03-01-01-01-03.mp4', '/root/.cache/kagglehub/datasets/adrivg/ravdess-emotional-speech-video/versions/1/RAVDESS dataset/Video_Speech_Actor_03/Actor_03/01-01-05-02-02-02-03.mp4', '/root/.cache/kagglehub/datasets/adrivg/ravdess-emotional-speech-video/versions/1/RAVDESS dataset/Video_Speech_Actor_03/Actor_03/01-01-05-01-01-01-03.mp4', '/root/.cache/kagglehub/datasets/adrivg/ravdess-emotional-speech-video/versions/1/RAVDESS dataset/Video_Speech_Actor_03/Actor_03/01-01-02-01-02-01-03.mp4', '/root/.cache/kagglehub/datasets/adrivg/ravdess-emotional-speech-video/versions/1/RAVDESS dataset/Video_Speech_Actor_03/Actor_03/01-01-05-01-02-02-03.mp4', '/root/.cache/kagglehub/datasets/adrivg/ravdess-emotional-speech-video/versions/1/RAVDESS dataset/Video_Speech_Actor_03/Actor_03/01-01-03-02-02-02-03.mp4', '/root/.cache/kagglehub/datasets/adrivg/ravdess-emotional-speech-video/versions/1/RAVDESS dataset/Video_Speech_Actor_03/Actor_03/01-01-06-01-01-02-03.mp4', '/root/.cache/kagglehub/datasets/adrivg/ravdess-emotional-speech-video/versions/1/RAVDESS dataset/Video_Speech_Actor_03/Actor_03/01-01-02-01-01-02-03.mp4', '/root/.cache/kagglehub/datasets/adrivg/ravdess-emotional-speech-video/versions/1/RAVDESS dataset/Video_Speech_Actor_03/Actor_03/01-01-02-02-02-01-03.mp4', '/root/.cache/kagglehub/datasets/adrivg/ravdess-emotional-speech-video/versions/1/RAVDESS dataset/Video_Speech_Actor_03/Actor_03/01-01-04-01-01-01-03.mp4', '/root/.cache/kagglehub/datasets/adrivg/ravdess-emotional-speech-video/versions/1/RAVDESS dataset/Video_Speech_Actor_03/Actor_03/01-01-01-01-02-01-03.mp4', '/root/.cache/kagglehub/datasets/adrivg/ravdess-emotional-speech-video/versions/1/RAVDESS dataset/Video_Speech_Actor_03/Actor_03/01-01-04-02-02-02-03.mp4', '/root/.cache/kagglehub/datasets/adrivg/ravdess-emotional-speech-video/versions/1/RAVDESS dataset/Video_Speech_Actor_03/Actor_03/01-01-08-02-02-02-03.mp4', '/root/.cache/kagglehub/datasets/adrivg/ravdess-emotional-speech-video/versions/1/RAVDESS dataset/Video_Speech_Actor_03/Actor_03/01-01-06-01-02-02-03.mp4', '/root/.cache/kagglehub/datasets/adrivg/ravdess-emotional-speech-video/versions/1/RAVDESS dataset/Video_Speech_Actor_03/Actor_03/01-01-04-02-02-01-03.mp4', '/root/.cache/kagglehub/datasets/adrivg/ravdess-emotional-speech-video/versions/1/RAVDESS dataset/Video_Speech_Actor_03/Actor_03/01-01-04-02-01-01-03.mp4', '/root/.cache/kagglehub/datasets/adrivg/ravdess-emotional-speech-video/versions/1/RAVDESS dataset/Video_Speech_Actor_03/Actor_03/01-01-07-01-01-01-03.mp4', '/root/.cache/kagglehub/datasets/adrivg/ravdess-emotional-speech-video/versions/1/RAVDESS dataset/Video_Speech_Actor_03/Actor_03/01-01-07-02-01-01-03.mp4', '/root/.cache/kagglehub/datasets/adrivg/ravdess-emotional-speech-video/versions/1/RAVDESS dataset/Video_Speech_Actor_03/Actor_03/01-01-07-01-02-02-03.mp4', '/root/.cache/kagglehub/datasets/adrivg/ravdess-emotional-speech-video/versions/1/RAVDESS dataset/Video_Speech_Actor_03/Actor_03/01-01-01-01-01-02-03.mp4', '/root/.cache/kagglehub/datasets/adrivg/ravdess-emotional-speech-video/versions/1/RAVDESS dataset/Video_Speech_Actor_03/Actor_03/01-01-07-02-01-02-03.mp4', '/root/.cache/kagglehub/datasets/adrivg/ravdess-emotional-speech-video/versions/1/RAVDESS dataset/Video_Speech_Actor_03/Actor_03/01-01-05-01-01-02-03.mp4', '/root/.cache/kagglehub/datasets/adrivg/ravdess-emotional-speech-video/versions/1/RAVDESS dataset/Video_Speech_Actor_03/Actor_03/01-01-04-02-01-02-03.mp4', '/root/.cache/kagglehub/datasets/adrivg/ravdess-emotional-speech-video/versions/1/RAVDESS dataset/Video_Speech_Actor_03/Actor_03/01-01-08-02-01-01-03.mp4', '/root/.cache/kagglehub/datasets/adrivg/ravdess-emotional-speech-video/versions/1/RAVDESS dataset/Video_Speech_Actor_03/Actor_03/01-01-05-02-02-01-03.mp4', '/root/.cache/kagglehub/datasets/adrivg/ravdess-emotional-speech-video/versions/1/RAVDESS dataset/Video_Speech_Actor_03/Actor_03/01-01-04-01-02-01-03.mp4', '/root/.cache/kagglehub/datasets/adrivg/ravdess-emotional-speech-video/versions/1/RAVDESS dataset/Video_Speech_Actor_03/Actor_03/01-01-06-02-01-01-03.mp4', '/root/.cache/kagglehub/datasets/adrivg/ravdess-emotional-speech-video/versions/1/RAVDESS dataset/Video_Speech_Actor_03/Actor_03/01-01-05-01-02-01-03.mp4', '/root/.cache/kagglehub/datasets/adrivg/ravdess-emotional-speech-video/versions/1/RAVDESS dataset/Video_Speech_Actor_03/Actor_03/01-01-03-01-02-02-03.mp4', '/root/.cache/kagglehub/datasets/adrivg/ravdess-emotional-speech-video/versions/1/RAVDESS dataset/Video_Speech_Actor_03/Actor_03/01-01-06-02-02-02-03.mp4', '/root/.cache/kagglehub/datasets/adrivg/ravdess-emotional-speech-video/versions/1/RAVDESS dataset/Video_Speech_Actor_03/Actor_03/01-01-08-02-01-02-03.mp4', '/root/.cache/kagglehub/datasets/adrivg/ravdess-emotional-speech-video/versions/1/RAVDESS dataset/Video_Speech_Actor_03/Actor_03/01-01-01-01-02-02-03.mp4', '/root/.cache/kagglehub/datasets/adrivg/ravdess-emotional-speech-video/versions/1/RAVDESS dataset/Video_Speech_Actor_03/Actor_03/01-01-06-01-02-01-03.mp4', '/root/.cache/kagglehub/datasets/adrivg/ravdess-emotional-speech-video/versions/1/RAVDESS dataset/Video_Speech_Actor_03/Actor_03/01-01-02-02-02-02-03.mp4', '/root/.cache/kagglehub/datasets/adrivg/ravdess-emotional-speech-video/versions/1/RAVDESS dataset/Video_Speech_Actor_03/Actor_03/01-01-02-01-01-01-03.mp4', '/root/.cache/kagglehub/datasets/adrivg/ravdess-emotional-speech-video/versions/1/RAVDESS dataset/Video_Speech_Actor_03/Actor_03/01-01-07-02-02-02-03.mp4', '/root/.cache/kagglehub/datasets/adrivg/ravdess-emotional-speech-video/versions/1/RAVDESS dataset/Video_Speech_Actor_03/Actor_03/01-01-08-01-01-02-03.mp4', '/root/.cache/kagglehub/datasets/adrivg/ravdess-emotional-speech-video/versions/1/RAVDESS dataset/Video_Speech_Actor_03/Actor_03/01-01-08-01-01-01-03.mp4', '/root/.cache/kagglehub/datasets/adrivg/ravdess-emotional-speech-video/versions/1/RAVDESS dataset/Video_Speech_Actor_03/Actor_03/01-01-08-01-02-01-03.mp4', '/root/.cache/kagglehub/datasets/adrivg/ravdess-emotional-speech-video/versions/1/RAVDESS dataset/Video_Speech_Actor_03/Actor_03/01-01-03-02-01-02-03.mp4', '/root/.cache/kagglehub/datasets/adrivg/ravdess-emotional-speech-video/versions/1/RAVDESS dataset/Video_Speech_Actor_03/Actor_03/01-01-05-02-01-01-03.mp4', '/root/.cache/kagglehub/datasets/adrivg/ravdess-emotional-speech-video/versions/1/RAVDESS dataset/Video_Speech_Actor_03/Actor_03/01-01-08-01-02-02-03.mp4', '/root/.cache/kagglehub/datasets/adrivg/ravdess-emotional-speech-video/versions/1/RAVDESS dataset/Video_Speech_Actor_03/Actor_03/01-01-06-02-02-01-03.mp4', '/root/.cache/kagglehub/datasets/adrivg/ravdess-emotional-speech-video/versions/1/RAVDESS dataset/Video_Speech_Actor_03/Actor_03/01-01-06-02-01-02-03.mp4', '/root/.cache/kagglehub/datasets/adrivg/ravdess-emotional-speech-video/versions/1/RAVDESS dataset/Video_Speech_Actor_03/Actor_03/01-01-04-01-02-02-03.mp4', '/root/.cache/kagglehub/datasets/adrivg/ravdess-emotional-speech-video/versions/1/RAVDESS dataset/Video_Speech_Actor_03/Actor_03/01-01-02-02-01-02-03.mp4', '/root/.cache/kagglehub/datasets/adrivg/ravdess-emotional-speech-video/versions/1/RAVDESS dataset/Video_Speech_Actor_03/Actor_03/01-01-07-01-02-01-03.mp4', '/root/.cache/kagglehub/datasets/adrivg/ravdess-emotional-speech-video/versions/1/RAVDESS dataset/Video_Speech_Actor_03/Actor_03/01-01-05-02-01-02-03.mp4', '/root/.cache/kagglehub/datasets/adrivg/ravdess-emotional-speech-video/versions/1/RAVDESS dataset/Video_Speech_Actor_03/Actor_03/01-01-07-02-02-01-03.mp4', '/root/.cache/kagglehub/datasets/adrivg/ravdess-emotional-speech-video/versions/1/RAVDESS dataset/Video_Speech_Actor_03/Actor_03/01-01-08-02-02-01-03.mp4', '/root/.cache/kagglehub/datasets/adrivg/ravdess-emotional-speech-video/versions/1/RAVDESS dataset/Video_Speech_Actor_02/Actor_02/01-01-04-01-01-02-02.mp4', '/root/.cache/kagglehub/datasets/adrivg/ravdess-emotional-speech-video/versions/1/RAVDESS dataset/Video_Speech_Actor_02/Actor_02/01-01-07-02-02-02-02.mp4', '/root/.cache/kagglehub/datasets/adrivg/ravdess-emotional-speech-video/versions/1/RAVDESS dataset/Video_Speech_Actor_02/Actor_02/01-01-01-01-02-01-02.mp4', '/root/.cache/kagglehub/datasets/adrivg/ravdess-emotional-speech-video/versions/1/RAVDESS dataset/Video_Speech_Actor_02/Actor_02/01-01-01-01-01-02-02.mp4', '/root/.cache/kagglehub/datasets/adrivg/ravdess-emotional-speech-video/versions/1/RAVDESS dataset/Video_Speech_Actor_02/Actor_02/01-01-04-02-02-02-02.mp4', '/root/.cache/kagglehub/datasets/adrivg/ravdess-emotional-speech-video/versions/1/RAVDESS dataset/Video_Speech_Actor_02/Actor_02/01-01-04-01-02-02-02.mp4', '/root/.cache/kagglehub/datasets/adrivg/ravdess-emotional-speech-video/versions/1/RAVDESS dataset/Video_Speech_Actor_02/Actor_02/01-01-02-02-02-01-02.mp4', '/root/.cache/kagglehub/datasets/adrivg/ravdess-emotional-speech-video/versions/1/RAVDESS dataset/Video_Speech_Actor_02/Actor_02/01-01-05-01-02-02-02.mp4', '/root/.cache/kagglehub/datasets/adrivg/ravdess-emotional-speech-video/versions/1/RAVDESS dataset/Video_Speech_Actor_02/Actor_02/01-01-08-01-01-01-02.mp4', '/root/.cache/kagglehub/datasets/adrivg/ravdess-emotional-speech-video/versions/1/RAVDESS dataset/Video_Speech_Actor_02/Actor_02/01-01-06-02-01-02-02.mp4', '/root/.cache/kagglehub/datasets/adrivg/ravdess-emotional-speech-video/versions/1/RAVDESS dataset/Video_Speech_Actor_02/Actor_02/01-01-03-01-02-01-02.mp4', '/root/.cache/kagglehub/datasets/adrivg/ravdess-emotional-speech-video/versions/1/RAVDESS dataset/Video_Speech_Actor_02/Actor_02/01-01-08-02-02-01-02.mp4', '/root/.cache/kagglehub/datasets/adrivg/ravdess-emotional-speech-video/versions/1/RAVDESS dataset/Video_Speech_Actor_02/Actor_02/01-01-02-01-01-02-02.mp4', '/root/.cache/kagglehub/datasets/adrivg/ravdess-emotional-speech-video/versions/1/RAVDESS dataset/Video_Speech_Actor_02/Actor_02/01-01-05-02-02-02-02.mp4', '/root/.cache/kagglehub/datasets/adrivg/ravdess-emotional-speech-video/versions/1/RAVDESS dataset/Video_Speech_Actor_02/Actor_02/01-01-07-01-01-01-02.mp4', '/root/.cache/kagglehub/datasets/adrivg/ravdess-emotional-speech-video/versions/1/RAVDESS dataset/Video_Speech_Actor_02/Actor_02/01-01-07-02-02-01-02.mp4', '/root/.cache/kagglehub/datasets/adrivg/ravdess-emotional-speech-video/versions/1/RAVDESS dataset/Video_Speech_Actor_02/Actor_02/01-01-03-02-02-02-02.mp4', '/root/.cache/kagglehub/datasets/adrivg/ravdess-emotional-speech-video/versions/1/RAVDESS dataset/Video_Speech_Actor_02/Actor_02/01-01-03-02-01-01-02.mp4', '/root/.cache/kagglehub/datasets/adrivg/ravdess-emotional-speech-video/versions/1/RAVDESS dataset/Video_Speech_Actor_02/Actor_02/01-01-03-01-01-02-02.mp4', '/root/.cache/kagglehub/datasets/adrivg/ravdess-emotional-speech-video/versions/1/RAVDESS dataset/Video_Speech_Actor_02/Actor_02/01-01-05-02-02-01-02.mp4', '/root/.cache/kagglehub/datasets/adrivg/ravdess-emotional-speech-video/versions/1/RAVDESS dataset/Video_Speech_Actor_02/Actor_02/01-01-02-01-02-02-02.mp4', '/root/.cache/kagglehub/datasets/adrivg/ravdess-emotional-speech-video/versions/1/RAVDESS dataset/Video_Speech_Actor_02/Actor_02/01-01-03-02-02-01-02.mp4', '/root/.cache/kagglehub/datasets/adrivg/ravdess-emotional-speech-video/versions/1/RAVDESS dataset/Video_Speech_Actor_02/Actor_02/01-01-05-01-01-02-02.mp4', '/root/.cache/kagglehub/datasets/adrivg/ravdess-emotional-speech-video/versions/1/RAVDESS dataset/Video_Speech_Actor_02/Actor_02/01-01-05-01-01-01-02.mp4', '/root/.cache/kagglehub/datasets/adrivg/ravdess-emotional-speech-video/versions/1/RAVDESS dataset/Video_Speech_Actor_02/Actor_02/01-01-05-01-02-01-02.mp4', '/root/.cache/kagglehub/datasets/adrivg/ravdess-emotional-speech-video/versions/1/RAVDESS dataset/Video_Speech_Actor_02/Actor_02/01-01-06-01-01-02-02.mp4', '/root/.cache/kagglehub/datasets/adrivg/ravdess-emotional-speech-video/versions/1/RAVDESS dataset/Video_Speech_Actor_02/Actor_02/01-01-07-01-01-02-02.mp4', '/root/.cache/kagglehub/datasets/adrivg/ravdess-emotional-speech-video/versions/1/RAVDESS dataset/Video_Speech_Actor_02/Actor_02/01-01-06-02-02-01-02.mp4', '/root/.cache/kagglehub/datasets/adrivg/ravdess-emotional-speech-video/versions/1/RAVDESS dataset/Video_Speech_Actor_02/Actor_02/01-01-03-01-01-01-02.mp4', '/root/.cache/kagglehub/datasets/adrivg/ravdess-emotional-speech-video/versions/1/RAVDESS dataset/Video_Speech_Actor_02/Actor_02/01-01-08-01-02-01-02.mp4', '/root/.cache/kagglehub/datasets/adrivg/ravdess-emotional-speech-video/versions/1/RAVDESS dataset/Video_Speech_Actor_02/Actor_02/01-01-01-01-01-01-02.mp4', '/root/.cache/kagglehub/datasets/adrivg/ravdess-emotional-speech-video/versions/1/RAVDESS dataset/Video_Speech_Actor_02/Actor_02/01-01-08-01-02-02-02.mp4', '/root/.cache/kagglehub/datasets/adrivg/ravdess-emotional-speech-video/versions/1/RAVDESS dataset/Video_Speech_Actor_02/Actor_02/01-01-06-02-01-01-02.mp4', '/root/.cache/kagglehub/datasets/adrivg/ravdess-emotional-speech-video/versions/1/RAVDESS dataset/Video_Speech_Actor_02/Actor_02/01-01-08-02-01-02-02.mp4', '/root/.cache/kagglehub/datasets/adrivg/ravdess-emotional-speech-video/versions/1/RAVDESS dataset/Video_Speech_Actor_02/Actor_02/01-01-04-02-01-01-02.mp4', '/root/.cache/kagglehub/datasets/adrivg/ravdess-emotional-speech-video/versions/1/RAVDESS dataset/Video_Speech_Actor_02/Actor_02/01-01-07-02-01-02-02.mp4', '/root/.cache/kagglehub/datasets/adrivg/ravdess-emotional-speech-video/versions/1/RAVDESS dataset/Video_Speech_Actor_02/Actor_02/01-01-05-02-01-02-02.mp4', '/root/.cache/kagglehub/datasets/adrivg/ravdess-emotional-speech-video/versions/1/RAVDESS dataset/Video_Speech_Actor_02/Actor_02/01-01-01-01-02-02-02.mp4', '/root/.cache/kagglehub/datasets/adrivg/ravdess-emotional-speech-video/versions/1/RAVDESS dataset/Video_Speech_Actor_02/Actor_02/01-01-06-01-01-01-02.mp4', '/root/.cache/kagglehub/datasets/adrivg/ravdess-emotional-speech-video/versions/1/RAVDESS dataset/Video_Speech_Actor_02/Actor_02/01-01-08-02-01-01-02.mp4', '/root/.cache/kagglehub/datasets/adrivg/ravdess-emotional-speech-video/versions/1/RAVDESS dataset/Video_Speech_Actor_02/Actor_02/01-01-04-02-02-01-02.mp4', '/root/.cache/kagglehub/datasets/adrivg/ravdess-emotional-speech-video/versions/1/RAVDESS dataset/Video_Speech_Actor_02/Actor_02/01-01-02-02-02-02-02.mp4', '/root/.cache/kagglehub/datasets/adrivg/ravdess-emotional-speech-video/versions/1/RAVDESS dataset/Video_Speech_Actor_02/Actor_02/01-01-07-01-02-02-02.mp4', '/root/.cache/kagglehub/datasets/adrivg/ravdess-emotional-speech-video/versions/1/RAVDESS dataset/Video_Speech_Actor_02/Actor_02/01-01-08-01-01-02-02.mp4', '/root/.cache/kagglehub/datasets/adrivg/ravdess-emotional-speech-video/versions/1/RAVDESS dataset/Video_Speech_Actor_02/Actor_02/01-01-04-02-01-02-02.mp4', '/root/.cache/kagglehub/datasets/adrivg/ravdess-emotional-speech-video/versions/1/RAVDESS dataset/Video_Speech_Actor_02/Actor_02/01-01-02-02-01-02-02.mp4', '/root/.cache/kagglehub/datasets/adrivg/ravdess-emotional-speech-video/versions/1/RAVDESS dataset/Video_Speech_Actor_02/Actor_02/01-01-04-01-02-01-02.mp4', '/root/.cache/kagglehub/datasets/adrivg/ravdess-emotional-speech-video/versions/1/RAVDESS dataset/Video_Speech_Actor_02/Actor_02/01-01-03-01-02-02-02.mp4', '/root/.cache/kagglehub/datasets/adrivg/ravdess-emotional-speech-video/versions/1/RAVDESS dataset/Video_Speech_Actor_02/Actor_02/01-01-06-01-02-01-02.mp4', '/root/.cache/kagglehub/datasets/adrivg/ravdess-emotional-speech-video/versions/1/RAVDESS dataset/Video_Speech_Actor_02/Actor_02/01-01-02-01-02-01-02.mp4', '/root/.cache/kagglehub/datasets/adrivg/ravdess-emotional-speech-video/versions/1/RAVDESS dataset/Video_Speech_Actor_02/Actor_02/01-01-08-02-02-02-02.mp4', '/root/.cache/kagglehub/datasets/adrivg/ravdess-emotional-speech-video/versions/1/RAVDESS dataset/Video_Speech_Actor_02/Actor_02/01-01-07-01-02-01-02.mp4', '/root/.cache/kagglehub/datasets/adrivg/ravdess-emotional-speech-video/versions/1/RAVDESS dataset/Video_Speech_Actor_02/Actor_02/01-01-03-02-01-02-02.mp4', '/root/.cache/kagglehub/datasets/adrivg/ravdess-emotional-speech-video/versions/1/RAVDESS dataset/Video_Speech_Actor_02/Actor_02/01-01-02-01-01-01-02.mp4', '/root/.cache/kagglehub/datasets/adrivg/ravdess-emotional-speech-video/versions/1/RAVDESS dataset/Video_Speech_Actor_02/Actor_02/01-01-04-01-01-01-02.mp4', '/root/.cache/kagglehub/datasets/adrivg/ravdess-emotional-speech-video/versions/1/RAVDESS dataset/Video_Speech_Actor_02/Actor_02/01-01-06-02-02-02-02.mp4', '/root/.cache/kagglehub/datasets/adrivg/ravdess-emotional-speech-video/versions/1/RAVDESS dataset/Video_Speech_Actor_02/Actor_02/01-01-05-02-01-01-02.mp4', '/root/.cache/kagglehub/datasets/adrivg/ravdess-emotional-speech-video/versions/1/RAVDESS dataset/Video_Speech_Actor_02/Actor_02/01-01-02-02-01-01-02.mp4', '/root/.cache/kagglehub/datasets/adrivg/ravdess-emotional-speech-video/versions/1/RAVDESS dataset/Video_Speech_Actor_02/Actor_02/01-01-07-02-01-01-02.mp4', '/root/.cache/kagglehub/datasets/adrivg/ravdess-emotional-speech-video/versions/1/RAVDESS dataset/Video_Speech_Actor_02/Actor_02/01-01-06-01-02-02-02.mp4', '/root/.cache/kagglehub/datasets/adrivg/ravdess-emotional-speech-video/versions/1/RAVDESS dataset/Video_Speech_Actor_09/Actor_09/01-01-03-01-01-01-09.mp4', '/root/.cache/kagglehub/datasets/adrivg/ravdess-emotional-speech-video/versions/1/RAVDESS dataset/Video_Speech_Actor_09/Actor_09/01-01-07-02-02-02-09.mp4', '/root/.cache/kagglehub/datasets/adrivg/ravdess-emotional-speech-video/versions/1/RAVDESS dataset/Video_Speech_Actor_09/Actor_09/01-01-07-01-02-01-09.mp4', '/root/.cache/kagglehub/datasets/adrivg/ravdess-emotional-speech-video/versions/1/RAVDESS dataset/Video_Speech_Actor_09/Actor_09/01-01-06-01-01-02-09.mp4', '/root/.cache/kagglehub/datasets/adrivg/ravdess-emotional-speech-video/versions/1/RAVDESS dataset/Video_Speech_Actor_09/Actor_09/01-01-08-01-01-01-09.mp4', '/root/.cache/kagglehub/datasets/adrivg/ravdess-emotional-speech-video/versions/1/RAVDESS dataset/Video_Speech_Actor_09/Actor_09/01-01-08-02-01-01-09.mp4', '/root/.cache/kagglehub/datasets/adrivg/ravdess-emotional-speech-video/versions/1/RAVDESS dataset/Video_Speech_Actor_09/Actor_09/01-01-03-02-02-02-09.mp4', '/root/.cache/kagglehub/datasets/adrivg/ravdess-emotional-speech-video/versions/1/RAVDESS dataset/Video_Speech_Actor_09/Actor_09/01-01-08-02-02-02-09.mp4', '/root/.cache/kagglehub/datasets/adrivg/ravdess-emotional-speech-video/versions/1/RAVDESS dataset/Video_Speech_Actor_09/Actor_09/01-01-04-01-01-02-09.mp4', '/root/.cache/kagglehub/datasets/adrivg/ravdess-emotional-speech-video/versions/1/RAVDESS dataset/Video_Speech_Actor_09/Actor_09/01-01-02-02-01-01-09.mp4', '/root/.cache/kagglehub/datasets/adrivg/ravdess-emotional-speech-video/versions/1/RAVDESS dataset/Video_Speech_Actor_09/Actor_09/01-01-04-01-02-02-09.mp4', '/root/.cache/kagglehub/datasets/adrivg/ravdess-emotional-speech-video/versions/1/RAVDESS dataset/Video_Speech_Actor_09/Actor_09/01-01-06-01-02-02-09.mp4', '/root/.cache/kagglehub/datasets/adrivg/ravdess-emotional-speech-video/versions/1/RAVDESS dataset/Video_Speech_Actor_09/Actor_09/01-01-08-01-02-01-09.mp4', '/root/.cache/kagglehub/datasets/adrivg/ravdess-emotional-speech-video/versions/1/RAVDESS dataset/Video_Speech_Actor_09/Actor_09/01-01-01-01-01-02-09.mp4', '/root/.cache/kagglehub/datasets/adrivg/ravdess-emotional-speech-video/versions/1/RAVDESS dataset/Video_Speech_Actor_09/Actor_09/01-01-08-02-01-02-09.mp4', '/root/.cache/kagglehub/datasets/adrivg/ravdess-emotional-speech-video/versions/1/RAVDESS dataset/Video_Speech_Actor_09/Actor_09/01-01-03-02-01-02-09.mp4', '/root/.cache/kagglehub/datasets/adrivg/ravdess-emotional-speech-video/versions/1/RAVDESS dataset/Video_Speech_Actor_09/Actor_09/01-01-03-01-02-02-09.mp4', '/root/.cache/kagglehub/datasets/adrivg/ravdess-emotional-speech-video/versions/1/RAVDESS dataset/Video_Speech_Actor_09/Actor_09/01-01-08-02-02-01-09.mp4', '/root/.cache/kagglehub/datasets/adrivg/ravdess-emotional-speech-video/versions/1/RAVDESS dataset/Video_Speech_Actor_09/Actor_09/01-01-02-01-01-02-09.mp4', '/root/.cache/kagglehub/datasets/adrivg/ravdess-emotional-speech-video/versions/1/RAVDESS dataset/Video_Speech_Actor_09/Actor_09/01-01-01-01-02-01-09.mp4', '/root/.cache/kagglehub/datasets/adrivg/ravdess-emotional-speech-video/versions/1/RAVDESS dataset/Video_Speech_Actor_09/Actor_09/01-01-03-02-02-01-09.mp4', '/root/.cache/kagglehub/datasets/adrivg/ravdess-emotional-speech-video/versions/1/RAVDESS dataset/Video_Speech_Actor_09/Actor_09/01-01-06-02-01-02-09.mp4', '/root/.cache/kagglehub/datasets/adrivg/ravdess-emotional-speech-video/versions/1/RAVDESS dataset/Video_Speech_Actor_09/Actor_09/01-01-08-01-01-02-09.mp4', '/root/.cache/kagglehub/datasets/adrivg/ravdess-emotional-speech-video/versions/1/RAVDESS dataset/Video_Speech_Actor_09/Actor_09/01-01-02-02-02-01-09.mp4', '/root/.cache/kagglehub/datasets/adrivg/ravdess-emotional-speech-video/versions/1/RAVDESS dataset/Video_Speech_Actor_09/Actor_09/01-01-06-01-01-01-09.mp4', '/root/.cache/kagglehub/datasets/adrivg/ravdess-emotional-speech-video/versions/1/RAVDESS dataset/Video_Speech_Actor_09/Actor_09/01-01-07-01-01-02-09.mp4', '/root/.cache/kagglehub/datasets/adrivg/ravdess-emotional-speech-video/versions/1/RAVDESS dataset/Video_Speech_Actor_09/Actor_09/01-01-06-02-02-02-09.mp4', '/root/.cache/kagglehub/datasets/adrivg/ravdess-emotional-speech-video/versions/1/RAVDESS dataset/Video_Speech_Actor_09/Actor_09/01-01-04-02-02-01-09.mp4', '/root/.cache/kagglehub/datasets/adrivg/ravdess-emotional-speech-video/versions/1/RAVDESS dataset/Video_Speech_Actor_09/Actor_09/01-01-07-02-02-01-09.mp4', '/root/.cache/kagglehub/datasets/adrivg/ravdess-emotional-speech-video/versions/1/RAVDESS dataset/Video_Speech_Actor_09/Actor_09/01-01-04-02-01-02-09.mp4', '/root/.cache/kagglehub/datasets/adrivg/ravdess-emotional-speech-video/versions/1/RAVDESS dataset/Video_Speech_Actor_09/Actor_09/01-01-07-01-01-01-09.mp4', '/root/.cache/kagglehub/datasets/adrivg/ravdess-emotional-speech-video/versions/1/RAVDESS dataset/Video_Speech_Actor_09/Actor_09/01-01-02-01-02-02-09.mp4', '/root/.cache/kagglehub/datasets/adrivg/ravdess-emotional-speech-video/versions/1/RAVDESS dataset/Video_Speech_Actor_09/Actor_09/01-01-04-02-02-02-09.mp4', '/root/.cache/kagglehub/datasets/adrivg/ravdess-emotional-speech-video/versions/1/RAVDESS dataset/Video_Speech_Actor_09/Actor_09/01-01-06-02-01-01-09.mp4', '/root/.cache/kagglehub/datasets/adrivg/ravdess-emotional-speech-video/versions/1/RAVDESS dataset/Video_Speech_Actor_09/Actor_09/01-01-05-02-02-01-09.mp4', '/root/.cache/kagglehub/datasets/adrivg/ravdess-emotional-speech-video/versions/1/RAVDESS dataset/Video_Speech_Actor_09/Actor_09/01-01-06-02-02-01-09.mp4', '/root/.cache/kagglehub/datasets/adrivg/ravdess-emotional-speech-video/versions/1/RAVDESS dataset/Video_Speech_Actor_09/Actor_09/01-01-04-01-01-01-09.mp4', '/root/.cache/kagglehub/datasets/adrivg/ravdess-emotional-speech-video/versions/1/RAVDESS dataset/Video_Speech_Actor_09/Actor_09/01-01-05-02-01-01-09.mp4', '/root/.cache/kagglehub/datasets/adrivg/ravdess-emotional-speech-video/versions/1/RAVDESS dataset/Video_Speech_Actor_09/Actor_09/01-01-05-01-02-02-09.mp4', '/root/.cache/kagglehub/datasets/adrivg/ravdess-emotional-speech-video/versions/1/RAVDESS dataset/Video_Speech_Actor_09/Actor_09/01-01-07-02-01-02-09.mp4', '/root/.cache/kagglehub/datasets/adrivg/ravdess-emotional-speech-video/versions/1/RAVDESS dataset/Video_Speech_Actor_09/Actor_09/01-01-04-02-01-01-09.mp4', '/root/.cache/kagglehub/datasets/adrivg/ravdess-emotional-speech-video/versions/1/RAVDESS dataset/Video_Speech_Actor_09/Actor_09/01-01-04-01-02-01-09.mp4', '/root/.cache/kagglehub/datasets/adrivg/ravdess-emotional-speech-video/versions/1/RAVDESS dataset/Video_Speech_Actor_09/Actor_09/01-01-03-02-01-01-09.mp4', '/root/.cache/kagglehub/datasets/adrivg/ravdess-emotional-speech-video/versions/1/RAVDESS dataset/Video_Speech_Actor_09/Actor_09/01-01-02-01-01-01-09.mp4', '/root/.cache/kagglehub/datasets/adrivg/ravdess-emotional-speech-video/versions/1/RAVDESS dataset/Video_Speech_Actor_09/Actor_09/01-01-02-02-01-02-09.mp4', '/root/.cache/kagglehub/datasets/adrivg/ravdess-emotional-speech-video/versions/1/RAVDESS dataset/Video_Speech_Actor_09/Actor_09/01-01-07-01-02-02-09.mp4', '/root/.cache/kagglehub/datasets/adrivg/ravdess-emotional-speech-video/versions/1/RAVDESS dataset/Video_Speech_Actor_09/Actor_09/01-01-02-02-02-02-09.mp4', '/root/.cache/kagglehub/datasets/adrivg/ravdess-emotional-speech-video/versions/1/RAVDESS dataset/Video_Speech_Actor_09/Actor_09/01-01-02-01-02-01-09.mp4', '/root/.cache/kagglehub/datasets/adrivg/ravdess-emotional-speech-video/versions/1/RAVDESS dataset/Video_Speech_Actor_09/Actor_09/01-01-06-01-02-01-09.mp4', '/root/.cache/kagglehub/datasets/adrivg/ravdess-emotional-speech-video/versions/1/RAVDESS dataset/Video_Speech_Actor_09/Actor_09/01-01-05-01-01-01-09.mp4', '/root/.cache/kagglehub/datasets/adrivg/ravdess-emotional-speech-video/versions/1/RAVDESS dataset/Video_Speech_Actor_09/Actor_09/01-01-07-02-01-01-09.mp4', '/root/.cache/kagglehub/datasets/adrivg/ravdess-emotional-speech-video/versions/1/RAVDESS dataset/Video_Speech_Actor_09/Actor_09/01-01-05-02-02-02-09.mp4', '/root/.cache/kagglehub/datasets/adrivg/ravdess-emotional-speech-video/versions/1/RAVDESS dataset/Video_Speech_Actor_09/Actor_09/01-01-03-01-01-02-09.mp4', '/root/.cache/kagglehub/datasets/adrivg/ravdess-emotional-speech-video/versions/1/RAVDESS dataset/Video_Speech_Actor_09/Actor_09/01-01-01-01-01-01-09.mp4', '/root/.cache/kagglehub/datasets/adrivg/ravdess-emotional-speech-video/versions/1/RAVDESS dataset/Video_Speech_Actor_09/Actor_09/01-01-05-02-01-02-09.mp4', '/root/.cache/kagglehub/datasets/adrivg/ravdess-emotional-speech-video/versions/1/RAVDESS dataset/Video_Speech_Actor_09/Actor_09/01-01-01-01-02-02-09.mp4', '/root/.cache/kagglehub/datasets/adrivg/ravdess-emotional-speech-video/versions/1/RAVDESS dataset/Video_Speech_Actor_09/Actor_09/01-01-05-01-01-02-09.mp4', '/root/.cache/kagglehub/datasets/adrivg/ravdess-emotional-speech-video/versions/1/RAVDESS dataset/Video_Speech_Actor_09/Actor_09/01-01-05-01-02-01-09.mp4', '/root/.cache/kagglehub/datasets/adrivg/ravdess-emotional-speech-video/versions/1/RAVDESS dataset/Video_Speech_Actor_09/Actor_09/01-01-03-01-02-01-09.mp4', '/root/.cache/kagglehub/datasets/adrivg/ravdess-emotional-speech-video/versions/1/RAVDESS dataset/Video_Speech_Actor_09/Actor_09/01-01-08-01-02-02-09.mp4', '/root/.cache/kagglehub/datasets/adrivg/ravdess-emotional-speech-video/versions/1/RAVDESS dataset/Video_Speech_Actor_10/Actor_10/01-01-04-02-01-02-10.mp4', '/root/.cache/kagglehub/datasets/adrivg/ravdess-emotional-speech-video/versions/1/RAVDESS dataset/Video_Speech_Actor_10/Actor_10/01-01-08-02-02-02-10.mp4', '/root/.cache/kagglehub/datasets/adrivg/ravdess-emotional-speech-video/versions/1/RAVDESS dataset/Video_Speech_Actor_10/Actor_10/01-01-06-02-02-02-10.mp4', '/root/.cache/kagglehub/datasets/adrivg/ravdess-emotional-speech-video/versions/1/RAVDESS dataset/Video_Speech_Actor_10/Actor_10/01-01-05-01-02-02-10.mp4', '/root/.cache/kagglehub/datasets/adrivg/ravdess-emotional-speech-video/versions/1/RAVDESS dataset/Video_Speech_Actor_10/Actor_10/01-01-06-02-01-01-10.mp4', '/root/.cache/kagglehub/datasets/adrivg/ravdess-emotional-speech-video/versions/1/RAVDESS dataset/Video_Speech_Actor_10/Actor_10/01-01-01-01-01-01-10.mp4', '/root/.cache/kagglehub/datasets/adrivg/ravdess-emotional-speech-video/versions/1/RAVDESS dataset/Video_Speech_Actor_10/Actor_10/01-01-03-01-02-01-10.mp4', '/root/.cache/kagglehub/datasets/adrivg/ravdess-emotional-speech-video/versions/1/RAVDESS dataset/Video_Speech_Actor_10/Actor_10/01-01-04-02-01-01-10.mp4', '/root/.cache/kagglehub/datasets/adrivg/ravdess-emotional-speech-video/versions/1/RAVDESS dataset/Video_Speech_Actor_10/Actor_10/01-01-04-01-01-01-10.mp4', '/root/.cache/kagglehub/datasets/adrivg/ravdess-emotional-speech-video/versions/1/RAVDESS dataset/Video_Speech_Actor_10/Actor_10/01-01-05-01-01-02-10.mp4', '/root/.cache/kagglehub/datasets/adrivg/ravdess-emotional-speech-video/versions/1/RAVDESS dataset/Video_Speech_Actor_10/Actor_10/01-01-07-02-02-02-10.mp4', '/root/.cache/kagglehub/datasets/adrivg/ravdess-emotional-speech-video/versions/1/RAVDESS dataset/Video_Speech_Actor_10/Actor_10/01-01-04-01-02-02-10.mp4', '/root/.cache/kagglehub/datasets/adrivg/ravdess-emotional-speech-video/versions/1/RAVDESS dataset/Video_Speech_Actor_10/Actor_10/01-01-05-01-01-01-10.mp4', '/root/.cache/kagglehub/datasets/adrivg/ravdess-emotional-speech-video/versions/1/RAVDESS dataset/Video_Speech_Actor_10/Actor_10/01-01-04-01-01-02-10.mp4', '/root/.cache/kagglehub/datasets/adrivg/ravdess-emotional-speech-video/versions/1/RAVDESS dataset/Video_Speech_Actor_10/Actor_10/01-01-04-01-02-01-10.mp4', '/root/.cache/kagglehub/datasets/adrivg/ravdess-emotional-speech-video/versions/1/RAVDESS dataset/Video_Speech_Actor_10/Actor_10/01-01-03-02-02-01-10.mp4', '/root/.cache/kagglehub/datasets/adrivg/ravdess-emotional-speech-video/versions/1/RAVDESS dataset/Video_Speech_Actor_10/Actor_10/01-01-02-01-02-01-10.mp4', '/root/.cache/kagglehub/datasets/adrivg/ravdess-emotional-speech-video/versions/1/RAVDESS dataset/Video_Speech_Actor_10/Actor_10/01-01-01-01-01-02-10.mp4', '/root/.cache/kagglehub/datasets/adrivg/ravdess-emotional-speech-video/versions/1/RAVDESS dataset/Video_Speech_Actor_10/Actor_10/01-01-06-01-01-01-10.mp4', '/root/.cache/kagglehub/datasets/adrivg/ravdess-emotional-speech-video/versions/1/RAVDESS dataset/Video_Speech_Actor_10/Actor_10/01-01-03-02-02-02-10.mp4', '/root/.cache/kagglehub/datasets/adrivg/ravdess-emotional-speech-video/versions/1/RAVDESS dataset/Video_Speech_Actor_10/Actor_10/01-01-07-02-01-02-10.mp4', '/root/.cache/kagglehub/datasets/adrivg/ravdess-emotional-speech-video/versions/1/RAVDESS dataset/Video_Speech_Actor_10/Actor_10/01-01-06-01-02-01-10.mp4', '/root/.cache/kagglehub/datasets/adrivg/ravdess-emotional-speech-video/versions/1/RAVDESS dataset/Video_Speech_Actor_10/Actor_10/01-01-08-01-02-01-10.mp4', '/root/.cache/kagglehub/datasets/adrivg/ravdess-emotional-speech-video/versions/1/RAVDESS dataset/Video_Speech_Actor_10/Actor_10/01-01-04-02-02-01-10.mp4', '/root/.cache/kagglehub/datasets/adrivg/ravdess-emotional-speech-video/versions/1/RAVDESS dataset/Video_Speech_Actor_10/Actor_10/01-01-02-02-01-02-10.mp4', '/root/.cache/kagglehub/datasets/adrivg/ravdess-emotional-speech-video/versions/1/RAVDESS dataset/Video_Speech_Actor_10/Actor_10/01-01-01-01-02-02-10.mp4', '/root/.cache/kagglehub/datasets/adrivg/ravdess-emotional-speech-video/versions/1/RAVDESS dataset/Video_Speech_Actor_10/Actor_10/01-01-04-02-02-02-10.mp4', '/root/.cache/kagglehub/datasets/adrivg/ravdess-emotional-speech-video/versions/1/RAVDESS dataset/Video_Speech_Actor_10/Actor_10/01-01-08-01-02-02-10.mp4', '/root/.cache/kagglehub/datasets/adrivg/ravdess-emotional-speech-video/versions/1/RAVDESS dataset/Video_Speech_Actor_10/Actor_10/01-01-02-01-01-02-10.mp4', '/root/.cache/kagglehub/datasets/adrivg/ravdess-emotional-speech-video/versions/1/RAVDESS dataset/Video_Speech_Actor_10/Actor_10/01-01-02-01-01-01-10.mp4', '/root/.cache/kagglehub/datasets/adrivg/ravdess-emotional-speech-video/versions/1/RAVDESS dataset/Video_Speech_Actor_10/Actor_10/01-01-06-02-01-02-10.mp4', '/root/.cache/kagglehub/datasets/adrivg/ravdess-emotional-speech-video/versions/1/RAVDESS dataset/Video_Speech_Actor_10/Actor_10/01-01-03-02-01-02-10.mp4', '/root/.cache/kagglehub/datasets/adrivg/ravdess-emotional-speech-video/versions/1/RAVDESS dataset/Video_Speech_Actor_10/Actor_10/01-01-08-01-01-01-10.mp4', '/root/.cache/kagglehub/datasets/adrivg/ravdess-emotional-speech-video/versions/1/RAVDESS dataset/Video_Speech_Actor_10/Actor_10/01-01-03-01-02-02-10.mp4', '/root/.cache/kagglehub/datasets/adrivg/ravdess-emotional-speech-video/versions/1/RAVDESS dataset/Video_Speech_Actor_10/Actor_10/01-01-05-02-02-02-10.mp4', '/root/.cache/kagglehub/datasets/adrivg/ravdess-emotional-speech-video/versions/1/RAVDESS dataset/Video_Speech_Actor_10/Actor_10/01-01-07-01-01-01-10.mp4', '/root/.cache/kagglehub/datasets/adrivg/ravdess-emotional-speech-video/versions/1/RAVDESS dataset/Video_Speech_Actor_10/Actor_10/01-01-05-02-02-01-10.mp4', '/root/.cache/kagglehub/datasets/adrivg/ravdess-emotional-speech-video/versions/1/RAVDESS dataset/Video_Speech_Actor_10/Actor_10/01-01-06-01-01-02-10.mp4', '/root/.cache/kagglehub/datasets/adrivg/ravdess-emotional-speech-video/versions/1/RAVDESS dataset/Video_Speech_Actor_10/Actor_10/01-01-07-02-02-01-10.mp4', '/root/.cache/kagglehub/datasets/adrivg/ravdess-emotional-speech-video/versions/1/RAVDESS dataset/Video_Speech_Actor_10/Actor_10/01-01-07-01-02-01-10.mp4', '/root/.cache/kagglehub/datasets/adrivg/ravdess-emotional-speech-video/versions/1/RAVDESS dataset/Video_Speech_Actor_10/Actor_10/01-01-07-02-01-01-10.mp4', '/root/.cache/kagglehub/datasets/adrivg/ravdess-emotional-speech-video/versions/1/RAVDESS dataset/Video_Speech_Actor_10/Actor_10/01-01-05-01-02-01-10.mp4', '/root/.cache/kagglehub/datasets/adrivg/ravdess-emotional-speech-video/versions/1/RAVDESS dataset/Video_Speech_Actor_10/Actor_10/01-01-03-02-01-01-10.mp4', '/root/.cache/kagglehub/datasets/adrivg/ravdess-emotional-speech-video/versions/1/RAVDESS dataset/Video_Speech_Actor_10/Actor_10/01-01-02-02-02-02-10.mp4', '/root/.cache/kagglehub/datasets/adrivg/ravdess-emotional-speech-video/versions/1/RAVDESS dataset/Video_Speech_Actor_10/Actor_10/01-01-02-02-02-01-10.mp4', '/root/.cache/kagglehub/datasets/adrivg/ravdess-emotional-speech-video/versions/1/RAVDESS dataset/Video_Speech_Actor_10/Actor_10/01-01-05-02-01-02-10.mp4', '/root/.cache/kagglehub/datasets/adrivg/ravdess-emotional-speech-video/versions/1/RAVDESS dataset/Video_Speech_Actor_10/Actor_10/01-01-06-01-02-02-10.mp4', '/root/.cache/kagglehub/datasets/adrivg/ravdess-emotional-speech-video/versions/1/RAVDESS dataset/Video_Speech_Actor_10/Actor_10/01-01-08-02-01-01-10.mp4', '/root/.cache/kagglehub/datasets/adrivg/ravdess-emotional-speech-video/versions/1/RAVDESS dataset/Video_Speech_Actor_10/Actor_10/01-01-03-01-01-02-10.mp4', '/root/.cache/kagglehub/datasets/adrivg/ravdess-emotional-speech-video/versions/1/RAVDESS dataset/Video_Speech_Actor_10/Actor_10/01-01-07-01-01-02-10.mp4', '/root/.cache/kagglehub/datasets/adrivg/ravdess-emotional-speech-video/versions/1/RAVDESS dataset/Video_Speech_Actor_10/Actor_10/01-01-02-01-02-02-10.mp4', '/root/.cache/kagglehub/datasets/adrivg/ravdess-emotional-speech-video/versions/1/RAVDESS dataset/Video_Speech_Actor_10/Actor_10/01-01-02-02-01-01-10.mp4', '/root/.cache/kagglehub/datasets/adrivg/ravdess-emotional-speech-video/versions/1/RAVDESS dataset/Video_Speech_Actor_10/Actor_10/01-01-08-02-01-02-10.mp4', '/root/.cache/kagglehub/datasets/adrivg/ravdess-emotional-speech-video/versions/1/RAVDESS dataset/Video_Speech_Actor_10/Actor_10/01-01-08-01-01-02-10.mp4', '/root/.cache/kagglehub/datasets/adrivg/ravdess-emotional-speech-video/versions/1/RAVDESS dataset/Video_Speech_Actor_10/Actor_10/01-01-01-01-02-01-10.mp4', '/root/.cache/kagglehub/datasets/adrivg/ravdess-emotional-speech-video/versions/1/RAVDESS dataset/Video_Speech_Actor_10/Actor_10/01-01-03-01-01-01-10.mp4', '/root/.cache/kagglehub/datasets/adrivg/ravdess-emotional-speech-video/versions/1/RAVDESS dataset/Video_Speech_Actor_10/Actor_10/01-01-05-02-01-01-10.mp4', '/root/.cache/kagglehub/datasets/adrivg/ravdess-emotional-speech-video/versions/1/RAVDESS dataset/Video_Speech_Actor_10/Actor_10/01-01-06-02-02-01-10.mp4', '/root/.cache/kagglehub/datasets/adrivg/ravdess-emotional-speech-video/versions/1/RAVDESS dataset/Video_Speech_Actor_10/Actor_10/01-01-08-02-02-01-10.mp4', '/root/.cache/kagglehub/datasets/adrivg/ravdess-emotional-speech-video/versions/1/RAVDESS dataset/Video_Speech_Actor_10/Actor_10/01-01-07-01-02-02-10.mp4', '/root/.cache/kagglehub/datasets/adrivg/ravdess-emotional-speech-video/versions/1/RAVDESS dataset/Video_Speech_Actor_04/Actor_04/01-01-04-01-01-01-04.mp4', '/root/.cache/kagglehub/datasets/adrivg/ravdess-emotional-speech-video/versions/1/RAVDESS dataset/Video_Speech_Actor_04/Actor_04/01-01-01-01-02-01-04.mp4', '/root/.cache/kagglehub/datasets/adrivg/ravdess-emotional-speech-video/versions/1/RAVDESS dataset/Video_Speech_Actor_04/Actor_04/01-01-07-01-02-02-04.mp4', '/root/.cache/kagglehub/datasets/adrivg/ravdess-emotional-speech-video/versions/1/RAVDESS dataset/Video_Speech_Actor_04/Actor_04/01-01-05-01-02-01-04.mp4', '/root/.cache/kagglehub/datasets/adrivg/ravdess-emotional-speech-video/versions/1/RAVDESS dataset/Video_Speech_Actor_04/Actor_04/01-01-07-02-01-02-04.mp4', '/root/.cache/kagglehub/datasets/adrivg/ravdess-emotional-speech-video/versions/1/RAVDESS dataset/Video_Speech_Actor_04/Actor_04/01-01-05-02-01-01-04.mp4', '/root/.cache/kagglehub/datasets/adrivg/ravdess-emotional-speech-video/versions/1/RAVDESS dataset/Video_Speech_Actor_04/Actor_04/01-01-07-01-01-02-04.mp4', '/root/.cache/kagglehub/datasets/adrivg/ravdess-emotional-speech-video/versions/1/RAVDESS dataset/Video_Speech_Actor_04/Actor_04/01-01-01-01-01-01-04.mp4', '/root/.cache/kagglehub/datasets/adrivg/ravdess-emotional-speech-video/versions/1/RAVDESS dataset/Video_Speech_Actor_04/Actor_04/01-01-02-02-01-01-04.mp4', '/root/.cache/kagglehub/datasets/adrivg/ravdess-emotional-speech-video/versions/1/RAVDESS dataset/Video_Speech_Actor_04/Actor_04/01-01-07-01-01-01-04.mp4', '/root/.cache/kagglehub/datasets/adrivg/ravdess-emotional-speech-video/versions/1/RAVDESS dataset/Video_Speech_Actor_04/Actor_04/01-01-08-01-02-02-04.mp4', '/root/.cache/kagglehub/datasets/adrivg/ravdess-emotional-speech-video/versions/1/RAVDESS dataset/Video_Speech_Actor_04/Actor_04/01-01-06-02-02-01-04.mp4', '/root/.cache/kagglehub/datasets/adrivg/ravdess-emotional-speech-video/versions/1/RAVDESS dataset/Video_Speech_Actor_04/Actor_04/01-01-05-01-02-02-04.mp4', '/root/.cache/kagglehub/datasets/adrivg/ravdess-emotional-speech-video/versions/1/RAVDESS dataset/Video_Speech_Actor_04/Actor_04/01-01-08-02-02-02-04.mp4', '/root/.cache/kagglehub/datasets/adrivg/ravdess-emotional-speech-video/versions/1/RAVDESS dataset/Video_Speech_Actor_04/Actor_04/01-01-03-02-02-01-04.mp4', '/root/.cache/kagglehub/datasets/adrivg/ravdess-emotional-speech-video/versions/1/RAVDESS dataset/Video_Speech_Actor_04/Actor_04/01-01-03-01-02-02-04.mp4', '/root/.cache/kagglehub/datasets/adrivg/ravdess-emotional-speech-video/versions/1/RAVDESS dataset/Video_Speech_Actor_04/Actor_04/01-01-02-02-02-01-04.mp4', '/root/.cache/kagglehub/datasets/adrivg/ravdess-emotional-speech-video/versions/1/RAVDESS dataset/Video_Speech_Actor_04/Actor_04/01-01-05-02-02-02-04.mp4', '/root/.cache/kagglehub/datasets/adrivg/ravdess-emotional-speech-video/versions/1/RAVDESS dataset/Video_Speech_Actor_04/Actor_04/01-01-02-02-02-02-04.mp4', '/root/.cache/kagglehub/datasets/adrivg/ravdess-emotional-speech-video/versions/1/RAVDESS dataset/Video_Speech_Actor_04/Actor_04/01-01-07-02-01-01-04.mp4', '/root/.cache/kagglehub/datasets/adrivg/ravdess-emotional-speech-video/versions/1/RAVDESS dataset/Video_Speech_Actor_04/Actor_04/01-01-07-02-02-02-04.mp4', '/root/.cache/kagglehub/datasets/adrivg/ravdess-emotional-speech-video/versions/1/RAVDESS dataset/Video_Speech_Actor_04/Actor_04/01-01-01-01-01-02-04.mp4', '/root/.cache/kagglehub/datasets/adrivg/ravdess-emotional-speech-video/versions/1/RAVDESS dataset/Video_Speech_Actor_04/Actor_04/01-01-06-02-02-02-04.mp4', '/root/.cache/kagglehub/datasets/adrivg/ravdess-emotional-speech-video/versions/1/RAVDESS dataset/Video_Speech_Actor_04/Actor_04/01-01-08-01-01-01-04.mp4', '/root/.cache/kagglehub/datasets/adrivg/ravdess-emotional-speech-video/versions/1/RAVDESS dataset/Video_Speech_Actor_04/Actor_04/01-01-02-01-02-01-04.mp4', '/root/.cache/kagglehub/datasets/adrivg/ravdess-emotional-speech-video/versions/1/RAVDESS dataset/Video_Speech_Actor_04/Actor_04/01-01-03-02-01-01-04.mp4', '/root/.cache/kagglehub/datasets/adrivg/ravdess-emotional-speech-video/versions/1/RAVDESS dataset/Video_Speech_Actor_04/Actor_04/01-01-06-02-01-02-04.mp4', '/root/.cache/kagglehub/datasets/adrivg/ravdess-emotional-speech-video/versions/1/RAVDESS dataset/Video_Speech_Actor_04/Actor_04/01-01-01-01-02-02-04.mp4', '/root/.cache/kagglehub/datasets/adrivg/ravdess-emotional-speech-video/versions/1/RAVDESS dataset/Video_Speech_Actor_04/Actor_04/01-01-06-01-02-01-04.mp4', '/root/.cache/kagglehub/datasets/adrivg/ravdess-emotional-speech-video/versions/1/RAVDESS dataset/Video_Speech_Actor_04/Actor_04/01-01-03-02-02-02-04.mp4', '/root/.cache/kagglehub/datasets/adrivg/ravdess-emotional-speech-video/versions/1/RAVDESS dataset/Video_Speech_Actor_04/Actor_04/01-01-06-02-01-01-04.mp4', '/root/.cache/kagglehub/datasets/adrivg/ravdess-emotional-speech-video/versions/1/RAVDESS dataset/Video_Speech_Actor_04/Actor_04/01-01-02-02-01-02-04.mp4', '/root/.cache/kagglehub/datasets/adrivg/ravdess-emotional-speech-video/versions/1/RAVDESS dataset/Video_Speech_Actor_04/Actor_04/01-01-02-01-02-02-04.mp4', '/root/.cache/kagglehub/datasets/adrivg/ravdess-emotional-speech-video/versions/1/RAVDESS dataset/Video_Speech_Actor_04/Actor_04/01-01-03-01-01-01-04.mp4', '/root/.cache/kagglehub/datasets/adrivg/ravdess-emotional-speech-video/versions/1/RAVDESS dataset/Video_Speech_Actor_04/Actor_04/01-01-03-01-01-02-04.mp4', '/root/.cache/kagglehub/datasets/adrivg/ravdess-emotional-speech-video/versions/1/RAVDESS dataset/Video_Speech_Actor_04/Actor_04/01-01-08-02-02-01-04.mp4', '/root/.cache/kagglehub/datasets/adrivg/ravdess-emotional-speech-video/versions/1/RAVDESS dataset/Video_Speech_Actor_04/Actor_04/01-01-08-02-01-01-04.mp4', '/root/.cache/kagglehub/datasets/adrivg/ravdess-emotional-speech-video/versions/1/RAVDESS dataset/Video_Speech_Actor_04/Actor_04/01-01-07-01-02-01-04.mp4', '/root/.cache/kagglehub/datasets/adrivg/ravdess-emotional-speech-video/versions/1/RAVDESS dataset/Video_Speech_Actor_04/Actor_04/01-01-02-01-01-02-04.mp4', '/root/.cache/kagglehub/datasets/adrivg/ravdess-emotional-speech-video/versions/1/RAVDESS dataset/Video_Speech_Actor_04/Actor_04/01-01-08-01-02-01-04.mp4', '/root/.cache/kagglehub/datasets/adrivg/ravdess-emotional-speech-video/versions/1/RAVDESS dataset/Video_Speech_Actor_04/Actor_04/01-01-04-02-02-01-04.mp4', '/root/.cache/kagglehub/datasets/adrivg/ravdess-emotional-speech-video/versions/1/RAVDESS dataset/Video_Speech_Actor_04/Actor_04/01-01-08-01-01-02-04.mp4', '/root/.cache/kagglehub/datasets/adrivg/ravdess-emotional-speech-video/versions/1/RAVDESS dataset/Video_Speech_Actor_04/Actor_04/01-01-03-02-01-02-04.mp4', '/root/.cache/kagglehub/datasets/adrivg/ravdess-emotional-speech-video/versions/1/RAVDESS dataset/Video_Speech_Actor_04/Actor_04/01-01-04-02-01-01-04.mp4', '/root/.cache/kagglehub/datasets/adrivg/ravdess-emotional-speech-video/versions/1/RAVDESS dataset/Video_Speech_Actor_04/Actor_04/01-01-08-02-01-02-04.mp4', '/root/.cache/kagglehub/datasets/adrivg/ravdess-emotional-speech-video/versions/1/RAVDESS dataset/Video_Speech_Actor_04/Actor_04/01-01-05-01-01-01-04.mp4', '/root/.cache/kagglehub/datasets/adrivg/ravdess-emotional-speech-video/versions/1/RAVDESS dataset/Video_Speech_Actor_04/Actor_04/01-01-04-02-02-02-04.mp4', '/root/.cache/kagglehub/datasets/adrivg/ravdess-emotional-speech-video/versions/1/RAVDESS dataset/Video_Speech_Actor_04/Actor_04/01-01-03-01-02-01-04.mp4', '/root/.cache/kagglehub/datasets/adrivg/ravdess-emotional-speech-video/versions/1/RAVDESS dataset/Video_Speech_Actor_04/Actor_04/01-01-02-01-01-01-04.mp4', '/root/.cache/kagglehub/datasets/adrivg/ravdess-emotional-speech-video/versions/1/RAVDESS dataset/Video_Speech_Actor_04/Actor_04/01-01-04-01-02-02-04.mp4', '/root/.cache/kagglehub/datasets/adrivg/ravdess-emotional-speech-video/versions/1/RAVDESS dataset/Video_Speech_Actor_04/Actor_04/01-01-06-01-01-02-04.mp4', '/root/.cache/kagglehub/datasets/adrivg/ravdess-emotional-speech-video/versions/1/RAVDESS dataset/Video_Speech_Actor_04/Actor_04/01-01-05-02-02-01-04.mp4', '/root/.cache/kagglehub/datasets/adrivg/ravdess-emotional-speech-video/versions/1/RAVDESS dataset/Video_Speech_Actor_04/Actor_04/01-01-04-02-01-02-04.mp4', '/root/.cache/kagglehub/datasets/adrivg/ravdess-emotional-speech-video/versions/1/RAVDESS dataset/Video_Speech_Actor_04/Actor_04/01-01-04-01-01-02-04.mp4', '/root/.cache/kagglehub/datasets/adrivg/ravdess-emotional-speech-video/versions/1/RAVDESS dataset/Video_Speech_Actor_04/Actor_04/01-01-05-02-01-02-04.mp4', '/root/.cache/kagglehub/datasets/adrivg/ravdess-emotional-speech-video/versions/1/RAVDESS dataset/Video_Speech_Actor_04/Actor_04/01-01-05-01-01-02-04.mp4', '/root/.cache/kagglehub/datasets/adrivg/ravdess-emotional-speech-video/versions/1/RAVDESS dataset/Video_Speech_Actor_04/Actor_04/01-01-06-01-01-01-04.mp4', '/root/.cache/kagglehub/datasets/adrivg/ravdess-emotional-speech-video/versions/1/RAVDESS dataset/Video_Speech_Actor_04/Actor_04/01-01-07-02-02-01-04.mp4', '/root/.cache/kagglehub/datasets/adrivg/ravdess-emotional-speech-video/versions/1/RAVDESS dataset/Video_Speech_Actor_04/Actor_04/01-01-04-01-02-01-04.mp4', '/root/.cache/kagglehub/datasets/adrivg/ravdess-emotional-speech-video/versions/1/RAVDESS dataset/Video_Speech_Actor_04/Actor_04/01-01-06-01-02-02-04.mp4', '/root/.cache/kagglehub/datasets/adrivg/ravdess-emotional-speech-video/versions/1/RAVDESS dataset/Video_Speech_Actor_21/Actor_21/01-01-04-01-02-01-21.mp4', '/root/.cache/kagglehub/datasets/adrivg/ravdess-emotional-speech-video/versions/1/RAVDESS dataset/Video_Speech_Actor_21/Actor_21/01-01-08-01-02-01-21.mp4', '/root/.cache/kagglehub/datasets/adrivg/ravdess-emotional-speech-video/versions/1/RAVDESS dataset/Video_Speech_Actor_21/Actor_21/01-01-08-02-02-01-21.mp4', '/root/.cache/kagglehub/datasets/adrivg/ravdess-emotional-speech-video/versions/1/RAVDESS dataset/Video_Speech_Actor_21/Actor_21/01-01-05-01-01-01-21.mp4', '/root/.cache/kagglehub/datasets/adrivg/ravdess-emotional-speech-video/versions/1/RAVDESS dataset/Video_Speech_Actor_21/Actor_21/01-01-06-01-02-02-21.mp4', '/root/.cache/kagglehub/datasets/adrivg/ravdess-emotional-speech-video/versions/1/RAVDESS dataset/Video_Speech_Actor_21/Actor_21/01-01-04-02-01-01-21.mp4', '/root/.cache/kagglehub/datasets/adrivg/ravdess-emotional-speech-video/versions/1/RAVDESS dataset/Video_Speech_Actor_21/Actor_21/01-01-06-02-01-01-21.mp4', '/root/.cache/kagglehub/datasets/adrivg/ravdess-emotional-speech-video/versions/1/RAVDESS dataset/Video_Speech_Actor_21/Actor_21/01-01-02-01-02-02-21.mp4', '/root/.cache/kagglehub/datasets/adrivg/ravdess-emotional-speech-video/versions/1/RAVDESS dataset/Video_Speech_Actor_21/Actor_21/01-01-04-02-02-02-21.mp4', '/root/.cache/kagglehub/datasets/adrivg/ravdess-emotional-speech-video/versions/1/RAVDESS dataset/Video_Speech_Actor_21/Actor_21/01-01-05-02-02-02-21.mp4', '/root/.cache/kagglehub/datasets/adrivg/ravdess-emotional-speech-video/versions/1/RAVDESS dataset/Video_Speech_Actor_21/Actor_21/01-01-06-02-02-01-21.mp4', '/root/.cache/kagglehub/datasets/adrivg/ravdess-emotional-speech-video/versions/1/RAVDESS dataset/Video_Speech_Actor_21/Actor_21/01-01-06-01-01-02-21.mp4', '/root/.cache/kagglehub/datasets/adrivg/ravdess-emotional-speech-video/versions/1/RAVDESS dataset/Video_Speech_Actor_21/Actor_21/01-01-06-02-01-02-21.mp4', '/root/.cache/kagglehub/datasets/adrivg/ravdess-emotional-speech-video/versions/1/RAVDESS dataset/Video_Speech_Actor_21/Actor_21/01-01-06-02-02-02-21.mp4', '/root/.cache/kagglehub/datasets/adrivg/ravdess-emotional-speech-video/versions/1/RAVDESS dataset/Video_Speech_Actor_21/Actor_21/01-01-02-02-01-01-21.mp4', '/root/.cache/kagglehub/datasets/adrivg/ravdess-emotional-speech-video/versions/1/RAVDESS dataset/Video_Speech_Actor_21/Actor_21/01-01-06-01-01-01-21.mp4', '/root/.cache/kagglehub/datasets/adrivg/ravdess-emotional-speech-video/versions/1/RAVDESS dataset/Video_Speech_Actor_21/Actor_21/01-01-08-02-01-01-21.mp4', '/root/.cache/kagglehub/datasets/adrivg/ravdess-emotional-speech-video/versions/1/RAVDESS dataset/Video_Speech_Actor_21/Actor_21/01-01-05-01-02-02-21.mp4', '/root/.cache/kagglehub/datasets/adrivg/ravdess-emotional-speech-video/versions/1/RAVDESS dataset/Video_Speech_Actor_21/Actor_21/01-01-02-01-01-02-21.mp4', '/root/.cache/kagglehub/datasets/adrivg/ravdess-emotional-speech-video/versions/1/RAVDESS dataset/Video_Speech_Actor_21/Actor_21/01-01-01-01-01-02-21.mp4', '/root/.cache/kagglehub/datasets/adrivg/ravdess-emotional-speech-video/versions/1/RAVDESS dataset/Video_Speech_Actor_21/Actor_21/01-01-03-02-01-02-21.mp4', '/root/.cache/kagglehub/datasets/adrivg/ravdess-emotional-speech-video/versions/1/RAVDESS dataset/Video_Speech_Actor_21/Actor_21/01-01-04-01-01-01-21.mp4', '/root/.cache/kagglehub/datasets/adrivg/ravdess-emotional-speech-video/versions/1/RAVDESS dataset/Video_Speech_Actor_21/Actor_21/01-01-07-02-01-02-21.mp4', '/root/.cache/kagglehub/datasets/adrivg/ravdess-emotional-speech-video/versions/1/RAVDESS dataset/Video_Speech_Actor_21/Actor_21/01-01-06-01-02-01-21.mp4', '/root/.cache/kagglehub/datasets/adrivg/ravdess-emotional-speech-video/versions/1/RAVDESS dataset/Video_Speech_Actor_21/Actor_21/01-01-08-01-01-01-21.mp4', '/root/.cache/kagglehub/datasets/adrivg/ravdess-emotional-speech-video/versions/1/RAVDESS dataset/Video_Speech_Actor_21/Actor_21/01-01-07-02-02-02-21.mp4', '/root/.cache/kagglehub/datasets/adrivg/ravdess-emotional-speech-video/versions/1/RAVDESS dataset/Video_Speech_Actor_21/Actor_21/01-01-03-02-01-01-21.mp4', '/root/.cache/kagglehub/datasets/adrivg/ravdess-emotional-speech-video/versions/1/RAVDESS dataset/Video_Speech_Actor_21/Actor_21/01-01-02-01-01-01-21.mp4', '/root/.cache/kagglehub/datasets/adrivg/ravdess-emotional-speech-video/versions/1/RAVDESS dataset/Video_Speech_Actor_21/Actor_21/01-01-08-02-01-02-21.mp4', '/root/.cache/kagglehub/datasets/adrivg/ravdess-emotional-speech-video/versions/1/RAVDESS dataset/Video_Speech_Actor_21/Actor_21/01-01-05-02-01-02-21.mp4', '/root/.cache/kagglehub/datasets/adrivg/ravdess-emotional-speech-video/versions/1/RAVDESS dataset/Video_Speech_Actor_21/Actor_21/01-01-03-02-02-02-21.mp4', '/root/.cache/kagglehub/datasets/adrivg/ravdess-emotional-speech-video/versions/1/RAVDESS dataset/Video_Speech_Actor_21/Actor_21/01-01-01-01-02-02-21.mp4', '/root/.cache/kagglehub/datasets/adrivg/ravdess-emotional-speech-video/versions/1/RAVDESS dataset/Video_Speech_Actor_21/Actor_21/01-01-01-01-01-01-21.mp4', '/root/.cache/kagglehub/datasets/adrivg/ravdess-emotional-speech-video/versions/1/RAVDESS dataset/Video_Speech_Actor_21/Actor_21/01-01-05-01-02-01-21.mp4', '/root/.cache/kagglehub/datasets/adrivg/ravdess-emotional-speech-video/versions/1/RAVDESS dataset/Video_Speech_Actor_21/Actor_21/01-01-07-02-01-01-21.mp4', '/root/.cache/kagglehub/datasets/adrivg/ravdess-emotional-speech-video/versions/1/RAVDESS dataset/Video_Speech_Actor_21/Actor_21/01-01-02-02-01-02-21.mp4', '/root/.cache/kagglehub/datasets/adrivg/ravdess-emotional-speech-video/versions/1/RAVDESS dataset/Video_Speech_Actor_21/Actor_21/01-01-02-01-02-01-21.mp4', '/root/.cache/kagglehub/datasets/adrivg/ravdess-emotional-speech-video/versions/1/RAVDESS dataset/Video_Speech_Actor_21/Actor_21/01-01-03-02-02-01-21.mp4', '/root/.cache/kagglehub/datasets/adrivg/ravdess-emotional-speech-video/versions/1/RAVDESS dataset/Video_Speech_Actor_21/Actor_21/01-01-04-01-01-02-21.mp4', '/root/.cache/kagglehub/datasets/adrivg/ravdess-emotional-speech-video/versions/1/RAVDESS dataset/Video_Speech_Actor_21/Actor_21/01-01-08-01-01-02-21.mp4', '/root/.cache/kagglehub/datasets/adrivg/ravdess-emotional-speech-video/versions/1/RAVDESS dataset/Video_Speech_Actor_21/Actor_21/01-01-04-02-01-02-21.mp4', '/root/.cache/kagglehub/datasets/adrivg/ravdess-emotional-speech-video/versions/1/RAVDESS dataset/Video_Speech_Actor_21/Actor_21/01-01-08-02-02-02-21.mp4', '/root/.cache/kagglehub/datasets/adrivg/ravdess-emotional-speech-video/versions/1/RAVDESS dataset/Video_Speech_Actor_21/Actor_21/01-01-05-02-01-01-21.mp4', '/root/.cache/kagglehub/datasets/adrivg/ravdess-emotional-speech-video/versions/1/RAVDESS dataset/Video_Speech_Actor_21/Actor_21/01-01-05-02-02-01-21.mp4', '/root/.cache/kagglehub/datasets/adrivg/ravdess-emotional-speech-video/versions/1/RAVDESS dataset/Video_Speech_Actor_21/Actor_21/01-01-05-01-01-02-21.mp4', '/root/.cache/kagglehub/datasets/adrivg/ravdess-emotional-speech-video/versions/1/RAVDESS dataset/Video_Speech_Actor_21/Actor_21/01-01-07-02-02-01-21.mp4', '/root/.cache/kagglehub/datasets/adrivg/ravdess-emotional-speech-video/versions/1/RAVDESS dataset/Video_Speech_Actor_21/Actor_21/01-01-02-02-02-02-21.mp4', '/root/.cache/kagglehub/datasets/adrivg/ravdess-emotional-speech-video/versions/1/RAVDESS dataset/Video_Speech_Actor_21/Actor_21/01-01-08-01-02-02-21.mp4', '/root/.cache/kagglehub/datasets/adrivg/ravdess-emotional-speech-video/versions/1/RAVDESS dataset/Video_Speech_Actor_21/Actor_21/01-01-04-02-02-01-21.mp4', '/root/.cache/kagglehub/datasets/adrivg/ravdess-emotional-speech-video/versions/1/RAVDESS dataset/Video_Speech_Actor_21/Actor_21/01-01-07-01-02-01-21.mp4', '/root/.cache/kagglehub/datasets/adrivg/ravdess-emotional-speech-video/versions/1/RAVDESS dataset/Video_Speech_Actor_21/Actor_21/01-01-01-01-02-01-21.mp4', '/root/.cache/kagglehub/datasets/adrivg/ravdess-emotional-speech-video/versions/1/RAVDESS dataset/Video_Speech_Actor_21/Actor_21/01-01-02-02-02-01-21.mp4', '/root/.cache/kagglehub/datasets/adrivg/ravdess-emotional-speech-video/versions/1/RAVDESS dataset/Video_Speech_Actor_21/Actor_21/01-01-07-01-02-02-21.mp4', '/root/.cache/kagglehub/datasets/adrivg/ravdess-emotional-speech-video/versions/1/RAVDESS dataset/Video_Speech_Actor_21/Actor_21/01-01-07-01-01-01-21.mp4', '/root/.cache/kagglehub/datasets/adrivg/ravdess-emotional-speech-video/versions/1/RAVDESS dataset/Video_Speech_Actor_21/Actor_21/01-01-03-01-02-02-21.mp4', '/root/.cache/kagglehub/datasets/adrivg/ravdess-emotional-speech-video/versions/1/RAVDESS dataset/Video_Speech_Actor_21/Actor_21/01-01-03-01-02-01-21.mp4', '/root/.cache/kagglehub/datasets/adrivg/ravdess-emotional-speech-video/versions/1/RAVDESS dataset/Video_Speech_Actor_21/Actor_21/01-01-03-01-01-01-21.mp4', '/root/.cache/kagglehub/datasets/adrivg/ravdess-emotional-speech-video/versions/1/RAVDESS dataset/Video_Speech_Actor_21/Actor_21/01-01-03-01-01-02-21.mp4', '/root/.cache/kagglehub/datasets/adrivg/ravdess-emotional-speech-video/versions/1/RAVDESS dataset/Video_Speech_Actor_21/Actor_21/01-01-04-01-02-02-21.mp4', '/root/.cache/kagglehub/datasets/adrivg/ravdess-emotional-speech-video/versions/1/RAVDESS dataset/Video_Speech_Actor_21/Actor_21/01-01-07-01-01-02-21.mp4', '/root/.cache/kagglehub/datasets/adrivg/ravdess-emotional-speech-video/versions/1/RAVDESS dataset/Video_Speech_Actor_06/Actor_06/01-01-06-02-02-01-06.mp4', '/root/.cache/kagglehub/datasets/adrivg/ravdess-emotional-speech-video/versions/1/RAVDESS dataset/Video_Speech_Actor_06/Actor_06/01-01-02-02-01-01-06.mp4', '/root/.cache/kagglehub/datasets/adrivg/ravdess-emotional-speech-video/versions/1/RAVDESS dataset/Video_Speech_Actor_06/Actor_06/01-01-05-02-01-01-06.mp4', '/root/.cache/kagglehub/datasets/adrivg/ravdess-emotional-speech-video/versions/1/RAVDESS dataset/Video_Speech_Actor_06/Actor_06/01-01-01-01-01-01-06.mp4', '/root/.cache/kagglehub/datasets/adrivg/ravdess-emotional-speech-video/versions/1/RAVDESS dataset/Video_Speech_Actor_06/Actor_06/01-01-06-02-01-01-06.mp4', '/root/.cache/kagglehub/datasets/adrivg/ravdess-emotional-speech-video/versions/1/RAVDESS dataset/Video_Speech_Actor_06/Actor_06/01-01-03-01-01-02-06.mp4', '/root/.cache/kagglehub/datasets/adrivg/ravdess-emotional-speech-video/versions/1/RAVDESS dataset/Video_Speech_Actor_06/Actor_06/01-01-03-01-01-01-06.mp4', '/root/.cache/kagglehub/datasets/adrivg/ravdess-emotional-speech-video/versions/1/RAVDESS dataset/Video_Speech_Actor_06/Actor_06/01-01-01-01-02-01-06.mp4', '/root/.cache/kagglehub/datasets/adrivg/ravdess-emotional-speech-video/versions/1/RAVDESS dataset/Video_Speech_Actor_06/Actor_06/01-01-05-01-02-02-06.mp4', '/root/.cache/kagglehub/datasets/adrivg/ravdess-emotional-speech-video/versions/1/RAVDESS dataset/Video_Speech_Actor_06/Actor_06/01-01-05-02-02-02-06.mp4', '/root/.cache/kagglehub/datasets/adrivg/ravdess-emotional-speech-video/versions/1/RAVDESS dataset/Video_Speech_Actor_06/Actor_06/01-01-08-01-01-01-06.mp4', '/root/.cache/kagglehub/datasets/adrivg/ravdess-emotional-speech-video/versions/1/RAVDESS dataset/Video_Speech_Actor_06/Actor_06/01-01-03-01-02-02-06.mp4', '/root/.cache/kagglehub/datasets/adrivg/ravdess-emotional-speech-video/versions/1/RAVDESS dataset/Video_Speech_Actor_06/Actor_06/01-01-04-02-02-02-06.mp4', '/root/.cache/kagglehub/datasets/adrivg/ravdess-emotional-speech-video/versions/1/RAVDESS dataset/Video_Speech_Actor_06/Actor_06/01-01-08-02-02-02-06.mp4', '/root/.cache/kagglehub/datasets/adrivg/ravdess-emotional-speech-video/versions/1/RAVDESS dataset/Video_Speech_Actor_06/Actor_06/01-01-04-02-02-01-06.mp4', '/root/.cache/kagglehub/datasets/adrivg/ravdess-emotional-speech-video/versions/1/RAVDESS dataset/Video_Speech_Actor_06/Actor_06/01-01-07-02-01-02-06.mp4', '/root/.cache/kagglehub/datasets/adrivg/ravdess-emotional-speech-video/versions/1/RAVDESS dataset/Video_Speech_Actor_06/Actor_06/01-01-04-01-02-01-06.mp4', '/root/.cache/kagglehub/datasets/adrivg/ravdess-emotional-speech-video/versions/1/RAVDESS dataset/Video_Speech_Actor_06/Actor_06/01-01-07-02-02-02-06.mp4', '/root/.cache/kagglehub/datasets/adrivg/ravdess-emotional-speech-video/versions/1/RAVDESS dataset/Video_Speech_Actor_06/Actor_06/01-01-03-02-02-02-06.mp4', '/root/.cache/kagglehub/datasets/adrivg/ravdess-emotional-speech-video/versions/1/RAVDESS dataset/Video_Speech_Actor_06/Actor_06/01-01-06-01-01-01-06.mp4', '/root/.cache/kagglehub/datasets/adrivg/ravdess-emotional-speech-video/versions/1/RAVDESS dataset/Video_Speech_Actor_06/Actor_06/01-01-05-02-01-02-06.mp4', '/root/.cache/kagglehub/datasets/adrivg/ravdess-emotional-speech-video/versions/1/RAVDESS dataset/Video_Speech_Actor_06/Actor_06/01-01-03-01-02-01-06.mp4', '/root/.cache/kagglehub/datasets/adrivg/ravdess-emotional-speech-video/versions/1/RAVDESS dataset/Video_Speech_Actor_06/Actor_06/01-01-07-01-02-02-06.mp4', '/root/.cache/kagglehub/datasets/adrivg/ravdess-emotional-speech-video/versions/1/RAVDESS dataset/Video_Speech_Actor_06/Actor_06/01-01-06-02-01-02-06.mp4', '/root/.cache/kagglehub/datasets/adrivg/ravdess-emotional-speech-video/versions/1/RAVDESS dataset/Video_Speech_Actor_06/Actor_06/01-01-07-01-01-02-06.mp4', '/root/.cache/kagglehub/datasets/adrivg/ravdess-emotional-speech-video/versions/1/RAVDESS dataset/Video_Speech_Actor_06/Actor_06/01-01-07-01-01-01-06.mp4', '/root/.cache/kagglehub/datasets/adrivg/ravdess-emotional-speech-video/versions/1/RAVDESS dataset/Video_Speech_Actor_06/Actor_06/01-01-08-01-01-02-06.mp4', '/root/.cache/kagglehub/datasets/adrivg/ravdess-emotional-speech-video/versions/1/RAVDESS dataset/Video_Speech_Actor_06/Actor_06/01-01-08-01-02-02-06.mp4', '/root/.cache/kagglehub/datasets/adrivg/ravdess-emotional-speech-video/versions/1/RAVDESS dataset/Video_Speech_Actor_06/Actor_06/01-01-02-01-01-01-06.mp4', '/root/.cache/kagglehub/datasets/adrivg/ravdess-emotional-speech-video/versions/1/RAVDESS dataset/Video_Speech_Actor_06/Actor_06/01-01-05-01-02-01-06.mp4', '/root/.cache/kagglehub/datasets/adrivg/ravdess-emotional-speech-video/versions/1/RAVDESS dataset/Video_Speech_Actor_06/Actor_06/01-01-07-02-02-01-06.mp4', '/root/.cache/kagglehub/datasets/adrivg/ravdess-emotional-speech-video/versions/1/RAVDESS dataset/Video_Speech_Actor_06/Actor_06/01-01-04-01-01-01-06.mp4', '/root/.cache/kagglehub/datasets/adrivg/ravdess-emotional-speech-video/versions/1/RAVDESS dataset/Video_Speech_Actor_06/Actor_06/01-01-08-01-02-01-06.mp4', '/root/.cache/kagglehub/datasets/adrivg/ravdess-emotional-speech-video/versions/1/RAVDESS dataset/Video_Speech_Actor_06/Actor_06/01-01-04-02-01-01-06.mp4', '/root/.cache/kagglehub/datasets/adrivg/ravdess-emotional-speech-video/versions/1/RAVDESS dataset/Video_Speech_Actor_06/Actor_06/01-01-03-02-01-02-06.mp4', '/root/.cache/kagglehub/datasets/adrivg/ravdess-emotional-speech-video/versions/1/RAVDESS dataset/Video_Speech_Actor_06/Actor_06/01-01-08-02-02-01-06.mp4', '/root/.cache/kagglehub/datasets/adrivg/ravdess-emotional-speech-video/versions/1/RAVDESS dataset/Video_Speech_Actor_06/Actor_06/01-01-03-02-01-01-06.mp4', '/root/.cache/kagglehub/datasets/adrivg/ravdess-emotional-speech-video/versions/1/RAVDESS dataset/Video_Speech_Actor_06/Actor_06/01-01-02-02-01-02-06.mp4', '/root/.cache/kagglehub/datasets/adrivg/ravdess-emotional-speech-video/versions/1/RAVDESS dataset/Video_Speech_Actor_06/Actor_06/01-01-05-01-01-02-06.mp4', '/root/.cache/kagglehub/datasets/adrivg/ravdess-emotional-speech-video/versions/1/RAVDESS dataset/Video_Speech_Actor_06/Actor_06/01-01-05-01-01-01-06.mp4', '/root/.cache/kagglehub/datasets/adrivg/ravdess-emotional-speech-video/versions/1/RAVDESS dataset/Video_Speech_Actor_06/Actor_06/01-01-06-02-02-02-06.mp4', '/root/.cache/kagglehub/datasets/adrivg/ravdess-emotional-speech-video/versions/1/RAVDESS dataset/Video_Speech_Actor_06/Actor_06/01-01-02-02-02-01-06.mp4', '/root/.cache/kagglehub/datasets/adrivg/ravdess-emotional-speech-video/versions/1/RAVDESS dataset/Video_Speech_Actor_06/Actor_06/01-01-04-01-02-02-06.mp4', '/root/.cache/kagglehub/datasets/adrivg/ravdess-emotional-speech-video/versions/1/RAVDESS dataset/Video_Speech_Actor_06/Actor_06/01-01-06-01-02-01-06.mp4', '/root/.cache/kagglehub/datasets/adrivg/ravdess-emotional-speech-video/versions/1/RAVDESS dataset/Video_Speech_Actor_06/Actor_06/01-01-07-01-02-01-06.mp4', '/root/.cache/kagglehub/datasets/adrivg/ravdess-emotional-speech-video/versions/1/RAVDESS dataset/Video_Speech_Actor_06/Actor_06/01-01-05-02-02-01-06.mp4', '/root/.cache/kagglehub/datasets/adrivg/ravdess-emotional-speech-video/versions/1/RAVDESS dataset/Video_Speech_Actor_06/Actor_06/01-01-07-02-01-01-06.mp4', '/root/.cache/kagglehub/datasets/adrivg/ravdess-emotional-speech-video/versions/1/RAVDESS dataset/Video_Speech_Actor_06/Actor_06/01-01-01-01-01-02-06.mp4', '/root/.cache/kagglehub/datasets/adrivg/ravdess-emotional-speech-video/versions/1/RAVDESS dataset/Video_Speech_Actor_06/Actor_06/01-01-01-01-02-02-06.mp4', '/root/.cache/kagglehub/datasets/adrivg/ravdess-emotional-speech-video/versions/1/RAVDESS dataset/Video_Speech_Actor_06/Actor_06/01-01-02-01-02-01-06.mp4', '/root/.cache/kagglehub/datasets/adrivg/ravdess-emotional-speech-video/versions/1/RAVDESS dataset/Video_Speech_Actor_06/Actor_06/01-01-06-01-01-02-06.mp4', '/root/.cache/kagglehub/datasets/adrivg/ravdess-emotional-speech-video/versions/1/RAVDESS dataset/Video_Speech_Actor_06/Actor_06/01-01-04-01-01-02-06.mp4', '/root/.cache/kagglehub/datasets/adrivg/ravdess-emotional-speech-video/versions/1/RAVDESS dataset/Video_Speech_Actor_06/Actor_06/01-01-06-01-02-02-06.mp4', '/root/.cache/kagglehub/datasets/adrivg/ravdess-emotional-speech-video/versions/1/RAVDESS dataset/Video_Speech_Actor_06/Actor_06/01-01-08-02-01-02-06.mp4', '/root/.cache/kagglehub/datasets/adrivg/ravdess-emotional-speech-video/versions/1/RAVDESS dataset/Video_Speech_Actor_06/Actor_06/01-01-02-01-02-02-06.mp4', '/root/.cache/kagglehub/datasets/adrivg/ravdess-emotional-speech-video/versions/1/RAVDESS dataset/Video_Speech_Actor_06/Actor_06/01-01-02-01-01-02-06.mp4', '/root/.cache/kagglehub/datasets/adrivg/ravdess-emotional-speech-video/versions/1/RAVDESS dataset/Video_Speech_Actor_06/Actor_06/01-01-04-02-01-02-06.mp4', '/root/.cache/kagglehub/datasets/adrivg/ravdess-emotional-speech-video/versions/1/RAVDESS dataset/Video_Speech_Actor_06/Actor_06/01-01-08-02-01-01-06.mp4', '/root/.cache/kagglehub/datasets/adrivg/ravdess-emotional-speech-video/versions/1/RAVDESS dataset/Video_Speech_Actor_06/Actor_06/01-01-03-02-02-01-06.mp4', '/root/.cache/kagglehub/datasets/adrivg/ravdess-emotional-speech-video/versions/1/RAVDESS dataset/Video_Speech_Actor_06/Actor_06/01-01-02-02-02-02-06.mp4', '/root/.cache/kagglehub/datasets/adrivg/ravdess-emotional-speech-video/versions/1/RAVDESS dataset/Video_Speech_Actor_05/Actor_05/01-01-06-02-02-01-05.mp4', '/root/.cache/kagglehub/datasets/adrivg/ravdess-emotional-speech-video/versions/1/RAVDESS dataset/Video_Speech_Actor_05/Actor_05/01-01-03-02-01-01-05.mp4', '/root/.cache/kagglehub/datasets/adrivg/ravdess-emotional-speech-video/versions/1/RAVDESS dataset/Video_Speech_Actor_05/Actor_05/01-01-03-01-02-02-05.mp4', '/root/.cache/kagglehub/datasets/adrivg/ravdess-emotional-speech-video/versions/1/RAVDESS dataset/Video_Speech_Actor_05/Actor_05/01-01-07-01-01-02-05.mp4', '/root/.cache/kagglehub/datasets/adrivg/ravdess-emotional-speech-video/versions/1/RAVDESS dataset/Video_Speech_Actor_05/Actor_05/01-01-04-02-02-02-05.mp4', '/root/.cache/kagglehub/datasets/adrivg/ravdess-emotional-speech-video/versions/1/RAVDESS dataset/Video_Speech_Actor_05/Actor_05/01-01-04-01-01-01-05.mp4', '/root/.cache/kagglehub/datasets/adrivg/ravdess-emotional-speech-video/versions/1/RAVDESS dataset/Video_Speech_Actor_05/Actor_05/01-01-02-02-02-02-05.mp4', '/root/.cache/kagglehub/datasets/adrivg/ravdess-emotional-speech-video/versions/1/RAVDESS dataset/Video_Speech_Actor_05/Actor_05/01-01-01-01-02-02-05.mp4', '/root/.cache/kagglehub/datasets/adrivg/ravdess-emotional-speech-video/versions/1/RAVDESS dataset/Video_Speech_Actor_05/Actor_05/01-01-07-01-01-01-05.mp4', '/root/.cache/kagglehub/datasets/adrivg/ravdess-emotional-speech-video/versions/1/RAVDESS dataset/Video_Speech_Actor_05/Actor_05/01-01-05-01-01-01-05.mp4', '/root/.cache/kagglehub/datasets/adrivg/ravdess-emotional-speech-video/versions/1/RAVDESS dataset/Video_Speech_Actor_05/Actor_05/01-01-07-01-02-02-05.mp4', '/root/.cache/kagglehub/datasets/adrivg/ravdess-emotional-speech-video/versions/1/RAVDESS dataset/Video_Speech_Actor_05/Actor_05/01-01-06-01-02-02-05.mp4', '/root/.cache/kagglehub/datasets/adrivg/ravdess-emotional-speech-video/versions/1/RAVDESS dataset/Video_Speech_Actor_05/Actor_05/01-01-05-02-01-01-05.mp4', '/root/.cache/kagglehub/datasets/adrivg/ravdess-emotional-speech-video/versions/1/RAVDESS dataset/Video_Speech_Actor_05/Actor_05/01-01-02-01-01-02-05.mp4', '/root/.cache/kagglehub/datasets/adrivg/ravdess-emotional-speech-video/versions/1/RAVDESS dataset/Video_Speech_Actor_05/Actor_05/01-01-06-01-01-02-05.mp4', '/root/.cache/kagglehub/datasets/adrivg/ravdess-emotional-speech-video/versions/1/RAVDESS dataset/Video_Speech_Actor_05/Actor_05/01-01-06-02-01-02-05.mp4', '/root/.cache/kagglehub/datasets/adrivg/ravdess-emotional-speech-video/versions/1/RAVDESS dataset/Video_Speech_Actor_05/Actor_05/01-01-01-01-02-01-05.mp4', '/root/.cache/kagglehub/datasets/adrivg/ravdess-emotional-speech-video/versions/1/RAVDESS dataset/Video_Speech_Actor_05/Actor_05/01-01-05-01-01-02-05.mp4', '/root/.cache/kagglehub/datasets/adrivg/ravdess-emotional-speech-video/versions/1/RAVDESS dataset/Video_Speech_Actor_05/Actor_05/01-01-04-02-01-02-05.mp4', '/root/.cache/kagglehub/datasets/adrivg/ravdess-emotional-speech-video/versions/1/RAVDESS dataset/Video_Speech_Actor_05/Actor_05/01-01-05-02-02-02-05.mp4', '/root/.cache/kagglehub/datasets/adrivg/ravdess-emotional-speech-video/versions/1/RAVDESS dataset/Video_Speech_Actor_05/Actor_05/01-01-02-02-01-01-05.mp4', '/root/.cache/kagglehub/datasets/adrivg/ravdess-emotional-speech-video/versions/1/RAVDESS dataset/Video_Speech_Actor_05/Actor_05/01-01-03-01-02-01-05.mp4', '/root/.cache/kagglehub/datasets/adrivg/ravdess-emotional-speech-video/versions/1/RAVDESS dataset/Video_Speech_Actor_05/Actor_05/01-01-04-01-01-02-05.mp4', '/root/.cache/kagglehub/datasets/adrivg/ravdess-emotional-speech-video/versions/1/RAVDESS dataset/Video_Speech_Actor_05/Actor_05/01-01-08-01-02-01-05.mp4', '/root/.cache/kagglehub/datasets/adrivg/ravdess-emotional-speech-video/versions/1/RAVDESS dataset/Video_Speech_Actor_05/Actor_05/01-01-02-01-01-01-05.mp4', '/root/.cache/kagglehub/datasets/adrivg/ravdess-emotional-speech-video/versions/1/RAVDESS dataset/Video_Speech_Actor_05/Actor_05/01-01-01-01-01-02-05.mp4', '/root/.cache/kagglehub/datasets/adrivg/ravdess-emotional-speech-video/versions/1/RAVDESS dataset/Video_Speech_Actor_05/Actor_05/01-01-05-01-02-02-05.mp4', '/root/.cache/kagglehub/datasets/adrivg/ravdess-emotional-speech-video/versions/1/RAVDESS dataset/Video_Speech_Actor_05/Actor_05/01-01-02-02-02-01-05.mp4', '/root/.cache/kagglehub/datasets/adrivg/ravdess-emotional-speech-video/versions/1/RAVDESS dataset/Video_Speech_Actor_05/Actor_05/01-01-02-02-01-02-05.mp4', '/root/.cache/kagglehub/datasets/adrivg/ravdess-emotional-speech-video/versions/1/RAVDESS dataset/Video_Speech_Actor_05/Actor_05/01-01-03-02-02-02-05.mp4', '/root/.cache/kagglehub/datasets/adrivg/ravdess-emotional-speech-video/versions/1/RAVDESS dataset/Video_Speech_Actor_05/Actor_05/01-01-08-01-01-02-05.mp4', '/root/.cache/kagglehub/datasets/adrivg/ravdess-emotional-speech-video/versions/1/RAVDESS dataset/Video_Speech_Actor_05/Actor_05/01-01-07-01-02-01-05.mp4', '/root/.cache/kagglehub/datasets/adrivg/ravdess-emotional-speech-video/versions/1/RAVDESS dataset/Video_Speech_Actor_05/Actor_05/01-01-06-02-02-02-05.mp4', '/root/.cache/kagglehub/datasets/adrivg/ravdess-emotional-speech-video/versions/1/RAVDESS dataset/Video_Speech_Actor_05/Actor_05/01-01-08-02-01-01-05.mp4', '/root/.cache/kagglehub/datasets/adrivg/ravdess-emotional-speech-video/versions/1/RAVDESS dataset/Video_Speech_Actor_05/Actor_05/01-01-07-02-02-02-05.mp4', '/root/.cache/kagglehub/datasets/adrivg/ravdess-emotional-speech-video/versions/1/RAVDESS dataset/Video_Speech_Actor_05/Actor_05/01-01-06-01-01-01-05.mp4', '/root/.cache/kagglehub/datasets/adrivg/ravdess-emotional-speech-video/versions/1/RAVDESS dataset/Video_Speech_Actor_05/Actor_05/01-01-04-01-02-02-05.mp4', '/root/.cache/kagglehub/datasets/adrivg/ravdess-emotional-speech-video/versions/1/RAVDESS dataset/Video_Speech_Actor_05/Actor_05/01-01-04-02-02-01-05.mp4', '/root/.cache/kagglehub/datasets/adrivg/ravdess-emotional-speech-video/versions/1/RAVDESS dataset/Video_Speech_Actor_05/Actor_05/01-01-02-01-02-01-05.mp4', '/root/.cache/kagglehub/datasets/adrivg/ravdess-emotional-speech-video/versions/1/RAVDESS dataset/Video_Speech_Actor_05/Actor_05/01-01-03-01-01-01-05.mp4', '/root/.cache/kagglehub/datasets/adrivg/ravdess-emotional-speech-video/versions/1/RAVDESS dataset/Video_Speech_Actor_05/Actor_05/01-01-04-01-02-01-05.mp4', '/root/.cache/kagglehub/datasets/adrivg/ravdess-emotional-speech-video/versions/1/RAVDESS dataset/Video_Speech_Actor_05/Actor_05/01-01-08-01-02-02-05.mp4', '/root/.cache/kagglehub/datasets/adrivg/ravdess-emotional-speech-video/versions/1/RAVDESS dataset/Video_Speech_Actor_05/Actor_05/01-01-03-02-01-02-05.mp4', '/root/.cache/kagglehub/datasets/adrivg/ravdess-emotional-speech-video/versions/1/RAVDESS dataset/Video_Speech_Actor_05/Actor_05/01-01-08-02-02-01-05.mp4', '/root/.cache/kagglehub/datasets/adrivg/ravdess-emotional-speech-video/versions/1/RAVDESS dataset/Video_Speech_Actor_05/Actor_05/01-01-06-02-01-01-05.mp4', '/root/.cache/kagglehub/datasets/adrivg/ravdess-emotional-speech-video/versions/1/RAVDESS dataset/Video_Speech_Actor_05/Actor_05/01-01-08-01-01-01-05.mp4', '/root/.cache/kagglehub/datasets/adrivg/ravdess-emotional-speech-video/versions/1/RAVDESS dataset/Video_Speech_Actor_05/Actor_05/01-01-03-02-02-01-05.mp4', '/root/.cache/kagglehub/datasets/adrivg/ravdess-emotional-speech-video/versions/1/RAVDESS dataset/Video_Speech_Actor_05/Actor_05/01-01-03-01-01-02-05.mp4', '/root/.cache/kagglehub/datasets/adrivg/ravdess-emotional-speech-video/versions/1/RAVDESS dataset/Video_Speech_Actor_05/Actor_05/01-01-08-02-02-02-05.mp4', '/root/.cache/kagglehub/datasets/adrivg/ravdess-emotional-speech-video/versions/1/RAVDESS dataset/Video_Speech_Actor_05/Actor_05/01-01-05-02-02-01-05.mp4', '/root/.cache/kagglehub/datasets/adrivg/ravdess-emotional-speech-video/versions/1/RAVDESS dataset/Video_Speech_Actor_05/Actor_05/01-01-05-02-01-02-05.mp4', '/root/.cache/kagglehub/datasets/adrivg/ravdess-emotional-speech-video/versions/1/RAVDESS dataset/Video_Speech_Actor_05/Actor_05/01-01-08-02-01-02-05.mp4', '/root/.cache/kagglehub/datasets/adrivg/ravdess-emotional-speech-video/versions/1/RAVDESS dataset/Video_Speech_Actor_05/Actor_05/01-01-07-02-01-01-05.mp4', '/root/.cache/kagglehub/datasets/adrivg/ravdess-emotional-speech-video/versions/1/RAVDESS dataset/Video_Speech_Actor_05/Actor_05/01-01-06-01-02-01-05.mp4', '/root/.cache/kagglehub/datasets/adrivg/ravdess-emotional-speech-video/versions/1/RAVDESS dataset/Video_Speech_Actor_05/Actor_05/01-01-01-01-01-01-05.mp4', '/root/.cache/kagglehub/datasets/adrivg/ravdess-emotional-speech-video/versions/1/RAVDESS dataset/Video_Speech_Actor_05/Actor_05/01-01-07-02-02-01-05.mp4', '/root/.cache/kagglehub/datasets/adrivg/ravdess-emotional-speech-video/versions/1/RAVDESS dataset/Video_Speech_Actor_05/Actor_05/01-01-04-02-01-01-05.mp4', '/root/.cache/kagglehub/datasets/adrivg/ravdess-emotional-speech-video/versions/1/RAVDESS dataset/Video_Speech_Actor_05/Actor_05/01-01-07-02-01-02-05.mp4', '/root/.cache/kagglehub/datasets/adrivg/ravdess-emotional-speech-video/versions/1/RAVDESS dataset/Video_Speech_Actor_05/Actor_05/01-01-05-01-02-01-05.mp4', '/root/.cache/kagglehub/datasets/adrivg/ravdess-emotional-speech-video/versions/1/RAVDESS dataset/Video_Speech_Actor_05/Actor_05/01-01-02-01-02-02-05.mp4', '/root/.cache/kagglehub/datasets/adrivg/ravdess-emotional-speech-video/versions/1/RAVDESS dataset/Video_Speech_Actor_22/Actor_22/01-01-05-02-02-01-22.mp4', '/root/.cache/kagglehub/datasets/adrivg/ravdess-emotional-speech-video/versions/1/RAVDESS dataset/Video_Speech_Actor_22/Actor_22/01-01-05-01-01-02-22.mp4', '/root/.cache/kagglehub/datasets/adrivg/ravdess-emotional-speech-video/versions/1/RAVDESS dataset/Video_Speech_Actor_22/Actor_22/01-01-03-01-01-02-22.mp4', '/root/.cache/kagglehub/datasets/adrivg/ravdess-emotional-speech-video/versions/1/RAVDESS dataset/Video_Speech_Actor_22/Actor_22/01-01-05-02-02-02-22.mp4', '/root/.cache/kagglehub/datasets/adrivg/ravdess-emotional-speech-video/versions/1/RAVDESS dataset/Video_Speech_Actor_22/Actor_22/01-01-07-02-01-02-22.mp4', '/root/.cache/kagglehub/datasets/adrivg/ravdess-emotional-speech-video/versions/1/RAVDESS dataset/Video_Speech_Actor_22/Actor_22/01-01-06-02-01-02-22.mp4', '/root/.cache/kagglehub/datasets/adrivg/ravdess-emotional-speech-video/versions/1/RAVDESS dataset/Video_Speech_Actor_22/Actor_22/01-01-08-02-01-01-22.mp4', '/root/.cache/kagglehub/datasets/adrivg/ravdess-emotional-speech-video/versions/1/RAVDESS dataset/Video_Speech_Actor_22/Actor_22/01-01-03-02-02-02-22.mp4', '/root/.cache/kagglehub/datasets/adrivg/ravdess-emotional-speech-video/versions/1/RAVDESS dataset/Video_Speech_Actor_22/Actor_22/01-01-04-02-02-02-22.mp4', '/root/.cache/kagglehub/datasets/adrivg/ravdess-emotional-speech-video/versions/1/RAVDESS dataset/Video_Speech_Actor_22/Actor_22/01-01-06-01-02-02-22.mp4', '/root/.cache/kagglehub/datasets/adrivg/ravdess-emotional-speech-video/versions/1/RAVDESS dataset/Video_Speech_Actor_22/Actor_22/01-01-07-01-01-01-22.mp4', '/root/.cache/kagglehub/datasets/adrivg/ravdess-emotional-speech-video/versions/1/RAVDESS dataset/Video_Speech_Actor_22/Actor_22/01-01-08-02-01-02-22.mp4', '/root/.cache/kagglehub/datasets/adrivg/ravdess-emotional-speech-video/versions/1/RAVDESS dataset/Video_Speech_Actor_22/Actor_22/01-01-08-01-01-01-22.mp4', '/root/.cache/kagglehub/datasets/adrivg/ravdess-emotional-speech-video/versions/1/RAVDESS dataset/Video_Speech_Actor_22/Actor_22/01-01-05-01-02-01-22.mp4', '/root/.cache/kagglehub/datasets/adrivg/ravdess-emotional-speech-video/versions/1/RAVDESS dataset/Video_Speech_Actor_22/Actor_22/01-01-05-01-01-01-22.mp4', '/root/.cache/kagglehub/datasets/adrivg/ravdess-emotional-speech-video/versions/1/RAVDESS dataset/Video_Speech_Actor_22/Actor_22/01-01-02-01-01-02-22.mp4', '/root/.cache/kagglehub/datasets/adrivg/ravdess-emotional-speech-video/versions/1/RAVDESS dataset/Video_Speech_Actor_22/Actor_22/01-01-08-01-01-02-22.mp4', '/root/.cache/kagglehub/datasets/adrivg/ravdess-emotional-speech-video/versions/1/RAVDESS dataset/Video_Speech_Actor_22/Actor_22/01-01-07-01-02-02-22.mp4', '/root/.cache/kagglehub/datasets/adrivg/ravdess-emotional-speech-video/versions/1/RAVDESS dataset/Video_Speech_Actor_22/Actor_22/01-01-04-02-01-02-22.mp4', '/root/.cache/kagglehub/datasets/adrivg/ravdess-emotional-speech-video/versions/1/RAVDESS dataset/Video_Speech_Actor_22/Actor_22/01-01-07-02-01-01-22.mp4', '/root/.cache/kagglehub/datasets/adrivg/ravdess-emotional-speech-video/versions/1/RAVDESS dataset/Video_Speech_Actor_22/Actor_22/01-01-08-02-02-02-22.mp4', '/root/.cache/kagglehub/datasets/adrivg/ravdess-emotional-speech-video/versions/1/RAVDESS dataset/Video_Speech_Actor_22/Actor_22/01-01-05-01-02-02-22.mp4', '/root/.cache/kagglehub/datasets/adrivg/ravdess-emotional-speech-video/versions/1/RAVDESS dataset/Video_Speech_Actor_22/Actor_22/01-01-03-01-01-01-22.mp4', '/root/.cache/kagglehub/datasets/adrivg/ravdess-emotional-speech-video/versions/1/RAVDESS dataset/Video_Speech_Actor_22/Actor_22/01-01-02-02-02-02-22.mp4', '/root/.cache/kagglehub/datasets/adrivg/ravdess-emotional-speech-video/versions/1/RAVDESS dataset/Video_Speech_Actor_22/Actor_22/01-01-05-02-01-02-22.mp4', '/root/.cache/kagglehub/datasets/adrivg/ravdess-emotional-speech-video/versions/1/RAVDESS dataset/Video_Speech_Actor_22/Actor_22/01-01-03-02-01-02-22.mp4', '/root/.cache/kagglehub/datasets/adrivg/ravdess-emotional-speech-video/versions/1/RAVDESS dataset/Video_Speech_Actor_22/Actor_22/01-01-07-01-01-02-22.mp4', '/root/.cache/kagglehub/datasets/adrivg/ravdess-emotional-speech-video/versions/1/RAVDESS dataset/Video_Speech_Actor_22/Actor_22/01-01-02-02-01-01-22.mp4', '/root/.cache/kagglehub/datasets/adrivg/ravdess-emotional-speech-video/versions/1/RAVDESS dataset/Video_Speech_Actor_22/Actor_22/01-01-04-01-01-02-22.mp4', '/root/.cache/kagglehub/datasets/adrivg/ravdess-emotional-speech-video/versions/1/RAVDESS dataset/Video_Speech_Actor_22/Actor_22/01-01-06-02-02-01-22.mp4', '/root/.cache/kagglehub/datasets/adrivg/ravdess-emotional-speech-video/versions/1/RAVDESS dataset/Video_Speech_Actor_22/Actor_22/01-01-07-02-02-01-22.mp4', '/root/.cache/kagglehub/datasets/adrivg/ravdess-emotional-speech-video/versions/1/RAVDESS dataset/Video_Speech_Actor_22/Actor_22/01-01-02-01-02-01-22.mp4', '/root/.cache/kagglehub/datasets/adrivg/ravdess-emotional-speech-video/versions/1/RAVDESS dataset/Video_Speech_Actor_22/Actor_22/01-01-06-02-02-02-22.mp4', '/root/.cache/kagglehub/datasets/adrivg/ravdess-emotional-speech-video/versions/1/RAVDESS dataset/Video_Speech_Actor_22/Actor_22/01-01-08-01-02-01-22.mp4', '/root/.cache/kagglehub/datasets/adrivg/ravdess-emotional-speech-video/versions/1/RAVDESS dataset/Video_Speech_Actor_22/Actor_22/01-01-02-02-01-02-22.mp4', '/root/.cache/kagglehub/datasets/adrivg/ravdess-emotional-speech-video/versions/1/RAVDESS dataset/Video_Speech_Actor_22/Actor_22/01-01-01-01-01-01-22.mp4', '/root/.cache/kagglehub/datasets/adrivg/ravdess-emotional-speech-video/versions/1/RAVDESS dataset/Video_Speech_Actor_22/Actor_22/01-01-04-02-02-01-22.mp4', '/root/.cache/kagglehub/datasets/adrivg/ravdess-emotional-speech-video/versions/1/RAVDESS dataset/Video_Speech_Actor_22/Actor_22/01-01-02-01-02-02-22.mp4', '/root/.cache/kagglehub/datasets/adrivg/ravdess-emotional-speech-video/versions/1/RAVDESS dataset/Video_Speech_Actor_22/Actor_22/01-01-04-01-02-01-22.mp4', '/root/.cache/kagglehub/datasets/adrivg/ravdess-emotional-speech-video/versions/1/RAVDESS dataset/Video_Speech_Actor_22/Actor_22/01-01-04-01-01-01-22.mp4', '/root/.cache/kagglehub/datasets/adrivg/ravdess-emotional-speech-video/versions/1/RAVDESS dataset/Video_Speech_Actor_22/Actor_22/01-01-04-01-02-02-22.mp4', '/root/.cache/kagglehub/datasets/adrivg/ravdess-emotional-speech-video/versions/1/RAVDESS dataset/Video_Speech_Actor_22/Actor_22/01-01-01-01-01-02-22.mp4', '/root/.cache/kagglehub/datasets/adrivg/ravdess-emotional-speech-video/versions/1/RAVDESS dataset/Video_Speech_Actor_22/Actor_22/01-01-01-01-02-02-22.mp4', '/root/.cache/kagglehub/datasets/adrivg/ravdess-emotional-speech-video/versions/1/RAVDESS dataset/Video_Speech_Actor_22/Actor_22/01-01-03-02-01-01-22.mp4', '/root/.cache/kagglehub/datasets/adrivg/ravdess-emotional-speech-video/versions/1/RAVDESS dataset/Video_Speech_Actor_22/Actor_22/01-01-06-02-01-01-22.mp4', '/root/.cache/kagglehub/datasets/adrivg/ravdess-emotional-speech-video/versions/1/RAVDESS dataset/Video_Speech_Actor_22/Actor_22/01-01-08-02-02-01-22.mp4', '/root/.cache/kagglehub/datasets/adrivg/ravdess-emotional-speech-video/versions/1/RAVDESS dataset/Video_Speech_Actor_22/Actor_22/01-01-03-01-02-01-22.mp4', '/root/.cache/kagglehub/datasets/adrivg/ravdess-emotional-speech-video/versions/1/RAVDESS dataset/Video_Speech_Actor_22/Actor_22/01-01-05-02-01-01-22.mp4', '/root/.cache/kagglehub/datasets/adrivg/ravdess-emotional-speech-video/versions/1/RAVDESS dataset/Video_Speech_Actor_22/Actor_22/01-01-06-01-01-02-22.mp4', '/root/.cache/kagglehub/datasets/adrivg/ravdess-emotional-speech-video/versions/1/RAVDESS dataset/Video_Speech_Actor_22/Actor_22/01-01-03-01-02-02-22.mp4', '/root/.cache/kagglehub/datasets/adrivg/ravdess-emotional-speech-video/versions/1/RAVDESS dataset/Video_Speech_Actor_22/Actor_22/01-01-06-01-02-01-22.mp4', '/root/.cache/kagglehub/datasets/adrivg/ravdess-emotional-speech-video/versions/1/RAVDESS dataset/Video_Speech_Actor_22/Actor_22/01-01-01-01-02-01-22.mp4', '/root/.cache/kagglehub/datasets/adrivg/ravdess-emotional-speech-video/versions/1/RAVDESS dataset/Video_Speech_Actor_22/Actor_22/01-01-08-01-02-02-22.mp4', '/root/.cache/kagglehub/datasets/adrivg/ravdess-emotional-speech-video/versions/1/RAVDESS dataset/Video_Speech_Actor_22/Actor_22/01-01-03-02-02-01-22.mp4', '/root/.cache/kagglehub/datasets/adrivg/ravdess-emotional-speech-video/versions/1/RAVDESS dataset/Video_Speech_Actor_22/Actor_22/01-01-06-01-01-01-22.mp4', '/root/.cache/kagglehub/datasets/adrivg/ravdess-emotional-speech-video/versions/1/RAVDESS dataset/Video_Speech_Actor_22/Actor_22/01-01-02-02-02-01-22.mp4', '/root/.cache/kagglehub/datasets/adrivg/ravdess-emotional-speech-video/versions/1/RAVDESS dataset/Video_Speech_Actor_22/Actor_22/01-01-07-02-02-02-22.mp4', '/root/.cache/kagglehub/datasets/adrivg/ravdess-emotional-speech-video/versions/1/RAVDESS dataset/Video_Speech_Actor_22/Actor_22/01-01-07-01-02-01-22.mp4', '/root/.cache/kagglehub/datasets/adrivg/ravdess-emotional-speech-video/versions/1/RAVDESS dataset/Video_Speech_Actor_22/Actor_22/01-01-02-01-01-01-22.mp4', '/root/.cache/kagglehub/datasets/adrivg/ravdess-emotional-speech-video/versions/1/RAVDESS dataset/Video_Speech_Actor_22/Actor_22/01-01-04-02-01-01-22.mp4', '/root/.cache/kagglehub/datasets/adrivg/ravdess-emotional-speech-video/versions/1/RAVDESS dataset/Video_Speech_Actor_07/Actor_07/01-01-01-01-01-02-07.mp4', '/root/.cache/kagglehub/datasets/adrivg/ravdess-emotional-speech-video/versions/1/RAVDESS dataset/Video_Speech_Actor_07/Actor_07/01-01-02-01-01-02-07.mp4', '/root/.cache/kagglehub/datasets/adrivg/ravdess-emotional-speech-video/versions/1/RAVDESS dataset/Video_Speech_Actor_07/Actor_07/01-01-03-02-02-01-07.mp4', '/root/.cache/kagglehub/datasets/adrivg/ravdess-emotional-speech-video/versions/1/RAVDESS dataset/Video_Speech_Actor_07/Actor_07/01-01-07-02-02-01-07.mp4', '/root/.cache/kagglehub/datasets/adrivg/ravdess-emotional-speech-video/versions/1/RAVDESS dataset/Video_Speech_Actor_07/Actor_07/01-01-08-02-01-02-07.mp4', '/root/.cache/kagglehub/datasets/adrivg/ravdess-emotional-speech-video/versions/1/RAVDESS dataset/Video_Speech_Actor_07/Actor_07/01-01-02-01-02-02-07.mp4', '/root/.cache/kagglehub/datasets/adrivg/ravdess-emotional-speech-video/versions/1/RAVDESS dataset/Video_Speech_Actor_07/Actor_07/01-01-08-02-01-01-07.mp4', '/root/.cache/kagglehub/datasets/adrivg/ravdess-emotional-speech-video/versions/1/RAVDESS dataset/Video_Speech_Actor_07/Actor_07/01-01-04-01-02-02-07.mp4', '/root/.cache/kagglehub/datasets/adrivg/ravdess-emotional-speech-video/versions/1/RAVDESS dataset/Video_Speech_Actor_07/Actor_07/01-01-05-02-02-02-07.mp4', '/root/.cache/kagglehub/datasets/adrivg/ravdess-emotional-speech-video/versions/1/RAVDESS dataset/Video_Speech_Actor_07/Actor_07/01-01-05-02-01-02-07.mp4', '/root/.cache/kagglehub/datasets/adrivg/ravdess-emotional-speech-video/versions/1/RAVDESS dataset/Video_Speech_Actor_07/Actor_07/01-01-01-01-02-02-07.mp4', '/root/.cache/kagglehub/datasets/adrivg/ravdess-emotional-speech-video/versions/1/RAVDESS dataset/Video_Speech_Actor_07/Actor_07/01-01-04-01-01-01-07.mp4', '/root/.cache/kagglehub/datasets/adrivg/ravdess-emotional-speech-video/versions/1/RAVDESS dataset/Video_Speech_Actor_07/Actor_07/01-01-06-02-02-02-07.mp4', '/root/.cache/kagglehub/datasets/adrivg/ravdess-emotional-speech-video/versions/1/RAVDESS dataset/Video_Speech_Actor_07/Actor_07/01-01-03-01-01-02-07.mp4', '/root/.cache/kagglehub/datasets/adrivg/ravdess-emotional-speech-video/versions/1/RAVDESS dataset/Video_Speech_Actor_07/Actor_07/01-01-01-01-02-01-07.mp4', '/root/.cache/kagglehub/datasets/adrivg/ravdess-emotional-speech-video/versions/1/RAVDESS dataset/Video_Speech_Actor_07/Actor_07/01-01-06-01-02-01-07.mp4', '/root/.cache/kagglehub/datasets/adrivg/ravdess-emotional-speech-video/versions/1/RAVDESS dataset/Video_Speech_Actor_07/Actor_07/01-01-01-01-01-01-07.mp4', '/root/.cache/kagglehub/datasets/adrivg/ravdess-emotional-speech-video/versions/1/RAVDESS dataset/Video_Speech_Actor_07/Actor_07/01-01-06-01-01-02-07.mp4', '/root/.cache/kagglehub/datasets/adrivg/ravdess-emotional-speech-video/versions/1/RAVDESS dataset/Video_Speech_Actor_07/Actor_07/01-01-03-02-02-02-07.mp4', '/root/.cache/kagglehub/datasets/adrivg/ravdess-emotional-speech-video/versions/1/RAVDESS dataset/Video_Speech_Actor_07/Actor_07/01-01-06-01-02-02-07.mp4', '/root/.cache/kagglehub/datasets/adrivg/ravdess-emotional-speech-video/versions/1/RAVDESS dataset/Video_Speech_Actor_07/Actor_07/01-01-08-01-01-02-07.mp4', '/root/.cache/kagglehub/datasets/adrivg/ravdess-emotional-speech-video/versions/1/RAVDESS dataset/Video_Speech_Actor_07/Actor_07/01-01-05-01-01-02-07.mp4', '/root/.cache/kagglehub/datasets/adrivg/ravdess-emotional-speech-video/versions/1/RAVDESS dataset/Video_Speech_Actor_07/Actor_07/01-01-05-02-02-01-07.mp4', '/root/.cache/kagglehub/datasets/adrivg/ravdess-emotional-speech-video/versions/1/RAVDESS dataset/Video_Speech_Actor_07/Actor_07/01-01-06-02-01-02-07.mp4', '/root/.cache/kagglehub/datasets/adrivg/ravdess-emotional-speech-video/versions/1/RAVDESS dataset/Video_Speech_Actor_07/Actor_07/01-01-07-01-01-01-07.mp4', '/root/.cache/kagglehub/datasets/adrivg/ravdess-emotional-speech-video/versions/1/RAVDESS dataset/Video_Speech_Actor_07/Actor_07/01-01-03-01-01-01-07.mp4', '/root/.cache/kagglehub/datasets/adrivg/ravdess-emotional-speech-video/versions/1/RAVDESS dataset/Video_Speech_Actor_07/Actor_07/01-01-02-02-02-02-07.mp4', '/root/.cache/kagglehub/datasets/adrivg/ravdess-emotional-speech-video/versions/1/RAVDESS dataset/Video_Speech_Actor_07/Actor_07/01-01-04-01-02-01-07.mp4', '/root/.cache/kagglehub/datasets/adrivg/ravdess-emotional-speech-video/versions/1/RAVDESS dataset/Video_Speech_Actor_07/Actor_07/01-01-02-02-01-02-07.mp4', '/root/.cache/kagglehub/datasets/adrivg/ravdess-emotional-speech-video/versions/1/RAVDESS dataset/Video_Speech_Actor_07/Actor_07/01-01-02-02-01-01-07.mp4', '/root/.cache/kagglehub/datasets/adrivg/ravdess-emotional-speech-video/versions/1/RAVDESS dataset/Video_Speech_Actor_07/Actor_07/01-01-05-01-02-02-07.mp4', '/root/.cache/kagglehub/datasets/adrivg/ravdess-emotional-speech-video/versions/1/RAVDESS dataset/Video_Speech_Actor_07/Actor_07/01-01-06-01-01-01-07.mp4', '/root/.cache/kagglehub/datasets/adrivg/ravdess-emotional-speech-video/versions/1/RAVDESS dataset/Video_Speech_Actor_07/Actor_07/01-01-03-02-01-01-07.mp4', '/root/.cache/kagglehub/datasets/adrivg/ravdess-emotional-speech-video/versions/1/RAVDESS dataset/Video_Speech_Actor_07/Actor_07/01-01-08-02-02-01-07.mp4', '/root/.cache/kagglehub/datasets/adrivg/ravdess-emotional-speech-video/versions/1/RAVDESS dataset/Video_Speech_Actor_07/Actor_07/01-01-07-02-02-02-07.mp4', '/root/.cache/kagglehub/datasets/adrivg/ravdess-emotional-speech-video/versions/1/RAVDESS dataset/Video_Speech_Actor_07/Actor_07/01-01-03-01-02-02-07.mp4', '/root/.cache/kagglehub/datasets/adrivg/ravdess-emotional-speech-video/versions/1/RAVDESS dataset/Video_Speech_Actor_07/Actor_07/01-01-05-02-01-01-07.mp4', '/root/.cache/kagglehub/datasets/adrivg/ravdess-emotional-speech-video/versions/1/RAVDESS dataset/Video_Speech_Actor_07/Actor_07/01-01-05-01-01-01-07.mp4', '/root/.cache/kagglehub/datasets/adrivg/ravdess-emotional-speech-video/versions/1/RAVDESS dataset/Video_Speech_Actor_07/Actor_07/01-01-04-02-02-01-07.mp4', '/root/.cache/kagglehub/datasets/adrivg/ravdess-emotional-speech-video/versions/1/RAVDESS dataset/Video_Speech_Actor_07/Actor_07/01-01-07-01-02-02-07.mp4', '/root/.cache/kagglehub/datasets/adrivg/ravdess-emotional-speech-video/versions/1/RAVDESS dataset/Video_Speech_Actor_07/Actor_07/01-01-06-02-02-01-07.mp4', '/root/.cache/kagglehub/datasets/adrivg/ravdess-emotional-speech-video/versions/1/RAVDESS dataset/Video_Speech_Actor_07/Actor_07/01-01-07-02-01-01-07.mp4', '/root/.cache/kagglehub/datasets/adrivg/ravdess-emotional-speech-video/versions/1/RAVDESS dataset/Video_Speech_Actor_07/Actor_07/01-01-08-01-02-01-07.mp4', '/root/.cache/kagglehub/datasets/adrivg/ravdess-emotional-speech-video/versions/1/RAVDESS dataset/Video_Speech_Actor_07/Actor_07/01-01-03-02-01-02-07.mp4', '/root/.cache/kagglehub/datasets/adrivg/ravdess-emotional-speech-video/versions/1/RAVDESS dataset/Video_Speech_Actor_07/Actor_07/01-01-02-01-01-01-07.mp4', '/root/.cache/kagglehub/datasets/adrivg/ravdess-emotional-speech-video/versions/1/RAVDESS dataset/Video_Speech_Actor_07/Actor_07/01-01-04-02-02-02-07.mp4', '/root/.cache/kagglehub/datasets/adrivg/ravdess-emotional-speech-video/versions/1/RAVDESS dataset/Video_Speech_Actor_07/Actor_07/01-01-08-02-02-02-07.mp4', '/root/.cache/kagglehub/datasets/adrivg/ravdess-emotional-speech-video/versions/1/RAVDESS dataset/Video_Speech_Actor_07/Actor_07/01-01-08-01-02-02-07.mp4', '/root/.cache/kagglehub/datasets/adrivg/ravdess-emotional-speech-video/versions/1/RAVDESS dataset/Video_Speech_Actor_07/Actor_07/01-01-04-02-01-01-07.mp4', '/root/.cache/kagglehub/datasets/adrivg/ravdess-emotional-speech-video/versions/1/RAVDESS dataset/Video_Speech_Actor_07/Actor_07/01-01-02-01-02-01-07.mp4', '/root/.cache/kagglehub/datasets/adrivg/ravdess-emotional-speech-video/versions/1/RAVDESS dataset/Video_Speech_Actor_07/Actor_07/01-01-07-01-01-02-07.mp4', '/root/.cache/kagglehub/datasets/adrivg/ravdess-emotional-speech-video/versions/1/RAVDESS dataset/Video_Speech_Actor_07/Actor_07/01-01-04-02-01-02-07.mp4', '/root/.cache/kagglehub/datasets/adrivg/ravdess-emotional-speech-video/versions/1/RAVDESS dataset/Video_Speech_Actor_07/Actor_07/01-01-06-02-01-01-07.mp4', '/root/.cache/kagglehub/datasets/adrivg/ravdess-emotional-speech-video/versions/1/RAVDESS dataset/Video_Speech_Actor_07/Actor_07/01-01-03-01-02-01-07.mp4', '/root/.cache/kagglehub/datasets/adrivg/ravdess-emotional-speech-video/versions/1/RAVDESS dataset/Video_Speech_Actor_07/Actor_07/01-01-05-01-02-01-07.mp4', '/root/.cache/kagglehub/datasets/adrivg/ravdess-emotional-speech-video/versions/1/RAVDESS dataset/Video_Speech_Actor_07/Actor_07/01-01-07-02-01-02-07.mp4', '/root/.cache/kagglehub/datasets/adrivg/ravdess-emotional-speech-video/versions/1/RAVDESS dataset/Video_Speech_Actor_07/Actor_07/01-01-02-02-02-01-07.mp4', '/root/.cache/kagglehub/datasets/adrivg/ravdess-emotional-speech-video/versions/1/RAVDESS dataset/Video_Speech_Actor_07/Actor_07/01-01-04-01-01-02-07.mp4', '/root/.cache/kagglehub/datasets/adrivg/ravdess-emotional-speech-video/versions/1/RAVDESS dataset/Video_Speech_Actor_07/Actor_07/01-01-07-01-02-01-07.mp4', '/root/.cache/kagglehub/datasets/adrivg/ravdess-emotional-speech-video/versions/1/RAVDESS dataset/Video_Speech_Actor_07/Actor_07/01-01-08-01-01-01-07.mp4', '/root/.cache/kagglehub/datasets/adrivg/ravdess-emotional-speech-video/versions/1/RAVDESS dataset/Video_Speech_Actor_23/Actor_23/01-01-07-01-01-02-23.mp4', '/root/.cache/kagglehub/datasets/adrivg/ravdess-emotional-speech-video/versions/1/RAVDESS dataset/Video_Speech_Actor_23/Actor_23/01-01-06-02-02-02-23.mp4', '/root/.cache/kagglehub/datasets/adrivg/ravdess-emotional-speech-video/versions/1/RAVDESS dataset/Video_Speech_Actor_23/Actor_23/01-01-07-02-01-02-23.mp4', '/root/.cache/kagglehub/datasets/adrivg/ravdess-emotional-speech-video/versions/1/RAVDESS dataset/Video_Speech_Actor_23/Actor_23/01-01-01-01-02-02-23.mp4', '/root/.cache/kagglehub/datasets/adrivg/ravdess-emotional-speech-video/versions/1/RAVDESS dataset/Video_Speech_Actor_23/Actor_23/01-01-06-02-01-01-23.mp4', '/root/.cache/kagglehub/datasets/adrivg/ravdess-emotional-speech-video/versions/1/RAVDESS dataset/Video_Speech_Actor_23/Actor_23/01-01-05-02-02-01-23.mp4', '/root/.cache/kagglehub/datasets/adrivg/ravdess-emotional-speech-video/versions/1/RAVDESS dataset/Video_Speech_Actor_23/Actor_23/01-01-04-02-02-01-23.mp4', '/root/.cache/kagglehub/datasets/adrivg/ravdess-emotional-speech-video/versions/1/RAVDESS dataset/Video_Speech_Actor_23/Actor_23/01-01-03-01-01-02-23.mp4', '/root/.cache/kagglehub/datasets/adrivg/ravdess-emotional-speech-video/versions/1/RAVDESS dataset/Video_Speech_Actor_23/Actor_23/01-01-08-02-02-02-23.mp4', '/root/.cache/kagglehub/datasets/adrivg/ravdess-emotional-speech-video/versions/1/RAVDESS dataset/Video_Speech_Actor_23/Actor_23/01-01-07-02-02-02-23.mp4', '/root/.cache/kagglehub/datasets/adrivg/ravdess-emotional-speech-video/versions/1/RAVDESS dataset/Video_Speech_Actor_23/Actor_23/01-01-06-01-02-01-23.mp4', '/root/.cache/kagglehub/datasets/adrivg/ravdess-emotional-speech-video/versions/1/RAVDESS dataset/Video_Speech_Actor_23/Actor_23/01-01-06-01-01-01-23.mp4', '/root/.cache/kagglehub/datasets/adrivg/ravdess-emotional-speech-video/versions/1/RAVDESS dataset/Video_Speech_Actor_23/Actor_23/01-01-06-02-01-02-23.mp4', '/root/.cache/kagglehub/datasets/adrivg/ravdess-emotional-speech-video/versions/1/RAVDESS dataset/Video_Speech_Actor_23/Actor_23/01-01-08-01-02-01-23.mp4', '/root/.cache/kagglehub/datasets/adrivg/ravdess-emotional-speech-video/versions/1/RAVDESS dataset/Video_Speech_Actor_23/Actor_23/01-01-07-01-02-02-23.mp4', '/root/.cache/kagglehub/datasets/adrivg/ravdess-emotional-speech-video/versions/1/RAVDESS dataset/Video_Speech_Actor_23/Actor_23/01-01-04-02-02-02-23.mp4', '/root/.cache/kagglehub/datasets/adrivg/ravdess-emotional-speech-video/versions/1/RAVDESS dataset/Video_Speech_Actor_23/Actor_23/01-01-06-01-02-02-23.mp4', '/root/.cache/kagglehub/datasets/adrivg/ravdess-emotional-speech-video/versions/1/RAVDESS dataset/Video_Speech_Actor_23/Actor_23/01-01-05-01-02-01-23.mp4', '/root/.cache/kagglehub/datasets/adrivg/ravdess-emotional-speech-video/versions/1/RAVDESS dataset/Video_Speech_Actor_23/Actor_23/01-01-05-01-01-02-23.mp4', '/root/.cache/kagglehub/datasets/adrivg/ravdess-emotional-speech-video/versions/1/RAVDESS dataset/Video_Speech_Actor_23/Actor_23/01-01-08-01-01-01-23.mp4', '/root/.cache/kagglehub/datasets/adrivg/ravdess-emotional-speech-video/versions/1/RAVDESS dataset/Video_Speech_Actor_23/Actor_23/01-01-02-02-02-02-23.mp4', '/root/.cache/kagglehub/datasets/adrivg/ravdess-emotional-speech-video/versions/1/RAVDESS dataset/Video_Speech_Actor_23/Actor_23/01-01-06-02-02-01-23.mp4', '/root/.cache/kagglehub/datasets/adrivg/ravdess-emotional-speech-video/versions/1/RAVDESS dataset/Video_Speech_Actor_23/Actor_23/01-01-02-02-01-01-23.mp4', '/root/.cache/kagglehub/datasets/adrivg/ravdess-emotional-speech-video/versions/1/RAVDESS dataset/Video_Speech_Actor_23/Actor_23/01-01-03-02-01-02-23.mp4', '/root/.cache/kagglehub/datasets/adrivg/ravdess-emotional-speech-video/versions/1/RAVDESS dataset/Video_Speech_Actor_23/Actor_23/01-01-04-01-02-01-23.mp4', '/root/.cache/kagglehub/datasets/adrivg/ravdess-emotional-speech-video/versions/1/RAVDESS dataset/Video_Speech_Actor_23/Actor_23/01-01-01-01-01-02-23.mp4', '/root/.cache/kagglehub/datasets/adrivg/ravdess-emotional-speech-video/versions/1/RAVDESS dataset/Video_Speech_Actor_23/Actor_23/01-01-03-01-02-01-23.mp4', '/root/.cache/kagglehub/datasets/adrivg/ravdess-emotional-speech-video/versions/1/RAVDESS dataset/Video_Speech_Actor_23/Actor_23/01-01-03-01-01-01-23.mp4', '/root/.cache/kagglehub/datasets/adrivg/ravdess-emotional-speech-video/versions/1/RAVDESS dataset/Video_Speech_Actor_23/Actor_23/01-01-03-01-02-02-23.mp4', '/root/.cache/kagglehub/datasets/adrivg/ravdess-emotional-speech-video/versions/1/RAVDESS dataset/Video_Speech_Actor_23/Actor_23/01-01-02-02-02-01-23.mp4', '/root/.cache/kagglehub/datasets/adrivg/ravdess-emotional-speech-video/versions/1/RAVDESS dataset/Video_Speech_Actor_23/Actor_23/01-01-07-02-02-01-23.mp4', '/root/.cache/kagglehub/datasets/adrivg/ravdess-emotional-speech-video/versions/1/RAVDESS dataset/Video_Speech_Actor_23/Actor_23/01-01-04-02-01-02-23.mp4', '/root/.cache/kagglehub/datasets/adrivg/ravdess-emotional-speech-video/versions/1/RAVDESS dataset/Video_Speech_Actor_23/Actor_23/01-01-05-01-01-01-23.mp4', '/root/.cache/kagglehub/datasets/adrivg/ravdess-emotional-speech-video/versions/1/RAVDESS dataset/Video_Speech_Actor_23/Actor_23/01-01-05-02-01-01-23.mp4', '/root/.cache/kagglehub/datasets/adrivg/ravdess-emotional-speech-video/versions/1/RAVDESS dataset/Video_Speech_Actor_23/Actor_23/01-01-04-01-01-01-23.mp4', '/root/.cache/kagglehub/datasets/adrivg/ravdess-emotional-speech-video/versions/1/RAVDESS dataset/Video_Speech_Actor_23/Actor_23/01-01-03-02-02-01-23.mp4', '/root/.cache/kagglehub/datasets/adrivg/ravdess-emotional-speech-video/versions/1/RAVDESS dataset/Video_Speech_Actor_23/Actor_23/01-01-07-02-01-01-23.mp4', '/root/.cache/kagglehub/datasets/adrivg/ravdess-emotional-speech-video/versions/1/RAVDESS dataset/Video_Speech_Actor_23/Actor_23/01-01-01-01-02-01-23.mp4', '/root/.cache/kagglehub/datasets/adrivg/ravdess-emotional-speech-video/versions/1/RAVDESS dataset/Video_Speech_Actor_23/Actor_23/01-01-04-01-01-02-23.mp4', '/root/.cache/kagglehub/datasets/adrivg/ravdess-emotional-speech-video/versions/1/RAVDESS dataset/Video_Speech_Actor_23/Actor_23/01-01-03-02-02-02-23.mp4', '/root/.cache/kagglehub/datasets/adrivg/ravdess-emotional-speech-video/versions/1/RAVDESS dataset/Video_Speech_Actor_23/Actor_23/01-01-08-02-02-01-23.mp4', '/root/.cache/kagglehub/datasets/adrivg/ravdess-emotional-speech-video/versions/1/RAVDESS dataset/Video_Speech_Actor_23/Actor_23/01-01-08-02-01-02-23.mp4', '/root/.cache/kagglehub/datasets/adrivg/ravdess-emotional-speech-video/versions/1/RAVDESS dataset/Video_Speech_Actor_23/Actor_23/01-01-08-02-01-01-23.mp4', '/root/.cache/kagglehub/datasets/adrivg/ravdess-emotional-speech-video/versions/1/RAVDESS dataset/Video_Speech_Actor_23/Actor_23/01-01-08-01-01-02-23.mp4', '/root/.cache/kagglehub/datasets/adrivg/ravdess-emotional-speech-video/versions/1/RAVDESS dataset/Video_Speech_Actor_23/Actor_23/01-01-02-02-01-02-23.mp4', '/root/.cache/kagglehub/datasets/adrivg/ravdess-emotional-speech-video/versions/1/RAVDESS dataset/Video_Speech_Actor_23/Actor_23/01-01-05-02-02-02-23.mp4', '/root/.cache/kagglehub/datasets/adrivg/ravdess-emotional-speech-video/versions/1/RAVDESS dataset/Video_Speech_Actor_23/Actor_23/01-01-02-01-02-01-23.mp4', '/root/.cache/kagglehub/datasets/adrivg/ravdess-emotional-speech-video/versions/1/RAVDESS dataset/Video_Speech_Actor_23/Actor_23/01-01-05-01-02-02-23.mp4', '/root/.cache/kagglehub/datasets/adrivg/ravdess-emotional-speech-video/versions/1/RAVDESS dataset/Video_Speech_Actor_23/Actor_23/01-01-06-01-01-02-23.mp4', '/root/.cache/kagglehub/datasets/adrivg/ravdess-emotional-speech-video/versions/1/RAVDESS dataset/Video_Speech_Actor_23/Actor_23/01-01-02-01-01-02-23.mp4', '/root/.cache/kagglehub/datasets/adrivg/ravdess-emotional-speech-video/versions/1/RAVDESS dataset/Video_Speech_Actor_23/Actor_23/01-01-04-02-01-01-23.mp4', '/root/.cache/kagglehub/datasets/adrivg/ravdess-emotional-speech-video/versions/1/RAVDESS dataset/Video_Speech_Actor_23/Actor_23/01-01-03-02-01-01-23.mp4', '/root/.cache/kagglehub/datasets/adrivg/ravdess-emotional-speech-video/versions/1/RAVDESS dataset/Video_Speech_Actor_23/Actor_23/01-01-08-01-02-02-23.mp4', '/root/.cache/kagglehub/datasets/adrivg/ravdess-emotional-speech-video/versions/1/RAVDESS dataset/Video_Speech_Actor_23/Actor_23/01-01-05-02-01-02-23.mp4', '/root/.cache/kagglehub/datasets/adrivg/ravdess-emotional-speech-video/versions/1/RAVDESS dataset/Video_Speech_Actor_23/Actor_23/01-01-04-01-02-02-23.mp4', '/root/.cache/kagglehub/datasets/adrivg/ravdess-emotional-speech-video/versions/1/RAVDESS dataset/Video_Speech_Actor_23/Actor_23/01-01-07-01-01-01-23.mp4', '/root/.cache/kagglehub/datasets/adrivg/ravdess-emotional-speech-video/versions/1/RAVDESS dataset/Video_Speech_Actor_23/Actor_23/01-01-01-01-01-01-23.mp4', '/root/.cache/kagglehub/datasets/adrivg/ravdess-emotional-speech-video/versions/1/RAVDESS dataset/Video_Speech_Actor_23/Actor_23/01-01-02-01-02-02-23.mp4', '/root/.cache/kagglehub/datasets/adrivg/ravdess-emotional-speech-video/versions/1/RAVDESS dataset/Video_Speech_Actor_23/Actor_23/01-01-07-01-02-01-23.mp4', '/root/.cache/kagglehub/datasets/adrivg/ravdess-emotional-speech-video/versions/1/RAVDESS dataset/Video_Speech_Actor_23/Actor_23/01-01-02-01-01-01-23.mp4', '/root/.cache/kagglehub/datasets/adrivg/ravdess-emotional-speech-video/versions/1/RAVDESS dataset/Video_Speech_Actor_11/Actor_11/01-01-01-01-02-01-11.mp4', '/root/.cache/kagglehub/datasets/adrivg/ravdess-emotional-speech-video/versions/1/RAVDESS dataset/Video_Speech_Actor_11/Actor_11/01-01-05-02-01-02-11.mp4', '/root/.cache/kagglehub/datasets/adrivg/ravdess-emotional-speech-video/versions/1/RAVDESS dataset/Video_Speech_Actor_11/Actor_11/01-01-05-01-02-01-11.mp4', '/root/.cache/kagglehub/datasets/adrivg/ravdess-emotional-speech-video/versions/1/RAVDESS dataset/Video_Speech_Actor_11/Actor_11/01-01-02-02-02-01-11.mp4', '/root/.cache/kagglehub/datasets/adrivg/ravdess-emotional-speech-video/versions/1/RAVDESS dataset/Video_Speech_Actor_11/Actor_11/01-01-02-02-01-01-11.mp4', '/root/.cache/kagglehub/datasets/adrivg/ravdess-emotional-speech-video/versions/1/RAVDESS dataset/Video_Speech_Actor_11/Actor_11/01-01-04-02-01-02-11.mp4', '/root/.cache/kagglehub/datasets/adrivg/ravdess-emotional-speech-video/versions/1/RAVDESS dataset/Video_Speech_Actor_11/Actor_11/01-01-06-01-02-02-11.mp4', '/root/.cache/kagglehub/datasets/adrivg/ravdess-emotional-speech-video/versions/1/RAVDESS dataset/Video_Speech_Actor_11/Actor_11/01-01-06-02-01-01-11.mp4', '/root/.cache/kagglehub/datasets/adrivg/ravdess-emotional-speech-video/versions/1/RAVDESS dataset/Video_Speech_Actor_11/Actor_11/01-01-08-01-02-01-11.mp4', '/root/.cache/kagglehub/datasets/adrivg/ravdess-emotional-speech-video/versions/1/RAVDESS dataset/Video_Speech_Actor_11/Actor_11/01-01-01-01-02-02-11.mp4', '/root/.cache/kagglehub/datasets/adrivg/ravdess-emotional-speech-video/versions/1/RAVDESS dataset/Video_Speech_Actor_11/Actor_11/01-01-02-02-01-02-11.mp4', '/root/.cache/kagglehub/datasets/adrivg/ravdess-emotional-speech-video/versions/1/RAVDESS dataset/Video_Speech_Actor_11/Actor_11/01-01-08-01-01-02-11.mp4', '/root/.cache/kagglehub/datasets/adrivg/ravdess-emotional-speech-video/versions/1/RAVDESS dataset/Video_Speech_Actor_11/Actor_11/01-01-06-01-02-01-11.mp4', '/root/.cache/kagglehub/datasets/adrivg/ravdess-emotional-speech-video/versions/1/RAVDESS dataset/Video_Speech_Actor_11/Actor_11/01-01-07-02-02-02-11.mp4', '/root/.cache/kagglehub/datasets/adrivg/ravdess-emotional-speech-video/versions/1/RAVDESS dataset/Video_Speech_Actor_11/Actor_11/01-01-02-01-02-01-11.mp4', '/root/.cache/kagglehub/datasets/adrivg/ravdess-emotional-speech-video/versions/1/RAVDESS dataset/Video_Speech_Actor_11/Actor_11/01-01-05-02-02-02-11.mp4', '/root/.cache/kagglehub/datasets/adrivg/ravdess-emotional-speech-video/versions/1/RAVDESS dataset/Video_Speech_Actor_11/Actor_11/01-01-04-01-01-02-11.mp4', '/root/.cache/kagglehub/datasets/adrivg/ravdess-emotional-speech-video/versions/1/RAVDESS dataset/Video_Speech_Actor_11/Actor_11/01-01-05-01-01-02-11.mp4', '/root/.cache/kagglehub/datasets/adrivg/ravdess-emotional-speech-video/versions/1/RAVDESS dataset/Video_Speech_Actor_11/Actor_11/01-01-03-01-01-01-11.mp4', '/root/.cache/kagglehub/datasets/adrivg/ravdess-emotional-speech-video/versions/1/RAVDESS dataset/Video_Speech_Actor_11/Actor_11/01-01-03-01-01-02-11.mp4', '/root/.cache/kagglehub/datasets/adrivg/ravdess-emotional-speech-video/versions/1/RAVDESS dataset/Video_Speech_Actor_11/Actor_11/01-01-02-02-02-02-11.mp4', '/root/.cache/kagglehub/datasets/adrivg/ravdess-emotional-speech-video/versions/1/RAVDESS dataset/Video_Speech_Actor_11/Actor_11/01-01-06-02-02-01-11.mp4', '/root/.cache/kagglehub/datasets/adrivg/ravdess-emotional-speech-video/versions/1/RAVDESS dataset/Video_Speech_Actor_11/Actor_11/01-01-04-02-01-01-11.mp4', '/root/.cache/kagglehub/datasets/adrivg/ravdess-emotional-speech-video/versions/1/RAVDESS dataset/Video_Speech_Actor_11/Actor_11/01-01-08-02-02-02-11.mp4', '/root/.cache/kagglehub/datasets/adrivg/ravdess-emotional-speech-video/versions/1/RAVDESS dataset/Video_Speech_Actor_11/Actor_11/01-01-03-02-02-02-11.mp4', '/root/.cache/kagglehub/datasets/adrivg/ravdess-emotional-speech-video/versions/1/RAVDESS dataset/Video_Speech_Actor_11/Actor_11/01-01-06-02-01-02-11.mp4', '/root/.cache/kagglehub/datasets/adrivg/ravdess-emotional-speech-video/versions/1/RAVDESS dataset/Video_Speech_Actor_11/Actor_11/01-01-03-01-02-02-11.mp4', '/root/.cache/kagglehub/datasets/adrivg/ravdess-emotional-speech-video/versions/1/RAVDESS dataset/Video_Speech_Actor_11/Actor_11/01-01-07-01-02-02-11.mp4', '/root/.cache/kagglehub/datasets/adrivg/ravdess-emotional-speech-video/versions/1/RAVDESS dataset/Video_Speech_Actor_11/Actor_11/01-01-07-02-02-01-11.mp4', '/root/.cache/kagglehub/datasets/adrivg/ravdess-emotional-speech-video/versions/1/RAVDESS dataset/Video_Speech_Actor_11/Actor_11/01-01-02-01-01-01-11.mp4', '/root/.cache/kagglehub/datasets/adrivg/ravdess-emotional-speech-video/versions/1/RAVDESS dataset/Video_Speech_Actor_11/Actor_11/01-01-05-02-01-01-11.mp4', '/root/.cache/kagglehub/datasets/adrivg/ravdess-emotional-speech-video/versions/1/RAVDESS dataset/Video_Speech_Actor_11/Actor_11/01-01-02-01-01-02-11.mp4', '/root/.cache/kagglehub/datasets/adrivg/ravdess-emotional-speech-video/versions/1/RAVDESS dataset/Video_Speech_Actor_11/Actor_11/01-01-04-01-01-01-11.mp4', '/root/.cache/kagglehub/datasets/adrivg/ravdess-emotional-speech-video/versions/1/RAVDESS dataset/Video_Speech_Actor_11/Actor_11/01-01-08-01-01-01-11.mp4', '/root/.cache/kagglehub/datasets/adrivg/ravdess-emotional-speech-video/versions/1/RAVDESS dataset/Video_Speech_Actor_11/Actor_11/01-01-04-02-02-02-11.mp4', '/root/.cache/kagglehub/datasets/adrivg/ravdess-emotional-speech-video/versions/1/RAVDESS dataset/Video_Speech_Actor_11/Actor_11/01-01-03-02-02-01-11.mp4', '/root/.cache/kagglehub/datasets/adrivg/ravdess-emotional-speech-video/versions/1/RAVDESS dataset/Video_Speech_Actor_11/Actor_11/01-01-06-01-01-01-11.mp4', '/root/.cache/kagglehub/datasets/adrivg/ravdess-emotional-speech-video/versions/1/RAVDESS dataset/Video_Speech_Actor_11/Actor_11/01-01-04-01-02-02-11.mp4', '/root/.cache/kagglehub/datasets/adrivg/ravdess-emotional-speech-video/versions/1/RAVDESS dataset/Video_Speech_Actor_11/Actor_11/01-01-02-01-02-02-11.mp4', '/root/.cache/kagglehub/datasets/adrivg/ravdess-emotional-speech-video/versions/1/RAVDESS dataset/Video_Speech_Actor_11/Actor_11/01-01-07-02-01-02-11.mp4', '/root/.cache/kagglehub/datasets/adrivg/ravdess-emotional-speech-video/versions/1/RAVDESS dataset/Video_Speech_Actor_11/Actor_11/01-01-05-02-02-01-11.mp4', '/root/.cache/kagglehub/datasets/adrivg/ravdess-emotional-speech-video/versions/1/RAVDESS dataset/Video_Speech_Actor_11/Actor_11/01-01-07-01-01-02-11.mp4', '/root/.cache/kagglehub/datasets/adrivg/ravdess-emotional-speech-video/versions/1/RAVDESS dataset/Video_Speech_Actor_11/Actor_11/01-01-03-02-01-01-11.mp4', '/root/.cache/kagglehub/datasets/adrivg/ravdess-emotional-speech-video/versions/1/RAVDESS dataset/Video_Speech_Actor_11/Actor_11/01-01-07-01-02-01-11.mp4', '/root/.cache/kagglehub/datasets/adrivg/ravdess-emotional-speech-video/versions/1/RAVDESS dataset/Video_Speech_Actor_11/Actor_11/01-01-07-02-01-01-11.mp4', '/root/.cache/kagglehub/datasets/adrivg/ravdess-emotional-speech-video/versions/1/RAVDESS dataset/Video_Speech_Actor_11/Actor_11/01-01-05-01-01-01-11.mp4', '/root/.cache/kagglehub/datasets/adrivg/ravdess-emotional-speech-video/versions/1/RAVDESS dataset/Video_Speech_Actor_11/Actor_11/01-01-08-01-02-02-11.mp4', '/root/.cache/kagglehub/datasets/adrivg/ravdess-emotional-speech-video/versions/1/RAVDESS dataset/Video_Speech_Actor_11/Actor_11/01-01-03-01-02-01-11.mp4', '/root/.cache/kagglehub/datasets/adrivg/ravdess-emotional-speech-video/versions/1/RAVDESS dataset/Video_Speech_Actor_11/Actor_11/01-01-06-01-01-02-11.mp4', '/root/.cache/kagglehub/datasets/adrivg/ravdess-emotional-speech-video/versions/1/RAVDESS dataset/Video_Speech_Actor_11/Actor_11/01-01-06-02-02-02-11.mp4', '/root/.cache/kagglehub/datasets/adrivg/ravdess-emotional-speech-video/versions/1/RAVDESS dataset/Video_Speech_Actor_11/Actor_11/01-01-04-01-02-01-11.mp4', '/root/.cache/kagglehub/datasets/adrivg/ravdess-emotional-speech-video/versions/1/RAVDESS dataset/Video_Speech_Actor_11/Actor_11/01-01-07-01-01-01-11.mp4', '/root/.cache/kagglehub/datasets/adrivg/ravdess-emotional-speech-video/versions/1/RAVDESS dataset/Video_Speech_Actor_11/Actor_11/01-01-03-02-01-02-11.mp4', '/root/.cache/kagglehub/datasets/adrivg/ravdess-emotional-speech-video/versions/1/RAVDESS dataset/Video_Speech_Actor_11/Actor_11/01-01-04-02-02-01-11.mp4', '/root/.cache/kagglehub/datasets/adrivg/ravdess-emotional-speech-video/versions/1/RAVDESS dataset/Video_Speech_Actor_11/Actor_11/01-01-08-02-01-01-11.mp4', '/root/.cache/kagglehub/datasets/adrivg/ravdess-emotional-speech-video/versions/1/RAVDESS dataset/Video_Speech_Actor_11/Actor_11/01-01-08-02-02-01-11.mp4', '/root/.cache/kagglehub/datasets/adrivg/ravdess-emotional-speech-video/versions/1/RAVDESS dataset/Video_Speech_Actor_11/Actor_11/01-01-01-01-01-01-11.mp4', '/root/.cache/kagglehub/datasets/adrivg/ravdess-emotional-speech-video/versions/1/RAVDESS dataset/Video_Speech_Actor_11/Actor_11/01-01-05-01-02-02-11.mp4', '/root/.cache/kagglehub/datasets/adrivg/ravdess-emotional-speech-video/versions/1/RAVDESS dataset/Video_Speech_Actor_11/Actor_11/01-01-08-02-01-02-11.mp4', '/root/.cache/kagglehub/datasets/adrivg/ravdess-emotional-speech-video/versions/1/RAVDESS dataset/Video_Speech_Actor_11/Actor_11/01-01-01-01-01-02-11.mp4', '/root/.cache/kagglehub/datasets/adrivg/ravdess-emotional-speech-video/versions/1/RAVDESS dataset/Video_Speech_Actor_20/Actor_20/01-01-02-01-02-02-20.mp4', '/root/.cache/kagglehub/datasets/adrivg/ravdess-emotional-speech-video/versions/1/RAVDESS dataset/Video_Speech_Actor_20/Actor_20/01-01-03-01-02-01-20.mp4', '/root/.cache/kagglehub/datasets/adrivg/ravdess-emotional-speech-video/versions/1/RAVDESS dataset/Video_Speech_Actor_20/Actor_20/01-01-01-01-01-02-20.mp4', '/root/.cache/kagglehub/datasets/adrivg/ravdess-emotional-speech-video/versions/1/RAVDESS dataset/Video_Speech_Actor_20/Actor_20/01-01-06-01-02-02-20.mp4', '/root/.cache/kagglehub/datasets/adrivg/ravdess-emotional-speech-video/versions/1/RAVDESS dataset/Video_Speech_Actor_20/Actor_20/01-01-02-02-02-02-20.mp4', '/root/.cache/kagglehub/datasets/adrivg/ravdess-emotional-speech-video/versions/1/RAVDESS dataset/Video_Speech_Actor_20/Actor_20/01-01-01-01-02-02-20.mp4', '/root/.cache/kagglehub/datasets/adrivg/ravdess-emotional-speech-video/versions/1/RAVDESS dataset/Video_Speech_Actor_20/Actor_20/01-01-07-02-01-02-20.mp4', '/root/.cache/kagglehub/datasets/adrivg/ravdess-emotional-speech-video/versions/1/RAVDESS dataset/Video_Speech_Actor_20/Actor_20/01-01-06-02-02-02-20.mp4', '/root/.cache/kagglehub/datasets/adrivg/ravdess-emotional-speech-video/versions/1/RAVDESS dataset/Video_Speech_Actor_20/Actor_20/01-01-06-01-01-02-20.mp4', '/root/.cache/kagglehub/datasets/adrivg/ravdess-emotional-speech-video/versions/1/RAVDESS dataset/Video_Speech_Actor_20/Actor_20/01-01-08-01-02-02-20.mp4', '/root/.cache/kagglehub/datasets/adrivg/ravdess-emotional-speech-video/versions/1/RAVDESS dataset/Video_Speech_Actor_20/Actor_20/01-01-06-02-01-01-20.mp4', '/root/.cache/kagglehub/datasets/adrivg/ravdess-emotional-speech-video/versions/1/RAVDESS dataset/Video_Speech_Actor_20/Actor_20/01-01-07-01-02-01-20.mp4', '/root/.cache/kagglehub/datasets/adrivg/ravdess-emotional-speech-video/versions/1/RAVDESS dataset/Video_Speech_Actor_20/Actor_20/01-01-08-02-01-02-20.mp4', '/root/.cache/kagglehub/datasets/adrivg/ravdess-emotional-speech-video/versions/1/RAVDESS dataset/Video_Speech_Actor_20/Actor_20/01-01-08-01-01-02-20.mp4', '/root/.cache/kagglehub/datasets/adrivg/ravdess-emotional-speech-video/versions/1/RAVDESS dataset/Video_Speech_Actor_20/Actor_20/01-01-05-01-02-01-20.mp4', '/root/.cache/kagglehub/datasets/adrivg/ravdess-emotional-speech-video/versions/1/RAVDESS dataset/Video_Speech_Actor_20/Actor_20/01-01-05-01-01-01-20.mp4', '/root/.cache/kagglehub/datasets/adrivg/ravdess-emotional-speech-video/versions/1/RAVDESS dataset/Video_Speech_Actor_20/Actor_20/01-01-05-02-01-01-20.mp4', '/root/.cache/kagglehub/datasets/adrivg/ravdess-emotional-speech-video/versions/1/RAVDESS dataset/Video_Speech_Actor_20/Actor_20/01-01-08-01-01-01-20.mp4', '/root/.cache/kagglehub/datasets/adrivg/ravdess-emotional-speech-video/versions/1/RAVDESS dataset/Video_Speech_Actor_20/Actor_20/01-01-03-02-01-02-20.mp4', '/root/.cache/kagglehub/datasets/adrivg/ravdess-emotional-speech-video/versions/1/RAVDESS dataset/Video_Speech_Actor_20/Actor_20/01-01-08-02-01-01-20.mp4', '/root/.cache/kagglehub/datasets/adrivg/ravdess-emotional-speech-video/versions/1/RAVDESS dataset/Video_Speech_Actor_20/Actor_20/01-01-05-02-01-02-20.mp4', '/root/.cache/kagglehub/datasets/adrivg/ravdess-emotional-speech-video/versions/1/RAVDESS dataset/Video_Speech_Actor_20/Actor_20/01-01-02-01-02-01-20.mp4', '/root/.cache/kagglehub/datasets/adrivg/ravdess-emotional-speech-video/versions/1/RAVDESS dataset/Video_Speech_Actor_20/Actor_20/01-01-03-02-01-01-20.mp4', '/root/.cache/kagglehub/datasets/adrivg/ravdess-emotional-speech-video/versions/1/RAVDESS dataset/Video_Speech_Actor_20/Actor_20/01-01-04-01-02-01-20.mp4', '/root/.cache/kagglehub/datasets/adrivg/ravdess-emotional-speech-video/versions/1/RAVDESS dataset/Video_Speech_Actor_20/Actor_20/01-01-02-01-01-01-20.mp4', '/root/.cache/kagglehub/datasets/adrivg/ravdess-emotional-speech-video/versions/1/RAVDESS dataset/Video_Speech_Actor_20/Actor_20/01-01-03-02-02-01-20.mp4', '/root/.cache/kagglehub/datasets/adrivg/ravdess-emotional-speech-video/versions/1/RAVDESS dataset/Video_Speech_Actor_20/Actor_20/01-01-02-02-02-01-20.mp4', '/root/.cache/kagglehub/datasets/adrivg/ravdess-emotional-speech-video/versions/1/RAVDESS dataset/Video_Speech_Actor_20/Actor_20/01-01-03-01-02-02-20.mp4', '/root/.cache/kagglehub/datasets/adrivg/ravdess-emotional-speech-video/versions/1/RAVDESS dataset/Video_Speech_Actor_20/Actor_20/01-01-08-01-02-01-20.mp4', '/root/.cache/kagglehub/datasets/adrivg/ravdess-emotional-speech-video/versions/1/RAVDESS dataset/Video_Speech_Actor_20/Actor_20/01-01-07-02-01-01-20.mp4', '/root/.cache/kagglehub/datasets/adrivg/ravdess-emotional-speech-video/versions/1/RAVDESS dataset/Video_Speech_Actor_20/Actor_20/01-01-08-02-02-01-20.mp4', '/root/.cache/kagglehub/datasets/adrivg/ravdess-emotional-speech-video/versions/1/RAVDESS dataset/Video_Speech_Actor_20/Actor_20/01-01-03-02-02-02-20.mp4', '/root/.cache/kagglehub/datasets/adrivg/ravdess-emotional-speech-video/versions/1/RAVDESS dataset/Video_Speech_Actor_20/Actor_20/01-01-04-02-01-01-20.mp4', '/root/.cache/kagglehub/datasets/adrivg/ravdess-emotional-speech-video/versions/1/RAVDESS dataset/Video_Speech_Actor_20/Actor_20/01-01-05-01-01-02-20.mp4', '/root/.cache/kagglehub/datasets/adrivg/ravdess-emotional-speech-video/versions/1/RAVDESS dataset/Video_Speech_Actor_20/Actor_20/01-01-06-02-01-02-20.mp4', '/root/.cache/kagglehub/datasets/adrivg/ravdess-emotional-speech-video/versions/1/RAVDESS dataset/Video_Speech_Actor_20/Actor_20/01-01-04-02-02-02-20.mp4', '/root/.cache/kagglehub/datasets/adrivg/ravdess-emotional-speech-video/versions/1/RAVDESS dataset/Video_Speech_Actor_20/Actor_20/01-01-07-01-01-02-20.mp4', '/root/.cache/kagglehub/datasets/adrivg/ravdess-emotional-speech-video/versions/1/RAVDESS dataset/Video_Speech_Actor_20/Actor_20/01-01-04-02-02-01-20.mp4', '/root/.cache/kagglehub/datasets/adrivg/ravdess-emotional-speech-video/versions/1/RAVDESS dataset/Video_Speech_Actor_20/Actor_20/01-01-04-01-01-01-20.mp4', '/root/.cache/kagglehub/datasets/adrivg/ravdess-emotional-speech-video/versions/1/RAVDESS dataset/Video_Speech_Actor_20/Actor_20/01-01-08-02-02-02-20.mp4', '/root/.cache/kagglehub/datasets/adrivg/ravdess-emotional-speech-video/versions/1/RAVDESS dataset/Video_Speech_Actor_20/Actor_20/01-01-04-02-01-02-20.mp4', '/root/.cache/kagglehub/datasets/adrivg/ravdess-emotional-speech-video/versions/1/RAVDESS dataset/Video_Speech_Actor_20/Actor_20/01-01-03-01-01-02-20.mp4', '/root/.cache/kagglehub/datasets/adrivg/ravdess-emotional-speech-video/versions/1/RAVDESS dataset/Video_Speech_Actor_20/Actor_20/01-01-01-01-01-01-20.mp4', '/root/.cache/kagglehub/datasets/adrivg/ravdess-emotional-speech-video/versions/1/RAVDESS dataset/Video_Speech_Actor_20/Actor_20/01-01-07-01-02-02-20.mp4', '/root/.cache/kagglehub/datasets/adrivg/ravdess-emotional-speech-video/versions/1/RAVDESS dataset/Video_Speech_Actor_20/Actor_20/01-01-01-01-02-01-20.mp4', '/root/.cache/kagglehub/datasets/adrivg/ravdess-emotional-speech-video/versions/1/RAVDESS dataset/Video_Speech_Actor_20/Actor_20/01-01-02-01-01-02-20.mp4', '/root/.cache/kagglehub/datasets/adrivg/ravdess-emotional-speech-video/versions/1/RAVDESS dataset/Video_Speech_Actor_20/Actor_20/01-01-04-01-01-02-20.mp4', '/root/.cache/kagglehub/datasets/adrivg/ravdess-emotional-speech-video/versions/1/RAVDESS dataset/Video_Speech_Actor_20/Actor_20/01-01-05-01-02-02-20.mp4', '/root/.cache/kagglehub/datasets/adrivg/ravdess-emotional-speech-video/versions/1/RAVDESS dataset/Video_Speech_Actor_20/Actor_20/01-01-02-02-01-02-20.mp4', '/root/.cache/kagglehub/datasets/adrivg/ravdess-emotional-speech-video/versions/1/RAVDESS dataset/Video_Speech_Actor_20/Actor_20/01-01-05-02-02-01-20.mp4', '/root/.cache/kagglehub/datasets/adrivg/ravdess-emotional-speech-video/versions/1/RAVDESS dataset/Video_Speech_Actor_20/Actor_20/01-01-07-02-02-01-20.mp4', '/root/.cache/kagglehub/datasets/adrivg/ravdess-emotional-speech-video/versions/1/RAVDESS dataset/Video_Speech_Actor_20/Actor_20/01-01-07-01-01-01-20.mp4', '/root/.cache/kagglehub/datasets/adrivg/ravdess-emotional-speech-video/versions/1/RAVDESS dataset/Video_Speech_Actor_20/Actor_20/01-01-06-02-02-01-20.mp4', '/root/.cache/kagglehub/datasets/adrivg/ravdess-emotional-speech-video/versions/1/RAVDESS dataset/Video_Speech_Actor_20/Actor_20/01-01-04-01-02-02-20.mp4', '/root/.cache/kagglehub/datasets/adrivg/ravdess-emotional-speech-video/versions/1/RAVDESS dataset/Video_Speech_Actor_20/Actor_20/01-01-05-02-02-02-20.mp4', '/root/.cache/kagglehub/datasets/adrivg/ravdess-emotional-speech-video/versions/1/RAVDESS dataset/Video_Speech_Actor_20/Actor_20/01-01-06-01-02-01-20.mp4', '/root/.cache/kagglehub/datasets/adrivg/ravdess-emotional-speech-video/versions/1/RAVDESS dataset/Video_Speech_Actor_20/Actor_20/01-01-02-02-01-01-20.mp4', '/root/.cache/kagglehub/datasets/adrivg/ravdess-emotional-speech-video/versions/1/RAVDESS dataset/Video_Speech_Actor_20/Actor_20/01-01-06-01-01-01-20.mp4', '/root/.cache/kagglehub/datasets/adrivg/ravdess-emotional-speech-video/versions/1/RAVDESS dataset/Video_Speech_Actor_20/Actor_20/01-01-03-01-01-01-20.mp4', '/root/.cache/kagglehub/datasets/adrivg/ravdess-emotional-speech-video/versions/1/RAVDESS dataset/Video_Speech_Actor_20/Actor_20/01-01-07-02-02-02-20.mp4', '/root/.cache/kagglehub/datasets/adrivg/ravdess-emotional-speech-video/versions/1/RAVDESS dataset/Video_Speech_Actor_15/Actor_15/01-01-05-02-01-01-15.mp4', '/root/.cache/kagglehub/datasets/adrivg/ravdess-emotional-speech-video/versions/1/RAVDESS dataset/Video_Speech_Actor_15/Actor_15/01-01-07-01-01-01-15.mp4', '/root/.cache/kagglehub/datasets/adrivg/ravdess-emotional-speech-video/versions/1/RAVDESS dataset/Video_Speech_Actor_15/Actor_15/01-01-01-01-02-02-15.mp4', '/root/.cache/kagglehub/datasets/adrivg/ravdess-emotional-speech-video/versions/1/RAVDESS dataset/Video_Speech_Actor_15/Actor_15/01-01-08-01-01-02-15.mp4', '/root/.cache/kagglehub/datasets/adrivg/ravdess-emotional-speech-video/versions/1/RAVDESS dataset/Video_Speech_Actor_15/Actor_15/01-01-05-01-01-01-15.mp4', '/root/.cache/kagglehub/datasets/adrivg/ravdess-emotional-speech-video/versions/1/RAVDESS dataset/Video_Speech_Actor_15/Actor_15/01-01-07-02-02-01-15.mp4', '/root/.cache/kagglehub/datasets/adrivg/ravdess-emotional-speech-video/versions/1/RAVDESS dataset/Video_Speech_Actor_15/Actor_15/01-01-02-02-01-01-15.mp4', '/root/.cache/kagglehub/datasets/adrivg/ravdess-emotional-speech-video/versions/1/RAVDESS dataset/Video_Speech_Actor_15/Actor_15/01-01-07-02-02-02-15.mp4', '/root/.cache/kagglehub/datasets/adrivg/ravdess-emotional-speech-video/versions/1/RAVDESS dataset/Video_Speech_Actor_15/Actor_15/01-01-01-01-01-02-15.mp4', '/root/.cache/kagglehub/datasets/adrivg/ravdess-emotional-speech-video/versions/1/RAVDESS dataset/Video_Speech_Actor_15/Actor_15/01-01-08-01-01-01-15.mp4', '/root/.cache/kagglehub/datasets/adrivg/ravdess-emotional-speech-video/versions/1/RAVDESS dataset/Video_Speech_Actor_15/Actor_15/01-01-08-02-01-02-15.mp4', '/root/.cache/kagglehub/datasets/adrivg/ravdess-emotional-speech-video/versions/1/RAVDESS dataset/Video_Speech_Actor_15/Actor_15/01-01-02-02-02-01-15.mp4', '/root/.cache/kagglehub/datasets/adrivg/ravdess-emotional-speech-video/versions/1/RAVDESS dataset/Video_Speech_Actor_15/Actor_15/01-01-06-02-02-01-15.mp4', '/root/.cache/kagglehub/datasets/adrivg/ravdess-emotional-speech-video/versions/1/RAVDESS dataset/Video_Speech_Actor_15/Actor_15/01-01-02-01-02-01-15.mp4', '/root/.cache/kagglehub/datasets/adrivg/ravdess-emotional-speech-video/versions/1/RAVDESS dataset/Video_Speech_Actor_15/Actor_15/01-01-02-02-01-02-15.mp4', '/root/.cache/kagglehub/datasets/adrivg/ravdess-emotional-speech-video/versions/1/RAVDESS dataset/Video_Speech_Actor_15/Actor_15/01-01-08-02-01-01-15.mp4', '/root/.cache/kagglehub/datasets/adrivg/ravdess-emotional-speech-video/versions/1/RAVDESS dataset/Video_Speech_Actor_15/Actor_15/01-01-03-02-01-01-15.mp4', '/root/.cache/kagglehub/datasets/adrivg/ravdess-emotional-speech-video/versions/1/RAVDESS dataset/Video_Speech_Actor_15/Actor_15/01-01-07-01-02-01-15.mp4', '/root/.cache/kagglehub/datasets/adrivg/ravdess-emotional-speech-video/versions/1/RAVDESS dataset/Video_Speech_Actor_15/Actor_15/01-01-06-01-01-02-15.mp4', '/root/.cache/kagglehub/datasets/adrivg/ravdess-emotional-speech-video/versions/1/RAVDESS dataset/Video_Speech_Actor_15/Actor_15/01-01-08-02-02-02-15.mp4', '/root/.cache/kagglehub/datasets/adrivg/ravdess-emotional-speech-video/versions/1/RAVDESS dataset/Video_Speech_Actor_15/Actor_15/01-01-03-02-02-01-15.mp4', '/root/.cache/kagglehub/datasets/adrivg/ravdess-emotional-speech-video/versions/1/RAVDESS dataset/Video_Speech_Actor_15/Actor_15/01-01-05-01-02-02-15.mp4', '/root/.cache/kagglehub/datasets/adrivg/ravdess-emotional-speech-video/versions/1/RAVDESS dataset/Video_Speech_Actor_15/Actor_15/01-01-02-02-02-02-15.mp4', '/root/.cache/kagglehub/datasets/adrivg/ravdess-emotional-speech-video/versions/1/RAVDESS dataset/Video_Speech_Actor_15/Actor_15/01-01-05-01-02-01-15.mp4', '/root/.cache/kagglehub/datasets/adrivg/ravdess-emotional-speech-video/versions/1/RAVDESS dataset/Video_Speech_Actor_15/Actor_15/01-01-06-01-01-01-15.mp4', '/root/.cache/kagglehub/datasets/adrivg/ravdess-emotional-speech-video/versions/1/RAVDESS dataset/Video_Speech_Actor_15/Actor_15/01-01-06-01-02-01-15.mp4', '/root/.cache/kagglehub/datasets/adrivg/ravdess-emotional-speech-video/versions/1/RAVDESS dataset/Video_Speech_Actor_15/Actor_15/01-01-06-02-01-01-15.mp4', '/root/.cache/kagglehub/datasets/adrivg/ravdess-emotional-speech-video/versions/1/RAVDESS dataset/Video_Speech_Actor_15/Actor_15/01-01-07-02-01-01-15.mp4', '/root/.cache/kagglehub/datasets/adrivg/ravdess-emotional-speech-video/versions/1/RAVDESS dataset/Video_Speech_Actor_15/Actor_15/01-01-06-02-01-02-15.mp4', '/root/.cache/kagglehub/datasets/adrivg/ravdess-emotional-speech-video/versions/1/RAVDESS dataset/Video_Speech_Actor_15/Actor_15/01-01-07-01-01-02-15.mp4', '/root/.cache/kagglehub/datasets/adrivg/ravdess-emotional-speech-video/versions/1/RAVDESS dataset/Video_Speech_Actor_15/Actor_15/01-01-02-01-01-02-15.mp4', '/root/.cache/kagglehub/datasets/adrivg/ravdess-emotional-speech-video/versions/1/RAVDESS dataset/Video_Speech_Actor_15/Actor_15/01-01-02-01-02-02-15.mp4', '/root/.cache/kagglehub/datasets/adrivg/ravdess-emotional-speech-video/versions/1/RAVDESS dataset/Video_Speech_Actor_15/Actor_15/01-01-03-01-01-01-15.mp4', '/root/.cache/kagglehub/datasets/adrivg/ravdess-emotional-speech-video/versions/1/RAVDESS dataset/Video_Speech_Actor_15/Actor_15/01-01-08-01-02-01-15.mp4', '/root/.cache/kagglehub/datasets/adrivg/ravdess-emotional-speech-video/versions/1/RAVDESS dataset/Video_Speech_Actor_15/Actor_15/01-01-04-02-01-02-15.mp4', '/root/.cache/kagglehub/datasets/adrivg/ravdess-emotional-speech-video/versions/1/RAVDESS dataset/Video_Speech_Actor_15/Actor_15/01-01-04-02-02-01-15.mp4', '/root/.cache/kagglehub/datasets/adrivg/ravdess-emotional-speech-video/versions/1/RAVDESS dataset/Video_Speech_Actor_15/Actor_15/01-01-08-02-02-01-15.mp4', '/root/.cache/kagglehub/datasets/adrivg/ravdess-emotional-speech-video/versions/1/RAVDESS dataset/Video_Speech_Actor_15/Actor_15/01-01-04-01-02-02-15.mp4', '/root/.cache/kagglehub/datasets/adrivg/ravdess-emotional-speech-video/versions/1/RAVDESS dataset/Video_Speech_Actor_15/Actor_15/01-01-03-02-02-02-15.mp4', '/root/.cache/kagglehub/datasets/adrivg/ravdess-emotional-speech-video/versions/1/RAVDESS dataset/Video_Speech_Actor_15/Actor_15/01-01-04-01-01-02-15.mp4', '/root/.cache/kagglehub/datasets/adrivg/ravdess-emotional-speech-video/versions/1/RAVDESS dataset/Video_Speech_Actor_15/Actor_15/01-01-05-02-02-01-15.mp4', '/root/.cache/kagglehub/datasets/adrivg/ravdess-emotional-speech-video/versions/1/RAVDESS dataset/Video_Speech_Actor_15/Actor_15/01-01-03-01-02-01-15.mp4', '/root/.cache/kagglehub/datasets/adrivg/ravdess-emotional-speech-video/versions/1/RAVDESS dataset/Video_Speech_Actor_15/Actor_15/01-01-01-01-02-01-15.mp4', '/root/.cache/kagglehub/datasets/adrivg/ravdess-emotional-speech-video/versions/1/RAVDESS dataset/Video_Speech_Actor_15/Actor_15/01-01-05-02-02-02-15.mp4', '/root/.cache/kagglehub/datasets/adrivg/ravdess-emotional-speech-video/versions/1/RAVDESS dataset/Video_Speech_Actor_15/Actor_15/01-01-07-02-01-02-15.mp4', '/root/.cache/kagglehub/datasets/adrivg/ravdess-emotional-speech-video/versions/1/RAVDESS dataset/Video_Speech_Actor_15/Actor_15/01-01-03-02-01-02-15.mp4', '/root/.cache/kagglehub/datasets/adrivg/ravdess-emotional-speech-video/versions/1/RAVDESS dataset/Video_Speech_Actor_15/Actor_15/01-01-07-01-02-02-15.mp4', '/root/.cache/kagglehub/datasets/adrivg/ravdess-emotional-speech-video/versions/1/RAVDESS dataset/Video_Speech_Actor_15/Actor_15/01-01-08-01-02-02-15.mp4', '/root/.cache/kagglehub/datasets/adrivg/ravdess-emotional-speech-video/versions/1/RAVDESS dataset/Video_Speech_Actor_15/Actor_15/01-01-04-02-02-02-15.mp4', '/root/.cache/kagglehub/datasets/adrivg/ravdess-emotional-speech-video/versions/1/RAVDESS dataset/Video_Speech_Actor_15/Actor_15/01-01-05-02-01-02-15.mp4', '/root/.cache/kagglehub/datasets/adrivg/ravdess-emotional-speech-video/versions/1/RAVDESS dataset/Video_Speech_Actor_15/Actor_15/01-01-04-02-01-01-15.mp4', '/root/.cache/kagglehub/datasets/adrivg/ravdess-emotional-speech-video/versions/1/RAVDESS dataset/Video_Speech_Actor_15/Actor_15/01-01-01-01-01-01-15.mp4', '/root/.cache/kagglehub/datasets/adrivg/ravdess-emotional-speech-video/versions/1/RAVDESS dataset/Video_Speech_Actor_15/Actor_15/01-01-02-01-01-01-15.mp4', '/root/.cache/kagglehub/datasets/adrivg/ravdess-emotional-speech-video/versions/1/RAVDESS dataset/Video_Speech_Actor_15/Actor_15/01-01-03-01-01-02-15.mp4', '/root/.cache/kagglehub/datasets/adrivg/ravdess-emotional-speech-video/versions/1/RAVDESS dataset/Video_Speech_Actor_15/Actor_15/01-01-04-01-01-01-15.mp4', '/root/.cache/kagglehub/datasets/adrivg/ravdess-emotional-speech-video/versions/1/RAVDESS dataset/Video_Speech_Actor_15/Actor_15/01-01-06-01-02-02-15.mp4', '/root/.cache/kagglehub/datasets/adrivg/ravdess-emotional-speech-video/versions/1/RAVDESS dataset/Video_Speech_Actor_15/Actor_15/01-01-05-01-01-02-15.mp4', '/root/.cache/kagglehub/datasets/adrivg/ravdess-emotional-speech-video/versions/1/RAVDESS dataset/Video_Speech_Actor_15/Actor_15/01-01-03-01-02-02-15.mp4', '/root/.cache/kagglehub/datasets/adrivg/ravdess-emotional-speech-video/versions/1/RAVDESS dataset/Video_Speech_Actor_15/Actor_15/01-01-04-01-02-01-15.mp4', '/root/.cache/kagglehub/datasets/adrivg/ravdess-emotional-speech-video/versions/1/RAVDESS dataset/Video_Speech_Actor_15/Actor_15/01-01-06-02-02-02-15.mp4']\n"
          ]
        }
      ]
    },
    {
      "cell_type": "code",
      "source": [
        "model = MyModel(num_classes_emotion=8, num_classes_sev=2)\n",
        "model.to(device)\n",
        "loss_fn_emotion = nn.CrossEntropyLoss()\n",
        "loss_fn_serverity = nn.CrossEntropyLoss()\n",
        "accumulation_step = 8\n",
        "train(model, epochs=10, lr=0.001, dataset=dataloader, loss_fn_emotion=loss_fn_emotion, loss_fn_serverity=loss_fn_serverity, accumulation_step= accumulation_step)\n"
      ],
      "metadata": {
        "colab": {
          "base_uri": "https://localhost:8080/"
        },
        "id": "1wW80wKjIvTS",
        "outputId": "8e9cce73-147c-46f0-b8e8-82c900e61f65"
      },
      "execution_count": null,
      "outputs": [
        {
          "metadata": {
            "tags": null
          },
          "name": "stderr",
          "output_type": "stream",
          "text": [
            "WARNING:py.warnings:<ipython-input-42-595dad89b1b8>:4: FutureWarning: `torch.cuda.amp.GradScaler(args...)` is deprecated. Please use `torch.amp.GradScaler('cuda', args...)` instead.\n",
            "  scaler = torch.cuda.amp.GradScaler() # Making object for Mixed precision\n",
            "\n"
          ]
        },
        {
          "metadata": {
            "tags": null
          },
          "name": "stdout",
          "output_type": "stream",
          "text": [
            "MoviePy - Writing audio in temp_audio.wav\n"
          ]
        },
        {
          "metadata": {
            "tags": null
          },
          "name": "stderr",
          "output_type": "stream",
          "text": [
            "WARNING:py.warnings:<ipython-input-42-595dad89b1b8>:16: FutureWarning: `torch.cuda.amp.autocast(args...)` is deprecated. Please use `torch.amp.autocast('cuda', args...)` instead.\n",
            "  with torch.cuda.amp.autocast(): # By AMP api\n",
            "\n"
          ]
        },
        {
          "metadata": {
            "tags": null
          },
          "name": "stdout",
          "output_type": "stream",
          "text": [
            "MoviePy - Done.\n",
            "Epoch: 1/10, Loss: 0.346660315990448\n",
            "MoviePy - Writing audio in temp_audio.wav\n"
          ]
        },
        {
          "metadata": {
            "tags": null
          },
          "name": "stderr",
          "output_type": "stream",
          "text": [
            "                                                       "
          ]
        },
        {
          "metadata": {
            "tags": null
          },
          "name": "stdout",
          "output_type": "stream",
          "text": [
            "MoviePy - Done.\n",
            "Epoch: 1/10, Loss: 0.339398056268692\n"
          ]
        },
        {
          "metadata": {
            "tags": null
          },
          "name": "stderr",
          "output_type": "stream",
          "text": [
            "\r"
          ]
        },
        {
          "metadata": {
            "tags": null
          },
          "name": "stdout",
          "output_type": "stream",
          "text": [
            "MoviePy - Writing audio in temp_audio.wav\n"
          ]
        },
        {
          "metadata": {
            "tags": null
          },
          "name": "stderr",
          "output_type": "stream",
          "text": [
            "                                                       "
          ]
        },
        {
          "metadata": {
            "tags": null
          },
          "name": "stdout",
          "output_type": "stream",
          "text": [
            "MoviePy - Done.\n",
            "Epoch: 1/10, Loss: 0.35029125213623047\n"
          ]
        },
        {
          "metadata": {
            "tags": null
          },
          "name": "stderr",
          "output_type": "stream",
          "text": [
            "\r"
          ]
        },
        {
          "metadata": {
            "tags": null
          },
          "name": "stdout",
          "output_type": "stream",
          "text": [
            "MoviePy - Writing audio in temp_audio.wav\n"
          ]
        },
        {
          "metadata": {
            "tags": null
          },
          "name": "stderr",
          "output_type": "stream",
          "text": [
            "                                                       "
          ]
        },
        {
          "metadata": {
            "tags": null
          },
          "name": "stdout",
          "output_type": "stream",
          "text": [
            "MoviePy - Done.\n",
            "Epoch: 1/10, Loss: 0.34677940607070923\n"
          ]
        },
        {
          "metadata": {
            "tags": null
          },
          "name": "stderr",
          "output_type": "stream",
          "text": [
            "\r"
          ]
        },
        {
          "metadata": {
            "tags": null
          },
          "name": "stdout",
          "output_type": "stream",
          "text": [
            "MoviePy - Writing audio in temp_audio.wav\n"
          ]
        },
        {
          "metadata": {
            "tags": null
          },
          "name": "stderr",
          "output_type": "stream",
          "text": [
            "                                                       "
          ]
        },
        {
          "metadata": {
            "tags": null
          },
          "name": "stdout",
          "output_type": "stream",
          "text": [
            "MoviePy - Done.\n",
            "Epoch: 1/10, Loss: 0.34635353088378906\n"
          ]
        },
        {
          "metadata": {
            "tags": null
          },
          "name": "stderr",
          "output_type": "stream",
          "text": [
            "\r"
          ]
        },
        {
          "metadata": {
            "tags": null
          },
          "name": "stdout",
          "output_type": "stream",
          "text": [
            "MoviePy - Writing audio in temp_audio.wav\n"
          ]
        },
        {
          "metadata": {
            "tags": null
          },
          "name": "stderr",
          "output_type": "stream",
          "text": [
            "                                                       "
          ]
        },
        {
          "metadata": {
            "tags": null
          },
          "name": "stdout",
          "output_type": "stream",
          "text": [
            "MoviePy - Done.\n",
            "Epoch: 1/10, Loss: 0.34264302253723145\n"
          ]
        },
        {
          "metadata": {
            "tags": null
          },
          "name": "stderr",
          "output_type": "stream",
          "text": [
            "\r"
          ]
        },
        {
          "metadata": {
            "tags": null
          },
          "name": "stdout",
          "output_type": "stream",
          "text": [
            "MoviePy - Writing audio in temp_audio.wav\n"
          ]
        },
        {
          "metadata": {
            "tags": null
          },
          "name": "stderr",
          "output_type": "stream",
          "text": [
            "                                                       "
          ]
        },
        {
          "metadata": {
            "tags": null
          },
          "name": "stdout",
          "output_type": "stream",
          "text": [
            "MoviePy - Done.\n",
            "Epoch: 1/10, Loss: 0.3457087278366089\n"
          ]
        },
        {
          "metadata": {
            "tags": null
          },
          "name": "stderr",
          "output_type": "stream",
          "text": [
            "\r"
          ]
        },
        {
          "metadata": {
            "tags": null
          },
          "name": "stdout",
          "output_type": "stream",
          "text": [
            "MoviePy - Writing audio in temp_audio.wav\n"
          ]
        },
        {
          "metadata": {
            "tags": null
          },
          "name": "stderr",
          "output_type": "stream",
          "text": [
            "                                                       "
          ]
        },
        {
          "metadata": {
            "tags": null
          },
          "name": "stdout",
          "output_type": "stream",
          "text": [
            "MoviePy - Done.\n"
          ]
        },
        {
          "metadata": {
            "tags": null
          },
          "name": "stderr",
          "output_type": "stream",
          "text": [
            "\r"
          ]
        },
        {
          "metadata": {
            "tags": null
          },
          "name": "stdout",
          "output_type": "stream",
          "text": [
            "Epoch: 1/10, Loss: 0.3478124141693115\n",
            "MoviePy - Writing audio in temp_audio.wav\n"
          ]
        },
        {
          "metadata": {
            "tags": null
          },
          "name": "stderr",
          "output_type": "stream",
          "text": [
            "                                                       "
          ]
        },
        {
          "metadata": {
            "tags": null
          },
          "name": "stdout",
          "output_type": "stream",
          "text": [
            "MoviePy - Done.\n",
            "Epoch: 1/10, Loss: 0.3202941119670868\n"
          ]
        },
        {
          "metadata": {
            "tags": null
          },
          "name": "stderr",
          "output_type": "stream",
          "text": [
            "\r"
          ]
        },
        {
          "metadata": {
            "tags": null
          },
          "name": "stdout",
          "output_type": "stream",
          "text": [
            "MoviePy - Writing audio in temp_audio.wav\n"
          ]
        },
        {
          "metadata": {
            "tags": null
          },
          "name": "stderr",
          "output_type": "stream",
          "text": [
            ""
          ]
        },
        {
          "metadata": {
            "tags": null
          },
          "name": "stdout",
          "output_type": "stream",
          "text": [
            "MoviePy - Done.\n",
            "Epoch: 1/10, Loss: 0.3205694258213043\n",
            "MoviePy - Writing audio in temp_audio.wav\n"
          ]
        },
        {
          "metadata": {
            "tags": null
          },
          "name": "stderr",
          "output_type": "stream",
          "text": [
            "                                                       "
          ]
        },
        {
          "metadata": {
            "tags": null
          },
          "name": "stdout",
          "output_type": "stream",
          "text": [
            "MoviePy - Done.\n",
            "Epoch: 1/10, Loss: 0.32040268182754517\n"
          ]
        },
        {
          "metadata": {
            "tags": null
          },
          "name": "stderr",
          "output_type": "stream",
          "text": [
            "\r"
          ]
        },
        {
          "metadata": {
            "tags": null
          },
          "name": "stdout",
          "output_type": "stream",
          "text": [
            "MoviePy - Writing audio in temp_audio.wav\n"
          ]
        },
        {
          "metadata": {
            "tags": null
          },
          "name": "stderr",
          "output_type": "stream",
          "text": [
            "                                                       "
          ]
        },
        {
          "metadata": {
            "tags": null
          },
          "name": "stdout",
          "output_type": "stream",
          "text": [
            "MoviePy - Done.\n",
            "Epoch: 1/10, Loss: 0.445239782333374\n"
          ]
        },
        {
          "metadata": {
            "tags": null
          },
          "name": "stderr",
          "output_type": "stream",
          "text": [
            "\r"
          ]
        },
        {
          "metadata": {
            "tags": null
          },
          "name": "stdout",
          "output_type": "stream",
          "text": [
            "MoviePy - Writing audio in temp_audio.wav\n"
          ]
        },
        {
          "metadata": {
            "tags": null
          },
          "name": "stderr",
          "output_type": "stream",
          "text": [
            "                                                        "
          ]
        },
        {
          "metadata": {
            "tags": null
          },
          "name": "stdout",
          "output_type": "stream",
          "text": [
            "MoviePy - Done.\n",
            "Epoch: 1/10, Loss: 0.4448340833187103\n"
          ]
        },
        {
          "metadata": {
            "tags": null
          },
          "name": "stderr",
          "output_type": "stream",
          "text": [
            "\r"
          ]
        },
        {
          "metadata": {
            "tags": null
          },
          "name": "stdout",
          "output_type": "stream",
          "text": [
            "MoviePy - Writing audio in temp_audio.wav\n"
          ]
        },
        {
          "metadata": {
            "tags": null
          },
          "name": "stderr",
          "output_type": "stream",
          "text": [
            "                                                       "
          ]
        },
        {
          "metadata": {
            "tags": null
          },
          "name": "stdout",
          "output_type": "stream",
          "text": [
            "MoviePy - Done.\n",
            "Epoch: 1/10, Loss: 0.44522735476493835\n"
          ]
        },
        {
          "metadata": {
            "tags": null
          },
          "name": "stderr",
          "output_type": "stream",
          "text": [
            "\r"
          ]
        },
        {
          "metadata": {
            "tags": null
          },
          "name": "stdout",
          "output_type": "stream",
          "text": [
            "MoviePy - Writing audio in temp_audio.wav\n"
          ]
        },
        {
          "metadata": {
            "tags": null
          },
          "name": "stderr",
          "output_type": "stream",
          "text": [
            "                                                       "
          ]
        },
        {
          "metadata": {
            "tags": null
          },
          "name": "stdout",
          "output_type": "stream",
          "text": [
            "MoviePy - Done.\n",
            "Epoch: 1/10, Loss: 0.4272834360599518\n"
          ]
        },
        {
          "metadata": {
            "tags": null
          },
          "name": "stderr",
          "output_type": "stream",
          "text": [
            "\r"
          ]
        },
        {
          "metadata": {
            "tags": null
          },
          "name": "stdout",
          "output_type": "stream",
          "text": [
            "MoviePy - Writing audio in temp_audio.wav\n"
          ]
        },
        {
          "metadata": {
            "tags": null
          },
          "name": "stderr",
          "output_type": "stream",
          "text": [
            "                                                       "
          ]
        },
        {
          "metadata": {
            "tags": null
          },
          "name": "stdout",
          "output_type": "stream",
          "text": [
            "MoviePy - Done.\n",
            "Epoch: 1/10, Loss: 0.32049596309661865\n"
          ]
        },
        {
          "metadata": {
            "tags": null
          },
          "name": "stderr",
          "output_type": "stream",
          "text": [
            "\r"
          ]
        },
        {
          "metadata": {
            "tags": null
          },
          "name": "stdout",
          "output_type": "stream",
          "text": [
            "MoviePy - Writing audio in temp_audio.wav\n"
          ]
        },
        {
          "metadata": {
            "tags": null
          },
          "name": "stderr",
          "output_type": "stream",
          "text": [
            "                                                       "
          ]
        },
        {
          "metadata": {
            "tags": null
          },
          "name": "stdout",
          "output_type": "stream",
          "text": [
            "MoviePy - Done.\n",
            "Epoch: 1/10, Loss: 0.448405921459198\n"
          ]
        },
        {
          "metadata": {
            "tags": null
          },
          "name": "stderr",
          "output_type": "stream",
          "text": [
            "\r"
          ]
        },
        {
          "metadata": {
            "tags": null
          },
          "name": "stdout",
          "output_type": "stream",
          "text": [
            "MoviePy - Writing audio in temp_audio.wav\n"
          ]
        },
        {
          "metadata": {
            "tags": null
          },
          "name": "stderr",
          "output_type": "stream",
          "text": [
            "                                                       "
          ]
        },
        {
          "metadata": {
            "tags": null
          },
          "name": "stdout",
          "output_type": "stream",
          "text": [
            "MoviePy - Done.\n",
            "Epoch: 1/10, Loss: 0.4484061598777771\n"
          ]
        },
        {
          "metadata": {
            "tags": null
          },
          "name": "stderr",
          "output_type": "stream",
          "text": [
            "\r"
          ]
        },
        {
          "metadata": {
            "tags": null
          },
          "name": "stdout",
          "output_type": "stream",
          "text": [
            "MoviePy - Writing audio in temp_audio.wav\n"
          ]
        },
        {
          "metadata": {
            "tags": null
          },
          "name": "stderr",
          "output_type": "stream",
          "text": [
            "                                                       "
          ]
        },
        {
          "metadata": {
            "tags": null
          },
          "name": "stdout",
          "output_type": "stream",
          "text": [
            "MoviePy - Done.\n",
            "Epoch: 1/10, Loss: 0.32340919971466064\n"
          ]
        },
        {
          "metadata": {
            "tags": null
          },
          "name": "stderr",
          "output_type": "stream",
          "text": [
            "\r"
          ]
        },
        {
          "metadata": {
            "tags": null
          },
          "name": "stdout",
          "output_type": "stream",
          "text": [
            "MoviePy - Writing audio in temp_audio.wav\n"
          ]
        },
        {
          "metadata": {
            "tags": null
          },
          "name": "stderr",
          "output_type": "stream",
          "text": [
            "                                                       "
          ]
        },
        {
          "metadata": {
            "tags": null
          },
          "name": "stdout",
          "output_type": "stream",
          "text": [
            "MoviePy - Done.\n",
            "Epoch: 1/10, Loss: 0.32340919971466064\n"
          ]
        },
        {
          "metadata": {
            "tags": null
          },
          "name": "stderr",
          "output_type": "stream",
          "text": [
            "\r"
          ]
        },
        {
          "metadata": {
            "tags": null
          },
          "name": "stdout",
          "output_type": "stream",
          "text": [
            "MoviePy - Writing audio in temp_audio.wav\n"
          ]
        },
        {
          "metadata": {
            "tags": null
          },
          "name": "stderr",
          "output_type": "stream",
          "text": [
            "                                                       "
          ]
        },
        {
          "metadata": {
            "tags": null
          },
          "name": "stdout",
          "output_type": "stream",
          "text": [
            "MoviePy - Done.\n",
            "Epoch: 1/10, Loss: 0.3234095871448517\n"
          ]
        },
        {
          "metadata": {
            "tags": null
          },
          "name": "stderr",
          "output_type": "stream",
          "text": [
            "\r"
          ]
        },
        {
          "metadata": {
            "tags": null
          },
          "name": "stdout",
          "output_type": "stream",
          "text": [
            "MoviePy - Writing audio in temp_audio.wav\n"
          ]
        },
        {
          "metadata": {
            "tags": null
          },
          "name": "stderr",
          "output_type": "stream",
          "text": [
            "                                                       "
          ]
        },
        {
          "metadata": {
            "tags": null
          },
          "name": "stdout",
          "output_type": "stream",
          "text": [
            "MoviePy - Done.\n",
            "Epoch: 1/10, Loss: 0.3234097957611084\n"
          ]
        },
        {
          "metadata": {
            "tags": null
          },
          "name": "stderr",
          "output_type": "stream",
          "text": [
            "\r"
          ]
        },
        {
          "metadata": {
            "tags": null
          },
          "name": "stdout",
          "output_type": "stream",
          "text": [
            "MoviePy - Writing audio in temp_audio.wav\n"
          ]
        },
        {
          "metadata": {
            "tags": null
          },
          "name": "stderr",
          "output_type": "stream",
          "text": [
            "                                                        "
          ]
        },
        {
          "metadata": {
            "tags": null
          },
          "name": "stdout",
          "output_type": "stream",
          "text": [
            "MoviePy - Done.\n",
            "Epoch: 1/10, Loss: 0.44840583205223083\n"
          ]
        },
        {
          "metadata": {
            "tags": null
          },
          "name": "stderr",
          "output_type": "stream",
          "text": [
            "\r"
          ]
        },
        {
          "metadata": {
            "tags": null
          },
          "name": "stdout",
          "output_type": "stream",
          "text": [
            "MoviePy - Writing audio in temp_audio.wav\n"
          ]
        },
        {
          "metadata": {
            "tags": null
          },
          "name": "stderr",
          "output_type": "stream",
          "text": [
            "                                                       "
          ]
        },
        {
          "metadata": {
            "tags": null
          },
          "name": "stdout",
          "output_type": "stream",
          "text": [
            "MoviePy - Done.\n",
            "Epoch: 1/10, Loss: 0.3234097361564636\n"
          ]
        },
        {
          "metadata": {
            "tags": null
          },
          "name": "stderr",
          "output_type": "stream",
          "text": [
            "\r"
          ]
        },
        {
          "metadata": {
            "tags": null
          },
          "name": "stdout",
          "output_type": "stream",
          "text": [
            "MoviePy - Writing audio in temp_audio.wav\n"
          ]
        },
        {
          "metadata": {
            "tags": null
          },
          "name": "stderr",
          "output_type": "stream",
          "text": [
            "                                                       "
          ]
        },
        {
          "metadata": {
            "tags": null
          },
          "name": "stdout",
          "output_type": "stream",
          "text": [
            "MoviePy - Done.\n",
            "Epoch: 1/10, Loss: 0.44840845465660095\n"
          ]
        },
        {
          "metadata": {
            "tags": null
          },
          "name": "stderr",
          "output_type": "stream",
          "text": [
            "\r"
          ]
        },
        {
          "metadata": {
            "tags": null
          },
          "name": "stdout",
          "output_type": "stream",
          "text": [
            "MoviePy - Writing audio in temp_audio.wav\n"
          ]
        },
        {
          "metadata": {
            "tags": null
          },
          "name": "stderr",
          "output_type": "stream",
          "text": [
            "                                                       "
          ]
        },
        {
          "metadata": {
            "tags": null
          },
          "name": "stdout",
          "output_type": "stream",
          "text": [
            "MoviePy - Done.\n",
            "Epoch: 1/10, Loss: 0.4484069347381592\n"
          ]
        },
        {
          "metadata": {
            "tags": null
          },
          "name": "stderr",
          "output_type": "stream",
          "text": [
            "\r"
          ]
        },
        {
          "metadata": {
            "tags": null
          },
          "name": "stdout",
          "output_type": "stream",
          "text": [
            "MoviePy - Writing audio in temp_audio.wav\n"
          ]
        },
        {
          "metadata": {
            "tags": null
          },
          "name": "stderr",
          "output_type": "stream",
          "text": [
            "                                                        "
          ]
        },
        {
          "metadata": {
            "tags": null
          },
          "name": "stdout",
          "output_type": "stream",
          "text": [
            "MoviePy - Done.\n",
            "Epoch: 1/10, Loss: 0.44840705394744873\n"
          ]
        },
        {
          "metadata": {
            "tags": null
          },
          "name": "stderr",
          "output_type": "stream",
          "text": [
            "\r"
          ]
        },
        {
          "metadata": {
            "tags": null
          },
          "name": "stdout",
          "output_type": "stream",
          "text": [
            "MoviePy - Writing audio in temp_audio.wav\n"
          ]
        },
        {
          "metadata": {
            "tags": null
          },
          "name": "stderr",
          "output_type": "stream",
          "text": [
            "                                                       "
          ]
        },
        {
          "metadata": {
            "tags": null
          },
          "name": "stdout",
          "output_type": "stream",
          "text": [
            "MoviePy - Done.\n",
            "Epoch: 1/10, Loss: 0.32340937852859497\n"
          ]
        },
        {
          "metadata": {
            "tags": null
          },
          "name": "stderr",
          "output_type": "stream",
          "text": [
            "\r"
          ]
        },
        {
          "metadata": {
            "tags": null
          },
          "name": "stdout",
          "output_type": "stream",
          "text": [
            "MoviePy - Writing audio in temp_audio.wav\n"
          ]
        },
        {
          "metadata": {
            "tags": null
          },
          "name": "stderr",
          "output_type": "stream",
          "text": [
            "                                                       "
          ]
        },
        {
          "metadata": {
            "tags": null
          },
          "name": "stdout",
          "output_type": "stream",
          "text": [
            "MoviePy - Done.\n",
            "Epoch: 1/10, Loss: 0.32340899109840393\n"
          ]
        },
        {
          "metadata": {
            "tags": null
          },
          "name": "stderr",
          "output_type": "stream",
          "text": [
            "\r"
          ]
        },
        {
          "metadata": {
            "tags": null
          },
          "name": "stdout",
          "output_type": "stream",
          "text": [
            "MoviePy - Writing audio in temp_audio.wav\n"
          ]
        },
        {
          "metadata": {
            "tags": null
          },
          "name": "stderr",
          "output_type": "stream",
          "text": [
            "                                                       "
          ]
        },
        {
          "metadata": {
            "tags": null
          },
          "name": "stdout",
          "output_type": "stream",
          "text": [
            "MoviePy - Done.\n",
            "Epoch: 1/10, Loss: 0.32340893149375916\n"
          ]
        },
        {
          "metadata": {
            "tags": null
          },
          "name": "stderr",
          "output_type": "stream",
          "text": [
            "\r"
          ]
        },
        {
          "metadata": {
            "tags": null
          },
          "name": "stdout",
          "output_type": "stream",
          "text": [
            "MoviePy - Writing audio in temp_audio.wav\n"
          ]
        },
        {
          "metadata": {
            "tags": null
          },
          "name": "stderr",
          "output_type": "stream",
          "text": [
            "                                                       "
          ]
        },
        {
          "metadata": {
            "tags": null
          },
          "name": "stdout",
          "output_type": "stream",
          "text": [
            "MoviePy - Done.\n",
            "Epoch: 1/10, Loss: 0.44840550422668457\n"
          ]
        },
        {
          "metadata": {
            "tags": null
          },
          "name": "stderr",
          "output_type": "stream",
          "text": [
            "\r"
          ]
        },
        {
          "metadata": {
            "tags": null
          },
          "name": "stdout",
          "output_type": "stream",
          "text": [
            "MoviePy - Writing audio in temp_audio.wav\n"
          ]
        },
        {
          "metadata": {
            "tags": null
          },
          "name": "stderr",
          "output_type": "stream",
          "text": [
            "                                                       "
          ]
        },
        {
          "metadata": {
            "tags": null
          },
          "name": "stdout",
          "output_type": "stream",
          "text": [
            "MoviePy - Done.\n",
            "Epoch: 1/10, Loss: 0.32340896129608154\n"
          ]
        },
        {
          "metadata": {
            "tags": null
          },
          "name": "stderr",
          "output_type": "stream",
          "text": [
            "\r"
          ]
        },
        {
          "metadata": {
            "tags": null
          },
          "name": "stdout",
          "output_type": "stream",
          "text": [
            "MoviePy - Writing audio in temp_audio.wav\n"
          ]
        },
        {
          "metadata": {
            "tags": null
          },
          "name": "stderr",
          "output_type": "stream",
          "text": [
            "                                                       "
          ]
        },
        {
          "metadata": {
            "tags": null
          },
          "name": "stdout",
          "output_type": "stream",
          "text": [
            "MoviePy - Done.\n",
            "Epoch: 1/10, Loss: 0.32340937852859497\n"
          ]
        },
        {
          "metadata": {
            "tags": null
          },
          "name": "stderr",
          "output_type": "stream",
          "text": [
            "\r"
          ]
        },
        {
          "metadata": {
            "tags": null
          },
          "name": "stdout",
          "output_type": "stream",
          "text": [
            "MoviePy - Writing audio in temp_audio.wav\n"
          ]
        },
        {
          "metadata": {
            "tags": null
          },
          "name": "stderr",
          "output_type": "stream",
          "text": [
            "                                                       "
          ]
        },
        {
          "metadata": {
            "tags": null
          },
          "name": "stdout",
          "output_type": "stream",
          "text": [
            "MoviePy - Done.\n",
            "Epoch: 1/10, Loss: 0.44840094447135925\n"
          ]
        },
        {
          "metadata": {
            "tags": null
          },
          "name": "stderr",
          "output_type": "stream",
          "text": [
            "\r"
          ]
        },
        {
          "metadata": {
            "tags": null
          },
          "name": "stdout",
          "output_type": "stream",
          "text": [
            "MoviePy - Writing audio in temp_audio.wav\n"
          ]
        },
        {
          "metadata": {
            "tags": null
          },
          "name": "stderr",
          "output_type": "stream",
          "text": [
            "                                                       "
          ]
        },
        {
          "metadata": {
            "tags": null
          },
          "name": "stdout",
          "output_type": "stream",
          "text": [
            "MoviePy - Done.\n",
            "Epoch: 1/10, Loss: 0.32340943813323975\n"
          ]
        },
        {
          "metadata": {
            "tags": null
          },
          "name": "stderr",
          "output_type": "stream",
          "text": [
            "\r"
          ]
        },
        {
          "metadata": {
            "tags": null
          },
          "name": "stdout",
          "output_type": "stream",
          "text": [
            "MoviePy - Writing audio in temp_audio.wav\n"
          ]
        },
        {
          "metadata": {
            "tags": null
          },
          "name": "stderr",
          "output_type": "stream",
          "text": [
            "                                                       "
          ]
        },
        {
          "metadata": {
            "tags": null
          },
          "name": "stdout",
          "output_type": "stream",
          "text": [
            "MoviePy - Done.\n",
            "Epoch: 1/10, Loss: 0.4484056234359741\n"
          ]
        },
        {
          "metadata": {
            "tags": null
          },
          "name": "stderr",
          "output_type": "stream",
          "text": [
            "\r"
          ]
        },
        {
          "metadata": {
            "tags": null
          },
          "name": "stdout",
          "output_type": "stream",
          "text": [
            "MoviePy - Writing audio in temp_audio.wav\n"
          ]
        },
        {
          "metadata": {
            "tags": null
          },
          "name": "stderr",
          "output_type": "stream",
          "text": [
            "                                                       "
          ]
        },
        {
          "metadata": {
            "tags": null
          },
          "name": "stdout",
          "output_type": "stream",
          "text": [
            "MoviePy - Done.\n",
            "Epoch: 1/10, Loss: 0.32339397072792053\n"
          ]
        },
        {
          "metadata": {
            "tags": null
          },
          "name": "stderr",
          "output_type": "stream",
          "text": [
            "\r"
          ]
        },
        {
          "metadata": {
            "tags": null
          },
          "name": "stdout",
          "output_type": "stream",
          "text": [
            "MoviePy - Writing audio in temp_audio.wav\n"
          ]
        },
        {
          "metadata": {
            "tags": null
          },
          "name": "stderr",
          "output_type": "stream",
          "text": [
            "                                                        "
          ]
        },
        {
          "metadata": {
            "tags": null
          },
          "name": "stdout",
          "output_type": "stream",
          "text": [
            "MoviePy - Done.\n",
            "Epoch: 1/10, Loss: 0.4483996331691742\n"
          ]
        },
        {
          "metadata": {
            "tags": null
          },
          "name": "stderr",
          "output_type": "stream",
          "text": [
            "\r"
          ]
        },
        {
          "metadata": {
            "tags": null
          },
          "name": "stdout",
          "output_type": "stream",
          "text": [
            "MoviePy - Writing audio in temp_audio.wav\n"
          ]
        },
        {
          "metadata": {
            "tags": null
          },
          "name": "stderr",
          "output_type": "stream",
          "text": [
            "                                                       "
          ]
        },
        {
          "metadata": {
            "tags": null
          },
          "name": "stdout",
          "output_type": "stream",
          "text": [
            "MoviePy - Done.\n",
            "Epoch: 1/10, Loss: 0.3234098553657532\n"
          ]
        },
        {
          "metadata": {
            "tags": null
          },
          "name": "stderr",
          "output_type": "stream",
          "text": [
            "\r"
          ]
        },
        {
          "metadata": {
            "tags": null
          },
          "name": "stdout",
          "output_type": "stream",
          "text": [
            "MoviePy - Writing audio in temp_audio.wav\n"
          ]
        },
        {
          "metadata": {
            "tags": null
          },
          "name": "stderr",
          "output_type": "stream",
          "text": [
            "                                                       "
          ]
        },
        {
          "metadata": {
            "tags": null
          },
          "name": "stdout",
          "output_type": "stream",
          "text": [
            "MoviePy - Done.\n",
            "Epoch: 1/10, Loss: 0.4484027624130249\n"
          ]
        },
        {
          "metadata": {
            "tags": null
          },
          "name": "stderr",
          "output_type": "stream",
          "text": [
            "\r"
          ]
        },
        {
          "metadata": {
            "tags": null
          },
          "name": "stdout",
          "output_type": "stream",
          "text": [
            "MoviePy - Writing audio in temp_audio.wav\n"
          ]
        },
        {
          "metadata": {
            "tags": null
          },
          "name": "stderr",
          "output_type": "stream",
          "text": [
            "                                                       "
          ]
        },
        {
          "metadata": {
            "tags": null
          },
          "name": "stdout",
          "output_type": "stream",
          "text": [
            "MoviePy - Done.\n",
            "Epoch: 1/10, Loss: 0.4466412663459778\n"
          ]
        },
        {
          "metadata": {
            "tags": null
          },
          "name": "stderr",
          "output_type": "stream",
          "text": [
            "\r"
          ]
        },
        {
          "metadata": {
            "tags": null
          },
          "name": "stdout",
          "output_type": "stream",
          "text": [
            "MoviePy - Writing audio in temp_audio.wav\n"
          ]
        },
        {
          "metadata": {
            "tags": null
          },
          "name": "stderr",
          "output_type": "stream",
          "text": [
            "                                                       "
          ]
        },
        {
          "metadata": {
            "tags": null
          },
          "name": "stdout",
          "output_type": "stream",
          "text": [
            "MoviePy - Done.\n",
            "Epoch: 1/10, Loss: 0.19916845858097076\n"
          ]
        },
        {
          "metadata": {
            "tags": null
          },
          "name": "stderr",
          "output_type": "stream",
          "text": [
            "\r"
          ]
        },
        {
          "metadata": {
            "tags": null
          },
          "name": "stdout",
          "output_type": "stream",
          "text": [
            "MoviePy - Writing audio in temp_audio.wav\n"
          ]
        },
        {
          "metadata": {
            "tags": null
          },
          "name": "stderr",
          "output_type": "stream",
          "text": [
            "                                                       "
          ]
        },
        {
          "metadata": {
            "tags": null
          },
          "name": "stdout",
          "output_type": "stream",
          "text": [
            "MoviePy - Done.\n",
            "Epoch: 1/10, Loss: 0.3240564465522766\n"
          ]
        },
        {
          "metadata": {
            "tags": null
          },
          "name": "stderr",
          "output_type": "stream",
          "text": [
            "\r"
          ]
        },
        {
          "metadata": {
            "tags": null
          },
          "name": "stdout",
          "output_type": "stream",
          "text": [
            "MoviePy - Writing audio in temp_audio.wav\n"
          ]
        },
        {
          "metadata": {
            "tags": null
          },
          "name": "stderr",
          "output_type": "stream",
          "text": [
            "                                                       "
          ]
        },
        {
          "metadata": {
            "tags": null
          },
          "name": "stdout",
          "output_type": "stream",
          "text": [
            "MoviePy - Done.\n",
            "Epoch: 1/10, Loss: 0.3246241807937622\n"
          ]
        },
        {
          "metadata": {
            "tags": null
          },
          "name": "stderr",
          "output_type": "stream",
          "text": [
            "\r"
          ]
        },
        {
          "metadata": {
            "tags": null
          },
          "name": "stdout",
          "output_type": "stream",
          "text": [
            "MoviePy - Writing audio in temp_audio.wav\n"
          ]
        },
        {
          "metadata": {
            "tags": null
          },
          "name": "stderr",
          "output_type": "stream",
          "text": [
            "                                                       "
          ]
        },
        {
          "metadata": {
            "tags": null
          },
          "name": "stdout",
          "output_type": "stream",
          "text": [
            "MoviePy - Done.\n",
            "Epoch: 1/10, Loss: 0.3237919807434082\n"
          ]
        },
        {
          "metadata": {
            "tags": null
          },
          "name": "stderr",
          "output_type": "stream",
          "text": [
            "\r"
          ]
        },
        {
          "metadata": {
            "tags": null
          },
          "name": "stdout",
          "output_type": "stream",
          "text": [
            "MoviePy - Writing audio in temp_audio.wav\n"
          ]
        },
        {
          "metadata": {
            "tags": null
          },
          "name": "stderr",
          "output_type": "stream",
          "text": [
            "                                                       "
          ]
        },
        {
          "metadata": {
            "tags": null
          },
          "name": "stdout",
          "output_type": "stream",
          "text": [
            "MoviePy - Done.\n",
            "Epoch: 1/10, Loss: 0.1989833563566208\n"
          ]
        },
        {
          "metadata": {
            "tags": null
          },
          "name": "stderr",
          "output_type": "stream",
          "text": [
            "\r"
          ]
        },
        {
          "metadata": {
            "tags": null
          },
          "name": "stdout",
          "output_type": "stream",
          "text": [
            "MoviePy - Writing audio in temp_audio.wav\n"
          ]
        },
        {
          "metadata": {
            "tags": null
          },
          "name": "stderr",
          "output_type": "stream",
          "text": [
            "                                                       "
          ]
        },
        {
          "metadata": {
            "tags": null
          },
          "name": "stdout",
          "output_type": "stream",
          "text": [
            "MoviePy - Done.\n",
            "Epoch: 1/10, Loss: 0.4473850727081299\n"
          ]
        },
        {
          "metadata": {
            "tags": null
          },
          "name": "stderr",
          "output_type": "stream",
          "text": [
            "\r"
          ]
        },
        {
          "metadata": {
            "tags": null
          },
          "name": "stdout",
          "output_type": "stream",
          "text": [
            "MoviePy - Writing audio in temp_audio.wav\n"
          ]
        },
        {
          "metadata": {
            "tags": null
          },
          "name": "stderr",
          "output_type": "stream",
          "text": [
            "                                                       "
          ]
        },
        {
          "metadata": {
            "tags": null
          },
          "name": "stdout",
          "output_type": "stream",
          "text": [
            "MoviePy - Done.\n",
            "Epoch: 1/10, Loss: 0.32432544231414795\n"
          ]
        },
        {
          "metadata": {
            "tags": null
          },
          "name": "stderr",
          "output_type": "stream",
          "text": [
            "\r"
          ]
        },
        {
          "metadata": {
            "tags": null
          },
          "name": "stdout",
          "output_type": "stream",
          "text": [
            "MoviePy - Writing audio in temp_audio.wav\n"
          ]
        },
        {
          "metadata": {
            "tags": null
          },
          "name": "stderr",
          "output_type": "stream",
          "text": [
            "                                                       "
          ]
        },
        {
          "metadata": {
            "tags": null
          },
          "name": "stdout",
          "output_type": "stream",
          "text": [
            "MoviePy - Done.\n",
            "Epoch: 1/10, Loss: 0.3234088122844696\n"
          ]
        },
        {
          "metadata": {
            "tags": null
          },
          "name": "stderr",
          "output_type": "stream",
          "text": [
            "\r"
          ]
        },
        {
          "metadata": {
            "tags": null
          },
          "name": "stdout",
          "output_type": "stream",
          "text": [
            "MoviePy - Writing audio in temp_audio.wav\n"
          ]
        },
        {
          "metadata": {
            "tags": null
          },
          "name": "stderr",
          "output_type": "stream",
          "text": [
            "                                                       "
          ]
        },
        {
          "metadata": {
            "tags": null
          },
          "name": "stdout",
          "output_type": "stream",
          "text": [
            "MoviePy - Done.\n",
            "Epoch: 1/10, Loss: 0.4484088122844696\n"
          ]
        },
        {
          "metadata": {
            "tags": null
          },
          "name": "stderr",
          "output_type": "stream",
          "text": [
            "\r"
          ]
        },
        {
          "metadata": {
            "tags": null
          },
          "name": "stdout",
          "output_type": "stream",
          "text": [
            "MoviePy - Writing audio in temp_audio.wav\n"
          ]
        },
        {
          "metadata": {
            "tags": null
          },
          "name": "stderr",
          "output_type": "stream",
          "text": [
            "                                                       "
          ]
        },
        {
          "metadata": {
            "tags": null
          },
          "name": "stdout",
          "output_type": "stream",
          "text": [
            "MoviePy - Done.\n",
            "Epoch: 1/10, Loss: 0.4484088122844696\n"
          ]
        },
        {
          "metadata": {
            "tags": null
          },
          "name": "stderr",
          "output_type": "stream",
          "text": [
            "\r"
          ]
        },
        {
          "metadata": {
            "tags": null
          },
          "name": "stdout",
          "output_type": "stream",
          "text": [
            "MoviePy - Writing audio in temp_audio.wav\n"
          ]
        },
        {
          "metadata": {
            "tags": null
          },
          "name": "stderr",
          "output_type": "stream",
          "text": [
            "                                                       "
          ]
        },
        {
          "metadata": {
            "tags": null
          },
          "name": "stdout",
          "output_type": "stream",
          "text": [
            "MoviePy - Done.\n",
            "Epoch: 1/10, Loss: 0.4484088122844696\n"
          ]
        },
        {
          "metadata": {
            "tags": null
          },
          "name": "stderr",
          "output_type": "stream",
          "text": [
            "\r"
          ]
        },
        {
          "metadata": {
            "tags": null
          },
          "name": "stdout",
          "output_type": "stream",
          "text": [
            "MoviePy - Writing audio in temp_audio.wav\n"
          ]
        },
        {
          "metadata": {
            "tags": null
          },
          "name": "stderr",
          "output_type": "stream",
          "text": [
            "                                                       "
          ]
        },
        {
          "metadata": {
            "tags": null
          },
          "name": "stdout",
          "output_type": "stream",
          "text": [
            "MoviePy - Done.\n",
            "Epoch: 1/10, Loss: 0.3234088122844696\n"
          ]
        },
        {
          "metadata": {
            "tags": null
          },
          "name": "stderr",
          "output_type": "stream",
          "text": [
            "\r"
          ]
        },
        {
          "metadata": {
            "tags": null
          },
          "name": "stdout",
          "output_type": "stream",
          "text": [
            "MoviePy - Writing audio in temp_audio.wav\n"
          ]
        },
        {
          "metadata": {
            "tags": null
          },
          "name": "stderr",
          "output_type": "stream",
          "text": [
            "                                                       "
          ]
        },
        {
          "metadata": {
            "tags": null
          },
          "name": "stdout",
          "output_type": "stream",
          "text": [
            "MoviePy - Done.\n",
            "Epoch: 1/10, Loss: 0.3234088122844696\n"
          ]
        },
        {
          "metadata": {
            "tags": null
          },
          "name": "stderr",
          "output_type": "stream",
          "text": [
            "\r"
          ]
        },
        {
          "metadata": {
            "tags": null
          },
          "name": "stdout",
          "output_type": "stream",
          "text": [
            "MoviePy - Writing audio in temp_audio.wav\n"
          ]
        },
        {
          "metadata": {
            "tags": null
          },
          "name": "stderr",
          "output_type": "stream",
          "text": [
            "                                                        "
          ]
        },
        {
          "metadata": {
            "tags": null
          },
          "name": "stdout",
          "output_type": "stream",
          "text": [
            "MoviePy - Done.\n",
            "Epoch: 1/10, Loss: 0.4484088122844696\n"
          ]
        },
        {
          "metadata": {
            "tags": null
          },
          "name": "stderr",
          "output_type": "stream",
          "text": [
            "\r"
          ]
        },
        {
          "metadata": {
            "tags": null
          },
          "name": "stdout",
          "output_type": "stream",
          "text": [
            "MoviePy - Writing audio in temp_audio.wav\n"
          ]
        },
        {
          "metadata": {
            "tags": null
          },
          "name": "stderr",
          "output_type": "stream",
          "text": [
            "                                                       "
          ]
        },
        {
          "metadata": {
            "tags": null
          },
          "name": "stdout",
          "output_type": "stream",
          "text": [
            "MoviePy - Done.\n",
            "Epoch: 1/10, Loss: 0.3234088122844696\n"
          ]
        },
        {
          "metadata": {
            "tags": null
          },
          "name": "stderr",
          "output_type": "stream",
          "text": [
            "\r"
          ]
        },
        {
          "metadata": {
            "tags": null
          },
          "name": "stdout",
          "output_type": "stream",
          "text": [
            "MoviePy - Writing audio in temp_audio.wav\n"
          ]
        },
        {
          "metadata": {
            "tags": null
          },
          "name": "stderr",
          "output_type": "stream",
          "text": [
            "                                                       "
          ]
        },
        {
          "metadata": {
            "tags": null
          },
          "name": "stdout",
          "output_type": "stream",
          "text": [
            "MoviePy - Done.\n",
            "Epoch: 1/10, Loss: 0.4484088122844696\n"
          ]
        },
        {
          "metadata": {
            "tags": null
          },
          "name": "stderr",
          "output_type": "stream",
          "text": [
            "\r"
          ]
        },
        {
          "metadata": {
            "tags": null
          },
          "name": "stdout",
          "output_type": "stream",
          "text": [
            "MoviePy - Writing audio in temp_audio.wav\n"
          ]
        },
        {
          "metadata": {
            "tags": null
          },
          "name": "stderr",
          "output_type": "stream",
          "text": [
            "                                                       "
          ]
        },
        {
          "metadata": {
            "tags": null
          },
          "name": "stdout",
          "output_type": "stream",
          "text": [
            "MoviePy - Done.\n",
            "Epoch: 1/10, Loss: 0.4484088122844696\n"
          ]
        },
        {
          "metadata": {
            "tags": null
          },
          "name": "stderr",
          "output_type": "stream",
          "text": [
            "\r"
          ]
        },
        {
          "metadata": {
            "tags": null
          },
          "name": "stdout",
          "output_type": "stream",
          "text": [
            "MoviePy - Writing audio in temp_audio.wav\n"
          ]
        },
        {
          "metadata": {
            "tags": null
          },
          "name": "stderr",
          "output_type": "stream",
          "text": [
            "                                                       "
          ]
        },
        {
          "metadata": {
            "tags": null
          },
          "name": "stdout",
          "output_type": "stream",
          "text": [
            "MoviePy - Done.\n",
            "Epoch: 1/10, Loss: 0.3234088122844696\n"
          ]
        },
        {
          "metadata": {
            "tags": null
          },
          "name": "stderr",
          "output_type": "stream",
          "text": [
            "\r"
          ]
        },
        {
          "metadata": {
            "tags": null
          },
          "name": "stdout",
          "output_type": "stream",
          "text": [
            "MoviePy - Writing audio in temp_audio.wav\n"
          ]
        },
        {
          "metadata": {
            "tags": null
          },
          "name": "stderr",
          "output_type": "stream",
          "text": [
            "                                                       "
          ]
        },
        {
          "metadata": {
            "tags": null
          },
          "name": "stdout",
          "output_type": "stream",
          "text": [
            "MoviePy - Done.\n",
            "Epoch: 1/10, Loss: 0.3234088122844696\n"
          ]
        },
        {
          "metadata": {
            "tags": null
          },
          "name": "stderr",
          "output_type": "stream",
          "text": [
            "\r"
          ]
        },
        {
          "metadata": {
            "tags": null
          },
          "name": "stdout",
          "output_type": "stream",
          "text": [
            "MoviePy - Writing audio in temp_audio.wav\n"
          ]
        },
        {
          "metadata": {
            "tags": null
          },
          "name": "stderr",
          "output_type": "stream",
          "text": [
            "                                                       "
          ]
        },
        {
          "metadata": {
            "tags": null
          },
          "name": "stdout",
          "output_type": "stream",
          "text": [
            "MoviePy - Done.\n",
            "Epoch: 1/10, Loss: 0.3234088122844696\n"
          ]
        },
        {
          "metadata": {
            "tags": null
          },
          "name": "stderr",
          "output_type": "stream",
          "text": [
            "\r"
          ]
        },
        {
          "metadata": {
            "tags": null
          },
          "name": "stdout",
          "output_type": "stream",
          "text": [
            "MoviePy - Writing audio in temp_audio.wav\n"
          ]
        },
        {
          "metadata": {
            "tags": null
          },
          "name": "stderr",
          "output_type": "stream",
          "text": [
            "                                                       "
          ]
        },
        {
          "metadata": {
            "tags": null
          },
          "name": "stdout",
          "output_type": "stream",
          "text": [
            "MoviePy - Done.\n",
            "Epoch: 1/10, Loss: 0.3234088122844696\n"
          ]
        },
        {
          "metadata": {
            "tags": null
          },
          "name": "stderr",
          "output_type": "stream",
          "text": [
            "\r"
          ]
        },
        {
          "metadata": {
            "tags": null
          },
          "name": "stdout",
          "output_type": "stream",
          "text": [
            "MoviePy - Writing audio in temp_audio.wav\n"
          ]
        },
        {
          "metadata": {
            "tags": null
          },
          "name": "stderr",
          "output_type": "stream",
          "text": [
            "                                                       "
          ]
        },
        {
          "metadata": {
            "tags": null
          },
          "name": "stdout",
          "output_type": "stream",
          "text": [
            "MoviePy - Done.\n",
            "Epoch: 1/10, Loss: 0.3234088122844696\n"
          ]
        },
        {
          "metadata": {
            "tags": null
          },
          "name": "stderr",
          "output_type": "stream",
          "text": [
            "\r"
          ]
        },
        {
          "metadata": {
            "tags": null
          },
          "name": "stdout",
          "output_type": "stream",
          "text": [
            "MoviePy - Writing audio in temp_audio.wav\n"
          ]
        },
        {
          "metadata": {
            "tags": null
          },
          "name": "stderr",
          "output_type": "stream",
          "text": [
            "                                                       "
          ]
        },
        {
          "metadata": {
            "tags": null
          },
          "name": "stdout",
          "output_type": "stream",
          "text": [
            "MoviePy - Done.\n",
            "Epoch: 1/10, Loss: 0.4484088122844696\n"
          ]
        },
        {
          "metadata": {
            "tags": null
          },
          "name": "stderr",
          "output_type": "stream",
          "text": [
            "\r"
          ]
        },
        {
          "metadata": {
            "tags": null
          },
          "name": "stdout",
          "output_type": "stream",
          "text": [
            "MoviePy - Writing audio in temp_audio.wav\n"
          ]
        },
        {
          "metadata": {
            "tags": null
          },
          "name": "stderr",
          "output_type": "stream",
          "text": [
            "                                                       "
          ]
        },
        {
          "metadata": {
            "tags": null
          },
          "name": "stdout",
          "output_type": "stream",
          "text": [
            "MoviePy - Done.\n",
            "Epoch: 1/10, Loss: 0.1984088271856308\n"
          ]
        },
        {
          "metadata": {
            "tags": null
          },
          "name": "stderr",
          "output_type": "stream",
          "text": [
            "\r"
          ]
        },
        {
          "metadata": {
            "tags": null
          },
          "name": "stdout",
          "output_type": "stream",
          "text": [
            "MoviePy - Writing audio in temp_audio.wav\n"
          ]
        },
        {
          "metadata": {
            "tags": null
          },
          "name": "stderr",
          "output_type": "stream",
          "text": [
            "                                                       "
          ]
        },
        {
          "metadata": {
            "tags": null
          },
          "name": "stdout",
          "output_type": "stream",
          "text": [
            "MoviePy - Done.\n",
            "Epoch: 1/10, Loss: 0.3234088122844696\n"
          ]
        },
        {
          "metadata": {
            "tags": null
          },
          "name": "stderr",
          "output_type": "stream",
          "text": [
            "\r"
          ]
        },
        {
          "metadata": {
            "tags": null
          },
          "name": "stdout",
          "output_type": "stream",
          "text": [
            "MoviePy - Writing audio in temp_audio.wav\n"
          ]
        },
        {
          "metadata": {
            "tags": null
          },
          "name": "stderr",
          "output_type": "stream",
          "text": [
            "                                                       "
          ]
        },
        {
          "metadata": {
            "tags": null
          },
          "name": "stdout",
          "output_type": "stream",
          "text": [
            "MoviePy - Done.\n",
            "Epoch: 1/10, Loss: 0.3234088122844696\n"
          ]
        },
        {
          "metadata": {
            "tags": null
          },
          "name": "stderr",
          "output_type": "stream",
          "text": [
            "\r"
          ]
        },
        {
          "metadata": {
            "tags": null
          },
          "name": "stdout",
          "output_type": "stream",
          "text": [
            "MoviePy - Writing audio in temp_audio.wav\n"
          ]
        },
        {
          "metadata": {
            "tags": null
          },
          "name": "stderr",
          "output_type": "stream",
          "text": [
            "                                                       "
          ]
        },
        {
          "metadata": {
            "tags": null
          },
          "name": "stdout",
          "output_type": "stream",
          "text": [
            "MoviePy - Done.\n",
            "Epoch: 1/10, Loss: 0.3234088122844696\n"
          ]
        },
        {
          "metadata": {
            "tags": null
          },
          "name": "stderr",
          "output_type": "stream",
          "text": [
            "\r"
          ]
        },
        {
          "metadata": {
            "tags": null
          },
          "name": "stdout",
          "output_type": "stream",
          "text": [
            "MoviePy - Writing audio in temp_audio.wav\n"
          ]
        },
        {
          "metadata": {
            "tags": null
          },
          "name": "stderr",
          "output_type": "stream",
          "text": [
            "                                                       "
          ]
        },
        {
          "metadata": {
            "tags": null
          },
          "name": "stdout",
          "output_type": "stream",
          "text": [
            "MoviePy - Done.\n",
            "Epoch: 1/10, Loss: 0.3234088122844696\n"
          ]
        },
        {
          "metadata": {
            "tags": null
          },
          "name": "stderr",
          "output_type": "stream",
          "text": [
            "\r"
          ]
        },
        {
          "metadata": {
            "tags": null
          },
          "name": "stdout",
          "output_type": "stream",
          "text": [
            "MoviePy - Writing audio in temp_audio.wav\n"
          ]
        },
        {
          "metadata": {
            "tags": null
          },
          "name": "stderr",
          "output_type": "stream",
          "text": [
            ""
          ]
        },
        {
          "metadata": {
            "tags": null
          },
          "name": "stdout",
          "output_type": "stream",
          "text": [
            "MoviePy - Done.\n",
            "Epoch: 1/10, Loss: 0.3234088122844696\n",
            "MoviePy - Writing audio in temp_audio.wav\n"
          ]
        },
        {
          "metadata": {
            "tags": null
          },
          "name": "stderr",
          "output_type": "stream",
          "text": [
            "                                                       "
          ]
        },
        {
          "metadata": {
            "tags": null
          },
          "name": "stdout",
          "output_type": "stream",
          "text": [
            "MoviePy - Done.\n",
            "Epoch: 1/10, Loss: 0.4484088122844696\n"
          ]
        },
        {
          "metadata": {
            "tags": null
          },
          "name": "stderr",
          "output_type": "stream",
          "text": [
            "\r"
          ]
        },
        {
          "metadata": {
            "tags": null
          },
          "name": "stdout",
          "output_type": "stream",
          "text": [
            "MoviePy - Writing audio in temp_audio.wav\n"
          ]
        },
        {
          "metadata": {
            "tags": null
          },
          "name": "stderr",
          "output_type": "stream",
          "text": [
            "                                                       "
          ]
        },
        {
          "metadata": {
            "tags": null
          },
          "name": "stdout",
          "output_type": "stream",
          "text": [
            "MoviePy - Done.\n",
            "Epoch: 1/10, Loss: 0.323408842086792\n"
          ]
        },
        {
          "metadata": {
            "tags": null
          },
          "name": "stderr",
          "output_type": "stream",
          "text": [
            "\r"
          ]
        },
        {
          "metadata": {
            "tags": null
          },
          "name": "stdout",
          "output_type": "stream",
          "text": [
            "MoviePy - Writing audio in temp_audio.wav\n"
          ]
        },
        {
          "metadata": {
            "tags": null
          },
          "name": "stderr",
          "output_type": "stream",
          "text": [
            "                                                       "
          ]
        },
        {
          "metadata": {
            "tags": null
          },
          "name": "stdout",
          "output_type": "stream",
          "text": [
            "MoviePy - Done.\n",
            "Epoch: 1/10, Loss: 0.323408842086792\n"
          ]
        },
        {
          "metadata": {
            "tags": null
          },
          "name": "stderr",
          "output_type": "stream",
          "text": [
            "\r"
          ]
        },
        {
          "metadata": {
            "tags": null
          },
          "name": "stdout",
          "output_type": "stream",
          "text": [
            "MoviePy - Writing audio in temp_audio.wav\n"
          ]
        },
        {
          "metadata": {
            "tags": null
          },
          "name": "stderr",
          "output_type": "stream",
          "text": [
            "                                                       "
          ]
        },
        {
          "metadata": {
            "tags": null
          },
          "name": "stdout",
          "output_type": "stream",
          "text": [
            "MoviePy - Done.\n",
            "Epoch: 1/10, Loss: 0.3234088122844696\n"
          ]
        },
        {
          "metadata": {
            "tags": null
          },
          "name": "stderr",
          "output_type": "stream",
          "text": [
            "\r"
          ]
        },
        {
          "metadata": {
            "tags": null
          },
          "name": "stdout",
          "output_type": "stream",
          "text": [
            "MoviePy - Writing audio in temp_audio.wav\n"
          ]
        },
        {
          "metadata": {
            "tags": null
          },
          "name": "stderr",
          "output_type": "stream",
          "text": [
            "                                                       "
          ]
        },
        {
          "metadata": {
            "tags": null
          },
          "name": "stdout",
          "output_type": "stream",
          "text": [
            "MoviePy - Done.\n",
            "Epoch: 1/10, Loss: 0.3234088122844696\n"
          ]
        },
        {
          "metadata": {
            "tags": null
          },
          "name": "stderr",
          "output_type": "stream",
          "text": [
            "\r"
          ]
        },
        {
          "metadata": {
            "tags": null
          },
          "name": "stdout",
          "output_type": "stream",
          "text": [
            "MoviePy - Writing audio in temp_audio.wav\n"
          ]
        },
        {
          "metadata": {
            "tags": null
          },
          "name": "stderr",
          "output_type": "stream",
          "text": [
            "                                                       "
          ]
        },
        {
          "metadata": {
            "tags": null
          },
          "name": "stdout",
          "output_type": "stream",
          "text": [
            "MoviePy - Done.\n",
            "Epoch: 1/10, Loss: 0.3234088122844696\n"
          ]
        },
        {
          "metadata": {
            "tags": null
          },
          "name": "stderr",
          "output_type": "stream",
          "text": [
            "\r"
          ]
        },
        {
          "metadata": {
            "tags": null
          },
          "name": "stdout",
          "output_type": "stream",
          "text": [
            "MoviePy - Writing audio in temp_audio.wav\n"
          ]
        },
        {
          "metadata": {
            "tags": null
          },
          "name": "stderr",
          "output_type": "stream",
          "text": [
            "                                                       "
          ]
        },
        {
          "metadata": {
            "tags": null
          },
          "name": "stdout",
          "output_type": "stream",
          "text": [
            "MoviePy - Done.\n",
            "Epoch: 1/10, Loss: 0.3234088122844696\n"
          ]
        },
        {
          "metadata": {
            "tags": null
          },
          "name": "stderr",
          "output_type": "stream",
          "text": [
            "\r"
          ]
        },
        {
          "metadata": {
            "tags": null
          },
          "name": "stdout",
          "output_type": "stream",
          "text": [
            "MoviePy - Writing audio in temp_audio.wav\n"
          ]
        },
        {
          "metadata": {
            "tags": null
          },
          "name": "stderr",
          "output_type": "stream",
          "text": [
            "                                                       "
          ]
        },
        {
          "metadata": {
            "tags": null
          },
          "name": "stdout",
          "output_type": "stream",
          "text": [
            "MoviePy - Done.\n",
            "Epoch: 1/10, Loss: 0.3234088122844696\n"
          ]
        },
        {
          "metadata": {
            "tags": null
          },
          "name": "stderr",
          "output_type": "stream",
          "text": [
            "\r"
          ]
        },
        {
          "metadata": {
            "tags": null
          },
          "name": "stdout",
          "output_type": "stream",
          "text": [
            "MoviePy - Writing audio in temp_audio.wav\n"
          ]
        },
        {
          "metadata": {
            "tags": null
          },
          "name": "stderr",
          "output_type": "stream",
          "text": [
            "                                                       "
          ]
        },
        {
          "metadata": {
            "tags": null
          },
          "name": "stdout",
          "output_type": "stream",
          "text": [
            "MoviePy - Done.\n",
            "Epoch: 1/10, Loss: 0.3234088122844696\n"
          ]
        },
        {
          "metadata": {
            "tags": null
          },
          "name": "stderr",
          "output_type": "stream",
          "text": [
            "\r"
          ]
        },
        {
          "metadata": {
            "tags": null
          },
          "name": "stdout",
          "output_type": "stream",
          "text": [
            "MoviePy - Writing audio in temp_audio.wav\n"
          ]
        },
        {
          "metadata": {
            "tags": null
          },
          "name": "stderr",
          "output_type": "stream",
          "text": [
            "                                                       "
          ]
        },
        {
          "metadata": {
            "tags": null
          },
          "name": "stdout",
          "output_type": "stream",
          "text": [
            "MoviePy - Done.\n",
            "Epoch: 1/10, Loss: 0.323408842086792\n"
          ]
        },
        {
          "metadata": {
            "tags": null
          },
          "name": "stderr",
          "output_type": "stream",
          "text": [
            "\r"
          ]
        },
        {
          "metadata": {
            "tags": null
          },
          "name": "stdout",
          "output_type": "stream",
          "text": [
            "MoviePy - Writing audio in temp_audio.wav\n"
          ]
        },
        {
          "metadata": {
            "tags": null
          },
          "name": "stderr",
          "output_type": "stream",
          "text": [
            "                                                       "
          ]
        },
        {
          "metadata": {
            "tags": null
          },
          "name": "stdout",
          "output_type": "stream",
          "text": [
            "MoviePy - Done.\n",
            "Epoch: 1/10, Loss: 0.4484088122844696\n"
          ]
        },
        {
          "metadata": {
            "tags": null
          },
          "name": "stderr",
          "output_type": "stream",
          "text": [
            "\r"
          ]
        },
        {
          "metadata": {
            "tags": null
          },
          "name": "stdout",
          "output_type": "stream",
          "text": [
            "MoviePy - Writing audio in temp_audio.wav\n"
          ]
        },
        {
          "metadata": {
            "tags": null
          },
          "name": "stderr",
          "output_type": "stream",
          "text": [
            "                                                       "
          ]
        },
        {
          "metadata": {
            "tags": null
          },
          "name": "stdout",
          "output_type": "stream",
          "text": [
            "MoviePy - Done.\n",
            "Epoch: 1/10, Loss: 0.3234088122844696\n"
          ]
        },
        {
          "metadata": {
            "tags": null
          },
          "name": "stderr",
          "output_type": "stream",
          "text": [
            "\r"
          ]
        },
        {
          "metadata": {
            "tags": null
          },
          "name": "stdout",
          "output_type": "stream",
          "text": [
            "MoviePy - Writing audio in temp_audio.wav\n"
          ]
        },
        {
          "metadata": {
            "tags": null
          },
          "name": "stderr",
          "output_type": "stream",
          "text": [
            "                                                       "
          ]
        },
        {
          "metadata": {
            "tags": null
          },
          "name": "stdout",
          "output_type": "stream",
          "text": [
            "MoviePy - Done.\n",
            "Epoch: 1/10, Loss: 0.3234088122844696\n"
          ]
        },
        {
          "metadata": {
            "tags": null
          },
          "name": "stderr",
          "output_type": "stream",
          "text": [
            "\r"
          ]
        },
        {
          "metadata": {
            "tags": null
          },
          "name": "stdout",
          "output_type": "stream",
          "text": [
            "MoviePy - Writing audio in temp_audio.wav\n"
          ]
        },
        {
          "metadata": {
            "tags": null
          },
          "name": "stderr",
          "output_type": "stream",
          "text": [
            "                                                       "
          ]
        },
        {
          "metadata": {
            "tags": null
          },
          "name": "stdout",
          "output_type": "stream",
          "text": [
            "MoviePy - Done.\n",
            "Epoch: 1/10, Loss: 0.3234088122844696\n"
          ]
        },
        {
          "metadata": {
            "tags": null
          },
          "name": "stderr",
          "output_type": "stream",
          "text": [
            "\r"
          ]
        },
        {
          "metadata": {
            "tags": null
          },
          "name": "stdout",
          "output_type": "stream",
          "text": [
            "MoviePy - Writing audio in temp_audio.wav\n"
          ]
        },
        {
          "metadata": {
            "tags": null
          },
          "name": "stderr",
          "output_type": "stream",
          "text": [
            "                                                       "
          ]
        },
        {
          "metadata": {
            "tags": null
          },
          "name": "stdout",
          "output_type": "stream",
          "text": [
            "MoviePy - Done.\n",
            "Epoch: 1/10, Loss: 0.3234088122844696\n"
          ]
        },
        {
          "metadata": {
            "tags": null
          },
          "name": "stderr",
          "output_type": "stream",
          "text": [
            "\r"
          ]
        },
        {
          "metadata": {
            "tags": null
          },
          "name": "stdout",
          "output_type": "stream",
          "text": [
            "MoviePy - Writing audio in temp_audio.wav\n"
          ]
        },
        {
          "metadata": {
            "tags": null
          },
          "name": "stderr",
          "output_type": "stream",
          "text": [
            "                                                       "
          ]
        },
        {
          "metadata": {
            "tags": null
          },
          "name": "stdout",
          "output_type": "stream",
          "text": [
            "MoviePy - Done.\n",
            "Epoch: 1/10, Loss: 0.3234088122844696\n"
          ]
        },
        {
          "metadata": {
            "tags": null
          },
          "name": "stderr",
          "output_type": "stream",
          "text": [
            "\r"
          ]
        },
        {
          "metadata": {
            "tags": null
          },
          "name": "stdout",
          "output_type": "stream",
          "text": [
            "MoviePy - Writing audio in temp_audio.wav\n"
          ]
        },
        {
          "metadata": {
            "tags": null
          },
          "name": "stderr",
          "output_type": "stream",
          "text": [
            "                                                       "
          ]
        },
        {
          "metadata": {
            "tags": null
          },
          "name": "stdout",
          "output_type": "stream",
          "text": [
            "MoviePy - Done.\n",
            "Epoch: 1/10, Loss: 0.4484088122844696\n"
          ]
        },
        {
          "metadata": {
            "tags": null
          },
          "name": "stderr",
          "output_type": "stream",
          "text": [
            "\r"
          ]
        },
        {
          "metadata": {
            "tags": null
          },
          "name": "stdout",
          "output_type": "stream",
          "text": [
            "MoviePy - Writing audio in temp_audio.wav\n"
          ]
        },
        {
          "metadata": {
            "tags": null
          },
          "name": "stderr",
          "output_type": "stream",
          "text": [
            "                                                       "
          ]
        },
        {
          "metadata": {
            "tags": null
          },
          "name": "stdout",
          "output_type": "stream",
          "text": [
            "MoviePy - Done.\n",
            "Epoch: 1/10, Loss: 0.3234088122844696\n"
          ]
        },
        {
          "metadata": {
            "tags": null
          },
          "name": "stderr",
          "output_type": "stream",
          "text": [
            "\r"
          ]
        },
        {
          "metadata": {
            "tags": null
          },
          "name": "stdout",
          "output_type": "stream",
          "text": [
            "MoviePy - Writing audio in temp_audio.wav\n"
          ]
        },
        {
          "metadata": {
            "tags": null
          },
          "name": "stderr",
          "output_type": "stream",
          "text": [
            "                                                       "
          ]
        },
        {
          "metadata": {
            "tags": null
          },
          "name": "stdout",
          "output_type": "stream",
          "text": [
            "MoviePy - Done.\n",
            "Epoch: 1/10, Loss: 0.3234088122844696\n"
          ]
        },
        {
          "metadata": {
            "tags": null
          },
          "name": "stderr",
          "output_type": "stream",
          "text": [
            "\r"
          ]
        },
        {
          "metadata": {
            "tags": null
          },
          "name": "stdout",
          "output_type": "stream",
          "text": [
            "MoviePy - Writing audio in temp_audio.wav\n"
          ]
        },
        {
          "metadata": {
            "tags": null
          },
          "name": "stderr",
          "output_type": "stream",
          "text": [
            "                                                       "
          ]
        },
        {
          "metadata": {
            "tags": null
          },
          "name": "stdout",
          "output_type": "stream",
          "text": [
            "MoviePy - Done.\n"
          ]
        },
        {
          "metadata": {
            "tags": null
          },
          "name": "stderr",
          "output_type": "stream",
          "text": [
            "\r"
          ]
        },
        {
          "metadata": {
            "tags": null
          },
          "name": "stdout",
          "output_type": "stream",
          "text": [
            "Epoch: 1/10, Loss: 0.4484088122844696\n",
            "MoviePy - Writing audio in temp_audio.wav\n"
          ]
        },
        {
          "metadata": {
            "tags": null
          },
          "name": "stderr",
          "output_type": "stream",
          "text": [
            "                                                       "
          ]
        },
        {
          "metadata": {
            "tags": null
          },
          "name": "stdout",
          "output_type": "stream",
          "text": [
            "MoviePy - Done.\n",
            "Epoch: 1/10, Loss: 0.1984088271856308\n"
          ]
        },
        {
          "metadata": {
            "tags": null
          },
          "name": "stderr",
          "output_type": "stream",
          "text": [
            "\r"
          ]
        },
        {
          "metadata": {
            "tags": null
          },
          "name": "stdout",
          "output_type": "stream",
          "text": [
            "MoviePy - Writing audio in temp_audio.wav\n"
          ]
        },
        {
          "metadata": {
            "tags": null
          },
          "name": "stderr",
          "output_type": "stream",
          "text": [
            "                                                       "
          ]
        },
        {
          "metadata": {
            "tags": null
          },
          "name": "stdout",
          "output_type": "stream",
          "text": [
            "MoviePy - Done.\n",
            "Epoch: 1/10, Loss: 0.3234088122844696\n"
          ]
        },
        {
          "metadata": {
            "tags": null
          },
          "name": "stderr",
          "output_type": "stream",
          "text": [
            "\r"
          ]
        },
        {
          "metadata": {
            "tags": null
          },
          "name": "stdout",
          "output_type": "stream",
          "text": [
            "MoviePy - Writing audio in temp_audio.wav\n"
          ]
        },
        {
          "metadata": {
            "tags": null
          },
          "name": "stderr",
          "output_type": "stream",
          "text": [
            "                                                       "
          ]
        },
        {
          "metadata": {
            "tags": null
          },
          "name": "stdout",
          "output_type": "stream",
          "text": [
            "MoviePy - Done.\n",
            "Epoch: 1/10, Loss: 0.3234088122844696\n"
          ]
        },
        {
          "metadata": {
            "tags": null
          },
          "name": "stderr",
          "output_type": "stream",
          "text": [
            "\r"
          ]
        },
        {
          "metadata": {
            "tags": null
          },
          "name": "stdout",
          "output_type": "stream",
          "text": [
            "MoviePy - Writing audio in temp_audio.wav\n"
          ]
        },
        {
          "metadata": {
            "tags": null
          },
          "name": "stderr",
          "output_type": "stream",
          "text": [
            "                                                       "
          ]
        },
        {
          "metadata": {
            "tags": null
          },
          "name": "stdout",
          "output_type": "stream",
          "text": [
            "MoviePy - Done.\n",
            "Epoch: 1/10, Loss: 0.3234088122844696\n"
          ]
        },
        {
          "metadata": {
            "tags": null
          },
          "name": "stderr",
          "output_type": "stream",
          "text": [
            "\r"
          ]
        },
        {
          "metadata": {
            "tags": null
          },
          "name": "stdout",
          "output_type": "stream",
          "text": [
            "MoviePy - Writing audio in temp_audio.wav\n"
          ]
        },
        {
          "metadata": {
            "tags": null
          },
          "name": "stderr",
          "output_type": "stream",
          "text": [
            "                                                       "
          ]
        },
        {
          "metadata": {
            "tags": null
          },
          "name": "stdout",
          "output_type": "stream",
          "text": [
            "MoviePy - Done.\n",
            "Epoch: 1/10, Loss: 0.3234088122844696\n"
          ]
        },
        {
          "metadata": {
            "tags": null
          },
          "name": "stderr",
          "output_type": "stream",
          "text": [
            "\r"
          ]
        },
        {
          "metadata": {
            "tags": null
          },
          "name": "stdout",
          "output_type": "stream",
          "text": [
            "MoviePy - Writing audio in temp_audio.wav\n"
          ]
        },
        {
          "metadata": {
            "tags": null
          },
          "name": "stderr",
          "output_type": "stream",
          "text": [
            "                                                       "
          ]
        },
        {
          "metadata": {
            "tags": null
          },
          "name": "stdout",
          "output_type": "stream",
          "text": [
            "MoviePy - Done.\n",
            "Epoch: 1/10, Loss: 0.3234088122844696\n"
          ]
        },
        {
          "metadata": {
            "tags": null
          },
          "name": "stderr",
          "output_type": "stream",
          "text": [
            "\r"
          ]
        },
        {
          "metadata": {
            "tags": null
          },
          "name": "stdout",
          "output_type": "stream",
          "text": [
            "MoviePy - Writing audio in temp_audio.wav\n"
          ]
        },
        {
          "metadata": {
            "tags": null
          },
          "name": "stderr",
          "output_type": "stream",
          "text": [
            "                                                        "
          ]
        },
        {
          "metadata": {
            "tags": null
          },
          "name": "stdout",
          "output_type": "stream",
          "text": [
            "MoviePy - Done.\n",
            "Epoch: 1/10, Loss: 0.4484088122844696\n"
          ]
        },
        {
          "metadata": {
            "tags": null
          },
          "name": "stderr",
          "output_type": "stream",
          "text": [
            "\r"
          ]
        },
        {
          "metadata": {
            "tags": null
          },
          "name": "stdout",
          "output_type": "stream",
          "text": [
            "MoviePy - Writing audio in temp_audio.wav\n"
          ]
        },
        {
          "metadata": {
            "tags": null
          },
          "name": "stderr",
          "output_type": "stream",
          "text": [
            "                                                       "
          ]
        },
        {
          "metadata": {
            "tags": null
          },
          "name": "stdout",
          "output_type": "stream",
          "text": [
            "MoviePy - Done.\n",
            "Epoch: 1/10, Loss: 0.3234088122844696\n"
          ]
        },
        {
          "metadata": {
            "tags": null
          },
          "name": "stderr",
          "output_type": "stream",
          "text": [
            "\r"
          ]
        },
        {
          "metadata": {
            "tags": null
          },
          "name": "stdout",
          "output_type": "stream",
          "text": [
            "MoviePy - Writing audio in temp_audio.wav\n"
          ]
        },
        {
          "metadata": {
            "tags": null
          },
          "name": "stderr",
          "output_type": "stream",
          "text": [
            "                                                       "
          ]
        },
        {
          "metadata": {
            "tags": null
          },
          "name": "stdout",
          "output_type": "stream",
          "text": [
            "MoviePy - Done.\n",
            "Epoch: 1/10, Loss: 0.3234088122844696\n"
          ]
        },
        {
          "metadata": {
            "tags": null
          },
          "name": "stderr",
          "output_type": "stream",
          "text": [
            "\r"
          ]
        },
        {
          "metadata": {
            "tags": null
          },
          "name": "stdout",
          "output_type": "stream",
          "text": [
            "MoviePy - Writing audio in temp_audio.wav\n"
          ]
        },
        {
          "metadata": {
            "tags": null
          },
          "name": "stderr",
          "output_type": "stream",
          "text": [
            "                                                       "
          ]
        },
        {
          "metadata": {
            "tags": null
          },
          "name": "stdout",
          "output_type": "stream",
          "text": [
            "MoviePy - Done.\n",
            "Epoch: 1/10, Loss: 0.3234088122844696\n"
          ]
        },
        {
          "metadata": {
            "tags": null
          },
          "name": "stderr",
          "output_type": "stream",
          "text": [
            "\r"
          ]
        },
        {
          "metadata": {
            "tags": null
          },
          "name": "stdout",
          "output_type": "stream",
          "text": [
            "MoviePy - Writing audio in temp_audio.wav\n"
          ]
        },
        {
          "metadata": {
            "tags": null
          },
          "name": "stderr",
          "output_type": "stream",
          "text": [
            "                                                       "
          ]
        },
        {
          "metadata": {
            "tags": null
          },
          "name": "stdout",
          "output_type": "stream",
          "text": [
            "MoviePy - Done.\n",
            "Epoch: 1/10, Loss: 0.4484088122844696\n"
          ]
        },
        {
          "metadata": {
            "tags": null
          },
          "name": "stderr",
          "output_type": "stream",
          "text": [
            "\r"
          ]
        },
        {
          "metadata": {
            "tags": null
          },
          "name": "stdout",
          "output_type": "stream",
          "text": [
            "MoviePy - Writing audio in temp_audio.wav\n"
          ]
        },
        {
          "metadata": {
            "tags": null
          },
          "name": "stderr",
          "output_type": "stream",
          "text": [
            "                                                       "
          ]
        },
        {
          "metadata": {
            "tags": null
          },
          "name": "stdout",
          "output_type": "stream",
          "text": [
            "MoviePy - Done.\n",
            "Epoch: 1/10, Loss: 0.4484088122844696\n"
          ]
        },
        {
          "metadata": {
            "tags": null
          },
          "name": "stderr",
          "output_type": "stream",
          "text": [
            "\r"
          ]
        },
        {
          "metadata": {
            "tags": null
          },
          "name": "stdout",
          "output_type": "stream",
          "text": [
            "MoviePy - Writing audio in temp_audio.wav\n"
          ]
        },
        {
          "metadata": {
            "tags": null
          },
          "name": "stderr",
          "output_type": "stream",
          "text": [
            "                                                       "
          ]
        },
        {
          "metadata": {
            "tags": null
          },
          "name": "stdout",
          "output_type": "stream",
          "text": [
            "MoviePy - Done.\n",
            "Epoch: 1/10, Loss: 0.3234088122844696\n"
          ]
        },
        {
          "metadata": {
            "tags": null
          },
          "name": "stderr",
          "output_type": "stream",
          "text": [
            "\r"
          ]
        },
        {
          "metadata": {
            "tags": null
          },
          "name": "stdout",
          "output_type": "stream",
          "text": [
            "MoviePy - Writing audio in temp_audio.wav\n"
          ]
        },
        {
          "metadata": {
            "tags": null
          },
          "name": "stderr",
          "output_type": "stream",
          "text": [
            "                                                       "
          ]
        },
        {
          "metadata": {
            "tags": null
          },
          "name": "stdout",
          "output_type": "stream",
          "text": [
            "MoviePy - Done.\n",
            "Epoch: 1/10, Loss: 0.323408842086792\n"
          ]
        },
        {
          "metadata": {
            "tags": null
          },
          "name": "stderr",
          "output_type": "stream",
          "text": [
            "\r"
          ]
        },
        {
          "metadata": {
            "tags": null
          },
          "name": "stdout",
          "output_type": "stream",
          "text": [
            "MoviePy - Writing audio in temp_audio.wav\n"
          ]
        },
        {
          "metadata": {
            "tags": null
          },
          "name": "stderr",
          "output_type": "stream",
          "text": [
            "                                                       "
          ]
        },
        {
          "metadata": {
            "tags": null
          },
          "name": "stdout",
          "output_type": "stream",
          "text": [
            "MoviePy - Done.\n",
            "Epoch: 1/10, Loss: 0.4484088122844696\n"
          ]
        },
        {
          "metadata": {
            "tags": null
          },
          "name": "stderr",
          "output_type": "stream",
          "text": [
            "\r"
          ]
        },
        {
          "metadata": {
            "tags": null
          },
          "name": "stdout",
          "output_type": "stream",
          "text": [
            "MoviePy - Writing audio in temp_audio.wav\n"
          ]
        },
        {
          "metadata": {
            "tags": null
          },
          "name": "stderr",
          "output_type": "stream",
          "text": [
            "                                                       "
          ]
        },
        {
          "metadata": {
            "tags": null
          },
          "name": "stdout",
          "output_type": "stream",
          "text": [
            "MoviePy - Done.\n",
            "Epoch: 1/10, Loss: 0.1984088271856308\n"
          ]
        },
        {
          "metadata": {
            "tags": null
          },
          "name": "stderr",
          "output_type": "stream",
          "text": [
            "\r"
          ]
        },
        {
          "metadata": {
            "tags": null
          },
          "name": "stdout",
          "output_type": "stream",
          "text": [
            "MoviePy - Writing audio in temp_audio.wav\n"
          ]
        },
        {
          "metadata": {
            "tags": null
          },
          "name": "stderr",
          "output_type": "stream",
          "text": [
            "                                                       "
          ]
        },
        {
          "metadata": {
            "tags": null
          },
          "name": "stdout",
          "output_type": "stream",
          "text": [
            "MoviePy - Done.\n",
            "Epoch: 1/10, Loss: 0.4484088122844696\n"
          ]
        },
        {
          "metadata": {
            "tags": null
          },
          "name": "stderr",
          "output_type": "stream",
          "text": [
            "\r"
          ]
        },
        {
          "metadata": {
            "tags": null
          },
          "name": "stdout",
          "output_type": "stream",
          "text": [
            "MoviePy - Writing audio in temp_audio.wav\n"
          ]
        },
        {
          "metadata": {
            "tags": null
          },
          "name": "stderr",
          "output_type": "stream",
          "text": [
            "                                                       "
          ]
        },
        {
          "metadata": {
            "tags": null
          },
          "name": "stdout",
          "output_type": "stream",
          "text": [
            "MoviePy - Done.\n",
            "Epoch: 1/10, Loss: 0.4484088122844696\n"
          ]
        },
        {
          "metadata": {
            "tags": null
          },
          "name": "stderr",
          "output_type": "stream",
          "text": [
            "\r"
          ]
        },
        {
          "metadata": {
            "tags": null
          },
          "name": "stdout",
          "output_type": "stream",
          "text": [
            "MoviePy - Writing audio in temp_audio.wav\n"
          ]
        },
        {
          "metadata": {
            "tags": null
          },
          "name": "stderr",
          "output_type": "stream",
          "text": [
            "                                                       "
          ]
        },
        {
          "metadata": {
            "tags": null
          },
          "name": "stdout",
          "output_type": "stream",
          "text": [
            "MoviePy - Done.\n",
            "Epoch: 1/10, Loss: 0.3234088122844696\n"
          ]
        },
        {
          "metadata": {
            "tags": null
          },
          "name": "stderr",
          "output_type": "stream",
          "text": [
            "\r"
          ]
        },
        {
          "metadata": {
            "tags": null
          },
          "name": "stdout",
          "output_type": "stream",
          "text": [
            "MoviePy - Writing audio in temp_audio.wav\n"
          ]
        },
        {
          "metadata": {
            "tags": null
          },
          "name": "stderr",
          "output_type": "stream",
          "text": [
            ""
          ]
        },
        {
          "metadata": {
            "tags": null
          },
          "name": "stdout",
          "output_type": "stream",
          "text": [
            "MoviePy - Done.\n",
            "Epoch: 1/10, Loss: 0.4484088122844696\n",
            "MoviePy - Writing audio in temp_audio.wav\n"
          ]
        },
        {
          "metadata": {
            "tags": null
          },
          "name": "stderr",
          "output_type": "stream",
          "text": [
            "                                                       "
          ]
        },
        {
          "metadata": {
            "tags": null
          },
          "name": "stdout",
          "output_type": "stream",
          "text": [
            "MoviePy - Done.\n",
            "Epoch: 1/10, Loss: 0.4484088122844696\n"
          ]
        },
        {
          "metadata": {
            "tags": null
          },
          "name": "stderr",
          "output_type": "stream",
          "text": [
            "\r"
          ]
        },
        {
          "metadata": {
            "tags": null
          },
          "name": "stdout",
          "output_type": "stream",
          "text": [
            "MoviePy - Writing audio in temp_audio.wav\n"
          ]
        },
        {
          "metadata": {
            "tags": null
          },
          "name": "stderr",
          "output_type": "stream",
          "text": [
            "                                                       "
          ]
        },
        {
          "metadata": {
            "tags": null
          },
          "name": "stdout",
          "output_type": "stream",
          "text": [
            "MoviePy - Done.\n",
            "Epoch: 1/10, Loss: 0.4484088122844696\n"
          ]
        },
        {
          "metadata": {
            "tags": null
          },
          "name": "stderr",
          "output_type": "stream",
          "text": [
            "\r"
          ]
        },
        {
          "metadata": {
            "tags": null
          },
          "name": "stdout",
          "output_type": "stream",
          "text": [
            "MoviePy - Writing audio in temp_audio.wav\n"
          ]
        },
        {
          "metadata": {
            "tags": null
          },
          "name": "stderr",
          "output_type": "stream",
          "text": [
            "                                                        "
          ]
        },
        {
          "metadata": {
            "tags": null
          },
          "name": "stdout",
          "output_type": "stream",
          "text": [
            "MoviePy - Done.\n",
            "Epoch: 1/10, Loss: 0.4484088122844696\n"
          ]
        },
        {
          "metadata": {
            "tags": null
          },
          "name": "stderr",
          "output_type": "stream",
          "text": [
            "\r"
          ]
        },
        {
          "metadata": {
            "tags": null
          },
          "name": "stdout",
          "output_type": "stream",
          "text": [
            "MoviePy - Writing audio in temp_audio.wav\n"
          ]
        },
        {
          "metadata": {
            "tags": null
          },
          "name": "stderr",
          "output_type": "stream",
          "text": [
            "                                                       "
          ]
        },
        {
          "metadata": {
            "tags": null
          },
          "name": "stdout",
          "output_type": "stream",
          "text": [
            "MoviePy - Done.\n",
            "Epoch: 1/10, Loss: 0.4484088122844696\n"
          ]
        },
        {
          "metadata": {
            "tags": null
          },
          "name": "stderr",
          "output_type": "stream",
          "text": [
            "\r"
          ]
        },
        {
          "metadata": {
            "tags": null
          },
          "name": "stdout",
          "output_type": "stream",
          "text": [
            "MoviePy - Writing audio in temp_audio.wav\n"
          ]
        },
        {
          "metadata": {
            "tags": null
          },
          "name": "stderr",
          "output_type": "stream",
          "text": [
            "                                                       "
          ]
        },
        {
          "metadata": {
            "tags": null
          },
          "name": "stdout",
          "output_type": "stream",
          "text": [
            "MoviePy - Done.\n",
            "Epoch: 1/10, Loss: 0.1984088271856308\n"
          ]
        },
        {
          "metadata": {
            "tags": null
          },
          "name": "stderr",
          "output_type": "stream",
          "text": [
            "\r"
          ]
        },
        {
          "metadata": {
            "tags": null
          },
          "name": "stdout",
          "output_type": "stream",
          "text": [
            "MoviePy - Writing audio in temp_audio.wav\n"
          ]
        },
        {
          "metadata": {
            "tags": null
          },
          "name": "stderr",
          "output_type": "stream",
          "text": [
            "                                                       "
          ]
        },
        {
          "metadata": {
            "tags": null
          },
          "name": "stdout",
          "output_type": "stream",
          "text": [
            "MoviePy - Done.\n",
            "Epoch: 1/10, Loss: 0.4484088122844696\n"
          ]
        },
        {
          "metadata": {
            "tags": null
          },
          "name": "stderr",
          "output_type": "stream",
          "text": [
            "\r"
          ]
        },
        {
          "metadata": {
            "tags": null
          },
          "name": "stdout",
          "output_type": "stream",
          "text": [
            "MoviePy - Writing audio in temp_audio.wav\n"
          ]
        },
        {
          "metadata": {
            "tags": null
          },
          "name": "stderr",
          "output_type": "stream",
          "text": [
            "                                                       "
          ]
        },
        {
          "metadata": {
            "tags": null
          },
          "name": "stdout",
          "output_type": "stream",
          "text": [
            "MoviePy - Done.\n",
            "Epoch: 1/10, Loss: 0.4484088122844696\n"
          ]
        },
        {
          "metadata": {
            "tags": null
          },
          "name": "stderr",
          "output_type": "stream",
          "text": [
            "\r"
          ]
        },
        {
          "metadata": {
            "tags": null
          },
          "name": "stdout",
          "output_type": "stream",
          "text": [
            "MoviePy - Writing audio in temp_audio.wav\n"
          ]
        },
        {
          "metadata": {
            "tags": null
          },
          "name": "stderr",
          "output_type": "stream",
          "text": [
            "                                                       "
          ]
        },
        {
          "metadata": {
            "tags": null
          },
          "name": "stdout",
          "output_type": "stream",
          "text": [
            "MoviePy - Done.\n",
            "Epoch: 1/10, Loss: 0.4484088122844696\n"
          ]
        },
        {
          "metadata": {
            "tags": null
          },
          "name": "stderr",
          "output_type": "stream",
          "text": [
            "\r"
          ]
        },
        {
          "metadata": {
            "tags": null
          },
          "name": "stdout",
          "output_type": "stream",
          "text": [
            "MoviePy - Writing audio in temp_audio.wav\n"
          ]
        },
        {
          "metadata": {
            "tags": null
          },
          "name": "stderr",
          "output_type": "stream",
          "text": [
            "                                                       "
          ]
        },
        {
          "metadata": {
            "tags": null
          },
          "name": "stdout",
          "output_type": "stream",
          "text": [
            "MoviePy - Done.\n",
            "Epoch: 1/10, Loss: 0.3234088122844696\n"
          ]
        },
        {
          "metadata": {
            "tags": null
          },
          "name": "stderr",
          "output_type": "stream",
          "text": [
            "\r"
          ]
        },
        {
          "metadata": {
            "tags": null
          },
          "name": "stdout",
          "output_type": "stream",
          "text": [
            "MoviePy - Writing audio in temp_audio.wav\n"
          ]
        },
        {
          "metadata": {
            "tags": null
          },
          "name": "stderr",
          "output_type": "stream",
          "text": [
            "                                                       "
          ]
        },
        {
          "metadata": {
            "tags": null
          },
          "name": "stdout",
          "output_type": "stream",
          "text": [
            "MoviePy - Done.\n",
            "Epoch: 1/10, Loss: 0.4484088122844696\n"
          ]
        },
        {
          "metadata": {
            "tags": null
          },
          "name": "stderr",
          "output_type": "stream",
          "text": [
            "\r"
          ]
        },
        {
          "metadata": {
            "tags": null
          },
          "name": "stdout",
          "output_type": "stream",
          "text": [
            "MoviePy - Writing audio in temp_audio.wav\n"
          ]
        },
        {
          "metadata": {
            "tags": null
          },
          "name": "stderr",
          "output_type": "stream",
          "text": [
            "                                                       "
          ]
        },
        {
          "metadata": {
            "tags": null
          },
          "name": "stdout",
          "output_type": "stream",
          "text": [
            "MoviePy - Done.\n",
            "Epoch: 1/10, Loss: 0.3234088122844696\n"
          ]
        },
        {
          "metadata": {
            "tags": null
          },
          "name": "stderr",
          "output_type": "stream",
          "text": [
            "\r"
          ]
        },
        {
          "metadata": {
            "tags": null
          },
          "name": "stdout",
          "output_type": "stream",
          "text": [
            "MoviePy - Writing audio in temp_audio.wav\n"
          ]
        },
        {
          "metadata": {
            "tags": null
          },
          "name": "stderr",
          "output_type": "stream",
          "text": [
            "                                                       "
          ]
        },
        {
          "metadata": {
            "tags": null
          },
          "name": "stdout",
          "output_type": "stream",
          "text": [
            "MoviePy - Done.\n",
            "Epoch: 1/10, Loss: 0.4484088122844696\n"
          ]
        },
        {
          "metadata": {
            "tags": null
          },
          "name": "stderr",
          "output_type": "stream",
          "text": [
            "\r"
          ]
        },
        {
          "metadata": {
            "tags": null
          },
          "name": "stdout",
          "output_type": "stream",
          "text": [
            "MoviePy - Writing audio in temp_audio.wav\n"
          ]
        },
        {
          "metadata": {
            "tags": null
          },
          "name": "stderr",
          "output_type": "stream",
          "text": [
            "                                                       "
          ]
        },
        {
          "metadata": {
            "tags": null
          },
          "name": "stdout",
          "output_type": "stream",
          "text": [
            "MoviePy - Done.\n",
            "Epoch: 1/10, Loss: 0.4484088122844696\n"
          ]
        },
        {
          "metadata": {
            "tags": null
          },
          "name": "stderr",
          "output_type": "stream",
          "text": [
            "\r"
          ]
        },
        {
          "metadata": {
            "tags": null
          },
          "name": "stdout",
          "output_type": "stream",
          "text": [
            "MoviePy - Writing audio in temp_audio.wav\n"
          ]
        },
        {
          "metadata": {
            "tags": null
          },
          "name": "stderr",
          "output_type": "stream",
          "text": [
            "                                                       "
          ]
        },
        {
          "metadata": {
            "tags": null
          },
          "name": "stdout",
          "output_type": "stream",
          "text": [
            "MoviePy - Done.\n",
            "Epoch: 1/10, Loss: 0.3234088122844696\n"
          ]
        },
        {
          "metadata": {
            "tags": null
          },
          "name": "stderr",
          "output_type": "stream",
          "text": [
            "\r"
          ]
        },
        {
          "metadata": {
            "tags": null
          },
          "name": "stdout",
          "output_type": "stream",
          "text": [
            "MoviePy - Writing audio in temp_audio.wav\n"
          ]
        },
        {
          "metadata": {
            "tags": null
          },
          "name": "stderr",
          "output_type": "stream",
          "text": [
            "                                                       "
          ]
        },
        {
          "metadata": {
            "tags": null
          },
          "name": "stdout",
          "output_type": "stream",
          "text": [
            "MoviePy - Done.\n",
            "Epoch: 1/10, Loss: 0.3234088122844696\n"
          ]
        },
        {
          "metadata": {
            "tags": null
          },
          "name": "stderr",
          "output_type": "stream",
          "text": [
            "\r"
          ]
        },
        {
          "metadata": {
            "tags": null
          },
          "name": "stdout",
          "output_type": "stream",
          "text": [
            "MoviePy - Writing audio in temp_audio.wav\n"
          ]
        },
        {
          "metadata": {
            "tags": null
          },
          "name": "stderr",
          "output_type": "stream",
          "text": [
            "                                                       "
          ]
        },
        {
          "metadata": {
            "tags": null
          },
          "name": "stdout",
          "output_type": "stream",
          "text": [
            "MoviePy - Done.\n",
            "Epoch: 1/10, Loss: 0.3234088122844696\n"
          ]
        },
        {
          "metadata": {
            "tags": null
          },
          "name": "stderr",
          "output_type": "stream",
          "text": [
            "\r"
          ]
        },
        {
          "metadata": {
            "tags": null
          },
          "name": "stdout",
          "output_type": "stream",
          "text": [
            "MoviePy - Writing audio in temp_audio.wav\n"
          ]
        },
        {
          "metadata": {
            "tags": null
          },
          "name": "stderr",
          "output_type": "stream",
          "text": [
            "                                                       "
          ]
        },
        {
          "metadata": {
            "tags": null
          },
          "name": "stdout",
          "output_type": "stream",
          "text": [
            "MoviePy - Done.\n",
            "Epoch: 1/10, Loss: 0.3234088122844696\n"
          ]
        },
        {
          "metadata": {
            "tags": null
          },
          "name": "stderr",
          "output_type": "stream",
          "text": [
            "\r"
          ]
        },
        {
          "metadata": {
            "tags": null
          },
          "name": "stdout",
          "output_type": "stream",
          "text": [
            "MoviePy - Writing audio in temp_audio.wav\n"
          ]
        },
        {
          "metadata": {
            "tags": null
          },
          "name": "stderr",
          "output_type": "stream",
          "text": [
            "                                                        "
          ]
        },
        {
          "metadata": {
            "tags": null
          },
          "name": "stdout",
          "output_type": "stream",
          "text": [
            "MoviePy - Done.\n",
            "Epoch: 1/10, Loss: 0.4484088122844696\n"
          ]
        },
        {
          "metadata": {
            "tags": null
          },
          "name": "stderr",
          "output_type": "stream",
          "text": [
            "\r"
          ]
        },
        {
          "metadata": {
            "tags": null
          },
          "name": "stdout",
          "output_type": "stream",
          "text": [
            "MoviePy - Writing audio in temp_audio.wav\n"
          ]
        },
        {
          "metadata": {
            "tags": null
          },
          "name": "stderr",
          "output_type": "stream",
          "text": [
            "                                                       "
          ]
        },
        {
          "metadata": {
            "tags": null
          },
          "name": "stdout",
          "output_type": "stream",
          "text": [
            "MoviePy - Done.\n",
            "Epoch: 1/10, Loss: 0.3234088122844696\n"
          ]
        },
        {
          "metadata": {
            "tags": null
          },
          "name": "stderr",
          "output_type": "stream",
          "text": [
            "\r"
          ]
        },
        {
          "metadata": {
            "tags": null
          },
          "name": "stdout",
          "output_type": "stream",
          "text": [
            "MoviePy - Writing audio in temp_audio.wav\n"
          ]
        },
        {
          "metadata": {
            "tags": null
          },
          "name": "stderr",
          "output_type": "stream",
          "text": [
            ""
          ]
        },
        {
          "metadata": {
            "tags": null
          },
          "name": "stdout",
          "output_type": "stream",
          "text": [
            "MoviePy - Done.\n",
            "Epoch: 1/10, Loss: 0.4484088122844696\n",
            "MoviePy - Writing audio in temp_audio.wav\n"
          ]
        },
        {
          "metadata": {
            "tags": null
          },
          "name": "stderr",
          "output_type": "stream",
          "text": [
            "                                                       "
          ]
        },
        {
          "metadata": {
            "tags": null
          },
          "name": "stdout",
          "output_type": "stream",
          "text": [
            "MoviePy - Done.\n",
            "Epoch: 1/10, Loss: 0.3234088122844696\n"
          ]
        },
        {
          "metadata": {
            "tags": null
          },
          "name": "stderr",
          "output_type": "stream",
          "text": [
            "\r"
          ]
        },
        {
          "metadata": {
            "tags": null
          },
          "name": "stdout",
          "output_type": "stream",
          "text": [
            "MoviePy - Writing audio in temp_audio.wav\n"
          ]
        },
        {
          "metadata": {
            "tags": null
          },
          "name": "stderr",
          "output_type": "stream",
          "text": [
            "                                                       "
          ]
        },
        {
          "metadata": {
            "tags": null
          },
          "name": "stdout",
          "output_type": "stream",
          "text": [
            "MoviePy - Done.\n",
            "Epoch: 1/10, Loss: 0.4484088122844696\n"
          ]
        },
        {
          "metadata": {
            "tags": null
          },
          "name": "stderr",
          "output_type": "stream",
          "text": [
            "\r"
          ]
        },
        {
          "metadata": {
            "tags": null
          },
          "name": "stdout",
          "output_type": "stream",
          "text": [
            "MoviePy - Writing audio in temp_audio.wav\n"
          ]
        },
        {
          "metadata": {
            "tags": null
          },
          "name": "stderr",
          "output_type": "stream",
          "text": [
            "                                                       "
          ]
        },
        {
          "metadata": {
            "tags": null
          },
          "name": "stdout",
          "output_type": "stream",
          "text": [
            "MoviePy - Done.\n",
            "Epoch: 1/10, Loss: 0.4484088122844696\n"
          ]
        },
        {
          "metadata": {
            "tags": null
          },
          "name": "stderr",
          "output_type": "stream",
          "text": [
            "\r"
          ]
        },
        {
          "metadata": {
            "tags": null
          },
          "name": "stdout",
          "output_type": "stream",
          "text": [
            "MoviePy - Writing audio in temp_audio.wav\n"
          ]
        },
        {
          "metadata": {
            "tags": null
          },
          "name": "stderr",
          "output_type": "stream",
          "text": [
            "                                                       "
          ]
        },
        {
          "metadata": {
            "tags": null
          },
          "name": "stdout",
          "output_type": "stream",
          "text": [
            "MoviePy - Done.\n",
            "Epoch: 1/10, Loss: 0.3234088122844696\n"
          ]
        },
        {
          "metadata": {
            "tags": null
          },
          "name": "stderr",
          "output_type": "stream",
          "text": [
            "\r"
          ]
        },
        {
          "metadata": {
            "tags": null
          },
          "name": "stdout",
          "output_type": "stream",
          "text": [
            "MoviePy - Writing audio in temp_audio.wav\n"
          ]
        },
        {
          "metadata": {
            "tags": null
          },
          "name": "stderr",
          "output_type": "stream",
          "text": [
            "                                                       "
          ]
        },
        {
          "metadata": {
            "tags": null
          },
          "name": "stdout",
          "output_type": "stream",
          "text": [
            "MoviePy - Done.\n",
            "Epoch: 1/10, Loss: 0.4484088122844696\n"
          ]
        },
        {
          "metadata": {
            "tags": null
          },
          "name": "stderr",
          "output_type": "stream",
          "text": [
            "\r"
          ]
        },
        {
          "metadata": {
            "tags": null
          },
          "name": "stdout",
          "output_type": "stream",
          "text": [
            "MoviePy - Writing audio in temp_audio.wav\n"
          ]
        },
        {
          "metadata": {
            "tags": null
          },
          "name": "stderr",
          "output_type": "stream",
          "text": [
            "                                                       "
          ]
        },
        {
          "metadata": {
            "tags": null
          },
          "name": "stdout",
          "output_type": "stream",
          "text": [
            "MoviePy - Done.\n",
            "Epoch: 1/10, Loss: 0.3234088122844696\n"
          ]
        },
        {
          "metadata": {
            "tags": null
          },
          "name": "stderr",
          "output_type": "stream",
          "text": [
            "\r"
          ]
        },
        {
          "metadata": {
            "tags": null
          },
          "name": "stdout",
          "output_type": "stream",
          "text": [
            "MoviePy - Writing audio in temp_audio.wav\n"
          ]
        },
        {
          "metadata": {
            "tags": null
          },
          "name": "stderr",
          "output_type": "stream",
          "text": [
            "                                                       "
          ]
        },
        {
          "metadata": {
            "tags": null
          },
          "name": "stdout",
          "output_type": "stream",
          "text": [
            "MoviePy - Done.\n",
            "Epoch: 1/10, Loss: 0.4484088122844696\n"
          ]
        },
        {
          "metadata": {
            "tags": null
          },
          "name": "stderr",
          "output_type": "stream",
          "text": [
            "\r"
          ]
        },
        {
          "metadata": {
            "tags": null
          },
          "name": "stdout",
          "output_type": "stream",
          "text": [
            "MoviePy - Writing audio in temp_audio.wav\n"
          ]
        },
        {
          "metadata": {
            "tags": null
          },
          "name": "stderr",
          "output_type": "stream",
          "text": [
            "                                                       "
          ]
        },
        {
          "metadata": {
            "tags": null
          },
          "name": "stdout",
          "output_type": "stream",
          "text": [
            "MoviePy - Done.\n",
            "Epoch: 1/10, Loss: 0.4484088122844696\n"
          ]
        },
        {
          "metadata": {
            "tags": null
          },
          "name": "stderr",
          "output_type": "stream",
          "text": [
            "\r"
          ]
        },
        {
          "metadata": {
            "tags": null
          },
          "name": "stdout",
          "output_type": "stream",
          "text": [
            "MoviePy - Writing audio in temp_audio.wav\n"
          ]
        },
        {
          "metadata": {
            "tags": null
          },
          "name": "stderr",
          "output_type": "stream",
          "text": [
            "                                                       "
          ]
        },
        {
          "metadata": {
            "tags": null
          },
          "name": "stdout",
          "output_type": "stream",
          "text": [
            "MoviePy - Done.\n",
            "Epoch: 1/10, Loss: 0.3234088122844696\n"
          ]
        },
        {
          "metadata": {
            "tags": null
          },
          "name": "stderr",
          "output_type": "stream",
          "text": [
            "\r"
          ]
        },
        {
          "metadata": {
            "tags": null
          },
          "name": "stdout",
          "output_type": "stream",
          "text": [
            "MoviePy - Writing audio in temp_audio.wav\n"
          ]
        },
        {
          "metadata": {
            "tags": null
          },
          "name": "stderr",
          "output_type": "stream",
          "text": [
            "                                                       "
          ]
        },
        {
          "metadata": {
            "tags": null
          },
          "name": "stdout",
          "output_type": "stream",
          "text": [
            "MoviePy - Done.\n",
            "Epoch: 1/10, Loss: 0.4484088122844696\n"
          ]
        },
        {
          "metadata": {
            "tags": null
          },
          "name": "stderr",
          "output_type": "stream",
          "text": [
            "\r"
          ]
        },
        {
          "metadata": {
            "tags": null
          },
          "name": "stdout",
          "output_type": "stream",
          "text": [
            "MoviePy - Writing audio in temp_audio.wav\n"
          ]
        },
        {
          "metadata": {
            "tags": null
          },
          "name": "stderr",
          "output_type": "stream",
          "text": [
            "                                                       "
          ]
        },
        {
          "metadata": {
            "tags": null
          },
          "name": "stdout",
          "output_type": "stream",
          "text": [
            "MoviePy - Done.\n",
            "Epoch: 1/10, Loss: 0.4484088122844696\n"
          ]
        },
        {
          "metadata": {
            "tags": null
          },
          "name": "stderr",
          "output_type": "stream",
          "text": [
            "\r"
          ]
        },
        {
          "metadata": {
            "tags": null
          },
          "name": "stdout",
          "output_type": "stream",
          "text": [
            "MoviePy - Writing audio in temp_audio.wav\n"
          ]
        },
        {
          "metadata": {
            "tags": null
          },
          "name": "stderr",
          "output_type": "stream",
          "text": [
            "                                                       "
          ]
        },
        {
          "metadata": {
            "tags": null
          },
          "name": "stdout",
          "output_type": "stream",
          "text": [
            "MoviePy - Done.\n",
            "Epoch: 1/10, Loss: 0.3234088122844696\n"
          ]
        },
        {
          "metadata": {
            "tags": null
          },
          "name": "stderr",
          "output_type": "stream",
          "text": [
            "\r"
          ]
        },
        {
          "metadata": {
            "tags": null
          },
          "name": "stdout",
          "output_type": "stream",
          "text": [
            "MoviePy - Writing audio in temp_audio.wav\n"
          ]
        },
        {
          "metadata": {
            "tags": null
          },
          "name": "stderr",
          "output_type": "stream",
          "text": [
            "                                                       "
          ]
        },
        {
          "metadata": {
            "tags": null
          },
          "name": "stdout",
          "output_type": "stream",
          "text": [
            "MoviePy - Done.\n",
            "Epoch: 1/10, Loss: 0.3234088122844696\n"
          ]
        },
        {
          "metadata": {
            "tags": null
          },
          "name": "stderr",
          "output_type": "stream",
          "text": [
            "\r"
          ]
        },
        {
          "metadata": {
            "tags": null
          },
          "name": "stdout",
          "output_type": "stream",
          "text": [
            "MoviePy - Writing audio in temp_audio.wav\n"
          ]
        },
        {
          "metadata": {
            "tags": null
          },
          "name": "stderr",
          "output_type": "stream",
          "text": [
            "                                                        "
          ]
        },
        {
          "metadata": {
            "tags": null
          },
          "name": "stdout",
          "output_type": "stream",
          "text": [
            "MoviePy - Done.\n",
            "Epoch: 1/10, Loss: 0.4484088122844696\n"
          ]
        },
        {
          "metadata": {
            "tags": null
          },
          "name": "stderr",
          "output_type": "stream",
          "text": [
            "\r"
          ]
        },
        {
          "metadata": {
            "tags": null
          },
          "name": "stdout",
          "output_type": "stream",
          "text": [
            "MoviePy - Writing audio in temp_audio.wav\n"
          ]
        },
        {
          "metadata": {
            "tags": null
          },
          "name": "stderr",
          "output_type": "stream",
          "text": [
            "                                                       "
          ]
        },
        {
          "metadata": {
            "tags": null
          },
          "name": "stdout",
          "output_type": "stream",
          "text": [
            "MoviePy - Done.\n",
            "Epoch: 1/10, Loss: 0.323408842086792\n"
          ]
        },
        {
          "metadata": {
            "tags": null
          },
          "name": "stderr",
          "output_type": "stream",
          "text": [
            "\r"
          ]
        },
        {
          "metadata": {
            "tags": null
          },
          "name": "stdout",
          "output_type": "stream",
          "text": [
            "MoviePy - Writing audio in temp_audio.wav\n"
          ]
        },
        {
          "metadata": {
            "tags": null
          },
          "name": "stderr",
          "output_type": "stream",
          "text": [
            "                                                       "
          ]
        },
        {
          "metadata": {
            "tags": null
          },
          "name": "stdout",
          "output_type": "stream",
          "text": [
            "MoviePy - Done.\n",
            "Epoch: 1/10, Loss: 0.3234088122844696\n"
          ]
        },
        {
          "metadata": {
            "tags": null
          },
          "name": "stderr",
          "output_type": "stream",
          "text": [
            "\r"
          ]
        },
        {
          "metadata": {
            "tags": null
          },
          "name": "stdout",
          "output_type": "stream",
          "text": [
            "MoviePy - Writing audio in temp_audio.wav\n"
          ]
        },
        {
          "metadata": {
            "tags": null
          },
          "name": "stderr",
          "output_type": "stream",
          "text": [
            "                                                       "
          ]
        },
        {
          "metadata": {
            "tags": null
          },
          "name": "stdout",
          "output_type": "stream",
          "text": [
            "MoviePy - Done.\n",
            "Epoch: 1/10, Loss: 0.3234088122844696\n"
          ]
        },
        {
          "metadata": {
            "tags": null
          },
          "name": "stderr",
          "output_type": "stream",
          "text": [
            "\r"
          ]
        },
        {
          "metadata": {
            "tags": null
          },
          "name": "stdout",
          "output_type": "stream",
          "text": [
            "MoviePy - Writing audio in temp_audio.wav\n"
          ]
        },
        {
          "metadata": {
            "tags": null
          },
          "name": "stderr",
          "output_type": "stream",
          "text": [
            "                                                       "
          ]
        },
        {
          "metadata": {
            "tags": null
          },
          "name": "stdout",
          "output_type": "stream",
          "text": [
            "MoviePy - Done.\n",
            "Epoch: 1/10, Loss: 0.3234088122844696\n"
          ]
        },
        {
          "metadata": {
            "tags": null
          },
          "name": "stderr",
          "output_type": "stream",
          "text": [
            "\r"
          ]
        },
        {
          "metadata": {
            "tags": null
          },
          "name": "stdout",
          "output_type": "stream",
          "text": [
            "MoviePy - Writing audio in temp_audio.wav\n"
          ]
        },
        {
          "metadata": {
            "tags": null
          },
          "name": "stderr",
          "output_type": "stream",
          "text": [
            "                                                       "
          ]
        },
        {
          "metadata": {
            "tags": null
          },
          "name": "stdout",
          "output_type": "stream",
          "text": [
            "MoviePy - Done.\n",
            "Epoch: 1/10, Loss: 0.3234088122844696\n"
          ]
        },
        {
          "metadata": {
            "tags": null
          },
          "name": "stderr",
          "output_type": "stream",
          "text": [
            "\r"
          ]
        },
        {
          "metadata": {
            "tags": null
          },
          "name": "stdout",
          "output_type": "stream",
          "text": [
            "MoviePy - Writing audio in temp_audio.wav\n"
          ]
        },
        {
          "metadata": {
            "tags": null
          },
          "name": "stderr",
          "output_type": "stream",
          "text": [
            ""
          ]
        },
        {
          "metadata": {
            "tags": null
          },
          "name": "stdout",
          "output_type": "stream",
          "text": [
            "MoviePy - Done.\n",
            "Epoch: 1/10, Loss: 0.3234088122844696\n",
            "MoviePy - Writing audio in temp_audio.wav\n"
          ]
        },
        {
          "metadata": {
            "tags": null
          },
          "name": "stderr",
          "output_type": "stream",
          "text": [
            "                                                       "
          ]
        },
        {
          "metadata": {
            "tags": null
          },
          "name": "stdout",
          "output_type": "stream",
          "text": [
            "MoviePy - Done.\n",
            "Epoch: 1/10, Loss: 0.4484088122844696\n"
          ]
        },
        {
          "metadata": {
            "tags": null
          },
          "name": "stderr",
          "output_type": "stream",
          "text": [
            "\r"
          ]
        },
        {
          "metadata": {
            "tags": null
          },
          "name": "stdout",
          "output_type": "stream",
          "text": [
            "MoviePy - Writing audio in temp_audio.wav\n"
          ]
        },
        {
          "metadata": {
            "tags": null
          },
          "name": "stderr",
          "output_type": "stream",
          "text": [
            "                                                       "
          ]
        },
        {
          "metadata": {
            "tags": null
          },
          "name": "stdout",
          "output_type": "stream",
          "text": [
            "MoviePy - Done.\n",
            "Epoch: 1/10, Loss: 0.3234088122844696\n"
          ]
        },
        {
          "metadata": {
            "tags": null
          },
          "name": "stderr",
          "output_type": "stream",
          "text": [
            "\r"
          ]
        },
        {
          "metadata": {
            "tags": null
          },
          "name": "stdout",
          "output_type": "stream",
          "text": [
            "MoviePy - Writing audio in temp_audio.wav\n"
          ]
        },
        {
          "metadata": {
            "tags": null
          },
          "name": "stderr",
          "output_type": "stream",
          "text": [
            "                                                       "
          ]
        },
        {
          "metadata": {
            "tags": null
          },
          "name": "stdout",
          "output_type": "stream",
          "text": [
            "MoviePy - Done.\n",
            "Epoch: 1/10, Loss: 0.4484088122844696\n"
          ]
        },
        {
          "metadata": {
            "tags": null
          },
          "name": "stderr",
          "output_type": "stream",
          "text": [
            "\r"
          ]
        },
        {
          "metadata": {
            "tags": null
          },
          "name": "stdout",
          "output_type": "stream",
          "text": [
            "MoviePy - Writing audio in temp_audio.wav\n"
          ]
        },
        {
          "metadata": {
            "tags": null
          },
          "name": "stderr",
          "output_type": "stream",
          "text": [
            "                                                       "
          ]
        },
        {
          "metadata": {
            "tags": null
          },
          "name": "stdout",
          "output_type": "stream",
          "text": [
            "MoviePy - Done.\n",
            "Epoch: 1/10, Loss: 0.4484088122844696\n"
          ]
        },
        {
          "metadata": {
            "tags": null
          },
          "name": "stderr",
          "output_type": "stream",
          "text": [
            "\r"
          ]
        },
        {
          "metadata": {
            "tags": null
          },
          "name": "stdout",
          "output_type": "stream",
          "text": [
            "MoviePy - Writing audio in temp_audio.wav\n"
          ]
        },
        {
          "metadata": {
            "tags": null
          },
          "name": "stderr",
          "output_type": "stream",
          "text": [
            "                                                       "
          ]
        },
        {
          "metadata": {
            "tags": null
          },
          "name": "stdout",
          "output_type": "stream",
          "text": [
            "MoviePy - Done.\n",
            "Epoch: 1/10, Loss: 0.3234088122844696\n"
          ]
        },
        {
          "metadata": {
            "tags": null
          },
          "name": "stderr",
          "output_type": "stream",
          "text": [
            "\r"
          ]
        },
        {
          "metadata": {
            "tags": null
          },
          "name": "stdout",
          "output_type": "stream",
          "text": [
            "MoviePy - Writing audio in temp_audio.wav\n"
          ]
        },
        {
          "metadata": {
            "tags": null
          },
          "name": "stderr",
          "output_type": "stream",
          "text": [
            "                                                       "
          ]
        },
        {
          "metadata": {
            "tags": null
          },
          "name": "stdout",
          "output_type": "stream",
          "text": [
            "MoviePy - Done.\n",
            "Epoch: 1/10, Loss: 0.4484088122844696\n"
          ]
        },
        {
          "metadata": {
            "tags": null
          },
          "name": "stderr",
          "output_type": "stream",
          "text": [
            "\r"
          ]
        },
        {
          "metadata": {
            "tags": null
          },
          "name": "stdout",
          "output_type": "stream",
          "text": [
            "MoviePy - Writing audio in temp_audio.wav\n"
          ]
        },
        {
          "metadata": {
            "tags": null
          },
          "name": "stderr",
          "output_type": "stream",
          "text": [
            "                                                       "
          ]
        },
        {
          "metadata": {
            "tags": null
          },
          "name": "stdout",
          "output_type": "stream",
          "text": [
            "MoviePy - Done.\n",
            "Epoch: 1/10, Loss: 0.4484088122844696\n"
          ]
        },
        {
          "metadata": {
            "tags": null
          },
          "name": "stderr",
          "output_type": "stream",
          "text": [
            "\r"
          ]
        },
        {
          "metadata": {
            "tags": null
          },
          "name": "stdout",
          "output_type": "stream",
          "text": [
            "MoviePy - Writing audio in temp_audio.wav\n"
          ]
        },
        {
          "metadata": {
            "tags": null
          },
          "name": "stderr",
          "output_type": "stream",
          "text": [
            "                                                       "
          ]
        },
        {
          "metadata": {
            "tags": null
          },
          "name": "stdout",
          "output_type": "stream",
          "text": [
            "MoviePy - Done.\n",
            "Epoch: 1/10, Loss: 0.3234088122844696\n"
          ]
        },
        {
          "metadata": {
            "tags": null
          },
          "name": "stderr",
          "output_type": "stream",
          "text": [
            "\r"
          ]
        },
        {
          "metadata": {
            "tags": null
          },
          "name": "stdout",
          "output_type": "stream",
          "text": [
            "MoviePy - Writing audio in temp_audio.wav\n"
          ]
        },
        {
          "metadata": {
            "tags": null
          },
          "name": "stderr",
          "output_type": "stream",
          "text": [
            "                                                       "
          ]
        },
        {
          "metadata": {
            "tags": null
          },
          "name": "stdout",
          "output_type": "stream",
          "text": [
            "MoviePy - Done.\n",
            "Epoch: 1/10, Loss: 0.1984088271856308\n"
          ]
        },
        {
          "metadata": {
            "tags": null
          },
          "name": "stderr",
          "output_type": "stream",
          "text": [
            "\r"
          ]
        },
        {
          "metadata": {
            "tags": null
          },
          "name": "stdout",
          "output_type": "stream",
          "text": [
            "MoviePy - Writing audio in temp_audio.wav\n"
          ]
        },
        {
          "metadata": {
            "tags": null
          },
          "name": "stderr",
          "output_type": "stream",
          "text": [
            "                                                       "
          ]
        },
        {
          "metadata": {
            "tags": null
          },
          "name": "stdout",
          "output_type": "stream",
          "text": [
            "MoviePy - Done.\n",
            "Epoch: 1/10, Loss: 0.4484088122844696\n"
          ]
        },
        {
          "metadata": {
            "tags": null
          },
          "name": "stderr",
          "output_type": "stream",
          "text": [
            "\r"
          ]
        },
        {
          "metadata": {
            "tags": null
          },
          "name": "stdout",
          "output_type": "stream",
          "text": [
            "MoviePy - Writing audio in temp_audio.wav\n"
          ]
        },
        {
          "metadata": {
            "tags": null
          },
          "name": "stderr",
          "output_type": "stream",
          "text": [
            "                                                       "
          ]
        },
        {
          "metadata": {
            "tags": null
          },
          "name": "stdout",
          "output_type": "stream",
          "text": [
            "MoviePy - Done.\n",
            "Epoch: 1/10, Loss: 0.4484088122844696\n"
          ]
        },
        {
          "metadata": {
            "tags": null
          },
          "name": "stderr",
          "output_type": "stream",
          "text": [
            "\r"
          ]
        },
        {
          "metadata": {
            "tags": null
          },
          "name": "stdout",
          "output_type": "stream",
          "text": [
            "MoviePy - Writing audio in temp_audio.wav\n"
          ]
        },
        {
          "metadata": {
            "tags": null
          },
          "name": "stderr",
          "output_type": "stream",
          "text": [
            "                                                       "
          ]
        },
        {
          "metadata": {
            "tags": null
          },
          "name": "stdout",
          "output_type": "stream",
          "text": [
            "MoviePy - Done.\n",
            "Epoch: 1/10, Loss: 0.3234088122844696\n"
          ]
        },
        {
          "metadata": {
            "tags": null
          },
          "name": "stderr",
          "output_type": "stream",
          "text": [
            "\r"
          ]
        },
        {
          "metadata": {
            "tags": null
          },
          "name": "stdout",
          "output_type": "stream",
          "text": [
            "MoviePy - Writing audio in temp_audio.wav\n"
          ]
        },
        {
          "metadata": {
            "tags": null
          },
          "name": "stderr",
          "output_type": "stream",
          "text": [
            "                                                       "
          ]
        },
        {
          "metadata": {
            "tags": null
          },
          "name": "stdout",
          "output_type": "stream",
          "text": [
            "MoviePy - Done.\n",
            "Epoch: 1/10, Loss: 0.1984088271856308\n"
          ]
        },
        {
          "metadata": {
            "tags": null
          },
          "name": "stderr",
          "output_type": "stream",
          "text": [
            "\r"
          ]
        },
        {
          "metadata": {
            "tags": null
          },
          "name": "stdout",
          "output_type": "stream",
          "text": [
            "MoviePy - Writing audio in temp_audio.wav\n"
          ]
        },
        {
          "metadata": {
            "tags": null
          },
          "name": "stderr",
          "output_type": "stream",
          "text": [
            "                                                       "
          ]
        },
        {
          "metadata": {
            "tags": null
          },
          "name": "stdout",
          "output_type": "stream",
          "text": [
            "MoviePy - Done.\n",
            "Epoch: 1/10, Loss: 0.1984088271856308\n"
          ]
        },
        {
          "metadata": {
            "tags": null
          },
          "name": "stderr",
          "output_type": "stream",
          "text": [
            "\r"
          ]
        },
        {
          "metadata": {
            "tags": null
          },
          "name": "stdout",
          "output_type": "stream",
          "text": [
            "MoviePy - Writing audio in temp_audio.wav\n"
          ]
        },
        {
          "metadata": {
            "tags": null
          },
          "name": "stderr",
          "output_type": "stream",
          "text": [
            "                                                       "
          ]
        },
        {
          "metadata": {
            "tags": null
          },
          "name": "stdout",
          "output_type": "stream",
          "text": [
            "MoviePy - Done.\n",
            "Epoch: 1/10, Loss: 0.4484088122844696\n"
          ]
        },
        {
          "metadata": {
            "tags": null
          },
          "name": "stderr",
          "output_type": "stream",
          "text": [
            "\r"
          ]
        },
        {
          "metadata": {
            "tags": null
          },
          "name": "stdout",
          "output_type": "stream",
          "text": [
            "MoviePy - Writing audio in temp_audio.wav\n"
          ]
        },
        {
          "metadata": {
            "tags": null
          },
          "name": "stderr",
          "output_type": "stream",
          "text": [
            "                                                       "
          ]
        },
        {
          "metadata": {
            "tags": null
          },
          "name": "stdout",
          "output_type": "stream",
          "text": [
            "MoviePy - Done.\n",
            "Epoch: 1/10, Loss: 0.3234088122844696\n"
          ]
        },
        {
          "metadata": {
            "tags": null
          },
          "name": "stderr",
          "output_type": "stream",
          "text": [
            "\r"
          ]
        },
        {
          "metadata": {
            "tags": null
          },
          "name": "stdout",
          "output_type": "stream",
          "text": [
            "MoviePy - Writing audio in temp_audio.wav\n"
          ]
        },
        {
          "metadata": {
            "tags": null
          },
          "name": "stderr",
          "output_type": "stream",
          "text": [
            "                                                       "
          ]
        },
        {
          "metadata": {
            "tags": null
          },
          "name": "stdout",
          "output_type": "stream",
          "text": [
            "MoviePy - Done.\n",
            "Epoch: 1/10, Loss: 0.3234088122844696\n"
          ]
        },
        {
          "metadata": {
            "tags": null
          },
          "name": "stderr",
          "output_type": "stream",
          "text": [
            "\r"
          ]
        },
        {
          "metadata": {
            "tags": null
          },
          "name": "stdout",
          "output_type": "stream",
          "text": [
            "MoviePy - Writing audio in temp_audio.wav\n"
          ]
        },
        {
          "metadata": {
            "tags": null
          },
          "name": "stderr",
          "output_type": "stream",
          "text": [
            "                                                       "
          ]
        },
        {
          "metadata": {
            "tags": null
          },
          "name": "stdout",
          "output_type": "stream",
          "text": [
            "MoviePy - Done.\n",
            "Epoch: 1/10, Loss: 0.323408842086792\n"
          ]
        },
        {
          "metadata": {
            "tags": null
          },
          "name": "stderr",
          "output_type": "stream",
          "text": [
            "\r"
          ]
        },
        {
          "metadata": {
            "tags": null
          },
          "name": "stdout",
          "output_type": "stream",
          "text": [
            "MoviePy - Writing audio in temp_audio.wav\n"
          ]
        },
        {
          "metadata": {
            "tags": null
          },
          "name": "stderr",
          "output_type": "stream",
          "text": [
            "                                                       "
          ]
        },
        {
          "metadata": {
            "tags": null
          },
          "name": "stdout",
          "output_type": "stream",
          "text": [
            "MoviePy - Done.\n",
            "Epoch: 1/10, Loss: 0.1984088271856308\n"
          ]
        },
        {
          "metadata": {
            "tags": null
          },
          "name": "stderr",
          "output_type": "stream",
          "text": [
            "\r"
          ]
        },
        {
          "metadata": {
            "tags": null
          },
          "name": "stdout",
          "output_type": "stream",
          "text": [
            "MoviePy - Writing audio in temp_audio.wav\n"
          ]
        },
        {
          "metadata": {
            "tags": null
          },
          "name": "stderr",
          "output_type": "stream",
          "text": [
            "                                                       "
          ]
        },
        {
          "metadata": {
            "tags": null
          },
          "name": "stdout",
          "output_type": "stream",
          "text": [
            "MoviePy - Done.\n"
          ]
        },
        {
          "metadata": {
            "tags": null
          },
          "name": "stderr",
          "output_type": "stream",
          "text": [
            "\r"
          ]
        },
        {
          "metadata": {
            "tags": null
          },
          "name": "stdout",
          "output_type": "stream",
          "text": [
            "Epoch: 1/10, Loss: 0.4484088122844696\n",
            "MoviePy - Writing audio in temp_audio.wav\n"
          ]
        },
        {
          "metadata": {
            "tags": null
          },
          "name": "stderr",
          "output_type": "stream",
          "text": [
            "                                                       "
          ]
        },
        {
          "metadata": {
            "tags": null
          },
          "name": "stdout",
          "output_type": "stream",
          "text": [
            "MoviePy - Done.\n",
            "Epoch: 1/10, Loss: 0.4484088122844696\n"
          ]
        },
        {
          "metadata": {
            "tags": null
          },
          "name": "stderr",
          "output_type": "stream",
          "text": [
            "\r"
          ]
        },
        {
          "metadata": {
            "tags": null
          },
          "name": "stdout",
          "output_type": "stream",
          "text": [
            "MoviePy - Writing audio in temp_audio.wav\n"
          ]
        },
        {
          "metadata": {
            "tags": null
          },
          "name": "stderr",
          "output_type": "stream",
          "text": [
            "                                                       "
          ]
        },
        {
          "metadata": {
            "tags": null
          },
          "name": "stdout",
          "output_type": "stream",
          "text": [
            "MoviePy - Done.\n",
            "Epoch: 1/10, Loss: 0.3234088122844696\n"
          ]
        },
        {
          "metadata": {
            "tags": null
          },
          "name": "stderr",
          "output_type": "stream",
          "text": [
            "\r"
          ]
        },
        {
          "metadata": {
            "tags": null
          },
          "name": "stdout",
          "output_type": "stream",
          "text": [
            "MoviePy - Writing audio in temp_audio.wav\n"
          ]
        },
        {
          "metadata": {
            "tags": null
          },
          "name": "stderr",
          "output_type": "stream",
          "text": [
            "                                                       "
          ]
        },
        {
          "metadata": {
            "tags": null
          },
          "name": "stdout",
          "output_type": "stream",
          "text": [
            "MoviePy - Done.\n",
            "Epoch: 1/10, Loss: 0.3234088122844696\n"
          ]
        },
        {
          "metadata": {
            "tags": null
          },
          "name": "stderr",
          "output_type": "stream",
          "text": [
            "\r"
          ]
        },
        {
          "metadata": {
            "tags": null
          },
          "name": "stdout",
          "output_type": "stream",
          "text": [
            "MoviePy - Writing audio in temp_audio.wav\n"
          ]
        },
        {
          "metadata": {
            "tags": null
          },
          "name": "stderr",
          "output_type": "stream",
          "text": [
            "                                                       "
          ]
        },
        {
          "metadata": {
            "tags": null
          },
          "name": "stdout",
          "output_type": "stream",
          "text": [
            "MoviePy - Done.\n",
            "Epoch: 1/10, Loss: 0.4484088122844696\n"
          ]
        },
        {
          "metadata": {
            "tags": null
          },
          "name": "stderr",
          "output_type": "stream",
          "text": [
            "\r"
          ]
        },
        {
          "metadata": {
            "tags": null
          },
          "name": "stdout",
          "output_type": "stream",
          "text": [
            "MoviePy - Writing audio in temp_audio.wav\n"
          ]
        },
        {
          "metadata": {
            "tags": null
          },
          "name": "stderr",
          "output_type": "stream",
          "text": [
            "                                                       "
          ]
        },
        {
          "metadata": {
            "tags": null
          },
          "name": "stdout",
          "output_type": "stream",
          "text": [
            "MoviePy - Done.\n",
            "Epoch: 1/10, Loss: 0.3234088122844696\n"
          ]
        },
        {
          "metadata": {
            "tags": null
          },
          "name": "stderr",
          "output_type": "stream",
          "text": [
            "\r"
          ]
        },
        {
          "metadata": {
            "tags": null
          },
          "name": "stdout",
          "output_type": "stream",
          "text": [
            "MoviePy - Writing audio in temp_audio.wav\n"
          ]
        },
        {
          "metadata": {
            "tags": null
          },
          "name": "stderr",
          "output_type": "stream",
          "text": [
            "                                                       "
          ]
        },
        {
          "metadata": {
            "tags": null
          },
          "name": "stdout",
          "output_type": "stream",
          "text": [
            "MoviePy - Done.\n",
            "Epoch: 1/10, Loss: 0.323408842086792\n"
          ]
        },
        {
          "metadata": {
            "tags": null
          },
          "name": "stderr",
          "output_type": "stream",
          "text": [
            "\r"
          ]
        },
        {
          "metadata": {
            "tags": null
          },
          "name": "stdout",
          "output_type": "stream",
          "text": [
            "MoviePy - Writing audio in temp_audio.wav\n"
          ]
        },
        {
          "metadata": {
            "tags": null
          },
          "name": "stderr",
          "output_type": "stream",
          "text": [
            "                                                       "
          ]
        },
        {
          "metadata": {
            "tags": null
          },
          "name": "stdout",
          "output_type": "stream",
          "text": [
            "MoviePy - Done.\n",
            "Epoch: 1/10, Loss: 0.3234088122844696\n"
          ]
        },
        {
          "metadata": {
            "tags": null
          },
          "name": "stderr",
          "output_type": "stream",
          "text": [
            "\r"
          ]
        },
        {
          "metadata": {
            "tags": null
          },
          "name": "stdout",
          "output_type": "stream",
          "text": [
            "MoviePy - Writing audio in temp_audio.wav\n"
          ]
        },
        {
          "metadata": {
            "tags": null
          },
          "name": "stderr",
          "output_type": "stream",
          "text": [
            "                                                       "
          ]
        },
        {
          "metadata": {
            "tags": null
          },
          "name": "stdout",
          "output_type": "stream",
          "text": [
            "MoviePy - Done.\n",
            "Epoch: 1/10, Loss: 0.3234088122844696\n"
          ]
        },
        {
          "metadata": {
            "tags": null
          },
          "name": "stderr",
          "output_type": "stream",
          "text": [
            "\r"
          ]
        },
        {
          "metadata": {
            "tags": null
          },
          "name": "stdout",
          "output_type": "stream",
          "text": [
            "MoviePy - Writing audio in temp_audio.wav\n"
          ]
        },
        {
          "metadata": {
            "tags": null
          },
          "name": "stderr",
          "output_type": "stream",
          "text": [
            "                                                       "
          ]
        },
        {
          "metadata": {
            "tags": null
          },
          "name": "stdout",
          "output_type": "stream",
          "text": [
            "MoviePy - Done.\n",
            "Epoch: 1/10, Loss: 0.323408842086792\n"
          ]
        },
        {
          "metadata": {
            "tags": null
          },
          "name": "stderr",
          "output_type": "stream",
          "text": [
            "\r"
          ]
        },
        {
          "metadata": {
            "tags": null
          },
          "name": "stdout",
          "output_type": "stream",
          "text": [
            "MoviePy - Writing audio in temp_audio.wav\n"
          ]
        },
        {
          "metadata": {
            "tags": null
          },
          "name": "stderr",
          "output_type": "stream",
          "text": [
            "                                                       "
          ]
        },
        {
          "metadata": {
            "tags": null
          },
          "name": "stdout",
          "output_type": "stream",
          "text": [
            "MoviePy - Done.\n",
            "Epoch: 1/10, Loss: 0.4484088122844696\n"
          ]
        },
        {
          "metadata": {
            "tags": null
          },
          "name": "stderr",
          "output_type": "stream",
          "text": [
            "\r"
          ]
        },
        {
          "metadata": {
            "tags": null
          },
          "name": "stdout",
          "output_type": "stream",
          "text": [
            "MoviePy - Writing audio in temp_audio.wav\n"
          ]
        },
        {
          "metadata": {
            "tags": null
          },
          "name": "stderr",
          "output_type": "stream",
          "text": [
            "                                                       "
          ]
        },
        {
          "metadata": {
            "tags": null
          },
          "name": "stdout",
          "output_type": "stream",
          "text": [
            "MoviePy - Done.\n",
            "Epoch: 1/10, Loss: 0.4484088122844696\n"
          ]
        },
        {
          "metadata": {
            "tags": null
          },
          "name": "stderr",
          "output_type": "stream",
          "text": [
            "\r"
          ]
        },
        {
          "metadata": {
            "tags": null
          },
          "name": "stdout",
          "output_type": "stream",
          "text": [
            "MoviePy - Writing audio in temp_audio.wav\n"
          ]
        },
        {
          "metadata": {
            "tags": null
          },
          "name": "stderr",
          "output_type": "stream",
          "text": [
            "                                                       "
          ]
        },
        {
          "metadata": {
            "tags": null
          },
          "name": "stdout",
          "output_type": "stream",
          "text": [
            "MoviePy - Done.\n",
            "Epoch: 1/10, Loss: 0.3234088122844696\n"
          ]
        },
        {
          "metadata": {
            "tags": null
          },
          "name": "stderr",
          "output_type": "stream",
          "text": [
            "\r"
          ]
        },
        {
          "metadata": {
            "tags": null
          },
          "name": "stdout",
          "output_type": "stream",
          "text": [
            "MoviePy - Writing audio in temp_audio.wav\n"
          ]
        },
        {
          "metadata": {
            "tags": null
          },
          "name": "stderr",
          "output_type": "stream",
          "text": [
            "                                                       "
          ]
        },
        {
          "metadata": {
            "tags": null
          },
          "name": "stdout",
          "output_type": "stream",
          "text": [
            "MoviePy - Done.\n",
            "Epoch: 1/10, Loss: 0.1984088271856308\n"
          ]
        },
        {
          "metadata": {
            "tags": null
          },
          "name": "stderr",
          "output_type": "stream",
          "text": [
            "\r"
          ]
        },
        {
          "metadata": {
            "tags": null
          },
          "name": "stdout",
          "output_type": "stream",
          "text": [
            "MoviePy - Writing audio in temp_audio.wav\n"
          ]
        },
        {
          "metadata": {
            "tags": null
          },
          "name": "stderr",
          "output_type": "stream",
          "text": [
            "                                                       "
          ]
        },
        {
          "metadata": {
            "tags": null
          },
          "name": "stdout",
          "output_type": "stream",
          "text": [
            "MoviePy - Done.\n",
            "Epoch: 1/10, Loss: 0.3234088122844696\n"
          ]
        },
        {
          "metadata": {
            "tags": null
          },
          "name": "stderr",
          "output_type": "stream",
          "text": [
            "\r"
          ]
        },
        {
          "metadata": {
            "tags": null
          },
          "name": "stdout",
          "output_type": "stream",
          "text": [
            "MoviePy - Writing audio in temp_audio.wav\n"
          ]
        },
        {
          "metadata": {
            "tags": null
          },
          "name": "stderr",
          "output_type": "stream",
          "text": [
            "                                                       "
          ]
        },
        {
          "metadata": {
            "tags": null
          },
          "name": "stdout",
          "output_type": "stream",
          "text": [
            "MoviePy - Done.\n",
            "Epoch: 1/10, Loss: 0.1984088271856308\n"
          ]
        },
        {
          "metadata": {
            "tags": null
          },
          "name": "stderr",
          "output_type": "stream",
          "text": [
            "\r"
          ]
        },
        {
          "metadata": {
            "tags": null
          },
          "name": "stdout",
          "output_type": "stream",
          "text": [
            "MoviePy - Writing audio in temp_audio.wav\n"
          ]
        },
        {
          "metadata": {
            "tags": null
          },
          "name": "stderr",
          "output_type": "stream",
          "text": [
            "                                                       "
          ]
        },
        {
          "metadata": {
            "tags": null
          },
          "name": "stdout",
          "output_type": "stream",
          "text": [
            "MoviePy - Done.\n",
            "Epoch: 1/10, Loss: 0.4484088122844696\n"
          ]
        },
        {
          "metadata": {
            "tags": null
          },
          "name": "stderr",
          "output_type": "stream",
          "text": [
            "\r"
          ]
        },
        {
          "metadata": {
            "tags": null
          },
          "name": "stdout",
          "output_type": "stream",
          "text": [
            "MoviePy - Writing audio in temp_audio.wav\n"
          ]
        },
        {
          "metadata": {
            "tags": null
          },
          "name": "stderr",
          "output_type": "stream",
          "text": [
            "                                                       "
          ]
        },
        {
          "metadata": {
            "tags": null
          },
          "name": "stdout",
          "output_type": "stream",
          "text": [
            "MoviePy - Done.\n",
            "Epoch: 1/10, Loss: 0.4484088122844696\n"
          ]
        },
        {
          "metadata": {
            "tags": null
          },
          "name": "stderr",
          "output_type": "stream",
          "text": [
            "\r"
          ]
        },
        {
          "metadata": {
            "tags": null
          },
          "name": "stdout",
          "output_type": "stream",
          "text": [
            "MoviePy - Writing audio in temp_audio.wav\n"
          ]
        },
        {
          "metadata": {
            "tags": null
          },
          "name": "stderr",
          "output_type": "stream",
          "text": [
            "                                                       "
          ]
        },
        {
          "metadata": {
            "tags": null
          },
          "name": "stdout",
          "output_type": "stream",
          "text": [
            "MoviePy - Done.\n",
            "Epoch: 1/10, Loss: 0.4484088122844696\n"
          ]
        },
        {
          "metadata": {
            "tags": null
          },
          "name": "stderr",
          "output_type": "stream",
          "text": [
            "\r"
          ]
        },
        {
          "metadata": {
            "tags": null
          },
          "name": "stdout",
          "output_type": "stream",
          "text": [
            "MoviePy - Writing audio in temp_audio.wav\n"
          ]
        },
        {
          "metadata": {
            "tags": null
          },
          "name": "stderr",
          "output_type": "stream",
          "text": [
            "                                                       "
          ]
        },
        {
          "metadata": {
            "tags": null
          },
          "name": "stdout",
          "output_type": "stream",
          "text": [
            "MoviePy - Done.\n",
            "Epoch: 1/10, Loss: 0.3234088122844696\n"
          ]
        },
        {
          "metadata": {
            "tags": null
          },
          "name": "stderr",
          "output_type": "stream",
          "text": [
            "\r"
          ]
        },
        {
          "metadata": {
            "tags": null
          },
          "name": "stdout",
          "output_type": "stream",
          "text": [
            "MoviePy - Writing audio in temp_audio.wav\n"
          ]
        },
        {
          "metadata": {
            "tags": null
          },
          "name": "stderr",
          "output_type": "stream",
          "text": [
            ""
          ]
        },
        {
          "metadata": {
            "tags": null
          },
          "name": "stdout",
          "output_type": "stream",
          "text": [
            "MoviePy - Done.\n",
            "Epoch: 1/10, Loss: 0.3234088122844696\n",
            "MoviePy - Writing audio in temp_audio.wav\n"
          ]
        },
        {
          "metadata": {
            "tags": null
          },
          "name": "stderr",
          "output_type": "stream",
          "text": [
            "                                                       "
          ]
        },
        {
          "metadata": {
            "tags": null
          },
          "name": "stdout",
          "output_type": "stream",
          "text": [
            "MoviePy - Done.\n",
            "Epoch: 1/10, Loss: 0.4484088122844696\n"
          ]
        },
        {
          "metadata": {
            "tags": null
          },
          "name": "stderr",
          "output_type": "stream",
          "text": [
            "\r"
          ]
        },
        {
          "metadata": {
            "tags": null
          },
          "name": "stdout",
          "output_type": "stream",
          "text": [
            "MoviePy - Writing audio in temp_audio.wav\n"
          ]
        },
        {
          "metadata": {
            "tags": null
          },
          "name": "stderr",
          "output_type": "stream",
          "text": [
            "                                                       "
          ]
        },
        {
          "metadata": {
            "tags": null
          },
          "name": "stdout",
          "output_type": "stream",
          "text": [
            "MoviePy - Done.\n",
            "Epoch: 1/10, Loss: 0.4484088122844696\n"
          ]
        },
        {
          "metadata": {
            "tags": null
          },
          "name": "stderr",
          "output_type": "stream",
          "text": [
            "\r"
          ]
        },
        {
          "metadata": {
            "tags": null
          },
          "name": "stdout",
          "output_type": "stream",
          "text": [
            "MoviePy - Writing audio in temp_audio.wav\n"
          ]
        },
        {
          "metadata": {
            "tags": null
          },
          "name": "stderr",
          "output_type": "stream",
          "text": [
            "                                                       "
          ]
        },
        {
          "metadata": {
            "tags": null
          },
          "name": "stdout",
          "output_type": "stream",
          "text": [
            "MoviePy - Done.\n",
            "Epoch: 1/10, Loss: 0.3234088122844696\n"
          ]
        },
        {
          "metadata": {
            "tags": null
          },
          "name": "stderr",
          "output_type": "stream",
          "text": [
            "\r"
          ]
        },
        {
          "metadata": {
            "tags": null
          },
          "name": "stdout",
          "output_type": "stream",
          "text": [
            "MoviePy - Writing audio in temp_audio.wav\n"
          ]
        },
        {
          "metadata": {
            "tags": null
          },
          "name": "stderr",
          "output_type": "stream",
          "text": [
            "                                                       "
          ]
        },
        {
          "metadata": {
            "tags": null
          },
          "name": "stdout",
          "output_type": "stream",
          "text": [
            "MoviePy - Done.\n",
            "Epoch: 1/10, Loss: 0.4484088122844696\n"
          ]
        },
        {
          "metadata": {
            "tags": null
          },
          "name": "stderr",
          "output_type": "stream",
          "text": [
            "\r"
          ]
        },
        {
          "metadata": {
            "tags": null
          },
          "name": "stdout",
          "output_type": "stream",
          "text": [
            "MoviePy - Writing audio in temp_audio.wav\n"
          ]
        },
        {
          "metadata": {
            "tags": null
          },
          "name": "stderr",
          "output_type": "stream",
          "text": [
            "                                                       "
          ]
        },
        {
          "metadata": {
            "tags": null
          },
          "name": "stdout",
          "output_type": "stream",
          "text": [
            "MoviePy - Done.\n",
            "Epoch: 1/10, Loss: 0.3234088122844696\n"
          ]
        },
        {
          "metadata": {
            "tags": null
          },
          "name": "stderr",
          "output_type": "stream",
          "text": [
            "\r"
          ]
        },
        {
          "metadata": {
            "tags": null
          },
          "name": "stdout",
          "output_type": "stream",
          "text": [
            "MoviePy - Writing audio in temp_audio.wav\n"
          ]
        },
        {
          "metadata": {
            "tags": null
          },
          "name": "stderr",
          "output_type": "stream",
          "text": [
            "                                                       "
          ]
        },
        {
          "metadata": {
            "tags": null
          },
          "name": "stdout",
          "output_type": "stream",
          "text": [
            "MoviePy - Done.\n",
            "Epoch: 1/10, Loss: 0.3234088122844696\n"
          ]
        },
        {
          "metadata": {
            "tags": null
          },
          "name": "stderr",
          "output_type": "stream",
          "text": [
            "\r"
          ]
        },
        {
          "metadata": {
            "tags": null
          },
          "name": "stdout",
          "output_type": "stream",
          "text": [
            "MoviePy - Writing audio in temp_audio.wav\n"
          ]
        },
        {
          "metadata": {
            "tags": null
          },
          "name": "stderr",
          "output_type": "stream",
          "text": [
            "                                                       "
          ]
        },
        {
          "metadata": {
            "tags": null
          },
          "name": "stdout",
          "output_type": "stream",
          "text": [
            "MoviePy - Done.\n",
            "Epoch: 1/10, Loss: 0.4484088122844696\n"
          ]
        },
        {
          "metadata": {
            "tags": null
          },
          "name": "stderr",
          "output_type": "stream",
          "text": [
            "\r"
          ]
        },
        {
          "metadata": {
            "tags": null
          },
          "name": "stdout",
          "output_type": "stream",
          "text": [
            "MoviePy - Writing audio in temp_audio.wav\n"
          ]
        },
        {
          "metadata": {
            "tags": null
          },
          "name": "stderr",
          "output_type": "stream",
          "text": [
            "                                                       "
          ]
        },
        {
          "metadata": {
            "tags": null
          },
          "name": "stdout",
          "output_type": "stream",
          "text": [
            "MoviePy - Done.\n",
            "Epoch: 1/10, Loss: 0.4484088122844696\n"
          ]
        },
        {
          "metadata": {
            "tags": null
          },
          "name": "stderr",
          "output_type": "stream",
          "text": [
            "\r"
          ]
        },
        {
          "metadata": {
            "tags": null
          },
          "name": "stdout",
          "output_type": "stream",
          "text": [
            "MoviePy - Writing audio in temp_audio.wav\n"
          ]
        },
        {
          "metadata": {
            "tags": null
          },
          "name": "stderr",
          "output_type": "stream",
          "text": [
            "                                                       "
          ]
        },
        {
          "metadata": {
            "tags": null
          },
          "name": "stdout",
          "output_type": "stream",
          "text": [
            "MoviePy - Done.\n",
            "Epoch: 1/10, Loss: 0.3234088122844696\n"
          ]
        },
        {
          "metadata": {
            "tags": null
          },
          "name": "stderr",
          "output_type": "stream",
          "text": [
            "\r"
          ]
        },
        {
          "metadata": {
            "tags": null
          },
          "name": "stdout",
          "output_type": "stream",
          "text": [
            "MoviePy - Writing audio in temp_audio.wav\n"
          ]
        },
        {
          "metadata": {
            "tags": null
          },
          "name": "stderr",
          "output_type": "stream",
          "text": [
            "                                                       "
          ]
        },
        {
          "metadata": {
            "tags": null
          },
          "name": "stdout",
          "output_type": "stream",
          "text": [
            "MoviePy - Done.\n",
            "Epoch: 1/10, Loss: 0.4484088122844696\n"
          ]
        },
        {
          "metadata": {
            "tags": null
          },
          "name": "stderr",
          "output_type": "stream",
          "text": [
            "\r"
          ]
        },
        {
          "metadata": {
            "tags": null
          },
          "name": "stdout",
          "output_type": "stream",
          "text": [
            "MoviePy - Writing audio in temp_audio.wav\n"
          ]
        },
        {
          "metadata": {
            "tags": null
          },
          "name": "stderr",
          "output_type": "stream",
          "text": [
            "                                                       "
          ]
        },
        {
          "metadata": {
            "tags": null
          },
          "name": "stdout",
          "output_type": "stream",
          "text": [
            "MoviePy - Done.\n",
            "Epoch: 1/10, Loss: 0.4484088122844696\n"
          ]
        },
        {
          "metadata": {
            "tags": null
          },
          "name": "stderr",
          "output_type": "stream",
          "text": [
            "\r"
          ]
        },
        {
          "metadata": {
            "tags": null
          },
          "name": "stdout",
          "output_type": "stream",
          "text": [
            "MoviePy - Writing audio in temp_audio.wav\n"
          ]
        },
        {
          "metadata": {
            "tags": null
          },
          "name": "stderr",
          "output_type": "stream",
          "text": [
            "                                                       "
          ]
        },
        {
          "metadata": {
            "tags": null
          },
          "name": "stdout",
          "output_type": "stream",
          "text": [
            "MoviePy - Done.\n",
            "Epoch: 1/10, Loss: 0.323408842086792\n"
          ]
        },
        {
          "metadata": {
            "tags": null
          },
          "name": "stderr",
          "output_type": "stream",
          "text": [
            "\r"
          ]
        },
        {
          "metadata": {
            "tags": null
          },
          "name": "stdout",
          "output_type": "stream",
          "text": [
            "MoviePy - Writing audio in temp_audio.wav\n"
          ]
        },
        {
          "metadata": {
            "tags": null
          },
          "name": "stderr",
          "output_type": "stream",
          "text": [
            "                                                       "
          ]
        },
        {
          "metadata": {
            "tags": null
          },
          "name": "stdout",
          "output_type": "stream",
          "text": [
            "MoviePy - Done.\n",
            "Epoch: 1/10, Loss: 0.3234088122844696\n"
          ]
        },
        {
          "metadata": {
            "tags": null
          },
          "name": "stderr",
          "output_type": "stream",
          "text": [
            "\r"
          ]
        },
        {
          "metadata": {
            "tags": null
          },
          "name": "stdout",
          "output_type": "stream",
          "text": [
            "MoviePy - Writing audio in temp_audio.wav\n"
          ]
        },
        {
          "metadata": {
            "tags": null
          },
          "name": "stderr",
          "output_type": "stream",
          "text": [
            "                                                       "
          ]
        },
        {
          "metadata": {
            "tags": null
          },
          "name": "stdout",
          "output_type": "stream",
          "text": [
            "MoviePy - Done.\n",
            "Epoch: 1/10, Loss: 0.4484088122844696\n"
          ]
        },
        {
          "metadata": {
            "tags": null
          },
          "name": "stderr",
          "output_type": "stream",
          "text": [
            "\r"
          ]
        },
        {
          "metadata": {
            "tags": null
          },
          "name": "stdout",
          "output_type": "stream",
          "text": [
            "MoviePy - Writing audio in temp_audio.wav\n"
          ]
        },
        {
          "metadata": {
            "tags": null
          },
          "name": "stderr",
          "output_type": "stream",
          "text": [
            "                                                       "
          ]
        },
        {
          "metadata": {
            "tags": null
          },
          "name": "stdout",
          "output_type": "stream",
          "text": [
            "MoviePy - Done.\n",
            "Epoch: 1/10, Loss: 0.4484088122844696\n"
          ]
        },
        {
          "metadata": {
            "tags": null
          },
          "name": "stderr",
          "output_type": "stream",
          "text": [
            "\r"
          ]
        },
        {
          "metadata": {
            "tags": null
          },
          "name": "stdout",
          "output_type": "stream",
          "text": [
            "MoviePy - Writing audio in temp_audio.wav\n"
          ]
        },
        {
          "metadata": {
            "tags": null
          },
          "name": "stderr",
          "output_type": "stream",
          "text": [
            "                                                       "
          ]
        },
        {
          "metadata": {
            "tags": null
          },
          "name": "stdout",
          "output_type": "stream",
          "text": [
            "MoviePy - Done.\n",
            "Epoch: 1/10, Loss: 0.3234088122844696\n"
          ]
        },
        {
          "metadata": {
            "tags": null
          },
          "name": "stderr",
          "output_type": "stream",
          "text": [
            "\r"
          ]
        },
        {
          "metadata": {
            "tags": null
          },
          "name": "stdout",
          "output_type": "stream",
          "text": [
            "MoviePy - Writing audio in temp_audio.wav\n"
          ]
        },
        {
          "metadata": {
            "tags": null
          },
          "name": "stderr",
          "output_type": "stream",
          "text": [
            "                                                       "
          ]
        },
        {
          "metadata": {
            "tags": null
          },
          "name": "stdout",
          "output_type": "stream",
          "text": [
            "MoviePy - Done.\n",
            "Epoch: 1/10, Loss: 0.4484088122844696\n"
          ]
        },
        {
          "metadata": {
            "tags": null
          },
          "name": "stderr",
          "output_type": "stream",
          "text": [
            "\r"
          ]
        },
        {
          "metadata": {
            "tags": null
          },
          "name": "stdout",
          "output_type": "stream",
          "text": [
            "MoviePy - Writing audio in temp_audio.wav\n"
          ]
        },
        {
          "metadata": {
            "tags": null
          },
          "name": "stderr",
          "output_type": "stream",
          "text": [
            "                                                       "
          ]
        },
        {
          "metadata": {
            "tags": null
          },
          "name": "stdout",
          "output_type": "stream",
          "text": [
            "MoviePy - Done.\n",
            "Epoch: 1/10, Loss: 0.3234088122844696\n"
          ]
        },
        {
          "metadata": {
            "tags": null
          },
          "name": "stderr",
          "output_type": "stream",
          "text": [
            "\r"
          ]
        },
        {
          "metadata": {
            "tags": null
          },
          "name": "stdout",
          "output_type": "stream",
          "text": [
            "MoviePy - Writing audio in temp_audio.wav\n"
          ]
        },
        {
          "metadata": {
            "tags": null
          },
          "name": "stderr",
          "output_type": "stream",
          "text": [
            "                                                       "
          ]
        },
        {
          "metadata": {
            "tags": null
          },
          "name": "stdout",
          "output_type": "stream",
          "text": [
            "MoviePy - Done.\n",
            "Epoch: 1/10, Loss: 0.3234088122844696\n"
          ]
        },
        {
          "metadata": {
            "tags": null
          },
          "name": "stderr",
          "output_type": "stream",
          "text": [
            "\r"
          ]
        },
        {
          "metadata": {
            "tags": null
          },
          "name": "stdout",
          "output_type": "stream",
          "text": [
            "MoviePy - Writing audio in temp_audio.wav\n"
          ]
        },
        {
          "metadata": {
            "tags": null
          },
          "name": "stderr",
          "output_type": "stream",
          "text": [
            "                                                       "
          ]
        },
        {
          "metadata": {
            "tags": null
          },
          "name": "stdout",
          "output_type": "stream",
          "text": [
            "MoviePy - Done.\n",
            "Epoch: 1/10, Loss: 0.3234088122844696\n"
          ]
        },
        {
          "metadata": {
            "tags": null
          },
          "name": "stderr",
          "output_type": "stream",
          "text": [
            "\r"
          ]
        },
        {
          "metadata": {
            "tags": null
          },
          "name": "stdout",
          "output_type": "stream",
          "text": [
            "MoviePy - Writing audio in temp_audio.wav\n"
          ]
        },
        {
          "metadata": {
            "tags": null
          },
          "name": "stderr",
          "output_type": "stream",
          "text": [
            "                                                       "
          ]
        },
        {
          "metadata": {
            "tags": null
          },
          "name": "stdout",
          "output_type": "stream",
          "text": [
            "MoviePy - Done.\n",
            "Epoch: 1/10, Loss: 0.3234088122844696\n"
          ]
        },
        {
          "metadata": {
            "tags": null
          },
          "name": "stderr",
          "output_type": "stream",
          "text": [
            "\r"
          ]
        },
        {
          "metadata": {
            "tags": null
          },
          "name": "stdout",
          "output_type": "stream",
          "text": [
            "MoviePy - Writing audio in temp_audio.wav\n"
          ]
        },
        {
          "metadata": {
            "tags": null
          },
          "name": "stderr",
          "output_type": "stream",
          "text": [
            "                                                       "
          ]
        },
        {
          "metadata": {
            "tags": null
          },
          "name": "stdout",
          "output_type": "stream",
          "text": [
            "MoviePy - Done.\n",
            "Epoch: 1/10, Loss: 0.323408842086792\n"
          ]
        },
        {
          "metadata": {
            "tags": null
          },
          "name": "stderr",
          "output_type": "stream",
          "text": [
            "\r"
          ]
        },
        {
          "metadata": {
            "tags": null
          },
          "name": "stdout",
          "output_type": "stream",
          "text": [
            "MoviePy - Writing audio in temp_audio.wav\n"
          ]
        },
        {
          "metadata": {
            "tags": null
          },
          "name": "stderr",
          "output_type": "stream",
          "text": [
            "                                                       "
          ]
        },
        {
          "metadata": {
            "tags": null
          },
          "name": "stdout",
          "output_type": "stream",
          "text": [
            "MoviePy - Done.\n",
            "Epoch: 1/10, Loss: 0.1984088271856308\n"
          ]
        },
        {
          "metadata": {
            "tags": null
          },
          "name": "stderr",
          "output_type": "stream",
          "text": [
            "\r"
          ]
        },
        {
          "metadata": {
            "tags": null
          },
          "name": "stdout",
          "output_type": "stream",
          "text": [
            "MoviePy - Writing audio in temp_audio.wav\n"
          ]
        },
        {
          "metadata": {
            "tags": null
          },
          "name": "stderr",
          "output_type": "stream",
          "text": [
            "                                                       "
          ]
        },
        {
          "metadata": {
            "tags": null
          },
          "name": "stdout",
          "output_type": "stream",
          "text": [
            "MoviePy - Done.\n",
            "Epoch: 1/10, Loss: 0.3234088122844696\n"
          ]
        },
        {
          "metadata": {
            "tags": null
          },
          "name": "stderr",
          "output_type": "stream",
          "text": [
            "\r"
          ]
        },
        {
          "metadata": {
            "tags": null
          },
          "name": "stdout",
          "output_type": "stream",
          "text": [
            "MoviePy - Writing audio in temp_audio.wav\n"
          ]
        },
        {
          "metadata": {
            "tags": null
          },
          "name": "stderr",
          "output_type": "stream",
          "text": [
            "                                                       "
          ]
        },
        {
          "metadata": {
            "tags": null
          },
          "name": "stdout",
          "output_type": "stream",
          "text": [
            "MoviePy - Done.\n",
            "Epoch: 1/10, Loss: 0.4484088122844696\n"
          ]
        },
        {
          "metadata": {
            "tags": null
          },
          "name": "stderr",
          "output_type": "stream",
          "text": [
            "\r"
          ]
        },
        {
          "metadata": {
            "tags": null
          },
          "name": "stdout",
          "output_type": "stream",
          "text": [
            "MoviePy - Writing audio in temp_audio.wav\n"
          ]
        },
        {
          "metadata": {
            "tags": null
          },
          "name": "stderr",
          "output_type": "stream",
          "text": [
            "                                                       "
          ]
        },
        {
          "metadata": {
            "tags": null
          },
          "name": "stdout",
          "output_type": "stream",
          "text": [
            "MoviePy - Done.\n",
            "Epoch: 1/10, Loss: 0.323408842086792\n"
          ]
        },
        {
          "metadata": {
            "tags": null
          },
          "name": "stderr",
          "output_type": "stream",
          "text": [
            "\r"
          ]
        },
        {
          "metadata": {
            "tags": null
          },
          "name": "stdout",
          "output_type": "stream",
          "text": [
            "MoviePy - Writing audio in temp_audio.wav\n"
          ]
        },
        {
          "metadata": {
            "tags": null
          },
          "name": "stderr",
          "output_type": "stream",
          "text": [
            "                                                       "
          ]
        },
        {
          "metadata": {
            "tags": null
          },
          "name": "stdout",
          "output_type": "stream",
          "text": [
            "MoviePy - Done.\n",
            "Epoch: 1/10, Loss: 0.3234088122844696\n"
          ]
        },
        {
          "metadata": {
            "tags": null
          },
          "name": "stderr",
          "output_type": "stream",
          "text": [
            "\r"
          ]
        },
        {
          "metadata": {
            "tags": null
          },
          "name": "stdout",
          "output_type": "stream",
          "text": [
            "MoviePy - Writing audio in temp_audio.wav\n"
          ]
        },
        {
          "metadata": {
            "tags": null
          },
          "name": "stderr",
          "output_type": "stream",
          "text": [
            "                                                       "
          ]
        },
        {
          "metadata": {
            "tags": null
          },
          "name": "stdout",
          "output_type": "stream",
          "text": [
            "MoviePy - Done.\n",
            "Epoch: 1/10, Loss: 0.3234088122844696\n"
          ]
        },
        {
          "metadata": {
            "tags": null
          },
          "name": "stderr",
          "output_type": "stream",
          "text": [
            "\r"
          ]
        },
        {
          "metadata": {
            "tags": null
          },
          "name": "stdout",
          "output_type": "stream",
          "text": [
            "MoviePy - Writing audio in temp_audio.wav\n"
          ]
        },
        {
          "metadata": {
            "tags": null
          },
          "name": "stderr",
          "output_type": "stream",
          "text": [
            "                                                       "
          ]
        },
        {
          "metadata": {
            "tags": null
          },
          "name": "stdout",
          "output_type": "stream",
          "text": [
            "MoviePy - Done.\n",
            "Epoch: 1/10, Loss: 0.3234088122844696\n"
          ]
        },
        {
          "metadata": {
            "tags": null
          },
          "name": "stderr",
          "output_type": "stream",
          "text": [
            "\r"
          ]
        },
        {
          "metadata": {
            "tags": null
          },
          "name": "stdout",
          "output_type": "stream",
          "text": [
            "MoviePy - Writing audio in temp_audio.wav\n"
          ]
        },
        {
          "metadata": {
            "tags": null
          },
          "name": "stderr",
          "output_type": "stream",
          "text": [
            "                                                       "
          ]
        },
        {
          "metadata": {
            "tags": null
          },
          "name": "stdout",
          "output_type": "stream",
          "text": [
            "MoviePy - Done.\n",
            "Epoch: 1/10, Loss: 0.3234088122844696\n"
          ]
        },
        {
          "metadata": {
            "tags": null
          },
          "name": "stderr",
          "output_type": "stream",
          "text": [
            "\r"
          ]
        },
        {
          "metadata": {
            "tags": null
          },
          "name": "stdout",
          "output_type": "stream",
          "text": [
            "MoviePy - Writing audio in temp_audio.wav\n"
          ]
        },
        {
          "metadata": {
            "tags": null
          },
          "name": "stderr",
          "output_type": "stream",
          "text": [
            "                                                       "
          ]
        },
        {
          "metadata": {
            "tags": null
          },
          "name": "stdout",
          "output_type": "stream",
          "text": [
            "MoviePy - Done.\n",
            "Epoch: 1/10, Loss: 0.3234088122844696\n"
          ]
        },
        {
          "metadata": {
            "tags": null
          },
          "name": "stderr",
          "output_type": "stream",
          "text": [
            "\r"
          ]
        },
        {
          "metadata": {
            "tags": null
          },
          "name": "stdout",
          "output_type": "stream",
          "text": [
            "MoviePy - Writing audio in temp_audio.wav\n"
          ]
        },
        {
          "metadata": {
            "tags": null
          },
          "name": "stderr",
          "output_type": "stream",
          "text": [
            "                                                       "
          ]
        },
        {
          "metadata": {
            "tags": null
          },
          "name": "stdout",
          "output_type": "stream",
          "text": [
            "MoviePy - Done.\n",
            "Epoch: 1/10, Loss: 0.1984088271856308\n"
          ]
        },
        {
          "metadata": {
            "tags": null
          },
          "name": "stderr",
          "output_type": "stream",
          "text": [
            "\r"
          ]
        },
        {
          "metadata": {
            "tags": null
          },
          "name": "stdout",
          "output_type": "stream",
          "text": [
            "MoviePy - Writing audio in temp_audio.wav\n"
          ]
        },
        {
          "metadata": {
            "tags": null
          },
          "name": "stderr",
          "output_type": "stream",
          "text": [
            "                                                       "
          ]
        },
        {
          "metadata": {
            "tags": null
          },
          "name": "stdout",
          "output_type": "stream",
          "text": [
            "MoviePy - Done.\n",
            "Epoch: 1/10, Loss: 0.4484088122844696\n"
          ]
        },
        {
          "metadata": {
            "tags": null
          },
          "name": "stderr",
          "output_type": "stream",
          "text": [
            "\r"
          ]
        },
        {
          "metadata": {
            "tags": null
          },
          "name": "stdout",
          "output_type": "stream",
          "text": [
            "MoviePy - Writing audio in temp_audio.wav\n"
          ]
        },
        {
          "metadata": {
            "tags": null
          },
          "name": "stderr",
          "output_type": "stream",
          "text": [
            "                                                       "
          ]
        },
        {
          "metadata": {
            "tags": null
          },
          "name": "stdout",
          "output_type": "stream",
          "text": [
            "MoviePy - Done.\n",
            "Epoch: 1/10, Loss: 0.1984088271856308\n"
          ]
        },
        {
          "metadata": {
            "tags": null
          },
          "name": "stderr",
          "output_type": "stream",
          "text": [
            "\r"
          ]
        },
        {
          "metadata": {
            "tags": null
          },
          "name": "stdout",
          "output_type": "stream",
          "text": [
            "MoviePy - Writing audio in temp_audio.wav\n"
          ]
        },
        {
          "metadata": {
            "tags": null
          },
          "name": "stderr",
          "output_type": "stream",
          "text": [
            "                                                       "
          ]
        },
        {
          "metadata": {
            "tags": null
          },
          "name": "stdout",
          "output_type": "stream",
          "text": [
            "MoviePy - Done.\n",
            "Epoch: 1/10, Loss: 0.3234088122844696\n"
          ]
        },
        {
          "metadata": {
            "tags": null
          },
          "name": "stderr",
          "output_type": "stream",
          "text": [
            "\r"
          ]
        },
        {
          "metadata": {
            "tags": null
          },
          "name": "stdout",
          "output_type": "stream",
          "text": [
            "MoviePy - Writing audio in temp_audio.wav\n"
          ]
        },
        {
          "metadata": {
            "tags": null
          },
          "name": "stderr",
          "output_type": "stream",
          "text": [
            "                                                       "
          ]
        },
        {
          "metadata": {
            "tags": null
          },
          "name": "stdout",
          "output_type": "stream",
          "text": [
            "MoviePy - Done.\n",
            "Epoch: 1/10, Loss: 0.3234088122844696\n"
          ]
        },
        {
          "metadata": {
            "tags": null
          },
          "name": "stderr",
          "output_type": "stream",
          "text": [
            "\r"
          ]
        },
        {
          "metadata": {
            "tags": null
          },
          "name": "stdout",
          "output_type": "stream",
          "text": [
            "MoviePy - Writing audio in temp_audio.wav\n"
          ]
        },
        {
          "metadata": {
            "tags": null
          },
          "name": "stderr",
          "output_type": "stream",
          "text": [
            "                                                       "
          ]
        },
        {
          "metadata": {
            "tags": null
          },
          "name": "stdout",
          "output_type": "stream",
          "text": [
            "MoviePy - Done.\n",
            "Epoch: 1/10, Loss: 0.3234088122844696\n"
          ]
        },
        {
          "metadata": {
            "tags": null
          },
          "name": "stderr",
          "output_type": "stream",
          "text": [
            "\r"
          ]
        },
        {
          "metadata": {
            "tags": null
          },
          "name": "stdout",
          "output_type": "stream",
          "text": [
            "MoviePy - Writing audio in temp_audio.wav\n"
          ]
        },
        {
          "metadata": {
            "tags": null
          },
          "name": "stderr",
          "output_type": "stream",
          "text": [
            "                                                       "
          ]
        },
        {
          "metadata": {
            "tags": null
          },
          "name": "stdout",
          "output_type": "stream",
          "text": [
            "MoviePy - Done.\n",
            "Epoch: 1/10, Loss: 0.4484088122844696\n"
          ]
        },
        {
          "metadata": {
            "tags": null
          },
          "name": "stderr",
          "output_type": "stream",
          "text": [
            "\r"
          ]
        },
        {
          "metadata": {
            "tags": null
          },
          "name": "stdout",
          "output_type": "stream",
          "text": [
            "MoviePy - Writing audio in temp_audio.wav\n"
          ]
        },
        {
          "metadata": {
            "tags": null
          },
          "name": "stderr",
          "output_type": "stream",
          "text": [
            "                                                       "
          ]
        },
        {
          "metadata": {
            "tags": null
          },
          "name": "stdout",
          "output_type": "stream",
          "text": [
            "MoviePy - Done.\n",
            "Epoch: 1/10, Loss: 0.3234088122844696\n"
          ]
        },
        {
          "metadata": {
            "tags": null
          },
          "name": "stderr",
          "output_type": "stream",
          "text": [
            "\r"
          ]
        },
        {
          "metadata": {
            "tags": null
          },
          "name": "stdout",
          "output_type": "stream",
          "text": [
            "MoviePy - Writing audio in temp_audio.wav\n"
          ]
        },
        {
          "metadata": {
            "tags": null
          },
          "name": "stderr",
          "output_type": "stream",
          "text": [
            "                                                       "
          ]
        },
        {
          "metadata": {
            "tags": null
          },
          "name": "stdout",
          "output_type": "stream",
          "text": [
            "MoviePy - Done.\n",
            "Epoch: 1/10, Loss: 0.3234088122844696\n"
          ]
        },
        {
          "metadata": {
            "tags": null
          },
          "name": "stderr",
          "output_type": "stream",
          "text": [
            "\r"
          ]
        },
        {
          "metadata": {
            "tags": null
          },
          "name": "stdout",
          "output_type": "stream",
          "text": [
            "MoviePy - Writing audio in temp_audio.wav\n"
          ]
        },
        {
          "metadata": {
            "tags": null
          },
          "name": "stderr",
          "output_type": "stream",
          "text": [
            ""
          ]
        },
        {
          "metadata": {
            "tags": null
          },
          "name": "stdout",
          "output_type": "stream",
          "text": [
            "MoviePy - Done.\n",
            "Epoch: 1/10, Loss: 0.3234088122844696\n",
            "MoviePy - Writing audio in temp_audio.wav\n"
          ]
        },
        {
          "metadata": {
            "tags": null
          },
          "name": "stderr",
          "output_type": "stream",
          "text": [
            "                                                       "
          ]
        },
        {
          "metadata": {
            "tags": null
          },
          "name": "stdout",
          "output_type": "stream",
          "text": [
            "MoviePy - Done.\n",
            "Epoch: 1/10, Loss: 0.3234088122844696\n"
          ]
        },
        {
          "metadata": {
            "tags": null
          },
          "name": "stderr",
          "output_type": "stream",
          "text": [
            "\r"
          ]
        },
        {
          "metadata": {
            "tags": null
          },
          "name": "stdout",
          "output_type": "stream",
          "text": [
            "MoviePy - Writing audio in temp_audio.wav\n"
          ]
        },
        {
          "metadata": {
            "tags": null
          },
          "name": "stderr",
          "output_type": "stream",
          "text": [
            "                                                       "
          ]
        },
        {
          "metadata": {
            "tags": null
          },
          "name": "stdout",
          "output_type": "stream",
          "text": [
            "MoviePy - Done.\n",
            "Epoch: 1/10, Loss: 0.3234088122844696\n"
          ]
        },
        {
          "metadata": {
            "tags": null
          },
          "name": "stderr",
          "output_type": "stream",
          "text": [
            "\r"
          ]
        },
        {
          "metadata": {
            "tags": null
          },
          "name": "stdout",
          "output_type": "stream",
          "text": [
            "MoviePy - Writing audio in temp_audio.wav\n"
          ]
        },
        {
          "metadata": {
            "tags": null
          },
          "name": "stderr",
          "output_type": "stream",
          "text": [
            "                                                       "
          ]
        },
        {
          "metadata": {
            "tags": null
          },
          "name": "stdout",
          "output_type": "stream",
          "text": [
            "MoviePy - Done.\n",
            "Epoch: 1/10, Loss: 0.4484088122844696\n"
          ]
        },
        {
          "metadata": {
            "tags": null
          },
          "name": "stderr",
          "output_type": "stream",
          "text": [
            "\r"
          ]
        },
        {
          "metadata": {
            "tags": null
          },
          "name": "stdout",
          "output_type": "stream",
          "text": [
            "MoviePy - Writing audio in temp_audio.wav\n"
          ]
        },
        {
          "metadata": {
            "tags": null
          },
          "name": "stderr",
          "output_type": "stream",
          "text": [
            "                                                       "
          ]
        },
        {
          "metadata": {
            "tags": null
          },
          "name": "stdout",
          "output_type": "stream",
          "text": [
            "MoviePy - Done.\n",
            "Epoch: 1/10, Loss: 0.4484088122844696\n"
          ]
        },
        {
          "metadata": {
            "tags": null
          },
          "name": "stderr",
          "output_type": "stream",
          "text": [
            "\r"
          ]
        },
        {
          "metadata": {
            "tags": null
          },
          "name": "stdout",
          "output_type": "stream",
          "text": [
            "MoviePy - Writing audio in temp_audio.wav\n"
          ]
        },
        {
          "metadata": {
            "tags": null
          },
          "name": "stderr",
          "output_type": "stream",
          "text": [
            "                                                       "
          ]
        },
        {
          "metadata": {
            "tags": null
          },
          "name": "stdout",
          "output_type": "stream",
          "text": [
            "MoviePy - Done.\n",
            "Epoch: 1/10, Loss: 0.4484088122844696\n"
          ]
        },
        {
          "metadata": {
            "tags": null
          },
          "name": "stderr",
          "output_type": "stream",
          "text": [
            "\r"
          ]
        },
        {
          "metadata": {
            "tags": null
          },
          "name": "stdout",
          "output_type": "stream",
          "text": [
            "MoviePy - Writing audio in temp_audio.wav\n"
          ]
        },
        {
          "metadata": {
            "tags": null
          },
          "name": "stderr",
          "output_type": "stream",
          "text": [
            "                                                       "
          ]
        },
        {
          "metadata": {
            "tags": null
          },
          "name": "stdout",
          "output_type": "stream",
          "text": [
            "MoviePy - Done.\n",
            "Epoch: 1/10, Loss: 0.1984088271856308\n"
          ]
        },
        {
          "metadata": {
            "tags": null
          },
          "name": "stderr",
          "output_type": "stream",
          "text": [
            "\r"
          ]
        },
        {
          "metadata": {
            "tags": null
          },
          "name": "stdout",
          "output_type": "stream",
          "text": [
            "MoviePy - Writing audio in temp_audio.wav\n"
          ]
        },
        {
          "metadata": {
            "tags": null
          },
          "name": "stderr",
          "output_type": "stream",
          "text": [
            "                                                       "
          ]
        },
        {
          "metadata": {
            "tags": null
          },
          "name": "stdout",
          "output_type": "stream",
          "text": [
            "MoviePy - Done.\n",
            "Epoch: 1/10, Loss: 0.1984088271856308\n"
          ]
        },
        {
          "metadata": {
            "tags": null
          },
          "name": "stderr",
          "output_type": "stream",
          "text": [
            "\r"
          ]
        },
        {
          "metadata": {
            "tags": null
          },
          "name": "stdout",
          "output_type": "stream",
          "text": [
            "MoviePy - Writing audio in temp_audio.wav\n"
          ]
        },
        {
          "metadata": {
            "tags": null
          },
          "name": "stderr",
          "output_type": "stream",
          "text": [
            "                                                       "
          ]
        },
        {
          "metadata": {
            "tags": null
          },
          "name": "stdout",
          "output_type": "stream",
          "text": [
            "MoviePy - Done.\n",
            "Epoch: 1/10, Loss: 0.4484088122844696\n"
          ]
        },
        {
          "metadata": {
            "tags": null
          },
          "name": "stderr",
          "output_type": "stream",
          "text": [
            "\r"
          ]
        },
        {
          "metadata": {
            "tags": null
          },
          "name": "stdout",
          "output_type": "stream",
          "text": [
            "MoviePy - Writing audio in temp_audio.wav\n"
          ]
        },
        {
          "metadata": {
            "tags": null
          },
          "name": "stderr",
          "output_type": "stream",
          "text": [
            "                                                        "
          ]
        },
        {
          "metadata": {
            "tags": null
          },
          "name": "stdout",
          "output_type": "stream",
          "text": [
            "MoviePy - Done.\n",
            "Epoch: 1/10, Loss: 0.3234088122844696\n"
          ]
        },
        {
          "metadata": {
            "tags": null
          },
          "name": "stderr",
          "output_type": "stream",
          "text": [
            "\r"
          ]
        },
        {
          "metadata": {
            "tags": null
          },
          "name": "stdout",
          "output_type": "stream",
          "text": [
            "MoviePy - Writing audio in temp_audio.wav\n"
          ]
        },
        {
          "metadata": {
            "tags": null
          },
          "name": "stderr",
          "output_type": "stream",
          "text": [
            "                                                       "
          ]
        },
        {
          "metadata": {
            "tags": null
          },
          "name": "stdout",
          "output_type": "stream",
          "text": [
            "MoviePy - Done.\n",
            "Epoch: 1/10, Loss: 0.323408842086792\n"
          ]
        },
        {
          "metadata": {
            "tags": null
          },
          "name": "stderr",
          "output_type": "stream",
          "text": [
            "\r"
          ]
        },
        {
          "metadata": {
            "tags": null
          },
          "name": "stdout",
          "output_type": "stream",
          "text": [
            "MoviePy - Writing audio in temp_audio.wav\n"
          ]
        },
        {
          "metadata": {
            "tags": null
          },
          "name": "stderr",
          "output_type": "stream",
          "text": [
            "                                                       "
          ]
        },
        {
          "metadata": {
            "tags": null
          },
          "name": "stdout",
          "output_type": "stream",
          "text": [
            "MoviePy - Done.\n",
            "Epoch: 1/10, Loss: 0.1984088271856308\n"
          ]
        },
        {
          "metadata": {
            "tags": null
          },
          "name": "stderr",
          "output_type": "stream",
          "text": [
            "\r"
          ]
        },
        {
          "metadata": {
            "tags": null
          },
          "name": "stdout",
          "output_type": "stream",
          "text": [
            "MoviePy - Writing audio in temp_audio.wav\n"
          ]
        },
        {
          "metadata": {
            "tags": null
          },
          "name": "stderr",
          "output_type": "stream",
          "text": [
            "                                                       "
          ]
        },
        {
          "metadata": {
            "tags": null
          },
          "name": "stdout",
          "output_type": "stream",
          "text": [
            "MoviePy - Done.\n",
            "Epoch: 1/10, Loss: 0.3234088122844696\n"
          ]
        },
        {
          "metadata": {
            "tags": null
          },
          "name": "stderr",
          "output_type": "stream",
          "text": [
            "\r"
          ]
        },
        {
          "metadata": {
            "tags": null
          },
          "name": "stdout",
          "output_type": "stream",
          "text": [
            "MoviePy - Writing audio in temp_audio.wav\n"
          ]
        },
        {
          "metadata": {
            "tags": null
          },
          "name": "stderr",
          "output_type": "stream",
          "text": [
            "                                                       "
          ]
        },
        {
          "metadata": {
            "tags": null
          },
          "name": "stdout",
          "output_type": "stream",
          "text": [
            "MoviePy - Done.\n",
            "Epoch: 1/10, Loss: 0.1984088271856308\n"
          ]
        },
        {
          "metadata": {
            "tags": null
          },
          "name": "stderr",
          "output_type": "stream",
          "text": [
            "\r"
          ]
        },
        {
          "metadata": {
            "tags": null
          },
          "name": "stdout",
          "output_type": "stream",
          "text": [
            "MoviePy - Writing audio in temp_audio.wav\n"
          ]
        },
        {
          "metadata": {
            "tags": null
          },
          "name": "stderr",
          "output_type": "stream",
          "text": [
            "                                                       "
          ]
        },
        {
          "metadata": {
            "tags": null
          },
          "name": "stdout",
          "output_type": "stream",
          "text": [
            "MoviePy - Done.\n",
            "Epoch: 1/10, Loss: 0.4484088122844696\n"
          ]
        },
        {
          "metadata": {
            "tags": null
          },
          "name": "stderr",
          "output_type": "stream",
          "text": [
            "\r"
          ]
        },
        {
          "metadata": {
            "tags": null
          },
          "name": "stdout",
          "output_type": "stream",
          "text": [
            "MoviePy - Writing audio in temp_audio.wav\n"
          ]
        },
        {
          "metadata": {
            "tags": null
          },
          "name": "stderr",
          "output_type": "stream",
          "text": [
            "                                                       "
          ]
        },
        {
          "metadata": {
            "tags": null
          },
          "name": "stdout",
          "output_type": "stream",
          "text": [
            "MoviePy - Done.\n",
            "Epoch: 1/10, Loss: 0.4484088122844696\n"
          ]
        },
        {
          "metadata": {
            "tags": null
          },
          "name": "stderr",
          "output_type": "stream",
          "text": [
            "\r"
          ]
        },
        {
          "metadata": {
            "tags": null
          },
          "name": "stdout",
          "output_type": "stream",
          "text": [
            "MoviePy - Writing audio in temp_audio.wav\n"
          ]
        },
        {
          "metadata": {
            "tags": null
          },
          "name": "stderr",
          "output_type": "stream",
          "text": [
            "                                                       "
          ]
        },
        {
          "metadata": {
            "tags": null
          },
          "name": "stdout",
          "output_type": "stream",
          "text": [
            "MoviePy - Done.\n",
            "Epoch: 1/10, Loss: 0.3234088122844696\n"
          ]
        },
        {
          "metadata": {
            "tags": null
          },
          "name": "stderr",
          "output_type": "stream",
          "text": [
            "\r"
          ]
        },
        {
          "metadata": {
            "tags": null
          },
          "name": "stdout",
          "output_type": "stream",
          "text": [
            "MoviePy - Writing audio in temp_audio.wav\n"
          ]
        },
        {
          "metadata": {
            "tags": null
          },
          "name": "stderr",
          "output_type": "stream",
          "text": [
            "                                                       "
          ]
        },
        {
          "metadata": {
            "tags": null
          },
          "name": "stdout",
          "output_type": "stream",
          "text": [
            "MoviePy - Done.\n",
            "Epoch: 1/10, Loss: 0.3234088122844696\n"
          ]
        },
        {
          "metadata": {
            "tags": null
          },
          "name": "stderr",
          "output_type": "stream",
          "text": [
            "\r"
          ]
        },
        {
          "metadata": {
            "tags": null
          },
          "name": "stdout",
          "output_type": "stream",
          "text": [
            "MoviePy - Writing audio in temp_audio.wav\n"
          ]
        },
        {
          "metadata": {
            "tags": null
          },
          "name": "stderr",
          "output_type": "stream",
          "text": [
            "                                                       "
          ]
        },
        {
          "metadata": {
            "tags": null
          },
          "name": "stdout",
          "output_type": "stream",
          "text": [
            "MoviePy - Done.\n",
            "Epoch: 1/10, Loss: 0.3234088122844696\n"
          ]
        },
        {
          "metadata": {
            "tags": null
          },
          "name": "stderr",
          "output_type": "stream",
          "text": [
            "\r"
          ]
        },
        {
          "metadata": {
            "tags": null
          },
          "name": "stdout",
          "output_type": "stream",
          "text": [
            "MoviePy - Writing audio in temp_audio.wav\n"
          ]
        },
        {
          "metadata": {
            "tags": null
          },
          "name": "stderr",
          "output_type": "stream",
          "text": [
            "                                                       "
          ]
        },
        {
          "metadata": {
            "tags": null
          },
          "name": "stdout",
          "output_type": "stream",
          "text": [
            "MoviePy - Done.\n",
            "Epoch: 1/10, Loss: 0.3234088122844696\n"
          ]
        },
        {
          "metadata": {
            "tags": null
          },
          "name": "stderr",
          "output_type": "stream",
          "text": [
            "\r"
          ]
        },
        {
          "metadata": {
            "tags": null
          },
          "name": "stdout",
          "output_type": "stream",
          "text": [
            "MoviePy - Writing audio in temp_audio.wav\n"
          ]
        },
        {
          "metadata": {
            "tags": null
          },
          "name": "stderr",
          "output_type": "stream",
          "text": [
            "                                                       "
          ]
        },
        {
          "metadata": {
            "tags": null
          },
          "name": "stdout",
          "output_type": "stream",
          "text": [
            "MoviePy - Done.\n",
            "Epoch: 1/10, Loss: 0.323408842086792\n"
          ]
        },
        {
          "metadata": {
            "tags": null
          },
          "name": "stderr",
          "output_type": "stream",
          "text": [
            "\r"
          ]
        },
        {
          "metadata": {
            "tags": null
          },
          "name": "stdout",
          "output_type": "stream",
          "text": [
            "MoviePy - Writing audio in temp_audio.wav\n"
          ]
        },
        {
          "metadata": {
            "tags": null
          },
          "name": "stderr",
          "output_type": "stream",
          "text": [
            ""
          ]
        },
        {
          "metadata": {
            "tags": null
          },
          "name": "stdout",
          "output_type": "stream",
          "text": [
            "MoviePy - Done.\n",
            "Epoch: 1/10, Loss: 0.3234088122844696\n",
            "MoviePy - Writing audio in temp_audio.wav\n"
          ]
        },
        {
          "metadata": {
            "tags": null
          },
          "name": "stderr",
          "output_type": "stream",
          "text": [
            "                                                       "
          ]
        },
        {
          "metadata": {
            "tags": null
          },
          "name": "stdout",
          "output_type": "stream",
          "text": [
            "MoviePy - Done.\n",
            "Epoch: 1/10, Loss: 0.3234088122844696\n"
          ]
        },
        {
          "metadata": {
            "tags": null
          },
          "name": "stderr",
          "output_type": "stream",
          "text": [
            "\r"
          ]
        },
        {
          "metadata": {
            "tags": null
          },
          "name": "stdout",
          "output_type": "stream",
          "text": [
            "MoviePy - Writing audio in temp_audio.wav\n"
          ]
        },
        {
          "metadata": {
            "tags": null
          },
          "name": "stderr",
          "output_type": "stream",
          "text": [
            "                                                       "
          ]
        },
        {
          "metadata": {
            "tags": null
          },
          "name": "stdout",
          "output_type": "stream",
          "text": [
            "MoviePy - Done.\n",
            "Epoch: 1/10, Loss: 0.3234088122844696\n"
          ]
        },
        {
          "metadata": {
            "tags": null
          },
          "name": "stderr",
          "output_type": "stream",
          "text": [
            "\r"
          ]
        },
        {
          "metadata": {
            "tags": null
          },
          "name": "stdout",
          "output_type": "stream",
          "text": [
            "MoviePy - Writing audio in temp_audio.wav\n"
          ]
        },
        {
          "metadata": {
            "tags": null
          },
          "name": "stderr",
          "output_type": "stream",
          "text": [
            "                                                       "
          ]
        },
        {
          "metadata": {
            "tags": null
          },
          "name": "stdout",
          "output_type": "stream",
          "text": [
            "MoviePy - Done.\n",
            "Epoch: 1/10, Loss: 0.4484088122844696\n"
          ]
        },
        {
          "metadata": {
            "tags": null
          },
          "name": "stderr",
          "output_type": "stream",
          "text": [
            "\r"
          ]
        },
        {
          "metadata": {
            "tags": null
          },
          "name": "stdout",
          "output_type": "stream",
          "text": [
            "MoviePy - Writing audio in temp_audio.wav\n"
          ]
        },
        {
          "metadata": {
            "tags": null
          },
          "name": "stderr",
          "output_type": "stream",
          "text": [
            "                                                       "
          ]
        },
        {
          "metadata": {
            "tags": null
          },
          "name": "stdout",
          "output_type": "stream",
          "text": [
            "MoviePy - Done.\n",
            "Epoch: 1/10, Loss: 0.323408842086792\n"
          ]
        },
        {
          "metadata": {
            "tags": null
          },
          "name": "stderr",
          "output_type": "stream",
          "text": [
            "\r"
          ]
        },
        {
          "metadata": {
            "tags": null
          },
          "name": "stdout",
          "output_type": "stream",
          "text": [
            "MoviePy - Writing audio in temp_audio.wav\n"
          ]
        },
        {
          "metadata": {
            "tags": null
          },
          "name": "stderr",
          "output_type": "stream",
          "text": [
            "                                                       "
          ]
        },
        {
          "metadata": {
            "tags": null
          },
          "name": "stdout",
          "output_type": "stream",
          "text": [
            "MoviePy - Done.\n",
            "Epoch: 1/10, Loss: 0.4484088122844696\n"
          ]
        },
        {
          "metadata": {
            "tags": null
          },
          "name": "stderr",
          "output_type": "stream",
          "text": [
            "\r"
          ]
        },
        {
          "metadata": {
            "tags": null
          },
          "name": "stdout",
          "output_type": "stream",
          "text": [
            "MoviePy - Writing audio in temp_audio.wav\n"
          ]
        },
        {
          "metadata": {
            "tags": null
          },
          "name": "stderr",
          "output_type": "stream",
          "text": [
            "                                                       "
          ]
        },
        {
          "metadata": {
            "tags": null
          },
          "name": "stdout",
          "output_type": "stream",
          "text": [
            "MoviePy - Done.\n",
            "Epoch: 1/10, Loss: 0.4484088122844696\n"
          ]
        },
        {
          "metadata": {
            "tags": null
          },
          "name": "stderr",
          "output_type": "stream",
          "text": [
            "\r"
          ]
        },
        {
          "metadata": {
            "tags": null
          },
          "name": "stdout",
          "output_type": "stream",
          "text": [
            "MoviePy - Writing audio in temp_audio.wav\n"
          ]
        },
        {
          "metadata": {
            "tags": null
          },
          "name": "stderr",
          "output_type": "stream",
          "text": [
            "                                                       "
          ]
        },
        {
          "metadata": {
            "tags": null
          },
          "name": "stdout",
          "output_type": "stream",
          "text": [
            "MoviePy - Done.\n",
            "Epoch: 1/10, Loss: 0.3234088122844696\n"
          ]
        },
        {
          "metadata": {
            "tags": null
          },
          "name": "stderr",
          "output_type": "stream",
          "text": [
            "\r"
          ]
        },
        {
          "metadata": {
            "tags": null
          },
          "name": "stdout",
          "output_type": "stream",
          "text": [
            "MoviePy - Writing audio in temp_audio.wav\n"
          ]
        },
        {
          "metadata": {
            "tags": null
          },
          "name": "stderr",
          "output_type": "stream",
          "text": [
            "                                                       "
          ]
        },
        {
          "metadata": {
            "tags": null
          },
          "name": "stdout",
          "output_type": "stream",
          "text": [
            "MoviePy - Done.\n",
            "Epoch: 1/10, Loss: 0.3234088122844696\n"
          ]
        },
        {
          "metadata": {
            "tags": null
          },
          "name": "stderr",
          "output_type": "stream",
          "text": [
            "\r"
          ]
        },
        {
          "metadata": {
            "tags": null
          },
          "name": "stdout",
          "output_type": "stream",
          "text": [
            "MoviePy - Writing audio in temp_audio.wav\n"
          ]
        },
        {
          "metadata": {
            "tags": null
          },
          "name": "stderr",
          "output_type": "stream",
          "text": [
            "                                                       "
          ]
        },
        {
          "metadata": {
            "tags": null
          },
          "name": "stdout",
          "output_type": "stream",
          "text": [
            "MoviePy - Done.\n",
            "Epoch: 1/10, Loss: 0.4484088122844696\n"
          ]
        },
        {
          "metadata": {
            "tags": null
          },
          "name": "stderr",
          "output_type": "stream",
          "text": [
            "\r"
          ]
        },
        {
          "metadata": {
            "tags": null
          },
          "name": "stdout",
          "output_type": "stream",
          "text": [
            "MoviePy - Writing audio in temp_audio.wav\n"
          ]
        },
        {
          "metadata": {
            "tags": null
          },
          "name": "stderr",
          "output_type": "stream",
          "text": [
            "                                                       "
          ]
        },
        {
          "metadata": {
            "tags": null
          },
          "name": "stdout",
          "output_type": "stream",
          "text": [
            "MoviePy - Done.\n",
            "Epoch: 1/10, Loss: 0.3234088122844696\n"
          ]
        },
        {
          "metadata": {
            "tags": null
          },
          "name": "stderr",
          "output_type": "stream",
          "text": [
            "\r"
          ]
        },
        {
          "metadata": {
            "tags": null
          },
          "name": "stdout",
          "output_type": "stream",
          "text": [
            "MoviePy - Writing audio in temp_audio.wav\n"
          ]
        },
        {
          "metadata": {
            "tags": null
          },
          "name": "stderr",
          "output_type": "stream",
          "text": [
            "                                                       "
          ]
        },
        {
          "metadata": {
            "tags": null
          },
          "name": "stdout",
          "output_type": "stream",
          "text": [
            "MoviePy - Done.\n",
            "Epoch: 1/10, Loss: 0.323408842086792\n"
          ]
        },
        {
          "metadata": {
            "tags": null
          },
          "name": "stderr",
          "output_type": "stream",
          "text": [
            "\r"
          ]
        },
        {
          "metadata": {
            "tags": null
          },
          "name": "stdout",
          "output_type": "stream",
          "text": [
            "MoviePy - Writing audio in temp_audio.wav\n"
          ]
        },
        {
          "metadata": {
            "tags": null
          },
          "name": "stderr",
          "output_type": "stream",
          "text": [
            "                                                        "
          ]
        },
        {
          "metadata": {
            "tags": null
          },
          "name": "stdout",
          "output_type": "stream",
          "text": [
            "MoviePy - Done.\n",
            "Epoch: 1/10, Loss: 0.4484088122844696\n"
          ]
        },
        {
          "metadata": {
            "tags": null
          },
          "name": "stderr",
          "output_type": "stream",
          "text": [
            "\r"
          ]
        },
        {
          "metadata": {
            "tags": null
          },
          "name": "stdout",
          "output_type": "stream",
          "text": [
            "MoviePy - Writing audio in temp_audio.wav\n"
          ]
        },
        {
          "metadata": {
            "tags": null
          },
          "name": "stderr",
          "output_type": "stream",
          "text": [
            "                                                       "
          ]
        },
        {
          "metadata": {
            "tags": null
          },
          "name": "stdout",
          "output_type": "stream",
          "text": [
            "MoviePy - Done.\n",
            "Epoch: 1/10, Loss: 0.1984088271856308\n"
          ]
        },
        {
          "metadata": {
            "tags": null
          },
          "name": "stderr",
          "output_type": "stream",
          "text": [
            "\r"
          ]
        },
        {
          "metadata": {
            "tags": null
          },
          "name": "stdout",
          "output_type": "stream",
          "text": [
            "MoviePy - Writing audio in temp_audio.wav\n"
          ]
        },
        {
          "metadata": {
            "tags": null
          },
          "name": "stderr",
          "output_type": "stream",
          "text": [
            "                                                       "
          ]
        },
        {
          "metadata": {
            "tags": null
          },
          "name": "stdout",
          "output_type": "stream",
          "text": [
            "MoviePy - Done.\n",
            "Epoch: 1/10, Loss: 0.4484088122844696\n"
          ]
        },
        {
          "metadata": {
            "tags": null
          },
          "name": "stderr",
          "output_type": "stream",
          "text": [
            "\r"
          ]
        },
        {
          "metadata": {
            "tags": null
          },
          "name": "stdout",
          "output_type": "stream",
          "text": [
            "MoviePy - Writing audio in temp_audio.wav\n"
          ]
        },
        {
          "metadata": {
            "tags": null
          },
          "name": "stderr",
          "output_type": "stream",
          "text": [
            "                                                       "
          ]
        },
        {
          "metadata": {
            "tags": null
          },
          "name": "stdout",
          "output_type": "stream",
          "text": [
            "MoviePy - Done.\n",
            "Epoch: 1/10, Loss: 0.3234088122844696\n"
          ]
        },
        {
          "metadata": {
            "tags": null
          },
          "name": "stderr",
          "output_type": "stream",
          "text": [
            "\r"
          ]
        },
        {
          "metadata": {
            "tags": null
          },
          "name": "stdout",
          "output_type": "stream",
          "text": [
            "MoviePy - Writing audio in temp_audio.wav\n"
          ]
        },
        {
          "metadata": {
            "tags": null
          },
          "name": "stderr",
          "output_type": "stream",
          "text": [
            "                                                       "
          ]
        },
        {
          "metadata": {
            "tags": null
          },
          "name": "stdout",
          "output_type": "stream",
          "text": [
            "MoviePy - Done.\n",
            "Epoch: 1/10, Loss: 0.1984088271856308\n"
          ]
        },
        {
          "metadata": {
            "tags": null
          },
          "name": "stderr",
          "output_type": "stream",
          "text": [
            "\r"
          ]
        },
        {
          "metadata": {
            "tags": null
          },
          "name": "stdout",
          "output_type": "stream",
          "text": [
            "MoviePy - Writing audio in temp_audio.wav\n"
          ]
        },
        {
          "metadata": {
            "tags": null
          },
          "name": "stderr",
          "output_type": "stream",
          "text": [
            "                                                                 "
          ]
        },
        {
          "metadata": {
            "tags": null
          },
          "name": "stdout",
          "output_type": "stream",
          "text": [
            "MoviePy - Done.\n"
          ]
        },
        {
          "metadata": {
            "tags": null
          },
          "name": "stderr",
          "output_type": "stream",
          "text": [
            "\r"
          ]
        },
        {
          "metadata": {
            "tags": null
          },
          "name": "stdout",
          "output_type": "stream",
          "text": [
            "Epoch: 1/10, Loss: 0.3234088122844696\n",
            "MoviePy - Writing audio in temp_audio.wav\n"
          ]
        },
        {
          "metadata": {
            "tags": null
          },
          "name": "stderr",
          "output_type": "stream",
          "text": [
            "                                                       "
          ]
        },
        {
          "metadata": {
            "tags": null
          },
          "name": "stdout",
          "output_type": "stream",
          "text": [
            "MoviePy - Done.\n",
            "Epoch: 1/10, Loss: 0.4484088122844696\n"
          ]
        },
        {
          "metadata": {
            "tags": null
          },
          "name": "stderr",
          "output_type": "stream",
          "text": [
            "\r"
          ]
        },
        {
          "metadata": {
            "tags": null
          },
          "name": "stdout",
          "output_type": "stream",
          "text": [
            "MoviePy - Writing audio in temp_audio.wav\n"
          ]
        },
        {
          "metadata": {
            "tags": null
          },
          "name": "stderr",
          "output_type": "stream",
          "text": [
            "                                                       "
          ]
        },
        {
          "metadata": {
            "tags": null
          },
          "name": "stdout",
          "output_type": "stream",
          "text": [
            "MoviePy - Done.\n",
            "Epoch: 1/10, Loss: 0.4484088122844696\n"
          ]
        },
        {
          "metadata": {
            "tags": null
          },
          "name": "stderr",
          "output_type": "stream",
          "text": [
            "\r"
          ]
        },
        {
          "metadata": {
            "tags": null
          },
          "name": "stdout",
          "output_type": "stream",
          "text": [
            "MoviePy - Writing audio in temp_audio.wav\n"
          ]
        },
        {
          "metadata": {
            "tags": null
          },
          "name": "stderr",
          "output_type": "stream",
          "text": [
            "                                                       "
          ]
        },
        {
          "metadata": {
            "tags": null
          },
          "name": "stdout",
          "output_type": "stream",
          "text": [
            "MoviePy - Done.\n",
            "Epoch: 1/10, Loss: 0.323408842086792\n"
          ]
        },
        {
          "metadata": {
            "tags": null
          },
          "name": "stderr",
          "output_type": "stream",
          "text": [
            "\r"
          ]
        },
        {
          "metadata": {
            "tags": null
          },
          "name": "stdout",
          "output_type": "stream",
          "text": [
            "MoviePy - Writing audio in temp_audio.wav\n"
          ]
        },
        {
          "metadata": {
            "tags": null
          },
          "name": "stderr",
          "output_type": "stream",
          "text": [
            "                                                       "
          ]
        },
        {
          "metadata": {
            "tags": null
          },
          "name": "stdout",
          "output_type": "stream",
          "text": [
            "MoviePy - Done.\n",
            "Epoch: 1/10, Loss: 0.4484088122844696\n"
          ]
        },
        {
          "metadata": {
            "tags": null
          },
          "name": "stderr",
          "output_type": "stream",
          "text": [
            "\r"
          ]
        },
        {
          "metadata": {
            "tags": null
          },
          "name": "stdout",
          "output_type": "stream",
          "text": [
            "MoviePy - Writing audio in temp_audio.wav\n"
          ]
        },
        {
          "metadata": {
            "tags": null
          },
          "name": "stderr",
          "output_type": "stream",
          "text": [
            "                                                       "
          ]
        },
        {
          "metadata": {
            "tags": null
          },
          "name": "stdout",
          "output_type": "stream",
          "text": [
            "MoviePy - Done.\n",
            "Epoch: 1/10, Loss: 0.3234088122844696\n"
          ]
        },
        {
          "metadata": {
            "tags": null
          },
          "name": "stderr",
          "output_type": "stream",
          "text": [
            "\r"
          ]
        },
        {
          "metadata": {
            "tags": null
          },
          "name": "stdout",
          "output_type": "stream",
          "text": [
            "MoviePy - Writing audio in temp_audio.wav\n"
          ]
        },
        {
          "metadata": {
            "tags": null
          },
          "name": "stderr",
          "output_type": "stream",
          "text": [
            "                                                       "
          ]
        },
        {
          "metadata": {
            "tags": null
          },
          "name": "stdout",
          "output_type": "stream",
          "text": [
            "MoviePy - Done.\n",
            "Epoch: 1/10, Loss: 0.4484088122844696\n"
          ]
        },
        {
          "metadata": {
            "tags": null
          },
          "name": "stderr",
          "output_type": "stream",
          "text": [
            "\r"
          ]
        },
        {
          "metadata": {
            "tags": null
          },
          "name": "stdout",
          "output_type": "stream",
          "text": [
            "MoviePy - Writing audio in temp_audio.wav\n"
          ]
        },
        {
          "metadata": {
            "tags": null
          },
          "name": "stderr",
          "output_type": "stream",
          "text": [
            "                                                       "
          ]
        },
        {
          "metadata": {
            "tags": null
          },
          "name": "stdout",
          "output_type": "stream",
          "text": [
            "MoviePy - Done.\n",
            "Epoch: 1/10, Loss: 0.3234088122844696\n"
          ]
        },
        {
          "metadata": {
            "tags": null
          },
          "name": "stderr",
          "output_type": "stream",
          "text": [
            "\r"
          ]
        },
        {
          "metadata": {
            "tags": null
          },
          "name": "stdout",
          "output_type": "stream",
          "text": [
            "MoviePy - Writing audio in temp_audio.wav\n"
          ]
        },
        {
          "metadata": {
            "tags": null
          },
          "name": "stderr",
          "output_type": "stream",
          "text": [
            "                                                       "
          ]
        },
        {
          "metadata": {
            "tags": null
          },
          "name": "stdout",
          "output_type": "stream",
          "text": [
            "MoviePy - Done.\n",
            "Epoch: 1/10, Loss: 0.3234088122844696\n"
          ]
        },
        {
          "metadata": {
            "tags": null
          },
          "name": "stderr",
          "output_type": "stream",
          "text": [
            "\r"
          ]
        },
        {
          "metadata": {
            "tags": null
          },
          "name": "stdout",
          "output_type": "stream",
          "text": [
            "MoviePy - Writing audio in temp_audio.wav\n"
          ]
        },
        {
          "metadata": {
            "tags": null
          },
          "name": "stderr",
          "output_type": "stream",
          "text": [
            "                                                       "
          ]
        },
        {
          "metadata": {
            "tags": null
          },
          "name": "stdout",
          "output_type": "stream",
          "text": [
            "MoviePy - Done.\n",
            "Epoch: 1/10, Loss: 0.3234088122844696\n"
          ]
        },
        {
          "metadata": {
            "tags": null
          },
          "name": "stderr",
          "output_type": "stream",
          "text": [
            "\r"
          ]
        },
        {
          "metadata": {
            "tags": null
          },
          "name": "stdout",
          "output_type": "stream",
          "text": [
            "MoviePy - Writing audio in temp_audio.wav\n"
          ]
        },
        {
          "metadata": {
            "tags": null
          },
          "name": "stderr",
          "output_type": "stream",
          "text": [
            "                                                       "
          ]
        },
        {
          "metadata": {
            "tags": null
          },
          "name": "stdout",
          "output_type": "stream",
          "text": [
            "MoviePy - Done.\n",
            "Epoch: 1/10, Loss: 0.3234088122844696\n"
          ]
        },
        {
          "metadata": {
            "tags": null
          },
          "name": "stderr",
          "output_type": "stream",
          "text": [
            "\r"
          ]
        },
        {
          "metadata": {
            "tags": null
          },
          "name": "stdout",
          "output_type": "stream",
          "text": [
            "MoviePy - Writing audio in temp_audio.wav\n"
          ]
        },
        {
          "metadata": {
            "tags": null
          },
          "name": "stderr",
          "output_type": "stream",
          "text": [
            "                                                       "
          ]
        },
        {
          "metadata": {
            "tags": null
          },
          "name": "stdout",
          "output_type": "stream",
          "text": [
            "MoviePy - Done.\n",
            "Epoch: 1/10, Loss: 0.3234088122844696\n"
          ]
        },
        {
          "metadata": {
            "tags": null
          },
          "name": "stderr",
          "output_type": "stream",
          "text": [
            "\r"
          ]
        },
        {
          "metadata": {
            "tags": null
          },
          "name": "stdout",
          "output_type": "stream",
          "text": [
            "MoviePy - Writing audio in temp_audio.wav\n"
          ]
        },
        {
          "metadata": {
            "tags": null
          },
          "name": "stderr",
          "output_type": "stream",
          "text": [
            "                                                       "
          ]
        },
        {
          "metadata": {
            "tags": null
          },
          "name": "stdout",
          "output_type": "stream",
          "text": [
            "MoviePy - Done.\n",
            "Epoch: 1/10, Loss: 0.3234088122844696\n"
          ]
        },
        {
          "metadata": {
            "tags": null
          },
          "name": "stderr",
          "output_type": "stream",
          "text": [
            "\r"
          ]
        },
        {
          "metadata": {
            "tags": null
          },
          "name": "stdout",
          "output_type": "stream",
          "text": [
            "MoviePy - Writing audio in temp_audio.wav\n"
          ]
        },
        {
          "metadata": {
            "tags": null
          },
          "name": "stderr",
          "output_type": "stream",
          "text": [
            "                                                       "
          ]
        },
        {
          "metadata": {
            "tags": null
          },
          "name": "stdout",
          "output_type": "stream",
          "text": [
            "MoviePy - Done.\n",
            "Epoch: 1/10, Loss: 0.1984088271856308\n"
          ]
        },
        {
          "metadata": {
            "tags": null
          },
          "name": "stderr",
          "output_type": "stream",
          "text": [
            "\r"
          ]
        },
        {
          "metadata": {
            "tags": null
          },
          "name": "stdout",
          "output_type": "stream",
          "text": [
            "MoviePy - Writing audio in temp_audio.wav\n"
          ]
        },
        {
          "metadata": {
            "tags": null
          },
          "name": "stderr",
          "output_type": "stream",
          "text": [
            "                                                       "
          ]
        },
        {
          "metadata": {
            "tags": null
          },
          "name": "stdout",
          "output_type": "stream",
          "text": [
            "MoviePy - Done.\n",
            "Epoch: 1/10, Loss: 0.3234088122844696\n"
          ]
        },
        {
          "metadata": {
            "tags": null
          },
          "name": "stderr",
          "output_type": "stream",
          "text": [
            "\r"
          ]
        },
        {
          "metadata": {
            "tags": null
          },
          "name": "stdout",
          "output_type": "stream",
          "text": [
            "MoviePy - Writing audio in temp_audio.wav\n"
          ]
        },
        {
          "metadata": {
            "tags": null
          },
          "name": "stderr",
          "output_type": "stream",
          "text": [
            "                                                       "
          ]
        },
        {
          "metadata": {
            "tags": null
          },
          "name": "stdout",
          "output_type": "stream",
          "text": [
            "MoviePy - Done.\n",
            "Epoch: 1/10, Loss: 0.3234088122844696\n"
          ]
        },
        {
          "metadata": {
            "tags": null
          },
          "name": "stderr",
          "output_type": "stream",
          "text": [
            "\r"
          ]
        },
        {
          "metadata": {
            "tags": null
          },
          "name": "stdout",
          "output_type": "stream",
          "text": [
            "MoviePy - Writing audio in temp_audio.wav\n"
          ]
        },
        {
          "metadata": {
            "tags": null
          },
          "name": "stderr",
          "output_type": "stream",
          "text": [
            "                                                       "
          ]
        },
        {
          "metadata": {
            "tags": null
          },
          "name": "stdout",
          "output_type": "stream",
          "text": [
            "MoviePy - Done.\n",
            "Epoch: 1/10, Loss: 0.3234088122844696\n"
          ]
        },
        {
          "metadata": {
            "tags": null
          },
          "name": "stderr",
          "output_type": "stream",
          "text": [
            "\r"
          ]
        },
        {
          "metadata": {
            "tags": null
          },
          "name": "stdout",
          "output_type": "stream",
          "text": [
            "MoviePy - Writing audio in temp_audio.wav\n"
          ]
        },
        {
          "metadata": {
            "tags": null
          },
          "name": "stderr",
          "output_type": "stream",
          "text": [
            "                                                       "
          ]
        },
        {
          "metadata": {
            "tags": null
          },
          "name": "stdout",
          "output_type": "stream",
          "text": [
            "MoviePy - Done.\n",
            "Epoch: 1/10, Loss: 0.3234088122844696\n"
          ]
        },
        {
          "metadata": {
            "tags": null
          },
          "name": "stderr",
          "output_type": "stream",
          "text": [
            "\r"
          ]
        },
        {
          "metadata": {
            "tags": null
          },
          "name": "stdout",
          "output_type": "stream",
          "text": [
            "MoviePy - Writing audio in temp_audio.wav\n"
          ]
        },
        {
          "metadata": {
            "tags": null
          },
          "name": "stderr",
          "output_type": "stream",
          "text": [
            "                                                       "
          ]
        },
        {
          "metadata": {
            "tags": null
          },
          "name": "stdout",
          "output_type": "stream",
          "text": [
            "MoviePy - Done.\n",
            "Epoch: 1/10, Loss: 0.3234088122844696\n"
          ]
        },
        {
          "metadata": {
            "tags": null
          },
          "name": "stderr",
          "output_type": "stream",
          "text": [
            "\r"
          ]
        },
        {
          "metadata": {
            "tags": null
          },
          "name": "stdout",
          "output_type": "stream",
          "text": [
            "MoviePy - Writing audio in temp_audio.wav\n"
          ]
        },
        {
          "metadata": {
            "tags": null
          },
          "name": "stderr",
          "output_type": "stream",
          "text": [
            "                                                       "
          ]
        },
        {
          "metadata": {
            "tags": null
          },
          "name": "stdout",
          "output_type": "stream",
          "text": [
            "MoviePy - Done.\n",
            "Epoch: 1/10, Loss: 0.3234088122844696\n"
          ]
        },
        {
          "metadata": {
            "tags": null
          },
          "name": "stderr",
          "output_type": "stream",
          "text": [
            "\r"
          ]
        },
        {
          "metadata": {
            "tags": null
          },
          "name": "stdout",
          "output_type": "stream",
          "text": [
            "MoviePy - Writing audio in temp_audio.wav\n"
          ]
        },
        {
          "metadata": {
            "tags": null
          },
          "name": "stderr",
          "output_type": "stream",
          "text": [
            "                                                       "
          ]
        },
        {
          "metadata": {
            "tags": null
          },
          "name": "stdout",
          "output_type": "stream",
          "text": [
            "MoviePy - Done.\n",
            "Epoch: 1/10, Loss: 0.1984088271856308\n"
          ]
        },
        {
          "metadata": {
            "tags": null
          },
          "name": "stderr",
          "output_type": "stream",
          "text": [
            "\r"
          ]
        },
        {
          "metadata": {
            "tags": null
          },
          "name": "stdout",
          "output_type": "stream",
          "text": [
            "MoviePy - Writing audio in temp_audio.wav\n"
          ]
        },
        {
          "metadata": {
            "tags": null
          },
          "name": "stderr",
          "output_type": "stream",
          "text": [
            "                                                       "
          ]
        },
        {
          "metadata": {
            "tags": null
          },
          "name": "stdout",
          "output_type": "stream",
          "text": [
            "MoviePy - Done.\n",
            "Epoch: 1/10, Loss: 0.4484088122844696\n"
          ]
        },
        {
          "metadata": {
            "tags": null
          },
          "name": "stderr",
          "output_type": "stream",
          "text": [
            "\r"
          ]
        },
        {
          "metadata": {
            "tags": null
          },
          "name": "stdout",
          "output_type": "stream",
          "text": [
            "MoviePy - Writing audio in temp_audio.wav\n"
          ]
        },
        {
          "metadata": {
            "tags": null
          },
          "name": "stderr",
          "output_type": "stream",
          "text": [
            "                                                       "
          ]
        },
        {
          "metadata": {
            "tags": null
          },
          "name": "stdout",
          "output_type": "stream",
          "text": [
            "MoviePy - Done.\n",
            "Epoch: 1/10, Loss: 0.3234088122844696\n"
          ]
        },
        {
          "metadata": {
            "tags": null
          },
          "name": "stderr",
          "output_type": "stream",
          "text": [
            "\r"
          ]
        },
        {
          "metadata": {
            "tags": null
          },
          "name": "stdout",
          "output_type": "stream",
          "text": [
            "MoviePy - Writing audio in temp_audio.wav\n"
          ]
        },
        {
          "metadata": {
            "tags": null
          },
          "name": "stderr",
          "output_type": "stream",
          "text": [
            "                                                       "
          ]
        },
        {
          "metadata": {
            "tags": null
          },
          "name": "stdout",
          "output_type": "stream",
          "text": [
            "MoviePy - Done.\n",
            "Epoch: 1/10, Loss: 0.3234088122844696\n"
          ]
        },
        {
          "metadata": {
            "tags": null
          },
          "name": "stderr",
          "output_type": "stream",
          "text": [
            "\r"
          ]
        },
        {
          "metadata": {
            "tags": null
          },
          "name": "stdout",
          "output_type": "stream",
          "text": [
            "MoviePy - Writing audio in temp_audio.wav\n"
          ]
        },
        {
          "metadata": {
            "tags": null
          },
          "name": "stderr",
          "output_type": "stream",
          "text": [
            "                                                       "
          ]
        },
        {
          "metadata": {
            "tags": null
          },
          "name": "stdout",
          "output_type": "stream",
          "text": [
            "MoviePy - Done.\n",
            "Epoch: 1/10, Loss: 0.4484088122844696\n"
          ]
        },
        {
          "metadata": {
            "tags": null
          },
          "name": "stderr",
          "output_type": "stream",
          "text": [
            "\r"
          ]
        },
        {
          "metadata": {
            "tags": null
          },
          "name": "stdout",
          "output_type": "stream",
          "text": [
            "MoviePy - Writing audio in temp_audio.wav\n"
          ]
        },
        {
          "metadata": {
            "tags": null
          },
          "name": "stderr",
          "output_type": "stream",
          "text": [
            "                                                       "
          ]
        },
        {
          "metadata": {
            "tags": null
          },
          "name": "stdout",
          "output_type": "stream",
          "text": [
            "MoviePy - Done.\n",
            "Epoch: 1/10, Loss: 0.4484088122844696\n"
          ]
        },
        {
          "metadata": {
            "tags": null
          },
          "name": "stderr",
          "output_type": "stream",
          "text": [
            "\r"
          ]
        },
        {
          "metadata": {
            "tags": null
          },
          "name": "stdout",
          "output_type": "stream",
          "text": [
            "MoviePy - Writing audio in temp_audio.wav\n"
          ]
        },
        {
          "metadata": {
            "tags": null
          },
          "name": "stderr",
          "output_type": "stream",
          "text": [
            "                                                       "
          ]
        },
        {
          "metadata": {
            "tags": null
          },
          "name": "stdout",
          "output_type": "stream",
          "text": [
            "MoviePy - Done.\n",
            "Epoch: 1/10, Loss: 0.3234088122844696\n"
          ]
        },
        {
          "metadata": {
            "tags": null
          },
          "name": "stderr",
          "output_type": "stream",
          "text": [
            "\r"
          ]
        },
        {
          "metadata": {
            "tags": null
          },
          "name": "stdout",
          "output_type": "stream",
          "text": [
            "MoviePy - Writing audio in temp_audio.wav\n"
          ]
        },
        {
          "metadata": {
            "tags": null
          },
          "name": "stderr",
          "output_type": "stream",
          "text": [
            "                                                       "
          ]
        },
        {
          "metadata": {
            "tags": null
          },
          "name": "stdout",
          "output_type": "stream",
          "text": [
            "MoviePy - Done.\n",
            "Epoch: 1/10, Loss: 0.4484088122844696\n"
          ]
        },
        {
          "metadata": {
            "tags": null
          },
          "name": "stderr",
          "output_type": "stream",
          "text": [
            "\r"
          ]
        },
        {
          "metadata": {
            "tags": null
          },
          "name": "stdout",
          "output_type": "stream",
          "text": [
            "MoviePy - Writing audio in temp_audio.wav\n"
          ]
        },
        {
          "metadata": {
            "tags": null
          },
          "name": "stderr",
          "output_type": "stream",
          "text": [
            "                                                       "
          ]
        },
        {
          "metadata": {
            "tags": null
          },
          "name": "stdout",
          "output_type": "stream",
          "text": [
            "MoviePy - Done.\n",
            "Epoch: 1/10, Loss: 0.3234088122844696\n"
          ]
        },
        {
          "metadata": {
            "tags": null
          },
          "name": "stderr",
          "output_type": "stream",
          "text": [
            "\r"
          ]
        },
        {
          "metadata": {
            "tags": null
          },
          "name": "stdout",
          "output_type": "stream",
          "text": [
            "MoviePy - Writing audio in temp_audio.wav\n"
          ]
        },
        {
          "metadata": {
            "tags": null
          },
          "name": "stderr",
          "output_type": "stream",
          "text": [
            "                                                       "
          ]
        },
        {
          "metadata": {
            "tags": null
          },
          "name": "stdout",
          "output_type": "stream",
          "text": [
            "MoviePy - Done.\n",
            "Epoch: 1/10, Loss: 0.3234088122844696\n"
          ]
        },
        {
          "metadata": {
            "tags": null
          },
          "name": "stderr",
          "output_type": "stream",
          "text": [
            "\r"
          ]
        },
        {
          "metadata": {
            "tags": null
          },
          "name": "stdout",
          "output_type": "stream",
          "text": [
            "MoviePy - Writing audio in temp_audio.wav\n"
          ]
        },
        {
          "metadata": {
            "tags": null
          },
          "name": "stderr",
          "output_type": "stream",
          "text": [
            "                                                       "
          ]
        },
        {
          "metadata": {
            "tags": null
          },
          "name": "stdout",
          "output_type": "stream",
          "text": [
            "MoviePy - Done.\n",
            "Epoch: 1/10, Loss: 0.4484088122844696\n"
          ]
        },
        {
          "metadata": {
            "tags": null
          },
          "name": "stderr",
          "output_type": "stream",
          "text": [
            "\r"
          ]
        },
        {
          "metadata": {
            "tags": null
          },
          "name": "stdout",
          "output_type": "stream",
          "text": [
            "MoviePy - Writing audio in temp_audio.wav\n"
          ]
        },
        {
          "metadata": {
            "tags": null
          },
          "name": "stderr",
          "output_type": "stream",
          "text": [
            "                                                       "
          ]
        },
        {
          "metadata": {
            "tags": null
          },
          "name": "stdout",
          "output_type": "stream",
          "text": [
            "MoviePy - Done.\n",
            "Epoch: 1/10, Loss: 0.4484088122844696\n"
          ]
        },
        {
          "metadata": {
            "tags": null
          },
          "name": "stderr",
          "output_type": "stream",
          "text": [
            "\r"
          ]
        },
        {
          "metadata": {
            "tags": null
          },
          "name": "stdout",
          "output_type": "stream",
          "text": [
            "MoviePy - Writing audio in temp_audio.wav\n"
          ]
        },
        {
          "metadata": {
            "tags": null
          },
          "name": "stderr",
          "output_type": "stream",
          "text": [
            "                                                       "
          ]
        },
        {
          "metadata": {
            "tags": null
          },
          "name": "stdout",
          "output_type": "stream",
          "text": [
            "MoviePy - Done.\n",
            "Epoch: 1/10, Loss: 0.4484088122844696\n"
          ]
        },
        {
          "metadata": {
            "tags": null
          },
          "name": "stderr",
          "output_type": "stream",
          "text": [
            "\r"
          ]
        },
        {
          "metadata": {
            "tags": null
          },
          "name": "stdout",
          "output_type": "stream",
          "text": [
            "MoviePy - Writing audio in temp_audio.wav\n"
          ]
        },
        {
          "metadata": {
            "tags": null
          },
          "name": "stderr",
          "output_type": "stream",
          "text": [
            "                                                       "
          ]
        },
        {
          "metadata": {
            "tags": null
          },
          "name": "stdout",
          "output_type": "stream",
          "text": [
            "MoviePy - Done.\n",
            "Epoch: 1/10, Loss: 0.3234088122844696\n"
          ]
        },
        {
          "metadata": {
            "tags": null
          },
          "name": "stderr",
          "output_type": "stream",
          "text": [
            "\r"
          ]
        },
        {
          "metadata": {
            "tags": null
          },
          "name": "stdout",
          "output_type": "stream",
          "text": [
            "MoviePy - Writing audio in temp_audio.wav\n"
          ]
        },
        {
          "metadata": {
            "tags": null
          },
          "name": "stderr",
          "output_type": "stream",
          "text": [
            "                                                       "
          ]
        },
        {
          "metadata": {
            "tags": null
          },
          "name": "stdout",
          "output_type": "stream",
          "text": [
            "MoviePy - Done.\n",
            "Epoch: 1/10, Loss: 0.4484088122844696\n"
          ]
        },
        {
          "metadata": {
            "tags": null
          },
          "name": "stderr",
          "output_type": "stream",
          "text": [
            "\r"
          ]
        },
        {
          "metadata": {
            "tags": null
          },
          "name": "stdout",
          "output_type": "stream",
          "text": [
            "MoviePy - Writing audio in temp_audio.wav\n"
          ]
        },
        {
          "metadata": {
            "tags": null
          },
          "name": "stderr",
          "output_type": "stream",
          "text": [
            "                                                       "
          ]
        },
        {
          "metadata": {
            "tags": null
          },
          "name": "stdout",
          "output_type": "stream",
          "text": [
            "MoviePy - Done.\n",
            "Epoch: 1/10, Loss: 0.4484088122844696\n"
          ]
        },
        {
          "metadata": {
            "tags": null
          },
          "name": "stderr",
          "output_type": "stream",
          "text": [
            "\r"
          ]
        },
        {
          "metadata": {
            "tags": null
          },
          "name": "stdout",
          "output_type": "stream",
          "text": [
            "MoviePy - Writing audio in temp_audio.wav\n"
          ]
        },
        {
          "metadata": {
            "tags": null
          },
          "name": "stderr",
          "output_type": "stream",
          "text": [
            "                                                       "
          ]
        },
        {
          "metadata": {
            "tags": null
          },
          "name": "stdout",
          "output_type": "stream",
          "text": [
            "MoviePy - Done.\n",
            "Epoch: 1/10, Loss: 0.4484088122844696\n"
          ]
        },
        {
          "metadata": {
            "tags": null
          },
          "name": "stderr",
          "output_type": "stream",
          "text": [
            "\r"
          ]
        },
        {
          "metadata": {
            "tags": null
          },
          "name": "stdout",
          "output_type": "stream",
          "text": [
            "MoviePy - Writing audio in temp_audio.wav\n"
          ]
        },
        {
          "metadata": {
            "tags": null
          },
          "name": "stderr",
          "output_type": "stream",
          "text": [
            "                                                       "
          ]
        },
        {
          "metadata": {
            "tags": null
          },
          "name": "stdout",
          "output_type": "stream",
          "text": [
            "MoviePy - Done.\n",
            "Epoch: 1/10, Loss: 0.3234088122844696\n"
          ]
        },
        {
          "metadata": {
            "tags": null
          },
          "name": "stderr",
          "output_type": "stream",
          "text": [
            "\r"
          ]
        },
        {
          "metadata": {
            "tags": null
          },
          "name": "stdout",
          "output_type": "stream",
          "text": [
            "MoviePy - Writing audio in temp_audio.wav\n"
          ]
        },
        {
          "metadata": {
            "tags": null
          },
          "name": "stderr",
          "output_type": "stream",
          "text": [
            "                                                       "
          ]
        },
        {
          "metadata": {
            "tags": null
          },
          "name": "stdout",
          "output_type": "stream",
          "text": [
            "MoviePy - Done.\n",
            "Epoch: 1/10, Loss: 0.4484088122844696\n"
          ]
        },
        {
          "metadata": {
            "tags": null
          },
          "name": "stderr",
          "output_type": "stream",
          "text": [
            "\r"
          ]
        },
        {
          "metadata": {
            "tags": null
          },
          "name": "stdout",
          "output_type": "stream",
          "text": [
            "MoviePy - Writing audio in temp_audio.wav\n"
          ]
        },
        {
          "metadata": {
            "tags": null
          },
          "name": "stderr",
          "output_type": "stream",
          "text": [
            "                                                       "
          ]
        },
        {
          "metadata": {
            "tags": null
          },
          "name": "stdout",
          "output_type": "stream",
          "text": [
            "MoviePy - Done.\n",
            "Epoch: 1/10, Loss: 0.323408842086792\n"
          ]
        },
        {
          "metadata": {
            "tags": null
          },
          "name": "stderr",
          "output_type": "stream",
          "text": [
            "\r"
          ]
        },
        {
          "metadata": {
            "tags": null
          },
          "name": "stdout",
          "output_type": "stream",
          "text": [
            "MoviePy - Writing audio in temp_audio.wav\n"
          ]
        },
        {
          "metadata": {
            "tags": null
          },
          "name": "stderr",
          "output_type": "stream",
          "text": [
            "                                                       "
          ]
        },
        {
          "metadata": {
            "tags": null
          },
          "name": "stdout",
          "output_type": "stream",
          "text": [
            "MoviePy - Done.\n",
            "Epoch: 1/10, Loss: 0.4484088122844696\n"
          ]
        },
        {
          "metadata": {
            "tags": null
          },
          "name": "stderr",
          "output_type": "stream",
          "text": [
            "\r"
          ]
        },
        {
          "metadata": {
            "tags": null
          },
          "name": "stdout",
          "output_type": "stream",
          "text": [
            "MoviePy - Writing audio in temp_audio.wav\n"
          ]
        },
        {
          "metadata": {
            "tags": null
          },
          "name": "stderr",
          "output_type": "stream",
          "text": [
            "                                                       "
          ]
        },
        {
          "metadata": {
            "tags": null
          },
          "name": "stdout",
          "output_type": "stream",
          "text": [
            "MoviePy - Done.\n",
            "Epoch: 1/10, Loss: 0.3234088122844696\n"
          ]
        },
        {
          "metadata": {
            "tags": null
          },
          "name": "stderr",
          "output_type": "stream",
          "text": [
            "\r"
          ]
        },
        {
          "metadata": {
            "tags": null
          },
          "name": "stdout",
          "output_type": "stream",
          "text": [
            "MoviePy - Writing audio in temp_audio.wav\n"
          ]
        },
        {
          "metadata": {
            "tags": null
          },
          "name": "stderr",
          "output_type": "stream",
          "text": [
            "                                                       "
          ]
        },
        {
          "metadata": {
            "tags": null
          },
          "name": "stdout",
          "output_type": "stream",
          "text": [
            "MoviePy - Done.\n",
            "Epoch: 1/10, Loss: 0.4484088122844696\n"
          ]
        },
        {
          "metadata": {
            "tags": null
          },
          "name": "stderr",
          "output_type": "stream",
          "text": [
            "\r"
          ]
        },
        {
          "metadata": {
            "tags": null
          },
          "name": "stdout",
          "output_type": "stream",
          "text": [
            "MoviePy - Writing audio in temp_audio.wav\n"
          ]
        },
        {
          "metadata": {
            "tags": null
          },
          "name": "stderr",
          "output_type": "stream",
          "text": [
            "                                                       "
          ]
        },
        {
          "metadata": {
            "tags": null
          },
          "name": "stdout",
          "output_type": "stream",
          "text": [
            "MoviePy - Done.\n",
            "Epoch: 1/10, Loss: 0.323408842086792\n"
          ]
        },
        {
          "metadata": {
            "tags": null
          },
          "name": "stderr",
          "output_type": "stream",
          "text": [
            "\r"
          ]
        },
        {
          "metadata": {
            "tags": null
          },
          "name": "stdout",
          "output_type": "stream",
          "text": [
            "MoviePy - Writing audio in temp_audio.wav\n"
          ]
        },
        {
          "metadata": {
            "tags": null
          },
          "name": "stderr",
          "output_type": "stream",
          "text": [
            "                                                       "
          ]
        },
        {
          "metadata": {
            "tags": null
          },
          "name": "stdout",
          "output_type": "stream",
          "text": [
            "MoviePy - Done.\n",
            "Epoch: 1/10, Loss: 0.3234088122844696\n"
          ]
        },
        {
          "metadata": {
            "tags": null
          },
          "name": "stderr",
          "output_type": "stream",
          "text": [
            "\r"
          ]
        },
        {
          "metadata": {
            "tags": null
          },
          "name": "stdout",
          "output_type": "stream",
          "text": [
            "MoviePy - Writing audio in temp_audio.wav\n"
          ]
        },
        {
          "metadata": {
            "tags": null
          },
          "name": "stderr",
          "output_type": "stream",
          "text": [
            "                                                       "
          ]
        },
        {
          "metadata": {
            "tags": null
          },
          "name": "stdout",
          "output_type": "stream",
          "text": [
            "MoviePy - Done.\n",
            "Epoch: 1/10, Loss: 0.3234088122844696\n"
          ]
        },
        {
          "metadata": {
            "tags": null
          },
          "name": "stderr",
          "output_type": "stream",
          "text": [
            "\r"
          ]
        },
        {
          "metadata": {
            "tags": null
          },
          "name": "stdout",
          "output_type": "stream",
          "text": [
            "MoviePy - Writing audio in temp_audio.wav\n"
          ]
        },
        {
          "metadata": {
            "tags": null
          },
          "name": "stderr",
          "output_type": "stream",
          "text": [
            "                                                       "
          ]
        },
        {
          "metadata": {
            "tags": null
          },
          "name": "stdout",
          "output_type": "stream",
          "text": [
            "MoviePy - Done.\n",
            "Epoch: 1/10, Loss: 0.3234088122844696\n"
          ]
        },
        {
          "metadata": {
            "tags": null
          },
          "name": "stderr",
          "output_type": "stream",
          "text": [
            "\r"
          ]
        },
        {
          "metadata": {
            "tags": null
          },
          "name": "stdout",
          "output_type": "stream",
          "text": [
            "MoviePy - Writing audio in temp_audio.wav\n"
          ]
        },
        {
          "metadata": {
            "tags": null
          },
          "name": "stderr",
          "output_type": "stream",
          "text": [
            "                                                       "
          ]
        },
        {
          "metadata": {
            "tags": null
          },
          "name": "stdout",
          "output_type": "stream",
          "text": [
            "MoviePy - Done.\n",
            "Epoch: 1/10, Loss: 0.4484088122844696\n"
          ]
        },
        {
          "metadata": {
            "tags": null
          },
          "name": "stderr",
          "output_type": "stream",
          "text": [
            "\r"
          ]
        },
        {
          "metadata": {
            "tags": null
          },
          "name": "stdout",
          "output_type": "stream",
          "text": [
            "MoviePy - Writing audio in temp_audio.wav\n"
          ]
        },
        {
          "metadata": {
            "tags": null
          },
          "name": "stderr",
          "output_type": "stream",
          "text": [
            "                                                       "
          ]
        },
        {
          "metadata": {
            "tags": null
          },
          "name": "stdout",
          "output_type": "stream",
          "text": [
            "MoviePy - Done.\n",
            "Epoch: 1/10, Loss: 0.3234088122844696\n"
          ]
        },
        {
          "metadata": {
            "tags": null
          },
          "name": "stderr",
          "output_type": "stream",
          "text": [
            "\r"
          ]
        },
        {
          "metadata": {
            "tags": null
          },
          "name": "stdout",
          "output_type": "stream",
          "text": [
            "MoviePy - Writing audio in temp_audio.wav\n"
          ]
        },
        {
          "metadata": {
            "tags": null
          },
          "name": "stderr",
          "output_type": "stream",
          "text": [
            "                                                       "
          ]
        },
        {
          "metadata": {
            "tags": null
          },
          "name": "stdout",
          "output_type": "stream",
          "text": [
            "MoviePy - Done.\n",
            "Epoch: 1/10, Loss: 0.4484088122844696\n"
          ]
        },
        {
          "metadata": {
            "tags": null
          },
          "name": "stderr",
          "output_type": "stream",
          "text": [
            "\r"
          ]
        },
        {
          "metadata": {
            "tags": null
          },
          "name": "stdout",
          "output_type": "stream",
          "text": [
            "MoviePy - Writing audio in temp_audio.wav\n"
          ]
        },
        {
          "metadata": {
            "tags": null
          },
          "name": "stderr",
          "output_type": "stream",
          "text": [
            "                                                       "
          ]
        },
        {
          "metadata": {
            "tags": null
          },
          "name": "stdout",
          "output_type": "stream",
          "text": [
            "MoviePy - Done.\n",
            "Epoch: 1/10, Loss: 0.323408842086792\n"
          ]
        },
        {
          "metadata": {
            "tags": null
          },
          "name": "stderr",
          "output_type": "stream",
          "text": [
            "\r"
          ]
        },
        {
          "metadata": {
            "tags": null
          },
          "name": "stdout",
          "output_type": "stream",
          "text": [
            "MoviePy - Writing audio in temp_audio.wav\n"
          ]
        },
        {
          "metadata": {
            "tags": null
          },
          "name": "stderr",
          "output_type": "stream",
          "text": [
            "                                                       "
          ]
        },
        {
          "metadata": {
            "tags": null
          },
          "name": "stdout",
          "output_type": "stream",
          "text": [
            "MoviePy - Done.\n",
            "Epoch: 1/10, Loss: 0.4484088122844696\n"
          ]
        },
        {
          "metadata": {
            "tags": null
          },
          "name": "stderr",
          "output_type": "stream",
          "text": [
            "\r"
          ]
        },
        {
          "metadata": {
            "tags": null
          },
          "name": "stdout",
          "output_type": "stream",
          "text": [
            "MoviePy - Writing audio in temp_audio.wav\n"
          ]
        },
        {
          "metadata": {
            "tags": null
          },
          "name": "stderr",
          "output_type": "stream",
          "text": [
            "                                                       "
          ]
        },
        {
          "metadata": {
            "tags": null
          },
          "name": "stdout",
          "output_type": "stream",
          "text": [
            "MoviePy - Done.\n",
            "Epoch: 1/10, Loss: 0.3234088122844696\n"
          ]
        },
        {
          "metadata": {
            "tags": null
          },
          "name": "stderr",
          "output_type": "stream",
          "text": [
            "\r"
          ]
        },
        {
          "metadata": {
            "tags": null
          },
          "name": "stdout",
          "output_type": "stream",
          "text": [
            "MoviePy - Writing audio in temp_audio.wav\n"
          ]
        },
        {
          "metadata": {
            "tags": null
          },
          "name": "stderr",
          "output_type": "stream",
          "text": [
            "                                                       "
          ]
        },
        {
          "metadata": {
            "tags": null
          },
          "name": "stdout",
          "output_type": "stream",
          "text": [
            "MoviePy - Done.\n",
            "Epoch: 1/10, Loss: 0.4484088122844696\n"
          ]
        },
        {
          "metadata": {
            "tags": null
          },
          "name": "stderr",
          "output_type": "stream",
          "text": [
            "\r"
          ]
        },
        {
          "metadata": {
            "tags": null
          },
          "name": "stdout",
          "output_type": "stream",
          "text": [
            "MoviePy - Writing audio in temp_audio.wav\n"
          ]
        },
        {
          "metadata": {
            "tags": null
          },
          "name": "stderr",
          "output_type": "stream",
          "text": [
            "                                                       "
          ]
        },
        {
          "metadata": {
            "tags": null
          },
          "name": "stdout",
          "output_type": "stream",
          "text": [
            "MoviePy - Done.\n",
            "Epoch: 1/10, Loss: 0.4484088122844696\n"
          ]
        },
        {
          "metadata": {
            "tags": null
          },
          "name": "stderr",
          "output_type": "stream",
          "text": [
            "\r"
          ]
        },
        {
          "metadata": {
            "tags": null
          },
          "name": "stdout",
          "output_type": "stream",
          "text": [
            "MoviePy - Writing audio in temp_audio.wav\n"
          ]
        },
        {
          "metadata": {
            "tags": null
          },
          "name": "stderr",
          "output_type": "stream",
          "text": [
            "                                                       "
          ]
        },
        {
          "metadata": {
            "tags": null
          },
          "name": "stdout",
          "output_type": "stream",
          "text": [
            "MoviePy - Done.\n"
          ]
        },
        {
          "metadata": {
            "tags": null
          },
          "name": "stderr",
          "output_type": "stream",
          "text": [
            "\r"
          ]
        },
        {
          "metadata": {
            "tags": null
          },
          "name": "stdout",
          "output_type": "stream",
          "text": [
            "Epoch: 1/10, Loss: 0.3234088122844696\n",
            "MoviePy - Writing audio in temp_audio.wav\n"
          ]
        },
        {
          "metadata": {
            "tags": null
          },
          "name": "stderr",
          "output_type": "stream",
          "text": [
            "                                                       "
          ]
        },
        {
          "metadata": {
            "tags": null
          },
          "name": "stdout",
          "output_type": "stream",
          "text": [
            "MoviePy - Done.\n",
            "Epoch: 1/10, Loss: 0.3234088122844696\n"
          ]
        },
        {
          "metadata": {
            "tags": null
          },
          "name": "stderr",
          "output_type": "stream",
          "text": [
            "\r"
          ]
        },
        {
          "metadata": {
            "tags": null
          },
          "name": "stdout",
          "output_type": "stream",
          "text": [
            "MoviePy - Writing audio in temp_audio.wav\n"
          ]
        },
        {
          "metadata": {
            "tags": null
          },
          "name": "stderr",
          "output_type": "stream",
          "text": [
            "                                                       "
          ]
        },
        {
          "metadata": {
            "tags": null
          },
          "name": "stdout",
          "output_type": "stream",
          "text": [
            "MoviePy - Done.\n",
            "Epoch: 1/10, Loss: 0.3234088122844696\n"
          ]
        },
        {
          "metadata": {
            "tags": null
          },
          "name": "stderr",
          "output_type": "stream",
          "text": [
            "\r"
          ]
        },
        {
          "metadata": {
            "tags": null
          },
          "name": "stdout",
          "output_type": "stream",
          "text": [
            "MoviePy - Writing audio in temp_audio.wav\n"
          ]
        },
        {
          "metadata": {
            "tags": null
          },
          "name": "stderr",
          "output_type": "stream",
          "text": [
            "                                                       "
          ]
        },
        {
          "metadata": {
            "tags": null
          },
          "name": "stdout",
          "output_type": "stream",
          "text": [
            "MoviePy - Done.\n",
            "Epoch: 1/10, Loss: 0.4484088122844696\n"
          ]
        },
        {
          "metadata": {
            "tags": null
          },
          "name": "stderr",
          "output_type": "stream",
          "text": [
            "\r"
          ]
        },
        {
          "metadata": {
            "tags": null
          },
          "name": "stdout",
          "output_type": "stream",
          "text": [
            "MoviePy - Writing audio in temp_audio.wav\n"
          ]
        },
        {
          "metadata": {
            "tags": null
          },
          "name": "stderr",
          "output_type": "stream",
          "text": [
            "                                                       "
          ]
        },
        {
          "metadata": {
            "tags": null
          },
          "name": "stdout",
          "output_type": "stream",
          "text": [
            "MoviePy - Done.\n",
            "Epoch: 1/10, Loss: 0.4484088122844696\n"
          ]
        },
        {
          "metadata": {
            "tags": null
          },
          "name": "stderr",
          "output_type": "stream",
          "text": [
            "\r"
          ]
        },
        {
          "metadata": {
            "tags": null
          },
          "name": "stdout",
          "output_type": "stream",
          "text": [
            "MoviePy - Writing audio in temp_audio.wav\n"
          ]
        },
        {
          "metadata": {
            "tags": null
          },
          "name": "stderr",
          "output_type": "stream",
          "text": [
            "                                                       "
          ]
        },
        {
          "metadata": {
            "tags": null
          },
          "name": "stdout",
          "output_type": "stream",
          "text": [
            "MoviePy - Done.\n",
            "Epoch: 1/10, Loss: 0.4484088122844696\n"
          ]
        },
        {
          "metadata": {
            "tags": null
          },
          "name": "stderr",
          "output_type": "stream",
          "text": [
            "\r"
          ]
        },
        {
          "metadata": {
            "tags": null
          },
          "name": "stdout",
          "output_type": "stream",
          "text": [
            "MoviePy - Writing audio in temp_audio.wav\n"
          ]
        },
        {
          "metadata": {
            "tags": null
          },
          "name": "stderr",
          "output_type": "stream",
          "text": [
            "                                                       "
          ]
        },
        {
          "metadata": {
            "tags": null
          },
          "name": "stdout",
          "output_type": "stream",
          "text": [
            "MoviePy - Done.\n",
            "Epoch: 1/10, Loss: 0.4484088122844696\n"
          ]
        },
        {
          "metadata": {
            "tags": null
          },
          "name": "stderr",
          "output_type": "stream",
          "text": [
            "\r"
          ]
        },
        {
          "metadata": {
            "tags": null
          },
          "name": "stdout",
          "output_type": "stream",
          "text": [
            "MoviePy - Writing audio in temp_audio.wav\n"
          ]
        },
        {
          "metadata": {
            "tags": null
          },
          "name": "stderr",
          "output_type": "stream",
          "text": [
            "                                                       "
          ]
        },
        {
          "metadata": {
            "tags": null
          },
          "name": "stdout",
          "output_type": "stream",
          "text": [
            "MoviePy - Done.\n",
            "Epoch: 1/10, Loss: 0.3234088122844696\n"
          ]
        },
        {
          "metadata": {
            "tags": null
          },
          "name": "stderr",
          "output_type": "stream",
          "text": [
            "\r"
          ]
        },
        {
          "metadata": {
            "tags": null
          },
          "name": "stdout",
          "output_type": "stream",
          "text": [
            "MoviePy - Writing audio in temp_audio.wav\n"
          ]
        },
        {
          "metadata": {
            "tags": null
          },
          "name": "stderr",
          "output_type": "stream",
          "text": [
            ""
          ]
        },
        {
          "metadata": {
            "tags": null
          },
          "name": "stdout",
          "output_type": "stream",
          "text": [
            "MoviePy - Done.\n",
            "Epoch: 1/10, Loss: 0.3234088122844696\n",
            "MoviePy - Writing audio in temp_audio.wav\n"
          ]
        },
        {
          "metadata": {
            "tags": null
          },
          "name": "stderr",
          "output_type": "stream",
          "text": [
            "                                                       "
          ]
        },
        {
          "metadata": {
            "tags": null
          },
          "name": "stdout",
          "output_type": "stream",
          "text": [
            "MoviePy - Done.\n",
            "Epoch: 1/10, Loss: 0.4484088122844696\n"
          ]
        },
        {
          "metadata": {
            "tags": null
          },
          "name": "stderr",
          "output_type": "stream",
          "text": [
            "\r"
          ]
        },
        {
          "metadata": {
            "tags": null
          },
          "name": "stdout",
          "output_type": "stream",
          "text": [
            "MoviePy - Writing audio in temp_audio.wav\n"
          ]
        },
        {
          "metadata": {
            "tags": null
          },
          "name": "stderr",
          "output_type": "stream",
          "text": [
            "                                                       "
          ]
        },
        {
          "metadata": {
            "tags": null
          },
          "name": "stdout",
          "output_type": "stream",
          "text": [
            "MoviePy - Done.\n",
            "Epoch: 1/10, Loss: 0.4484088122844696\n"
          ]
        },
        {
          "metadata": {
            "tags": null
          },
          "name": "stderr",
          "output_type": "stream",
          "text": [
            "\r"
          ]
        },
        {
          "metadata": {
            "tags": null
          },
          "name": "stdout",
          "output_type": "stream",
          "text": [
            "MoviePy - Writing audio in temp_audio.wav\n"
          ]
        },
        {
          "metadata": {
            "tags": null
          },
          "name": "stderr",
          "output_type": "stream",
          "text": [
            "                                                       "
          ]
        },
        {
          "metadata": {
            "tags": null
          },
          "name": "stdout",
          "output_type": "stream",
          "text": [
            "MoviePy - Done.\n",
            "Epoch: 1/10, Loss: 0.3234088122844696\n"
          ]
        },
        {
          "metadata": {
            "tags": null
          },
          "name": "stderr",
          "output_type": "stream",
          "text": [
            "\r"
          ]
        },
        {
          "metadata": {
            "tags": null
          },
          "name": "stdout",
          "output_type": "stream",
          "text": [
            "MoviePy - Writing audio in temp_audio.wav\n"
          ]
        },
        {
          "metadata": {
            "tags": null
          },
          "name": "stderr",
          "output_type": "stream",
          "text": [
            "                                                       "
          ]
        },
        {
          "metadata": {
            "tags": null
          },
          "name": "stdout",
          "output_type": "stream",
          "text": [
            "MoviePy - Done.\n",
            "Epoch: 1/10, Loss: 0.3234088122844696\n"
          ]
        },
        {
          "metadata": {
            "tags": null
          },
          "name": "stderr",
          "output_type": "stream",
          "text": [
            "\r"
          ]
        },
        {
          "metadata": {
            "tags": null
          },
          "name": "stdout",
          "output_type": "stream",
          "text": [
            "MoviePy - Writing audio in temp_audio.wav\n"
          ]
        },
        {
          "metadata": {
            "tags": null
          },
          "name": "stderr",
          "output_type": "stream",
          "text": [
            "                                                       "
          ]
        },
        {
          "metadata": {
            "tags": null
          },
          "name": "stdout",
          "output_type": "stream",
          "text": [
            "MoviePy - Done.\n",
            "Epoch: 1/10, Loss: 0.4484088122844696\n"
          ]
        },
        {
          "metadata": {
            "tags": null
          },
          "name": "stderr",
          "output_type": "stream",
          "text": [
            "\r"
          ]
        },
        {
          "metadata": {
            "tags": null
          },
          "name": "stdout",
          "output_type": "stream",
          "text": [
            "MoviePy - Writing audio in temp_audio.wav\n"
          ]
        },
        {
          "metadata": {
            "tags": null
          },
          "name": "stderr",
          "output_type": "stream",
          "text": [
            "                                                       "
          ]
        },
        {
          "metadata": {
            "tags": null
          },
          "name": "stdout",
          "output_type": "stream",
          "text": [
            "MoviePy - Done.\n",
            "Epoch: 1/10, Loss: 0.4484088122844696\n"
          ]
        },
        {
          "metadata": {
            "tags": null
          },
          "name": "stderr",
          "output_type": "stream",
          "text": [
            "\r"
          ]
        },
        {
          "metadata": {
            "tags": null
          },
          "name": "stdout",
          "output_type": "stream",
          "text": [
            "MoviePy - Writing audio in temp_audio.wav\n"
          ]
        },
        {
          "metadata": {
            "tags": null
          },
          "name": "stderr",
          "output_type": "stream",
          "text": [
            "                                                       "
          ]
        },
        {
          "metadata": {
            "tags": null
          },
          "name": "stdout",
          "output_type": "stream",
          "text": [
            "MoviePy - Done.\n",
            "Epoch: 1/10, Loss: 0.4484088122844696\n"
          ]
        },
        {
          "metadata": {
            "tags": null
          },
          "name": "stderr",
          "output_type": "stream",
          "text": [
            "\r"
          ]
        },
        {
          "metadata": {
            "tags": null
          },
          "name": "stdout",
          "output_type": "stream",
          "text": [
            "MoviePy - Writing audio in temp_audio.wav\n"
          ]
        },
        {
          "metadata": {
            "tags": null
          },
          "name": "stderr",
          "output_type": "stream",
          "text": [
            "                                                       "
          ]
        },
        {
          "metadata": {
            "tags": null
          },
          "name": "stdout",
          "output_type": "stream",
          "text": [
            "MoviePy - Done.\n",
            "Epoch: 1/10, Loss: 0.4484088122844696\n"
          ]
        },
        {
          "metadata": {
            "tags": null
          },
          "name": "stderr",
          "output_type": "stream",
          "text": [
            "\r"
          ]
        },
        {
          "metadata": {
            "tags": null
          },
          "name": "stdout",
          "output_type": "stream",
          "text": [
            "MoviePy - Writing audio in temp_audio.wav\n"
          ]
        },
        {
          "metadata": {
            "tags": null
          },
          "name": "stderr",
          "output_type": "stream",
          "text": [
            "                                                       "
          ]
        },
        {
          "metadata": {
            "tags": null
          },
          "name": "stdout",
          "output_type": "stream",
          "text": [
            "MoviePy - Done.\n",
            "Epoch: 1/10, Loss: 0.3234088122844696\n"
          ]
        },
        {
          "metadata": {
            "tags": null
          },
          "name": "stderr",
          "output_type": "stream",
          "text": [
            "\r"
          ]
        },
        {
          "metadata": {
            "tags": null
          },
          "name": "stdout",
          "output_type": "stream",
          "text": [
            "MoviePy - Writing audio in temp_audio.wav\n"
          ]
        },
        {
          "metadata": {
            "tags": null
          },
          "name": "stderr",
          "output_type": "stream",
          "text": [
            "                                                       "
          ]
        },
        {
          "metadata": {
            "tags": null
          },
          "name": "stdout",
          "output_type": "stream",
          "text": [
            "MoviePy - Done.\n",
            "Epoch: 1/10, Loss: 0.3234088122844696\n"
          ]
        },
        {
          "metadata": {
            "tags": null
          },
          "name": "stderr",
          "output_type": "stream",
          "text": [
            "\r"
          ]
        },
        {
          "metadata": {
            "tags": null
          },
          "name": "stdout",
          "output_type": "stream",
          "text": [
            "MoviePy - Writing audio in temp_audio.wav\n"
          ]
        },
        {
          "metadata": {
            "tags": null
          },
          "name": "stderr",
          "output_type": "stream",
          "text": [
            "                                                       "
          ]
        },
        {
          "metadata": {
            "tags": null
          },
          "name": "stdout",
          "output_type": "stream",
          "text": [
            "MoviePy - Done.\n",
            "Epoch: 1/10, Loss: 0.3234088122844696\n"
          ]
        },
        {
          "metadata": {
            "tags": null
          },
          "name": "stderr",
          "output_type": "stream",
          "text": [
            "\r"
          ]
        },
        {
          "metadata": {
            "tags": null
          },
          "name": "stdout",
          "output_type": "stream",
          "text": [
            "MoviePy - Writing audio in temp_audio.wav\n"
          ]
        },
        {
          "metadata": {
            "tags": null
          },
          "name": "stderr",
          "output_type": "stream",
          "text": [
            "                                                       "
          ]
        },
        {
          "metadata": {
            "tags": null
          },
          "name": "stdout",
          "output_type": "stream",
          "text": [
            "MoviePy - Done.\n",
            "Epoch: 1/10, Loss: 0.4484088122844696\n"
          ]
        },
        {
          "metadata": {
            "tags": null
          },
          "name": "stderr",
          "output_type": "stream",
          "text": [
            "\r"
          ]
        },
        {
          "metadata": {
            "tags": null
          },
          "name": "stdout",
          "output_type": "stream",
          "text": [
            "MoviePy - Writing audio in temp_audio.wav\n"
          ]
        },
        {
          "metadata": {
            "tags": null
          },
          "name": "stderr",
          "output_type": "stream",
          "text": [
            "                                                       "
          ]
        },
        {
          "metadata": {
            "tags": null
          },
          "name": "stdout",
          "output_type": "stream",
          "text": [
            "MoviePy - Done.\n",
            "Epoch: 1/10, Loss: 0.3234088122844696\n"
          ]
        },
        {
          "metadata": {
            "tags": null
          },
          "name": "stderr",
          "output_type": "stream",
          "text": [
            "\r"
          ]
        },
        {
          "metadata": {
            "tags": null
          },
          "name": "stdout",
          "output_type": "stream",
          "text": [
            "MoviePy - Writing audio in temp_audio.wav\n"
          ]
        },
        {
          "metadata": {
            "tags": null
          },
          "name": "stderr",
          "output_type": "stream",
          "text": [
            "                                                       "
          ]
        },
        {
          "metadata": {
            "tags": null
          },
          "name": "stdout",
          "output_type": "stream",
          "text": [
            "MoviePy - Done.\n",
            "Epoch: 1/10, Loss: 0.4484088122844696\n"
          ]
        },
        {
          "metadata": {
            "tags": null
          },
          "name": "stderr",
          "output_type": "stream",
          "text": [
            "\r"
          ]
        },
        {
          "metadata": {
            "tags": null
          },
          "name": "stdout",
          "output_type": "stream",
          "text": [
            "MoviePy - Writing audio in temp_audio.wav\n"
          ]
        },
        {
          "metadata": {
            "tags": null
          },
          "name": "stderr",
          "output_type": "stream",
          "text": [
            "                                                       "
          ]
        },
        {
          "metadata": {
            "tags": null
          },
          "name": "stdout",
          "output_type": "stream",
          "text": [
            "MoviePy - Done.\n",
            "Epoch: 1/10, Loss: 0.4484088122844696\n"
          ]
        },
        {
          "metadata": {
            "tags": null
          },
          "name": "stderr",
          "output_type": "stream",
          "text": [
            "\r"
          ]
        },
        {
          "metadata": {
            "tags": null
          },
          "name": "stdout",
          "output_type": "stream",
          "text": [
            "MoviePy - Writing audio in temp_audio.wav\n"
          ]
        },
        {
          "metadata": {
            "tags": null
          },
          "name": "stderr",
          "output_type": "stream",
          "text": [
            "                                                       "
          ]
        },
        {
          "metadata": {
            "tags": null
          },
          "name": "stdout",
          "output_type": "stream",
          "text": [
            "MoviePy - Done.\n",
            "Epoch: 1/10, Loss: 0.323408842086792\n"
          ]
        },
        {
          "metadata": {
            "tags": null
          },
          "name": "stderr",
          "output_type": "stream",
          "text": [
            "\r"
          ]
        },
        {
          "metadata": {
            "tags": null
          },
          "name": "stdout",
          "output_type": "stream",
          "text": [
            "MoviePy - Writing audio in temp_audio.wav\n"
          ]
        },
        {
          "metadata": {
            "tags": null
          },
          "name": "stderr",
          "output_type": "stream",
          "text": [
            "                                                       "
          ]
        },
        {
          "metadata": {
            "tags": null
          },
          "name": "stdout",
          "output_type": "stream",
          "text": [
            "MoviePy - Done.\n",
            "Epoch: 1/10, Loss: 0.3234088122844696\n"
          ]
        },
        {
          "metadata": {
            "tags": null
          },
          "name": "stderr",
          "output_type": "stream",
          "text": [
            "\r"
          ]
        },
        {
          "metadata": {
            "tags": null
          },
          "name": "stdout",
          "output_type": "stream",
          "text": [
            "MoviePy - Writing audio in temp_audio.wav\n"
          ]
        },
        {
          "metadata": {
            "tags": null
          },
          "name": "stderr",
          "output_type": "stream",
          "text": [
            "                                                       "
          ]
        },
        {
          "metadata": {
            "tags": null
          },
          "name": "stdout",
          "output_type": "stream",
          "text": [
            "MoviePy - Done.\n",
            "Epoch: 1/10, Loss: 0.4484088122844696\n"
          ]
        },
        {
          "metadata": {
            "tags": null
          },
          "name": "stderr",
          "output_type": "stream",
          "text": [
            "\r"
          ]
        },
        {
          "metadata": {
            "tags": null
          },
          "name": "stdout",
          "output_type": "stream",
          "text": [
            "MoviePy - Writing audio in temp_audio.wav\n"
          ]
        },
        {
          "metadata": {
            "tags": null
          },
          "name": "stderr",
          "output_type": "stream",
          "text": [
            "                                                       "
          ]
        },
        {
          "metadata": {
            "tags": null
          },
          "name": "stdout",
          "output_type": "stream",
          "text": [
            "MoviePy - Done.\n",
            "Epoch: 1/10, Loss: 0.3234088122844696\n"
          ]
        },
        {
          "metadata": {
            "tags": null
          },
          "name": "stderr",
          "output_type": "stream",
          "text": [
            "\r"
          ]
        },
        {
          "metadata": {
            "tags": null
          },
          "name": "stdout",
          "output_type": "stream",
          "text": [
            "MoviePy - Writing audio in temp_audio.wav\n"
          ]
        },
        {
          "metadata": {
            "tags": null
          },
          "name": "stderr",
          "output_type": "stream",
          "text": [
            "                                                       "
          ]
        },
        {
          "metadata": {
            "tags": null
          },
          "name": "stdout",
          "output_type": "stream",
          "text": [
            "MoviePy - Done.\n"
          ]
        },
        {
          "metadata": {
            "tags": null
          },
          "name": "stderr",
          "output_type": "stream",
          "text": [
            "\r"
          ]
        },
        {
          "metadata": {
            "tags": null
          },
          "name": "stdout",
          "output_type": "stream",
          "text": [
            "Epoch: 1/10, Loss: 0.4484088122844696\n",
            "MoviePy - Writing audio in temp_audio.wav\n"
          ]
        },
        {
          "metadata": {
            "tags": null
          },
          "name": "stderr",
          "output_type": "stream",
          "text": [
            "                                                       "
          ]
        },
        {
          "metadata": {
            "tags": null
          },
          "name": "stdout",
          "output_type": "stream",
          "text": [
            "MoviePy - Done.\n",
            "Epoch: 1/10, Loss: 0.4484088122844696\n"
          ]
        },
        {
          "metadata": {
            "tags": null
          },
          "name": "stderr",
          "output_type": "stream",
          "text": [
            "\r"
          ]
        },
        {
          "metadata": {
            "tags": null
          },
          "name": "stdout",
          "output_type": "stream",
          "text": [
            "MoviePy - Writing audio in temp_audio.wav\n"
          ]
        },
        {
          "metadata": {
            "tags": null
          },
          "name": "stderr",
          "output_type": "stream",
          "text": [
            "                                                       "
          ]
        },
        {
          "metadata": {
            "tags": null
          },
          "name": "stdout",
          "output_type": "stream",
          "text": [
            "MoviePy - Done.\n",
            "Epoch: 1/10, Loss: 0.3234088122844696\n"
          ]
        },
        {
          "metadata": {
            "tags": null
          },
          "name": "stderr",
          "output_type": "stream",
          "text": [
            "\r"
          ]
        },
        {
          "metadata": {
            "tags": null
          },
          "name": "stdout",
          "output_type": "stream",
          "text": [
            "MoviePy - Writing audio in temp_audio.wav\n"
          ]
        },
        {
          "metadata": {
            "tags": null
          },
          "name": "stderr",
          "output_type": "stream",
          "text": [
            "                                                       "
          ]
        },
        {
          "metadata": {
            "tags": null
          },
          "name": "stdout",
          "output_type": "stream",
          "text": [
            "MoviePy - Done.\n",
            "Epoch: 1/10, Loss: 0.3234088122844696\n"
          ]
        },
        {
          "metadata": {
            "tags": null
          },
          "name": "stderr",
          "output_type": "stream",
          "text": [
            "\r"
          ]
        },
        {
          "metadata": {
            "tags": null
          },
          "name": "stdout",
          "output_type": "stream",
          "text": [
            "MoviePy - Writing audio in temp_audio.wav\n"
          ]
        },
        {
          "metadata": {
            "tags": null
          },
          "name": "stderr",
          "output_type": "stream",
          "text": [
            "                                                       "
          ]
        },
        {
          "metadata": {
            "tags": null
          },
          "name": "stdout",
          "output_type": "stream",
          "text": [
            "MoviePy - Done.\n",
            "Epoch: 1/10, Loss: 0.4484088122844696\n"
          ]
        },
        {
          "metadata": {
            "tags": null
          },
          "name": "stderr",
          "output_type": "stream",
          "text": [
            "\r"
          ]
        },
        {
          "metadata": {
            "tags": null
          },
          "name": "stdout",
          "output_type": "stream",
          "text": [
            "MoviePy - Writing audio in temp_audio.wav\n"
          ]
        },
        {
          "metadata": {
            "tags": null
          },
          "name": "stderr",
          "output_type": "stream",
          "text": [
            "                                                       "
          ]
        },
        {
          "metadata": {
            "tags": null
          },
          "name": "stdout",
          "output_type": "stream",
          "text": [
            "MoviePy - Done.\n",
            "Epoch: 1/10, Loss: 0.323408842086792\n"
          ]
        },
        {
          "metadata": {
            "tags": null
          },
          "name": "stderr",
          "output_type": "stream",
          "text": [
            "\r"
          ]
        },
        {
          "output_type": "stream",
          "name": "stdout",
          "text": [
            "MoviePy - Writing audio in temp_audio.wav\n"
          ]
        },
        {
          "output_type": "stream",
          "name": "stderr",
          "text": [
            "                                                       "
          ]
        },
        {
          "output_type": "stream",
          "name": "stdout",
          "text": [
            "MoviePy - Done.\n",
            "Epoch: 1/10, Loss: 0.4484088122844696\n"
          ]
        },
        {
          "output_type": "stream",
          "name": "stderr",
          "text": [
            "\r"
          ]
        },
        {
          "output_type": "stream",
          "name": "stdout",
          "text": [
            "MoviePy - Writing audio in temp_audio.wav\n"
          ]
        },
        {
          "output_type": "stream",
          "name": "stderr",
          "text": [
            "                                                       "
          ]
        },
        {
          "output_type": "stream",
          "name": "stdout",
          "text": [
            "MoviePy - Done.\n",
            "Epoch: 1/10, Loss: 0.3234088122844696\n"
          ]
        },
        {
          "output_type": "stream",
          "name": "stderr",
          "text": [
            "\r"
          ]
        },
        {
          "output_type": "stream",
          "name": "stdout",
          "text": [
            "MoviePy - Writing audio in temp_audio.wav\n"
          ]
        },
        {
          "output_type": "stream",
          "name": "stderr",
          "text": [
            "                                                       "
          ]
        },
        {
          "output_type": "stream",
          "name": "stdout",
          "text": [
            "MoviePy - Done.\n",
            "Epoch: 1/10, Loss: 0.4484088122844696\n"
          ]
        },
        {
          "output_type": "stream",
          "name": "stderr",
          "text": [
            "\r"
          ]
        },
        {
          "output_type": "stream",
          "name": "stdout",
          "text": [
            "MoviePy - Writing audio in temp_audio.wav\n"
          ]
        },
        {
          "output_type": "stream",
          "name": "stderr",
          "text": [
            "                                                       "
          ]
        },
        {
          "output_type": "stream",
          "name": "stdout",
          "text": [
            "MoviePy - Done.\n",
            "Epoch: 1/10, Loss: 0.4484088122844696\n"
          ]
        },
        {
          "output_type": "stream",
          "name": "stderr",
          "text": [
            "\r"
          ]
        },
        {
          "output_type": "stream",
          "name": "stdout",
          "text": [
            "MoviePy - Writing audio in temp_audio.wav\n"
          ]
        },
        {
          "output_type": "stream",
          "name": "stderr",
          "text": [
            "                                                       "
          ]
        },
        {
          "output_type": "stream",
          "name": "stdout",
          "text": [
            "MoviePy - Done.\n",
            "Epoch: 1/10, Loss: 0.3234088122844696\n"
          ]
        },
        {
          "output_type": "stream",
          "name": "stderr",
          "text": [
            "\r"
          ]
        },
        {
          "output_type": "stream",
          "name": "stdout",
          "text": [
            "MoviePy - Writing audio in temp_audio.wav\n"
          ]
        },
        {
          "output_type": "stream",
          "name": "stderr",
          "text": [
            "                                                       "
          ]
        },
        {
          "output_type": "stream",
          "name": "stdout",
          "text": [
            "MoviePy - Done.\n",
            "Epoch: 1/10, Loss: 0.3234088122844696\n"
          ]
        },
        {
          "output_type": "stream",
          "name": "stderr",
          "text": [
            "\r"
          ]
        },
        {
          "output_type": "stream",
          "name": "stdout",
          "text": [
            "MoviePy - Writing audio in temp_audio.wav\n"
          ]
        },
        {
          "output_type": "stream",
          "name": "stderr",
          "text": [
            "                                                       "
          ]
        },
        {
          "output_type": "stream",
          "name": "stdout",
          "text": [
            "MoviePy - Done.\n",
            "Epoch: 1/10, Loss: 0.3234088122844696\n"
          ]
        },
        {
          "output_type": "stream",
          "name": "stderr",
          "text": [
            "\r"
          ]
        },
        {
          "output_type": "stream",
          "name": "stdout",
          "text": [
            "MoviePy - Writing audio in temp_audio.wav\n"
          ]
        },
        {
          "output_type": "stream",
          "name": "stderr",
          "text": [
            "                                                       "
          ]
        },
        {
          "output_type": "stream",
          "name": "stdout",
          "text": [
            "MoviePy - Done.\n",
            "Epoch: 1/10, Loss: 0.3234088122844696\n"
          ]
        },
        {
          "output_type": "stream",
          "name": "stderr",
          "text": [
            "\r"
          ]
        },
        {
          "output_type": "stream",
          "name": "stdout",
          "text": [
            "MoviePy - Writing audio in temp_audio.wav\n"
          ]
        },
        {
          "output_type": "stream",
          "name": "stderr",
          "text": [
            "                                                       "
          ]
        },
        {
          "output_type": "stream",
          "name": "stdout",
          "text": [
            "MoviePy - Done.\n",
            "Epoch: 1/10, Loss: 0.1984088271856308\n"
          ]
        },
        {
          "output_type": "stream",
          "name": "stderr",
          "text": [
            "\r"
          ]
        },
        {
          "output_type": "stream",
          "name": "stdout",
          "text": [
            "MoviePy - Writing audio in temp_audio.wav\n"
          ]
        },
        {
          "output_type": "stream",
          "name": "stderr",
          "text": [
            "                                                       "
          ]
        },
        {
          "output_type": "stream",
          "name": "stdout",
          "text": [
            "MoviePy - Done.\n",
            "Epoch: 1/10, Loss: 0.3234088122844696\n"
          ]
        },
        {
          "output_type": "stream",
          "name": "stderr",
          "text": [
            "\r"
          ]
        },
        {
          "output_type": "stream",
          "name": "stdout",
          "text": [
            "MoviePy - Writing audio in temp_audio.wav\n"
          ]
        },
        {
          "output_type": "stream",
          "name": "stderr",
          "text": [
            "                                                       "
          ]
        },
        {
          "output_type": "stream",
          "name": "stdout",
          "text": [
            "MoviePy - Done.\n",
            "Epoch: 1/10, Loss: 0.4484088122844696\n"
          ]
        },
        {
          "output_type": "stream",
          "name": "stderr",
          "text": [
            "\r"
          ]
        },
        {
          "output_type": "stream",
          "name": "stdout",
          "text": [
            "MoviePy - Writing audio in temp_audio.wav\n"
          ]
        },
        {
          "output_type": "stream",
          "name": "stderr",
          "text": [
            "                                                       "
          ]
        },
        {
          "output_type": "stream",
          "name": "stdout",
          "text": [
            "MoviePy - Done.\n",
            "Epoch: 1/10, Loss: 0.3234088122844696\n"
          ]
        },
        {
          "output_type": "stream",
          "name": "stderr",
          "text": [
            "\r"
          ]
        },
        {
          "output_type": "stream",
          "name": "stdout",
          "text": [
            "MoviePy - Writing audio in temp_audio.wav\n"
          ]
        },
        {
          "output_type": "stream",
          "name": "stderr",
          "text": [
            "                                                       "
          ]
        },
        {
          "output_type": "stream",
          "name": "stdout",
          "text": [
            "MoviePy - Done.\n",
            "Epoch: 1/10, Loss: 0.4484088122844696\n"
          ]
        },
        {
          "output_type": "stream",
          "name": "stderr",
          "text": [
            "\r"
          ]
        },
        {
          "output_type": "stream",
          "name": "stdout",
          "text": [
            "MoviePy - Writing audio in temp_audio.wav\n"
          ]
        },
        {
          "output_type": "stream",
          "name": "stderr",
          "text": [
            "                                                       "
          ]
        },
        {
          "output_type": "stream",
          "name": "stdout",
          "text": [
            "MoviePy - Done.\n",
            "Epoch: 1/10, Loss: 0.3234088122844696\n"
          ]
        },
        {
          "output_type": "stream",
          "name": "stderr",
          "text": [
            "\r"
          ]
        },
        {
          "output_type": "stream",
          "name": "stdout",
          "text": [
            "MoviePy - Writing audio in temp_audio.wav\n"
          ]
        },
        {
          "output_type": "stream",
          "name": "stderr",
          "text": []
        },
        {
          "output_type": "stream",
          "name": "stdout",
          "text": [
            "MoviePy - Done.\n",
            "Epoch: 1/10, Loss: 0.4484088122844696\n",
            "MoviePy - Writing audio in temp_audio.wav\n"
          ]
        },
        {
          "output_type": "stream",
          "name": "stderr",
          "text": [
            "                                                       "
          ]
        },
        {
          "output_type": "stream",
          "name": "stdout",
          "text": [
            "MoviePy - Done.\n",
            "Epoch: 1/10, Loss: 0.4484088122844696\n"
          ]
        },
        {
          "output_type": "stream",
          "name": "stderr",
          "text": [
            "\r"
          ]
        },
        {
          "output_type": "stream",
          "name": "stdout",
          "text": [
            "MoviePy - Writing audio in temp_audio.wav\n"
          ]
        },
        {
          "output_type": "stream",
          "name": "stderr",
          "text": [
            "                                                       "
          ]
        },
        {
          "output_type": "stream",
          "name": "stdout",
          "text": [
            "MoviePy - Done.\n",
            "Epoch: 1/10, Loss: 0.4484088122844696\n"
          ]
        },
        {
          "output_type": "stream",
          "name": "stderr",
          "text": [
            "\r"
          ]
        },
        {
          "output_type": "stream",
          "name": "stdout",
          "text": [
            "MoviePy - Writing audio in temp_audio.wav\n"
          ]
        },
        {
          "output_type": "stream",
          "name": "stderr",
          "text": [
            "                                                       "
          ]
        },
        {
          "output_type": "stream",
          "name": "stdout",
          "text": [
            "MoviePy - Done.\n",
            "Epoch: 1/10, Loss: 0.3234088122844696\n"
          ]
        },
        {
          "output_type": "stream",
          "name": "stderr",
          "text": [
            "\r"
          ]
        },
        {
          "output_type": "stream",
          "name": "stdout",
          "text": [
            "MoviePy - Writing audio in temp_audio.wav\n"
          ]
        },
        {
          "output_type": "stream",
          "name": "stderr",
          "text": [
            "                                                       "
          ]
        },
        {
          "output_type": "stream",
          "name": "stdout",
          "text": [
            "MoviePy - Done.\n",
            "Epoch: 1/10, Loss: 0.3234088122844696\n"
          ]
        },
        {
          "output_type": "stream",
          "name": "stderr",
          "text": [
            "\r"
          ]
        },
        {
          "output_type": "stream",
          "name": "stdout",
          "text": [
            "MoviePy - Writing audio in temp_audio.wav\n"
          ]
        },
        {
          "output_type": "stream",
          "name": "stderr",
          "text": [
            "                                                       "
          ]
        },
        {
          "output_type": "stream",
          "name": "stdout",
          "text": [
            "MoviePy - Done.\n",
            "Epoch: 1/10, Loss: 0.3234088122844696\n"
          ]
        },
        {
          "output_type": "stream",
          "name": "stderr",
          "text": [
            "\r"
          ]
        },
        {
          "output_type": "stream",
          "name": "stdout",
          "text": [
            "MoviePy - Writing audio in temp_audio.wav\n"
          ]
        },
        {
          "output_type": "stream",
          "name": "stderr",
          "text": [
            "                                                       "
          ]
        },
        {
          "output_type": "stream",
          "name": "stdout",
          "text": [
            "MoviePy - Done.\n",
            "Epoch: 1/10, Loss: 0.3234088122844696\n"
          ]
        },
        {
          "output_type": "stream",
          "name": "stderr",
          "text": [
            "\r"
          ]
        },
        {
          "output_type": "stream",
          "name": "stdout",
          "text": [
            "MoviePy - Writing audio in temp_audio.wav\n"
          ]
        },
        {
          "output_type": "stream",
          "name": "stderr",
          "text": [
            "                                                       "
          ]
        },
        {
          "output_type": "stream",
          "name": "stdout",
          "text": [
            "MoviePy - Done.\n",
            "Epoch: 1/10, Loss: 0.4484088122844696\n"
          ]
        },
        {
          "output_type": "stream",
          "name": "stderr",
          "text": [
            "\r"
          ]
        },
        {
          "output_type": "stream",
          "name": "stdout",
          "text": [
            "MoviePy - Writing audio in temp_audio.wav\n"
          ]
        },
        {
          "output_type": "stream",
          "name": "stderr",
          "text": [
            "                                                       "
          ]
        },
        {
          "output_type": "stream",
          "name": "stdout",
          "text": [
            "MoviePy - Done.\n",
            "Epoch: 1/10, Loss: 0.1984088271856308\n"
          ]
        },
        {
          "output_type": "stream",
          "name": "stderr",
          "text": [
            "\r"
          ]
        },
        {
          "output_type": "stream",
          "name": "stdout",
          "text": [
            "MoviePy - Writing audio in temp_audio.wav\n"
          ]
        },
        {
          "output_type": "stream",
          "name": "stderr",
          "text": [
            "                                                       "
          ]
        },
        {
          "output_type": "stream",
          "name": "stdout",
          "text": [
            "MoviePy - Done.\n",
            "Epoch: 1/10, Loss: 0.4484088122844696\n"
          ]
        },
        {
          "output_type": "stream",
          "name": "stderr",
          "text": [
            "\r"
          ]
        },
        {
          "output_type": "stream",
          "name": "stdout",
          "text": [
            "MoviePy - Writing audio in temp_audio.wav\n"
          ]
        },
        {
          "output_type": "stream",
          "name": "stderr",
          "text": [
            "                                                       "
          ]
        },
        {
          "output_type": "stream",
          "name": "stdout",
          "text": [
            "MoviePy - Done.\n",
            "Epoch: 1/10, Loss: 0.3234088122844696\n"
          ]
        },
        {
          "output_type": "stream",
          "name": "stderr",
          "text": [
            "\r"
          ]
        },
        {
          "output_type": "stream",
          "name": "stdout",
          "text": [
            "MoviePy - Writing audio in temp_audio.wav\n"
          ]
        },
        {
          "output_type": "stream",
          "name": "stderr",
          "text": [
            "                                                       "
          ]
        },
        {
          "output_type": "stream",
          "name": "stdout",
          "text": [
            "MoviePy - Done.\n",
            "Epoch: 1/10, Loss: 0.3234088122844696\n"
          ]
        },
        {
          "output_type": "stream",
          "name": "stderr",
          "text": [
            "\r"
          ]
        },
        {
          "output_type": "stream",
          "name": "stdout",
          "text": [
            "MoviePy - Writing audio in temp_audio.wav\n"
          ]
        },
        {
          "output_type": "stream",
          "name": "stderr",
          "text": [
            "                                                       "
          ]
        },
        {
          "output_type": "stream",
          "name": "stdout",
          "text": [
            "MoviePy - Done.\n",
            "Epoch: 1/10, Loss: 0.4484088122844696\n"
          ]
        },
        {
          "output_type": "stream",
          "name": "stderr",
          "text": [
            "\r"
          ]
        },
        {
          "output_type": "stream",
          "name": "stdout",
          "text": [
            "MoviePy - Writing audio in temp_audio.wav\n"
          ]
        },
        {
          "output_type": "stream",
          "name": "stderr",
          "text": [
            "                                                       "
          ]
        },
        {
          "output_type": "stream",
          "name": "stdout",
          "text": [
            "MoviePy - Done.\n",
            "Epoch: 1/10, Loss: 0.3234088122844696\n"
          ]
        },
        {
          "output_type": "stream",
          "name": "stderr",
          "text": [
            "\r"
          ]
        },
        {
          "output_type": "stream",
          "name": "stdout",
          "text": [
            "MoviePy - Writing audio in temp_audio.wav\n"
          ]
        },
        {
          "output_type": "stream",
          "name": "stderr",
          "text": [
            "                                                       "
          ]
        },
        {
          "output_type": "stream",
          "name": "stdout",
          "text": [
            "MoviePy - Done.\n",
            "Epoch: 1/10, Loss: 0.3234088122844696\n"
          ]
        },
        {
          "output_type": "stream",
          "name": "stderr",
          "text": [
            "\r"
          ]
        },
        {
          "output_type": "stream",
          "name": "stdout",
          "text": [
            "MoviePy - Writing audio in temp_audio.wav\n"
          ]
        },
        {
          "output_type": "stream",
          "name": "stderr",
          "text": [
            "                                                       "
          ]
        },
        {
          "output_type": "stream",
          "name": "stdout",
          "text": [
            "MoviePy - Done.\n",
            "Epoch: 1/10, Loss: 0.3234088122844696\n"
          ]
        },
        {
          "output_type": "stream",
          "name": "stderr",
          "text": [
            "\r"
          ]
        },
        {
          "output_type": "stream",
          "name": "stdout",
          "text": [
            "MoviePy - Writing audio in temp_audio.wav\n"
          ]
        },
        {
          "output_type": "stream",
          "name": "stderr",
          "text": [
            "                                                       "
          ]
        },
        {
          "output_type": "stream",
          "name": "stdout",
          "text": [
            "MoviePy - Done.\n",
            "Epoch: 1/10, Loss: 0.3234088122844696\n"
          ]
        },
        {
          "output_type": "stream",
          "name": "stderr",
          "text": [
            "\r"
          ]
        },
        {
          "output_type": "stream",
          "name": "stdout",
          "text": [
            "MoviePy - Writing audio in temp_audio.wav\n"
          ]
        },
        {
          "output_type": "stream",
          "name": "stderr",
          "text": [
            "                                                       "
          ]
        },
        {
          "output_type": "stream",
          "name": "stdout",
          "text": [
            "MoviePy - Done.\n",
            "Epoch: 1/10, Loss: 0.3234088122844696\n"
          ]
        },
        {
          "output_type": "stream",
          "name": "stderr",
          "text": [
            "\r"
          ]
        },
        {
          "output_type": "stream",
          "name": "stdout",
          "text": [
            "MoviePy - Writing audio in temp_audio.wav\n"
          ]
        },
        {
          "output_type": "stream",
          "name": "stderr",
          "text": [
            "                                                       "
          ]
        },
        {
          "output_type": "stream",
          "name": "stdout",
          "text": [
            "MoviePy - Done.\n",
            "Epoch: 1/10, Loss: 0.3234088122844696\n"
          ]
        },
        {
          "output_type": "stream",
          "name": "stderr",
          "text": [
            "\r"
          ]
        },
        {
          "output_type": "stream",
          "name": "stdout",
          "text": [
            "MoviePy - Writing audio in temp_audio.wav\n"
          ]
        },
        {
          "output_type": "stream",
          "name": "stderr",
          "text": [
            "                                                       "
          ]
        },
        {
          "output_type": "stream",
          "name": "stdout",
          "text": [
            "MoviePy - Done.\n",
            "Epoch: 1/10, Loss: 0.4484088122844696\n"
          ]
        },
        {
          "output_type": "stream",
          "name": "stderr",
          "text": [
            "\r"
          ]
        },
        {
          "output_type": "stream",
          "name": "stdout",
          "text": [
            "MoviePy - Writing audio in temp_audio.wav\n"
          ]
        },
        {
          "output_type": "stream",
          "name": "stderr",
          "text": []
        },
        {
          "output_type": "stream",
          "name": "stdout",
          "text": [
            "MoviePy - Done.\n",
            "Epoch: 1/10, Loss: 0.323408842086792\n",
            "MoviePy - Writing audio in temp_audio.wav\n"
          ]
        },
        {
          "output_type": "stream",
          "name": "stderr",
          "text": [
            "                                                       "
          ]
        },
        {
          "output_type": "stream",
          "name": "stdout",
          "text": [
            "MoviePy - Done.\n",
            "Epoch: 1/10, Loss: 0.4484088122844696\n"
          ]
        },
        {
          "output_type": "stream",
          "name": "stderr",
          "text": [
            "\r"
          ]
        },
        {
          "output_type": "stream",
          "name": "stdout",
          "text": [
            "MoviePy - Writing audio in temp_audio.wav\n"
          ]
        },
        {
          "output_type": "stream",
          "name": "stderr",
          "text": [
            "                                                       "
          ]
        },
        {
          "output_type": "stream",
          "name": "stdout",
          "text": [
            "MoviePy - Done.\n",
            "Epoch: 1/10, Loss: 0.1984088271856308\n"
          ]
        },
        {
          "output_type": "stream",
          "name": "stderr",
          "text": [
            "\r"
          ]
        },
        {
          "output_type": "stream",
          "name": "stdout",
          "text": [
            "MoviePy - Writing audio in temp_audio.wav\n"
          ]
        },
        {
          "output_type": "stream",
          "name": "stderr",
          "text": [
            "                                                       "
          ]
        },
        {
          "output_type": "stream",
          "name": "stdout",
          "text": [
            "MoviePy - Done.\n",
            "Epoch: 1/10, Loss: 0.3234088122844696\n"
          ]
        },
        {
          "output_type": "stream",
          "name": "stderr",
          "text": [
            "\r"
          ]
        },
        {
          "output_type": "stream",
          "name": "stdout",
          "text": [
            "MoviePy - Writing audio in temp_audio.wav\n"
          ]
        },
        {
          "output_type": "stream",
          "name": "stderr",
          "text": [
            "                                                       "
          ]
        },
        {
          "output_type": "stream",
          "name": "stdout",
          "text": [
            "MoviePy - Done.\n",
            "Epoch: 1/10, Loss: 0.4484088122844696\n"
          ]
        },
        {
          "output_type": "stream",
          "name": "stderr",
          "text": [
            "\r"
          ]
        },
        {
          "output_type": "stream",
          "name": "stdout",
          "text": [
            "MoviePy - Writing audio in temp_audio.wav\n"
          ]
        },
        {
          "output_type": "stream",
          "name": "stderr",
          "text": [
            "                                                       "
          ]
        },
        {
          "output_type": "stream",
          "name": "stdout",
          "text": [
            "MoviePy - Done.\n",
            "Epoch: 1/10, Loss: 0.3234088122844696\n"
          ]
        },
        {
          "output_type": "stream",
          "name": "stderr",
          "text": [
            "\r"
          ]
        },
        {
          "output_type": "stream",
          "name": "stdout",
          "text": [
            "MoviePy - Writing audio in temp_audio.wav\n"
          ]
        },
        {
          "output_type": "stream",
          "name": "stderr",
          "text": [
            "                                                       "
          ]
        },
        {
          "output_type": "stream",
          "name": "stdout",
          "text": [
            "MoviePy - Done.\n",
            "Epoch: 1/10, Loss: 0.3234088122844696\n"
          ]
        },
        {
          "output_type": "stream",
          "name": "stderr",
          "text": [
            "\r"
          ]
        },
        {
          "output_type": "stream",
          "name": "stdout",
          "text": [
            "MoviePy - Writing audio in temp_audio.wav\n"
          ]
        },
        {
          "output_type": "stream",
          "name": "stderr",
          "text": [
            "                                                       "
          ]
        },
        {
          "output_type": "stream",
          "name": "stdout",
          "text": [
            "MoviePy - Done.\n",
            "Epoch: 1/10, Loss: 0.3234088122844696\n"
          ]
        },
        {
          "output_type": "stream",
          "name": "stderr",
          "text": [
            "\r"
          ]
        },
        {
          "output_type": "stream",
          "name": "stdout",
          "text": [
            "MoviePy - Writing audio in temp_audio.wav\n"
          ]
        },
        {
          "output_type": "stream",
          "name": "stderr",
          "text": [
            "                                                       "
          ]
        },
        {
          "output_type": "stream",
          "name": "stdout",
          "text": [
            "MoviePy - Done.\n",
            "Epoch: 1/10, Loss: 0.4484088122844696\n"
          ]
        },
        {
          "output_type": "stream",
          "name": "stderr",
          "text": [
            "\r"
          ]
        },
        {
          "output_type": "stream",
          "name": "stdout",
          "text": [
            "MoviePy - Writing audio in temp_audio.wav\n"
          ]
        },
        {
          "output_type": "stream",
          "name": "stderr",
          "text": [
            "                                                       "
          ]
        },
        {
          "output_type": "stream",
          "name": "stdout",
          "text": [
            "MoviePy - Done.\n",
            "Epoch: 1/10, Loss: 0.3234088122844696\n"
          ]
        },
        {
          "output_type": "stream",
          "name": "stderr",
          "text": [
            "\r"
          ]
        },
        {
          "output_type": "stream",
          "name": "stdout",
          "text": [
            "MoviePy - Writing audio in temp_audio.wav\n"
          ]
        },
        {
          "output_type": "stream",
          "name": "stderr",
          "text": [
            "                                                       "
          ]
        },
        {
          "output_type": "stream",
          "name": "stdout",
          "text": [
            "MoviePy - Done.\n",
            "Epoch: 1/10, Loss: 0.4484088122844696\n"
          ]
        },
        {
          "output_type": "stream",
          "name": "stderr",
          "text": [
            "\r"
          ]
        },
        {
          "output_type": "stream",
          "name": "stdout",
          "text": [
            "MoviePy - Writing audio in temp_audio.wav\n"
          ]
        },
        {
          "output_type": "stream",
          "name": "stderr",
          "text": [
            "                                                       "
          ]
        },
        {
          "output_type": "stream",
          "name": "stdout",
          "text": [
            "MoviePy - Done.\n",
            "Epoch: 1/10, Loss: 0.4484088122844696\n"
          ]
        },
        {
          "output_type": "stream",
          "name": "stderr",
          "text": [
            "\r"
          ]
        },
        {
          "output_type": "stream",
          "name": "stdout",
          "text": [
            "MoviePy - Writing audio in temp_audio.wav\n"
          ]
        },
        {
          "output_type": "stream",
          "name": "stderr",
          "text": [
            "                                                        "
          ]
        },
        {
          "output_type": "stream",
          "name": "stdout",
          "text": [
            "MoviePy - Done.\n",
            "Epoch: 1/10, Loss: 0.4484088122844696\n"
          ]
        },
        {
          "output_type": "stream",
          "name": "stderr",
          "text": [
            "\r"
          ]
        },
        {
          "output_type": "stream",
          "name": "stdout",
          "text": [
            "MoviePy - Writing audio in temp_audio.wav\n"
          ]
        },
        {
          "output_type": "stream",
          "name": "stderr",
          "text": [
            "                                                       "
          ]
        },
        {
          "output_type": "stream",
          "name": "stdout",
          "text": [
            "MoviePy - Done.\n",
            "Epoch: 1/10, Loss: 0.3234088122844696\n"
          ]
        },
        {
          "output_type": "stream",
          "name": "stderr",
          "text": [
            "\r"
          ]
        },
        {
          "output_type": "stream",
          "name": "stdout",
          "text": [
            "MoviePy - Writing audio in temp_audio.wav\n"
          ]
        },
        {
          "output_type": "stream",
          "name": "stderr",
          "text": [
            "                                                       "
          ]
        },
        {
          "output_type": "stream",
          "name": "stdout",
          "text": [
            "MoviePy - Done.\n",
            "Epoch: 1/10, Loss: 0.3234088122844696\n"
          ]
        },
        {
          "output_type": "stream",
          "name": "stderr",
          "text": [
            "\r"
          ]
        },
        {
          "output_type": "stream",
          "name": "stdout",
          "text": [
            "MoviePy - Writing audio in temp_audio.wav\n"
          ]
        },
        {
          "output_type": "stream",
          "name": "stderr",
          "text": [
            "                                                       "
          ]
        },
        {
          "output_type": "stream",
          "name": "stdout",
          "text": [
            "MoviePy - Done.\n",
            "Epoch: 1/10, Loss: 0.4484088122844696\n"
          ]
        },
        {
          "output_type": "stream",
          "name": "stderr",
          "text": [
            "\r"
          ]
        },
        {
          "output_type": "stream",
          "name": "stdout",
          "text": [
            "MoviePy - Writing audio in temp_audio.wav\n"
          ]
        },
        {
          "output_type": "stream",
          "name": "stderr",
          "text": [
            "                                                       "
          ]
        },
        {
          "output_type": "stream",
          "name": "stdout",
          "text": [
            "MoviePy - Done.\n",
            "Epoch: 1/10, Loss: 0.3234088122844696\n"
          ]
        },
        {
          "output_type": "stream",
          "name": "stderr",
          "text": [
            "\r"
          ]
        },
        {
          "output_type": "stream",
          "name": "stdout",
          "text": [
            "MoviePy - Writing audio in temp_audio.wav\n"
          ]
        },
        {
          "output_type": "stream",
          "name": "stderr",
          "text": [
            "                                                       "
          ]
        },
        {
          "output_type": "stream",
          "name": "stdout",
          "text": [
            "MoviePy - Done.\n",
            "Epoch: 1/10, Loss: 0.3234088122844696\n"
          ]
        },
        {
          "output_type": "stream",
          "name": "stderr",
          "text": [
            "\r"
          ]
        },
        {
          "output_type": "stream",
          "name": "stdout",
          "text": [
            "MoviePy - Writing audio in temp_audio.wav\n"
          ]
        },
        {
          "output_type": "stream",
          "name": "stderr",
          "text": [
            "                                                       "
          ]
        },
        {
          "output_type": "stream",
          "name": "stdout",
          "text": [
            "MoviePy - Done.\n",
            "Epoch: 1/10, Loss: 0.3234088122844696\n"
          ]
        },
        {
          "output_type": "stream",
          "name": "stderr",
          "text": [
            "\r"
          ]
        },
        {
          "output_type": "stream",
          "name": "stdout",
          "text": [
            "MoviePy - Writing audio in temp_audio.wav\n"
          ]
        },
        {
          "output_type": "stream",
          "name": "stderr",
          "text": [
            "                                                                 "
          ]
        },
        {
          "output_type": "stream",
          "name": "stdout",
          "text": [
            "MoviePy - Done.\n",
            "Epoch: 1/10, Loss: 0.3234088122844696\n"
          ]
        },
        {
          "output_type": "stream",
          "name": "stderr",
          "text": [
            "\r"
          ]
        },
        {
          "output_type": "stream",
          "name": "stdout",
          "text": [
            "MoviePy - Writing audio in temp_audio.wav\n"
          ]
        },
        {
          "output_type": "stream",
          "name": "stderr",
          "text": []
        },
        {
          "output_type": "stream",
          "name": "stdout",
          "text": [
            "MoviePy - Done.\n",
            "Epoch: 1/10, Loss: 0.4484088122844696\n",
            "MoviePy - Writing audio in temp_audio.wav\n"
          ]
        },
        {
          "output_type": "stream",
          "name": "stderr",
          "text": [
            "                                                       "
          ]
        },
        {
          "output_type": "stream",
          "name": "stdout",
          "text": [
            "MoviePy - Done.\n",
            "Epoch: 1/10, Loss: 0.3234088122844696\n"
          ]
        },
        {
          "output_type": "stream",
          "name": "stderr",
          "text": [
            "\r"
          ]
        },
        {
          "output_type": "stream",
          "name": "stdout",
          "text": [
            "MoviePy - Writing audio in temp_audio.wav\n"
          ]
        },
        {
          "output_type": "stream",
          "name": "stderr",
          "text": [
            "                                                       "
          ]
        },
        {
          "output_type": "stream",
          "name": "stdout",
          "text": [
            "MoviePy - Done.\n",
            "Epoch: 1/10, Loss: 0.3234088122844696\n"
          ]
        },
        {
          "output_type": "stream",
          "name": "stderr",
          "text": [
            "\r"
          ]
        },
        {
          "output_type": "stream",
          "name": "stdout",
          "text": [
            "MoviePy - Writing audio in temp_audio.wav\n"
          ]
        },
        {
          "output_type": "stream",
          "name": "stderr",
          "text": [
            "                                                       "
          ]
        },
        {
          "output_type": "stream",
          "name": "stdout",
          "text": [
            "MoviePy - Done.\n",
            "Epoch: 1/10, Loss: 0.4484088122844696\n"
          ]
        },
        {
          "output_type": "stream",
          "name": "stderr",
          "text": [
            "\r"
          ]
        },
        {
          "output_type": "stream",
          "name": "stdout",
          "text": [
            "MoviePy - Writing audio in temp_audio.wav\n"
          ]
        },
        {
          "output_type": "stream",
          "name": "stderr",
          "text": [
            "                                                       "
          ]
        },
        {
          "output_type": "stream",
          "name": "stdout",
          "text": [
            "MoviePy - Done.\n",
            "Epoch: 1/10, Loss: 0.4484088122844696\n"
          ]
        },
        {
          "output_type": "stream",
          "name": "stderr",
          "text": [
            "\r"
          ]
        },
        {
          "output_type": "stream",
          "name": "stdout",
          "text": [
            "MoviePy - Writing audio in temp_audio.wav\n"
          ]
        },
        {
          "output_type": "stream",
          "name": "stderr",
          "text": [
            "                                                       "
          ]
        },
        {
          "output_type": "stream",
          "name": "stdout",
          "text": [
            "MoviePy - Done.\n",
            "Epoch: 1/10, Loss: 0.4484088122844696\n"
          ]
        },
        {
          "output_type": "stream",
          "name": "stderr",
          "text": [
            "\r"
          ]
        },
        {
          "output_type": "stream",
          "name": "stdout",
          "text": [
            "MoviePy - Writing audio in temp_audio.wav\n"
          ]
        },
        {
          "output_type": "stream",
          "name": "stderr",
          "text": [
            "                                                       "
          ]
        },
        {
          "output_type": "stream",
          "name": "stdout",
          "text": [
            "MoviePy - Done.\n",
            "Epoch: 1/10, Loss: 0.1984088271856308\n"
          ]
        },
        {
          "output_type": "stream",
          "name": "stderr",
          "text": [
            "\r"
          ]
        },
        {
          "output_type": "stream",
          "name": "stdout",
          "text": [
            "MoviePy - Writing audio in temp_audio.wav\n"
          ]
        },
        {
          "output_type": "stream",
          "name": "stderr",
          "text": [
            "                                                       "
          ]
        },
        {
          "output_type": "stream",
          "name": "stdout",
          "text": [
            "MoviePy - Done.\n",
            "Epoch: 1/10, Loss: 0.3234088122844696\n"
          ]
        },
        {
          "output_type": "stream",
          "name": "stderr",
          "text": [
            "\r"
          ]
        },
        {
          "output_type": "stream",
          "name": "stdout",
          "text": [
            "MoviePy - Writing audio in temp_audio.wav\n"
          ]
        },
        {
          "output_type": "stream",
          "name": "stderr",
          "text": [
            "                                                       "
          ]
        },
        {
          "output_type": "stream",
          "name": "stdout",
          "text": [
            "MoviePy - Done.\n",
            "Epoch: 1/10, Loss: 0.3234088122844696\n"
          ]
        },
        {
          "output_type": "stream",
          "name": "stderr",
          "text": [
            "\r"
          ]
        },
        {
          "output_type": "stream",
          "name": "stdout",
          "text": [
            "MoviePy - Writing audio in temp_audio.wav\n"
          ]
        },
        {
          "output_type": "stream",
          "name": "stderr",
          "text": [
            "                                                       "
          ]
        },
        {
          "output_type": "stream",
          "name": "stdout",
          "text": [
            "MoviePy - Done.\n",
            "Epoch: 1/10, Loss: 0.3234088122844696\n"
          ]
        },
        {
          "output_type": "stream",
          "name": "stderr",
          "text": [
            "\r"
          ]
        },
        {
          "output_type": "stream",
          "name": "stdout",
          "text": [
            "MoviePy - Writing audio in temp_audio.wav\n"
          ]
        },
        {
          "output_type": "stream",
          "name": "stderr",
          "text": [
            "                                                       "
          ]
        },
        {
          "output_type": "stream",
          "name": "stdout",
          "text": [
            "MoviePy - Done.\n",
            "Epoch: 1/10, Loss: 0.3234088122844696\n"
          ]
        },
        {
          "output_type": "stream",
          "name": "stderr",
          "text": [
            "\r"
          ]
        },
        {
          "output_type": "stream",
          "name": "stdout",
          "text": [
            "MoviePy - Writing audio in temp_audio.wav\n"
          ]
        },
        {
          "output_type": "stream",
          "name": "stderr",
          "text": [
            "                                                       "
          ]
        },
        {
          "output_type": "stream",
          "name": "stdout",
          "text": [
            "MoviePy - Done.\n",
            "Epoch: 1/10, Loss: 0.3234088122844696\n"
          ]
        },
        {
          "output_type": "stream",
          "name": "stderr",
          "text": [
            "\r"
          ]
        },
        {
          "output_type": "stream",
          "name": "stdout",
          "text": [
            "MoviePy - Writing audio in temp_audio.wav\n"
          ]
        },
        {
          "output_type": "stream",
          "name": "stderr",
          "text": [
            "                                                       "
          ]
        },
        {
          "output_type": "stream",
          "name": "stdout",
          "text": [
            "MoviePy - Done.\n",
            "Epoch: 1/10, Loss: 0.3234088122844696\n"
          ]
        },
        {
          "output_type": "stream",
          "name": "stderr",
          "text": [
            "\r"
          ]
        },
        {
          "output_type": "stream",
          "name": "stdout",
          "text": [
            "MoviePy - Writing audio in temp_audio.wav\n"
          ]
        },
        {
          "output_type": "stream",
          "name": "stderr",
          "text": [
            "                                                       "
          ]
        },
        {
          "output_type": "stream",
          "name": "stdout",
          "text": [
            "MoviePy - Done.\n",
            "Epoch: 1/10, Loss: 0.3234088122844696\n"
          ]
        },
        {
          "output_type": "stream",
          "name": "stderr",
          "text": [
            "\r"
          ]
        },
        {
          "output_type": "stream",
          "name": "stdout",
          "text": [
            "MoviePy - Writing audio in temp_audio.wav\n"
          ]
        },
        {
          "output_type": "stream",
          "name": "stderr",
          "text": [
            "                                                       "
          ]
        },
        {
          "output_type": "stream",
          "name": "stdout",
          "text": [
            "MoviePy - Done.\n",
            "Epoch: 1/10, Loss: 0.4484088122844696\n"
          ]
        },
        {
          "output_type": "stream",
          "name": "stderr",
          "text": [
            "\r"
          ]
        },
        {
          "output_type": "stream",
          "name": "stdout",
          "text": [
            "MoviePy - Writing audio in temp_audio.wav\n"
          ]
        },
        {
          "output_type": "stream",
          "name": "stderr",
          "text": [
            "                                                       "
          ]
        },
        {
          "output_type": "stream",
          "name": "stdout",
          "text": [
            "MoviePy - Done.\n",
            "Epoch: 1/10, Loss: 0.3234088122844696\n"
          ]
        },
        {
          "output_type": "stream",
          "name": "stderr",
          "text": [
            "\r"
          ]
        },
        {
          "output_type": "stream",
          "name": "stdout",
          "text": [
            "MoviePy - Writing audio in temp_audio.wav\n"
          ]
        },
        {
          "output_type": "stream",
          "name": "stderr",
          "text": [
            "                                                       "
          ]
        },
        {
          "output_type": "stream",
          "name": "stdout",
          "text": [
            "MoviePy - Done.\n",
            "Epoch: 1/10, Loss: 0.4484088122844696\n"
          ]
        },
        {
          "output_type": "stream",
          "name": "stderr",
          "text": [
            "\r"
          ]
        },
        {
          "output_type": "stream",
          "name": "stdout",
          "text": [
            "MoviePy - Writing audio in temp_audio.wav\n"
          ]
        },
        {
          "output_type": "stream",
          "name": "stderr",
          "text": [
            "                                                       "
          ]
        },
        {
          "output_type": "stream",
          "name": "stdout",
          "text": [
            "MoviePy - Done.\n",
            "Epoch: 1/10, Loss: 0.1984088271856308\n"
          ]
        },
        {
          "output_type": "stream",
          "name": "stderr",
          "text": [
            "\r"
          ]
        },
        {
          "output_type": "stream",
          "name": "stdout",
          "text": [
            "MoviePy - Writing audio in temp_audio.wav\n"
          ]
        },
        {
          "output_type": "stream",
          "name": "stderr",
          "text": [
            "                                                       "
          ]
        },
        {
          "output_type": "stream",
          "name": "stdout",
          "text": [
            "MoviePy - Done.\n",
            "Epoch: 1/10, Loss: 0.3234088122844696\n"
          ]
        },
        {
          "output_type": "stream",
          "name": "stderr",
          "text": [
            "\r"
          ]
        },
        {
          "output_type": "stream",
          "name": "stdout",
          "text": [
            "MoviePy - Writing audio in temp_audio.wav\n"
          ]
        },
        {
          "output_type": "stream",
          "name": "stderr",
          "text": [
            "                                                       "
          ]
        },
        {
          "output_type": "stream",
          "name": "stdout",
          "text": [
            "MoviePy - Done.\n",
            "Epoch: 1/10, Loss: 0.4484088122844696\n"
          ]
        },
        {
          "output_type": "stream",
          "name": "stderr",
          "text": [
            "\r"
          ]
        },
        {
          "output_type": "stream",
          "name": "stdout",
          "text": [
            "MoviePy - Writing audio in temp_audio.wav\n"
          ]
        },
        {
          "output_type": "stream",
          "name": "stderr",
          "text": []
        },
        {
          "output_type": "stream",
          "name": "stdout",
          "text": [
            "MoviePy - Done.\n",
            "Epoch: 1/10, Loss: 0.3234088122844696\n",
            "MoviePy - Writing audio in temp_audio.wav\n"
          ]
        },
        {
          "output_type": "stream",
          "name": "stderr",
          "text": [
            "                                                       "
          ]
        },
        {
          "output_type": "stream",
          "name": "stdout",
          "text": [
            "MoviePy - Done.\n",
            "Epoch: 1/10, Loss: 0.3234088122844696\n"
          ]
        },
        {
          "output_type": "stream",
          "name": "stderr",
          "text": [
            "\r"
          ]
        },
        {
          "output_type": "stream",
          "name": "stdout",
          "text": [
            "MoviePy - Writing audio in temp_audio.wav\n"
          ]
        },
        {
          "output_type": "stream",
          "name": "stderr",
          "text": [
            "                                                       "
          ]
        },
        {
          "output_type": "stream",
          "name": "stdout",
          "text": [
            "MoviePy - Done.\n",
            "Epoch: 1/10, Loss: 0.3234088122844696\n"
          ]
        },
        {
          "output_type": "stream",
          "name": "stderr",
          "text": [
            "\r"
          ]
        },
        {
          "output_type": "stream",
          "name": "stdout",
          "text": [
            "MoviePy - Writing audio in temp_audio.wav\n"
          ]
        },
        {
          "output_type": "stream",
          "name": "stderr",
          "text": [
            "                                                       "
          ]
        },
        {
          "output_type": "stream",
          "name": "stdout",
          "text": [
            "MoviePy - Done.\n",
            "Epoch: 1/10, Loss: 0.3234088122844696\n"
          ]
        },
        {
          "output_type": "stream",
          "name": "stderr",
          "text": [
            "\r"
          ]
        },
        {
          "output_type": "stream",
          "name": "stdout",
          "text": [
            "MoviePy - Writing audio in temp_audio.wav\n"
          ]
        },
        {
          "output_type": "stream",
          "name": "stderr",
          "text": [
            "                                                       "
          ]
        },
        {
          "output_type": "stream",
          "name": "stdout",
          "text": [
            "MoviePy - Done.\n",
            "Epoch: 1/10, Loss: 0.3234088122844696\n"
          ]
        },
        {
          "output_type": "stream",
          "name": "stderr",
          "text": [
            "\r"
          ]
        },
        {
          "output_type": "stream",
          "name": "stdout",
          "text": [
            "MoviePy - Writing audio in temp_audio.wav\n"
          ]
        },
        {
          "output_type": "stream",
          "name": "stderr",
          "text": [
            "                                                       "
          ]
        },
        {
          "output_type": "stream",
          "name": "stdout",
          "text": [
            "MoviePy - Done.\n",
            "Epoch: 1/10, Loss: 0.3234088122844696\n"
          ]
        },
        {
          "output_type": "stream",
          "name": "stderr",
          "text": [
            "\r"
          ]
        },
        {
          "output_type": "stream",
          "name": "stdout",
          "text": [
            "MoviePy - Writing audio in temp_audio.wav\n"
          ]
        },
        {
          "output_type": "stream",
          "name": "stderr",
          "text": [
            "                                                       "
          ]
        },
        {
          "output_type": "stream",
          "name": "stdout",
          "text": [
            "MoviePy - Done.\n",
            "Epoch: 1/10, Loss: 0.3234088122844696\n"
          ]
        },
        {
          "output_type": "stream",
          "name": "stderr",
          "text": [
            "\r"
          ]
        },
        {
          "output_type": "stream",
          "name": "stdout",
          "text": [
            "MoviePy - Writing audio in temp_audio.wav\n"
          ]
        },
        {
          "output_type": "stream",
          "name": "stderr",
          "text": [
            "                                                       "
          ]
        },
        {
          "output_type": "stream",
          "name": "stdout",
          "text": [
            "MoviePy - Done.\n",
            "Epoch: 1/10, Loss: 0.3234088122844696\n"
          ]
        },
        {
          "output_type": "stream",
          "name": "stderr",
          "text": [
            "\r"
          ]
        },
        {
          "output_type": "stream",
          "name": "stdout",
          "text": [
            "MoviePy - Writing audio in temp_audio.wav\n"
          ]
        },
        {
          "output_type": "stream",
          "name": "stderr",
          "text": [
            "                                                       "
          ]
        },
        {
          "output_type": "stream",
          "name": "stdout",
          "text": [
            "MoviePy - Done.\n",
            "Epoch: 1/10, Loss: 0.4484088122844696\n"
          ]
        },
        {
          "output_type": "stream",
          "name": "stderr",
          "text": [
            "\r"
          ]
        },
        {
          "output_type": "stream",
          "name": "stdout",
          "text": [
            "MoviePy - Writing audio in temp_audio.wav\n"
          ]
        },
        {
          "output_type": "stream",
          "name": "stderr",
          "text": [
            "                                                       "
          ]
        },
        {
          "output_type": "stream",
          "name": "stdout",
          "text": [
            "MoviePy - Done.\n",
            "Epoch: 1/10, Loss: 0.3234088122844696\n"
          ]
        },
        {
          "output_type": "stream",
          "name": "stderr",
          "text": [
            "\r"
          ]
        },
        {
          "output_type": "stream",
          "name": "stdout",
          "text": [
            "MoviePy - Writing audio in temp_audio.wav\n"
          ]
        },
        {
          "output_type": "stream",
          "name": "stderr",
          "text": [
            "                                                       "
          ]
        },
        {
          "output_type": "stream",
          "name": "stdout",
          "text": [
            "MoviePy - Done.\n",
            "Epoch: 1/10, Loss: 0.323408842086792\n"
          ]
        },
        {
          "output_type": "stream",
          "name": "stderr",
          "text": [
            "\r"
          ]
        },
        {
          "output_type": "stream",
          "name": "stdout",
          "text": [
            "MoviePy - Writing audio in temp_audio.wav\n"
          ]
        },
        {
          "output_type": "stream",
          "name": "stderr",
          "text": [
            "                                                       "
          ]
        },
        {
          "output_type": "stream",
          "name": "stdout",
          "text": [
            "MoviePy - Done.\n",
            "Epoch: 1/10, Loss: 0.3234088122844696\n"
          ]
        },
        {
          "output_type": "stream",
          "name": "stderr",
          "text": [
            "\r"
          ]
        },
        {
          "output_type": "stream",
          "name": "stdout",
          "text": [
            "MoviePy - Writing audio in temp_audio.wav\n"
          ]
        },
        {
          "output_type": "stream",
          "name": "stderr",
          "text": [
            "                                                       "
          ]
        },
        {
          "output_type": "stream",
          "name": "stdout",
          "text": [
            "MoviePy - Done.\n",
            "Epoch: 1/10, Loss: 0.1984088271856308\n"
          ]
        },
        {
          "output_type": "stream",
          "name": "stderr",
          "text": [
            "\r"
          ]
        },
        {
          "output_type": "stream",
          "name": "stdout",
          "text": [
            "MoviePy - Writing audio in temp_audio.wav\n"
          ]
        },
        {
          "output_type": "stream",
          "name": "stderr",
          "text": [
            "                                                       "
          ]
        },
        {
          "output_type": "stream",
          "name": "stdout",
          "text": [
            "MoviePy - Done.\n",
            "Epoch: 1/10, Loss: 0.3234088122844696\n"
          ]
        },
        {
          "output_type": "stream",
          "name": "stderr",
          "text": [
            "\r"
          ]
        },
        {
          "output_type": "stream",
          "name": "stdout",
          "text": [
            "MoviePy - Writing audio in temp_audio.wav\n"
          ]
        },
        {
          "output_type": "stream",
          "name": "stderr",
          "text": [
            "                                                       "
          ]
        },
        {
          "output_type": "stream",
          "name": "stdout",
          "text": [
            "MoviePy - Done.\n",
            "Epoch: 1/10, Loss: 0.3234088122844696\n"
          ]
        },
        {
          "output_type": "stream",
          "name": "stderr",
          "text": [
            "\r"
          ]
        },
        {
          "output_type": "stream",
          "name": "stdout",
          "text": [
            "MoviePy - Writing audio in temp_audio.wav\n"
          ]
        },
        {
          "output_type": "stream",
          "name": "stderr",
          "text": [
            "                                                       "
          ]
        },
        {
          "output_type": "stream",
          "name": "stdout",
          "text": [
            "MoviePy - Done.\n",
            "Epoch: 1/10, Loss: 0.4484088122844696\n"
          ]
        },
        {
          "output_type": "stream",
          "name": "stderr",
          "text": [
            "\r"
          ]
        },
        {
          "output_type": "stream",
          "name": "stdout",
          "text": [
            "MoviePy - Writing audio in temp_audio.wav\n"
          ]
        },
        {
          "output_type": "stream",
          "name": "stderr",
          "text": [
            "                                                       "
          ]
        },
        {
          "output_type": "stream",
          "name": "stdout",
          "text": [
            "MoviePy - Done.\n",
            "Epoch: 1/10, Loss: 0.3234088122844696\n"
          ]
        },
        {
          "output_type": "stream",
          "name": "stderr",
          "text": [
            "\r"
          ]
        },
        {
          "output_type": "stream",
          "name": "stdout",
          "text": [
            "MoviePy - Writing audio in temp_audio.wav\n"
          ]
        },
        {
          "output_type": "stream",
          "name": "stderr",
          "text": [
            "                                                       "
          ]
        },
        {
          "output_type": "stream",
          "name": "stdout",
          "text": [
            "MoviePy - Done.\n",
            "Epoch: 1/10, Loss: 0.4484088122844696\n"
          ]
        },
        {
          "output_type": "stream",
          "name": "stderr",
          "text": [
            "\r"
          ]
        },
        {
          "output_type": "stream",
          "name": "stdout",
          "text": [
            "MoviePy - Writing audio in temp_audio.wav\n"
          ]
        },
        {
          "output_type": "stream",
          "name": "stderr",
          "text": [
            "                                                       "
          ]
        },
        {
          "output_type": "stream",
          "name": "stdout",
          "text": [
            "MoviePy - Done.\n",
            "Epoch: 1/10, Loss: 0.3234088122844696\n"
          ]
        },
        {
          "output_type": "stream",
          "name": "stderr",
          "text": [
            "\r"
          ]
        },
        {
          "output_type": "stream",
          "name": "stdout",
          "text": [
            "MoviePy - Writing audio in temp_audio.wav\n"
          ]
        },
        {
          "output_type": "stream",
          "name": "stderr",
          "text": [
            "                                                       "
          ]
        },
        {
          "output_type": "stream",
          "name": "stdout",
          "text": [
            "MoviePy - Done.\n",
            "Epoch: 1/10, Loss: 0.3234088122844696\n"
          ]
        },
        {
          "output_type": "stream",
          "name": "stderr",
          "text": [
            "\r"
          ]
        },
        {
          "output_type": "stream",
          "name": "stdout",
          "text": [
            "MoviePy - Writing audio in temp_audio.wav\n"
          ]
        },
        {
          "output_type": "stream",
          "name": "stderr",
          "text": [
            "                                                       "
          ]
        },
        {
          "output_type": "stream",
          "name": "stdout",
          "text": [
            "MoviePy - Done.\n"
          ]
        },
        {
          "output_type": "stream",
          "name": "stderr",
          "text": [
            "\r"
          ]
        },
        {
          "output_type": "stream",
          "name": "stdout",
          "text": [
            "Epoch: 1/10, Loss: 0.3234088122844696\n",
            "MoviePy - Writing audio in temp_audio.wav\n"
          ]
        },
        {
          "output_type": "stream",
          "name": "stderr",
          "text": [
            "                                                       "
          ]
        },
        {
          "output_type": "stream",
          "name": "stdout",
          "text": [
            "MoviePy - Done.\n",
            "Epoch: 1/10, Loss: 0.4484088122844696\n"
          ]
        },
        {
          "output_type": "stream",
          "name": "stderr",
          "text": [
            "\r"
          ]
        },
        {
          "output_type": "stream",
          "name": "stdout",
          "text": [
            "MoviePy - Writing audio in temp_audio.wav\n"
          ]
        },
        {
          "output_type": "stream",
          "name": "stderr",
          "text": [
            "                                                       "
          ]
        },
        {
          "output_type": "stream",
          "name": "stdout",
          "text": [
            "MoviePy - Done.\n",
            "Epoch: 1/10, Loss: 0.3234088122844696\n"
          ]
        },
        {
          "output_type": "stream",
          "name": "stderr",
          "text": [
            "\r"
          ]
        },
        {
          "output_type": "stream",
          "name": "stdout",
          "text": [
            "MoviePy - Writing audio in temp_audio.wav\n"
          ]
        },
        {
          "output_type": "stream",
          "name": "stderr",
          "text": [
            "                                                       "
          ]
        },
        {
          "output_type": "stream",
          "name": "stdout",
          "text": [
            "MoviePy - Done.\n",
            "Epoch: 1/10, Loss: 0.3234088122844696\n"
          ]
        },
        {
          "output_type": "stream",
          "name": "stderr",
          "text": [
            "\r"
          ]
        },
        {
          "output_type": "stream",
          "name": "stdout",
          "text": [
            "MoviePy - Writing audio in temp_audio.wav\n"
          ]
        },
        {
          "output_type": "stream",
          "name": "stderr",
          "text": [
            "                                                       "
          ]
        },
        {
          "output_type": "stream",
          "name": "stdout",
          "text": [
            "MoviePy - Done.\n",
            "Epoch: 1/10, Loss: 0.4484088122844696\n"
          ]
        },
        {
          "output_type": "stream",
          "name": "stderr",
          "text": [
            "\r"
          ]
        },
        {
          "output_type": "stream",
          "name": "stdout",
          "text": [
            "MoviePy - Writing audio in temp_audio.wav\n"
          ]
        },
        {
          "output_type": "stream",
          "name": "stderr",
          "text": [
            "                                                        "
          ]
        },
        {
          "output_type": "stream",
          "name": "stdout",
          "text": [
            "MoviePy - Done.\n",
            "Epoch: 1/10, Loss: 0.323408842086792\n"
          ]
        },
        {
          "output_type": "stream",
          "name": "stderr",
          "text": [
            "\r"
          ]
        },
        {
          "output_type": "stream",
          "name": "stdout",
          "text": [
            "MoviePy - Writing audio in temp_audio.wav\n"
          ]
        },
        {
          "output_type": "stream",
          "name": "stderr",
          "text": [
            "                                                       "
          ]
        },
        {
          "output_type": "stream",
          "name": "stdout",
          "text": [
            "MoviePy - Done.\n",
            "Epoch: 1/10, Loss: 0.4484088122844696\n"
          ]
        },
        {
          "output_type": "stream",
          "name": "stderr",
          "text": [
            "\r"
          ]
        },
        {
          "output_type": "stream",
          "name": "stdout",
          "text": [
            "MoviePy - Writing audio in temp_audio.wav\n"
          ]
        },
        {
          "output_type": "stream",
          "name": "stderr",
          "text": [
            "                                                       "
          ]
        },
        {
          "output_type": "stream",
          "name": "stdout",
          "text": [
            "MoviePy - Done.\n",
            "Epoch: 1/10, Loss: 0.4484088122844696\n"
          ]
        },
        {
          "output_type": "stream",
          "name": "stderr",
          "text": [
            "\r"
          ]
        },
        {
          "output_type": "stream",
          "name": "stdout",
          "text": [
            "MoviePy - Writing audio in temp_audio.wav\n"
          ]
        },
        {
          "output_type": "stream",
          "name": "stderr",
          "text": [
            "                                                       "
          ]
        },
        {
          "output_type": "stream",
          "name": "stdout",
          "text": [
            "MoviePy - Done.\n",
            "Epoch: 1/10, Loss: 0.4484088122844696\n"
          ]
        },
        {
          "output_type": "stream",
          "name": "stderr",
          "text": [
            "\r"
          ]
        },
        {
          "output_type": "stream",
          "name": "stdout",
          "text": [
            "MoviePy - Writing audio in temp_audio.wav\n"
          ]
        },
        {
          "output_type": "stream",
          "name": "stderr",
          "text": [
            "                                                       "
          ]
        },
        {
          "output_type": "stream",
          "name": "stdout",
          "text": [
            "MoviePy - Done.\n",
            "Epoch: 1/10, Loss: 0.3234088122844696\n"
          ]
        },
        {
          "output_type": "stream",
          "name": "stderr",
          "text": [
            "\r"
          ]
        },
        {
          "output_type": "stream",
          "name": "stdout",
          "text": [
            "MoviePy - Writing audio in temp_audio.wav\n"
          ]
        },
        {
          "output_type": "stream",
          "name": "stderr",
          "text": [
            "                                                       "
          ]
        },
        {
          "output_type": "stream",
          "name": "stdout",
          "text": [
            "MoviePy - Done.\n",
            "Epoch: 1/10, Loss: 0.3234088122844696\n"
          ]
        },
        {
          "output_type": "stream",
          "name": "stderr",
          "text": [
            "\r"
          ]
        },
        {
          "output_type": "stream",
          "name": "stdout",
          "text": [
            "MoviePy - Writing audio in temp_audio.wav\n"
          ]
        },
        {
          "output_type": "stream",
          "name": "stderr",
          "text": [
            "                                                       "
          ]
        },
        {
          "output_type": "stream",
          "name": "stdout",
          "text": [
            "MoviePy - Done.\n",
            "Epoch: 1/10, Loss: 0.3234088122844696\n"
          ]
        },
        {
          "output_type": "stream",
          "name": "stderr",
          "text": [
            "\r"
          ]
        },
        {
          "output_type": "stream",
          "name": "stdout",
          "text": [
            "MoviePy - Writing audio in temp_audio.wav\n"
          ]
        },
        {
          "output_type": "stream",
          "name": "stderr",
          "text": [
            "                                                       "
          ]
        },
        {
          "output_type": "stream",
          "name": "stdout",
          "text": [
            "MoviePy - Done.\n",
            "Epoch: 1/10, Loss: 0.4484088122844696\n"
          ]
        },
        {
          "output_type": "stream",
          "name": "stderr",
          "text": [
            "\r"
          ]
        },
        {
          "output_type": "stream",
          "name": "stdout",
          "text": [
            "MoviePy - Writing audio in temp_audio.wav\n"
          ]
        },
        {
          "output_type": "stream",
          "name": "stderr",
          "text": [
            "                                                       "
          ]
        },
        {
          "output_type": "stream",
          "name": "stdout",
          "text": [
            "MoviePy - Done.\n",
            "Epoch: 1/10, Loss: 0.4484088122844696\n"
          ]
        },
        {
          "output_type": "stream",
          "name": "stderr",
          "text": [
            "\r"
          ]
        },
        {
          "output_type": "stream",
          "name": "stdout",
          "text": [
            "MoviePy - Writing audio in temp_audio.wav\n"
          ]
        },
        {
          "output_type": "stream",
          "name": "stderr",
          "text": [
            "                                                       "
          ]
        },
        {
          "output_type": "stream",
          "name": "stdout",
          "text": [
            "MoviePy - Done.\n",
            "Epoch: 1/10, Loss: 0.1984088271856308\n"
          ]
        },
        {
          "output_type": "stream",
          "name": "stderr",
          "text": [
            "\r"
          ]
        },
        {
          "output_type": "stream",
          "name": "stdout",
          "text": [
            "MoviePy - Writing audio in temp_audio.wav\n"
          ]
        },
        {
          "output_type": "stream",
          "name": "stderr",
          "text": [
            "                                                       "
          ]
        },
        {
          "output_type": "stream",
          "name": "stdout",
          "text": [
            "MoviePy - Done.\n",
            "Epoch: 1/10, Loss: 0.3234088122844696\n"
          ]
        },
        {
          "output_type": "stream",
          "name": "stderr",
          "text": [
            "\r"
          ]
        },
        {
          "output_type": "stream",
          "name": "stdout",
          "text": [
            "MoviePy - Writing audio in temp_audio.wav\n"
          ]
        },
        {
          "output_type": "stream",
          "name": "stderr",
          "text": [
            "                                                       "
          ]
        },
        {
          "output_type": "stream",
          "name": "stdout",
          "text": [
            "MoviePy - Done.\n",
            "Epoch: 1/10, Loss: 0.4484088122844696\n"
          ]
        },
        {
          "output_type": "stream",
          "name": "stderr",
          "text": [
            "\r"
          ]
        },
        {
          "output_type": "stream",
          "name": "stdout",
          "text": [
            "MoviePy - Writing audio in temp_audio.wav\n"
          ]
        },
        {
          "output_type": "stream",
          "name": "stderr",
          "text": [
            "                                                       "
          ]
        },
        {
          "output_type": "stream",
          "name": "stdout",
          "text": [
            "MoviePy - Done.\n",
            "Epoch: 1/10, Loss: 0.4484088122844696\n"
          ]
        },
        {
          "output_type": "stream",
          "name": "stderr",
          "text": [
            "\r"
          ]
        },
        {
          "output_type": "stream",
          "name": "stdout",
          "text": [
            "MoviePy - Writing audio in temp_audio.wav\n"
          ]
        },
        {
          "output_type": "stream",
          "name": "stderr",
          "text": [
            "                                                       "
          ]
        },
        {
          "output_type": "stream",
          "name": "stdout",
          "text": [
            "MoviePy - Done.\n",
            "Epoch: 1/10, Loss: 0.4484088122844696\n"
          ]
        },
        {
          "output_type": "stream",
          "name": "stderr",
          "text": [
            "\r"
          ]
        },
        {
          "output_type": "stream",
          "name": "stdout",
          "text": [
            "MoviePy - Writing audio in temp_audio.wav\n"
          ]
        },
        {
          "output_type": "stream",
          "name": "stderr",
          "text": [
            "                                                       "
          ]
        },
        {
          "output_type": "stream",
          "name": "stdout",
          "text": [
            "MoviePy - Done.\n",
            "Epoch: 1/10, Loss: 0.4484088122844696\n"
          ]
        },
        {
          "output_type": "stream",
          "name": "stderr",
          "text": [
            "\r"
          ]
        },
        {
          "output_type": "stream",
          "name": "stdout",
          "text": [
            "MoviePy - Writing audio in temp_audio.wav\n"
          ]
        },
        {
          "output_type": "stream",
          "name": "stderr",
          "text": [
            "                                                       "
          ]
        },
        {
          "output_type": "stream",
          "name": "stdout",
          "text": [
            "MoviePy - Done.\n"
          ]
        },
        {
          "output_type": "stream",
          "name": "stderr",
          "text": [
            "\r"
          ]
        },
        {
          "output_type": "stream",
          "name": "stdout",
          "text": [
            "Epoch: 1/10, Loss: 0.4484088122844696\n",
            "MoviePy - Writing audio in temp_audio.wav\n"
          ]
        },
        {
          "output_type": "stream",
          "name": "stderr",
          "text": [
            "                                                       "
          ]
        },
        {
          "output_type": "stream",
          "name": "stdout",
          "text": [
            "MoviePy - Done.\n",
            "Epoch: 1/10, Loss: 0.3234088122844696\n"
          ]
        },
        {
          "output_type": "stream",
          "name": "stderr",
          "text": [
            "\r"
          ]
        },
        {
          "output_type": "stream",
          "name": "stdout",
          "text": [
            "MoviePy - Writing audio in temp_audio.wav\n"
          ]
        },
        {
          "output_type": "stream",
          "name": "stderr",
          "text": [
            "                                                        "
          ]
        },
        {
          "output_type": "stream",
          "name": "stdout",
          "text": [
            "MoviePy - Done.\n",
            "Epoch: 1/10, Loss: 0.3234088122844696\n"
          ]
        },
        {
          "output_type": "stream",
          "name": "stderr",
          "text": [
            "\r"
          ]
        },
        {
          "output_type": "stream",
          "name": "stdout",
          "text": [
            "MoviePy - Writing audio in temp_audio.wav\n"
          ]
        },
        {
          "output_type": "stream",
          "name": "stderr",
          "text": [
            "                                                       "
          ]
        },
        {
          "output_type": "stream",
          "name": "stdout",
          "text": [
            "MoviePy - Done.\n",
            "Epoch: 1/10, Loss: 0.3234088122844696\n"
          ]
        },
        {
          "output_type": "stream",
          "name": "stderr",
          "text": [
            "\r"
          ]
        },
        {
          "output_type": "stream",
          "name": "stdout",
          "text": [
            "MoviePy - Writing audio in temp_audio.wav\n"
          ]
        },
        {
          "output_type": "stream",
          "name": "stderr",
          "text": [
            "                                                       "
          ]
        },
        {
          "output_type": "stream",
          "name": "stdout",
          "text": [
            "MoviePy - Done.\n",
            "Epoch: 1/10, Loss: 0.3234088122844696\n"
          ]
        },
        {
          "output_type": "stream",
          "name": "stderr",
          "text": [
            "\r"
          ]
        },
        {
          "output_type": "stream",
          "name": "stdout",
          "text": [
            "MoviePy - Writing audio in temp_audio.wav\n"
          ]
        },
        {
          "output_type": "stream",
          "name": "stderr",
          "text": [
            "                                                       "
          ]
        },
        {
          "output_type": "stream",
          "name": "stdout",
          "text": [
            "MoviePy - Done.\n",
            "Epoch: 1/10, Loss: 0.323408842086792\n"
          ]
        },
        {
          "output_type": "stream",
          "name": "stderr",
          "text": [
            "\r"
          ]
        },
        {
          "output_type": "stream",
          "name": "stdout",
          "text": [
            "MoviePy - Writing audio in temp_audio.wav\n"
          ]
        },
        {
          "output_type": "stream",
          "name": "stderr",
          "text": [
            "                                                       "
          ]
        },
        {
          "output_type": "stream",
          "name": "stdout",
          "text": [
            "MoviePy - Done.\n",
            "Epoch: 1/10, Loss: 0.4484088122844696\n"
          ]
        },
        {
          "output_type": "stream",
          "name": "stderr",
          "text": [
            "\r"
          ]
        },
        {
          "output_type": "stream",
          "name": "stdout",
          "text": [
            "MoviePy - Writing audio in temp_audio.wav\n"
          ]
        },
        {
          "output_type": "stream",
          "name": "stderr",
          "text": [
            "                                                       "
          ]
        },
        {
          "output_type": "stream",
          "name": "stdout",
          "text": [
            "MoviePy - Done.\n",
            "Epoch: 1/10, Loss: 0.3234088122844696\n"
          ]
        },
        {
          "output_type": "stream",
          "name": "stderr",
          "text": [
            "\r"
          ]
        },
        {
          "output_type": "stream",
          "name": "stdout",
          "text": [
            "MoviePy - Writing audio in temp_audio.wav\n"
          ]
        },
        {
          "output_type": "stream",
          "name": "stderr",
          "text": [
            "                                                       "
          ]
        },
        {
          "output_type": "stream",
          "name": "stdout",
          "text": [
            "MoviePy - Done.\n",
            "Epoch: 1/10, Loss: 0.3234088122844696\n"
          ]
        },
        {
          "output_type": "stream",
          "name": "stderr",
          "text": [
            "\r"
          ]
        },
        {
          "output_type": "stream",
          "name": "stdout",
          "text": [
            "MoviePy - Writing audio in temp_audio.wav\n"
          ]
        },
        {
          "output_type": "stream",
          "name": "stderr",
          "text": [
            "                                                       "
          ]
        },
        {
          "output_type": "stream",
          "name": "stdout",
          "text": [
            "MoviePy - Done.\n",
            "Epoch: 1/10, Loss: 0.4484088122844696\n"
          ]
        },
        {
          "output_type": "stream",
          "name": "stderr",
          "text": [
            "\r"
          ]
        },
        {
          "output_type": "stream",
          "name": "stdout",
          "text": [
            "MoviePy - Writing audio in temp_audio.wav\n"
          ]
        },
        {
          "output_type": "stream",
          "name": "stderr",
          "text": [
            "                                                       "
          ]
        },
        {
          "output_type": "stream",
          "name": "stdout",
          "text": [
            "MoviePy - Done.\n",
            "Epoch: 1/10, Loss: 0.3234088122844696\n"
          ]
        },
        {
          "output_type": "stream",
          "name": "stderr",
          "text": [
            "\r"
          ]
        },
        {
          "output_type": "stream",
          "name": "stdout",
          "text": [
            "MoviePy - Writing audio in temp_audio.wav\n"
          ]
        },
        {
          "output_type": "stream",
          "name": "stderr",
          "text": [
            "                                                       "
          ]
        },
        {
          "output_type": "stream",
          "name": "stdout",
          "text": [
            "MoviePy - Done.\n",
            "Epoch: 1/10, Loss: 0.4484088122844696\n"
          ]
        },
        {
          "output_type": "stream",
          "name": "stderr",
          "text": [
            "\r"
          ]
        },
        {
          "output_type": "stream",
          "name": "stdout",
          "text": [
            "MoviePy - Writing audio in temp_audio.wav\n"
          ]
        },
        {
          "output_type": "stream",
          "name": "stderr",
          "text": [
            "                                                       "
          ]
        },
        {
          "output_type": "stream",
          "name": "stdout",
          "text": [
            "MoviePy - Done.\n",
            "Epoch: 1/10, Loss: 0.3234088122844696\n"
          ]
        },
        {
          "output_type": "stream",
          "name": "stderr",
          "text": [
            "\r"
          ]
        },
        {
          "output_type": "stream",
          "name": "stdout",
          "text": [
            "MoviePy - Writing audio in temp_audio.wav\n"
          ]
        },
        {
          "output_type": "stream",
          "name": "stderr",
          "text": [
            "                                                       "
          ]
        },
        {
          "output_type": "stream",
          "name": "stdout",
          "text": [
            "MoviePy - Done.\n",
            "Epoch: 1/10, Loss: 0.3234088122844696\n"
          ]
        },
        {
          "output_type": "stream",
          "name": "stderr",
          "text": [
            "\r"
          ]
        },
        {
          "output_type": "stream",
          "name": "stdout",
          "text": [
            "MoviePy - Writing audio in temp_audio.wav\n"
          ]
        },
        {
          "output_type": "stream",
          "name": "stderr",
          "text": [
            "                                                       "
          ]
        },
        {
          "output_type": "stream",
          "name": "stdout",
          "text": [
            "MoviePy - Done.\n",
            "Epoch: 1/10, Loss: 0.3234088122844696\n"
          ]
        },
        {
          "output_type": "stream",
          "name": "stderr",
          "text": [
            "\r"
          ]
        },
        {
          "output_type": "stream",
          "name": "stdout",
          "text": [
            "MoviePy - Writing audio in temp_audio.wav\n"
          ]
        },
        {
          "output_type": "stream",
          "name": "stderr",
          "text": [
            "                                                       "
          ]
        },
        {
          "output_type": "stream",
          "name": "stdout",
          "text": [
            "MoviePy - Done.\n",
            "Epoch: 1/10, Loss: 0.4484088122844696\n"
          ]
        },
        {
          "output_type": "stream",
          "name": "stderr",
          "text": [
            "\r"
          ]
        },
        {
          "output_type": "stream",
          "name": "stdout",
          "text": [
            "MoviePy - Writing audio in temp_audio.wav\n"
          ]
        },
        {
          "output_type": "stream",
          "name": "stderr",
          "text": [
            "                                                       "
          ]
        },
        {
          "output_type": "stream",
          "name": "stdout",
          "text": [
            "MoviePy - Done.\n",
            "Epoch: 1/10, Loss: 0.1984088271856308\n"
          ]
        },
        {
          "output_type": "stream",
          "name": "stderr",
          "text": [
            "\r"
          ]
        },
        {
          "output_type": "stream",
          "name": "stdout",
          "text": [
            "MoviePy - Writing audio in temp_audio.wav\n"
          ]
        },
        {
          "output_type": "stream",
          "name": "stderr",
          "text": [
            "                                                       "
          ]
        },
        {
          "output_type": "stream",
          "name": "stdout",
          "text": [
            "MoviePy - Done.\n",
            "Epoch: 1/10, Loss: 0.323408842086792\n"
          ]
        },
        {
          "output_type": "stream",
          "name": "stderr",
          "text": [
            "\r"
          ]
        },
        {
          "output_type": "stream",
          "name": "stdout",
          "text": [
            "MoviePy - Writing audio in temp_audio.wav\n"
          ]
        },
        {
          "output_type": "stream",
          "name": "stderr",
          "text": [
            "                                                                 "
          ]
        },
        {
          "output_type": "stream",
          "name": "stdout",
          "text": [
            "MoviePy - Done.\n"
          ]
        },
        {
          "output_type": "stream",
          "name": "stderr",
          "text": [
            "\r"
          ]
        },
        {
          "output_type": "stream",
          "name": "stdout",
          "text": [
            "Epoch: 1/10, Loss: 0.4484088122844696\n",
            "MoviePy - Writing audio in temp_audio.wav\n"
          ]
        },
        {
          "output_type": "stream",
          "name": "stderr",
          "text": [
            "                                                       "
          ]
        },
        {
          "output_type": "stream",
          "name": "stdout",
          "text": [
            "MoviePy - Done.\n",
            "Epoch: 1/10, Loss: 0.3234088122844696\n"
          ]
        },
        {
          "output_type": "stream",
          "name": "stderr",
          "text": [
            "\r"
          ]
        },
        {
          "output_type": "stream",
          "name": "stdout",
          "text": [
            "MoviePy - Writing audio in temp_audio.wav\n"
          ]
        },
        {
          "output_type": "stream",
          "name": "stderr",
          "text": []
        },
        {
          "output_type": "stream",
          "name": "stdout",
          "text": [
            "MoviePy - Done.\n",
            "Epoch: 1/10, Loss: 0.4484088122844696\n",
            "MoviePy - Writing audio in temp_audio.wav\n"
          ]
        },
        {
          "output_type": "stream",
          "name": "stderr",
          "text": [
            "                                                       "
          ]
        },
        {
          "output_type": "stream",
          "name": "stdout",
          "text": [
            "MoviePy - Done.\n",
            "Epoch: 1/10, Loss: 0.3234088122844696\n"
          ]
        },
        {
          "output_type": "stream",
          "name": "stderr",
          "text": [
            "\r"
          ]
        },
        {
          "output_type": "stream",
          "name": "stdout",
          "text": [
            "MoviePy - Writing audio in temp_audio.wav\n"
          ]
        },
        {
          "output_type": "stream",
          "name": "stderr",
          "text": [
            "                                                       "
          ]
        },
        {
          "output_type": "stream",
          "name": "stdout",
          "text": [
            "MoviePy - Done.\n",
            "Epoch: 1/10, Loss: 0.4484088122844696\n"
          ]
        },
        {
          "output_type": "stream",
          "name": "stderr",
          "text": [
            "\r"
          ]
        },
        {
          "output_type": "stream",
          "name": "stdout",
          "text": [
            "MoviePy - Writing audio in temp_audio.wav\n"
          ]
        },
        {
          "output_type": "stream",
          "name": "stderr",
          "text": [
            "                                                       "
          ]
        },
        {
          "output_type": "stream",
          "name": "stdout",
          "text": [
            "MoviePy - Done.\n",
            "Epoch: 1/10, Loss: 0.3234088122844696\n"
          ]
        },
        {
          "output_type": "stream",
          "name": "stderr",
          "text": [
            "\r"
          ]
        },
        {
          "output_type": "stream",
          "name": "stdout",
          "text": [
            "MoviePy - Writing audio in temp_audio.wav\n"
          ]
        },
        {
          "output_type": "stream",
          "name": "stderr",
          "text": [
            "                                                       "
          ]
        },
        {
          "output_type": "stream",
          "name": "stdout",
          "text": [
            "MoviePy - Done.\n",
            "Epoch: 1/10, Loss: 0.3234088122844696\n"
          ]
        },
        {
          "output_type": "stream",
          "name": "stderr",
          "text": [
            "\r"
          ]
        },
        {
          "output_type": "stream",
          "name": "stdout",
          "text": [
            "MoviePy - Writing audio in temp_audio.wav\n"
          ]
        },
        {
          "output_type": "stream",
          "name": "stderr",
          "text": [
            "                                                       "
          ]
        },
        {
          "output_type": "stream",
          "name": "stdout",
          "text": [
            "MoviePy - Done.\n",
            "Epoch: 1/10, Loss: 0.1984088271856308\n"
          ]
        },
        {
          "output_type": "stream",
          "name": "stderr",
          "text": [
            "\r"
          ]
        },
        {
          "output_type": "stream",
          "name": "stdout",
          "text": [
            "MoviePy - Writing audio in temp_audio.wav\n"
          ]
        },
        {
          "output_type": "stream",
          "name": "stderr",
          "text": [
            "                                                       "
          ]
        },
        {
          "output_type": "stream",
          "name": "stdout",
          "text": [
            "MoviePy - Done.\n",
            "Epoch: 1/10, Loss: 0.4484088122844696\n"
          ]
        },
        {
          "output_type": "stream",
          "name": "stderr",
          "text": [
            "\r"
          ]
        },
        {
          "output_type": "stream",
          "name": "stdout",
          "text": [
            "MoviePy - Writing audio in temp_audio.wav\n"
          ]
        },
        {
          "output_type": "stream",
          "name": "stderr",
          "text": [
            "                                                       "
          ]
        },
        {
          "output_type": "stream",
          "name": "stdout",
          "text": [
            "MoviePy - Done.\n",
            "Epoch: 1/10, Loss: 0.4484088122844696\n"
          ]
        },
        {
          "output_type": "stream",
          "name": "stderr",
          "text": [
            "\r"
          ]
        },
        {
          "output_type": "stream",
          "name": "stdout",
          "text": [
            "MoviePy - Writing audio in temp_audio.wav\n"
          ]
        },
        {
          "output_type": "stream",
          "name": "stderr",
          "text": [
            "                                                        "
          ]
        },
        {
          "output_type": "stream",
          "name": "stdout",
          "text": [
            "MoviePy - Done.\n",
            "Epoch: 1/10, Loss: 0.4484088122844696\n"
          ]
        },
        {
          "output_type": "stream",
          "name": "stderr",
          "text": [
            "\r"
          ]
        },
        {
          "output_type": "stream",
          "name": "stdout",
          "text": [
            "MoviePy - Writing audio in temp_audio.wav\n"
          ]
        },
        {
          "output_type": "stream",
          "name": "stderr",
          "text": [
            "                                                       "
          ]
        },
        {
          "output_type": "stream",
          "name": "stdout",
          "text": [
            "MoviePy - Done.\n",
            "Epoch: 1/10, Loss: 0.3234088122844696\n"
          ]
        },
        {
          "output_type": "stream",
          "name": "stderr",
          "text": [
            "\r"
          ]
        },
        {
          "output_type": "stream",
          "name": "stdout",
          "text": [
            "MoviePy - Writing audio in temp_audio.wav\n"
          ]
        },
        {
          "output_type": "stream",
          "name": "stderr",
          "text": [
            "                                                       "
          ]
        },
        {
          "output_type": "stream",
          "name": "stdout",
          "text": [
            "MoviePy - Done.\n",
            "Epoch: 1/10, Loss: 0.3234088122844696\n"
          ]
        },
        {
          "output_type": "stream",
          "name": "stderr",
          "text": [
            "\r"
          ]
        },
        {
          "output_type": "stream",
          "name": "stdout",
          "text": [
            "MoviePy - Writing audio in temp_audio.wav\n"
          ]
        },
        {
          "output_type": "stream",
          "name": "stderr",
          "text": [
            "                                                       "
          ]
        },
        {
          "output_type": "stream",
          "name": "stdout",
          "text": [
            "MoviePy - Done.\n",
            "Epoch: 1/10, Loss: 0.3234088122844696\n"
          ]
        },
        {
          "output_type": "stream",
          "name": "stderr",
          "text": [
            "\r"
          ]
        },
        {
          "output_type": "stream",
          "name": "stdout",
          "text": [
            "MoviePy - Writing audio in temp_audio.wav\n"
          ]
        },
        {
          "output_type": "stream",
          "name": "stderr",
          "text": [
            "                                                       "
          ]
        },
        {
          "output_type": "stream",
          "name": "stdout",
          "text": [
            "MoviePy - Done.\n",
            "Epoch: 1/10, Loss: 0.323408842086792\n"
          ]
        },
        {
          "output_type": "stream",
          "name": "stderr",
          "text": [
            "\r"
          ]
        },
        {
          "output_type": "stream",
          "name": "stdout",
          "text": [
            "MoviePy - Writing audio in temp_audio.wav\n"
          ]
        },
        {
          "output_type": "stream",
          "name": "stderr",
          "text": [
            "                                                       "
          ]
        },
        {
          "output_type": "stream",
          "name": "stdout",
          "text": [
            "MoviePy - Done.\n",
            "Epoch: 1/10, Loss: 0.4484088122844696\n"
          ]
        },
        {
          "output_type": "stream",
          "name": "stderr",
          "text": [
            "\r"
          ]
        },
        {
          "output_type": "stream",
          "name": "stdout",
          "text": [
            "MoviePy - Writing audio in temp_audio.wav\n"
          ]
        },
        {
          "output_type": "stream",
          "name": "stderr",
          "text": [
            "                                                       "
          ]
        },
        {
          "output_type": "stream",
          "name": "stdout",
          "text": [
            "MoviePy - Done.\n",
            "Epoch: 1/10, Loss: 0.3234088122844696\n"
          ]
        },
        {
          "output_type": "stream",
          "name": "stderr",
          "text": [
            "\r"
          ]
        },
        {
          "output_type": "stream",
          "name": "stdout",
          "text": [
            "MoviePy - Writing audio in temp_audio.wav\n"
          ]
        },
        {
          "output_type": "stream",
          "name": "stderr",
          "text": [
            "                                                       "
          ]
        },
        {
          "output_type": "stream",
          "name": "stdout",
          "text": [
            "MoviePy - Done.\n"
          ]
        },
        {
          "output_type": "stream",
          "name": "stderr",
          "text": [
            "\r"
          ]
        },
        {
          "output_type": "stream",
          "name": "stdout",
          "text": [
            "Epoch: 1/10, Loss: 0.3234088122844696\n",
            "MoviePy - Writing audio in temp_audio.wav\n"
          ]
        },
        {
          "output_type": "stream",
          "name": "stderr",
          "text": [
            "                                                       "
          ]
        },
        {
          "output_type": "stream",
          "name": "stdout",
          "text": [
            "MoviePy - Done.\n",
            "Epoch: 1/10, Loss: 0.323408842086792\n"
          ]
        },
        {
          "output_type": "stream",
          "name": "stderr",
          "text": [
            "\r"
          ]
        },
        {
          "output_type": "stream",
          "name": "stdout",
          "text": [
            "MoviePy - Writing audio in temp_audio.wav\n"
          ]
        },
        {
          "output_type": "stream",
          "name": "stderr",
          "text": [
            "                                                       "
          ]
        },
        {
          "output_type": "stream",
          "name": "stdout",
          "text": [
            "MoviePy - Done.\n",
            "Epoch: 1/10, Loss: 0.3234088122844696\n"
          ]
        },
        {
          "output_type": "stream",
          "name": "stderr",
          "text": [
            "\r"
          ]
        },
        {
          "output_type": "stream",
          "name": "stdout",
          "text": [
            "MoviePy - Writing audio in temp_audio.wav\n"
          ]
        },
        {
          "output_type": "stream",
          "name": "stderr",
          "text": [
            "                                                       "
          ]
        },
        {
          "output_type": "stream",
          "name": "stdout",
          "text": [
            "MoviePy - Done.\n",
            "Epoch: 1/10, Loss: 0.3234088122844696\n"
          ]
        },
        {
          "output_type": "stream",
          "name": "stderr",
          "text": [
            "\r"
          ]
        },
        {
          "output_type": "stream",
          "name": "stdout",
          "text": [
            "MoviePy - Writing audio in temp_audio.wav\n"
          ]
        },
        {
          "output_type": "stream",
          "name": "stderr",
          "text": [
            "                                                       "
          ]
        },
        {
          "output_type": "stream",
          "name": "stdout",
          "text": [
            "MoviePy - Done.\n",
            "Epoch: 1/10, Loss: 0.4484088122844696\n"
          ]
        },
        {
          "output_type": "stream",
          "name": "stderr",
          "text": [
            "\r"
          ]
        },
        {
          "output_type": "stream",
          "name": "stdout",
          "text": [
            "MoviePy - Writing audio in temp_audio.wav\n"
          ]
        },
        {
          "output_type": "stream",
          "name": "stderr",
          "text": []
        },
        {
          "output_type": "stream",
          "name": "stdout",
          "text": [
            "MoviePy - Done.\n",
            "Epoch: 1/10, Loss: 0.4484088122844696\n",
            "MoviePy - Writing audio in temp_audio.wav\n"
          ]
        },
        {
          "output_type": "stream",
          "name": "stderr",
          "text": [
            "                                                       "
          ]
        },
        {
          "output_type": "stream",
          "name": "stdout",
          "text": [
            "MoviePy - Done.\n",
            "Epoch: 1/10, Loss: 0.4484088122844696\n"
          ]
        },
        {
          "output_type": "stream",
          "name": "stderr",
          "text": [
            "\r"
          ]
        },
        {
          "output_type": "stream",
          "name": "stdout",
          "text": [
            "MoviePy - Writing audio in temp_audio.wav\n"
          ]
        },
        {
          "output_type": "stream",
          "name": "stderr",
          "text": [
            "                                                       "
          ]
        },
        {
          "output_type": "stream",
          "name": "stdout",
          "text": [
            "MoviePy - Done.\n",
            "Epoch: 1/10, Loss: 0.323408842086792\n"
          ]
        },
        {
          "output_type": "stream",
          "name": "stderr",
          "text": [
            "\r"
          ]
        },
        {
          "output_type": "stream",
          "name": "stdout",
          "text": [
            "MoviePy - Writing audio in temp_audio.wav\n"
          ]
        },
        {
          "output_type": "stream",
          "name": "stderr",
          "text": [
            "                                                       "
          ]
        },
        {
          "output_type": "stream",
          "name": "stdout",
          "text": [
            "MoviePy - Done.\n",
            "Epoch: 1/10, Loss: 0.3234088122844696\n"
          ]
        },
        {
          "output_type": "stream",
          "name": "stderr",
          "text": [
            "\r"
          ]
        },
        {
          "output_type": "stream",
          "name": "stdout",
          "text": [
            "MoviePy - Writing audio in temp_audio.wav\n"
          ]
        },
        {
          "output_type": "stream",
          "name": "stderr",
          "text": [
            "                                                       "
          ]
        },
        {
          "output_type": "stream",
          "name": "stdout",
          "text": [
            "MoviePy - Done.\n",
            "Epoch: 1/10, Loss: 0.3234088122844696\n"
          ]
        },
        {
          "output_type": "stream",
          "name": "stderr",
          "text": [
            "\r"
          ]
        },
        {
          "output_type": "stream",
          "name": "stdout",
          "text": [
            "MoviePy - Writing audio in temp_audio.wav\n"
          ]
        },
        {
          "output_type": "stream",
          "name": "stderr",
          "text": [
            "                                                        "
          ]
        },
        {
          "output_type": "stream",
          "name": "stdout",
          "text": [
            "MoviePy - Done.\n",
            "Epoch: 1/10, Loss: 0.4484088122844696\n"
          ]
        },
        {
          "output_type": "stream",
          "name": "stderr",
          "text": [
            "\r"
          ]
        },
        {
          "output_type": "stream",
          "name": "stdout",
          "text": [
            "MoviePy - Writing audio in temp_audio.wav\n"
          ]
        },
        {
          "output_type": "stream",
          "name": "stderr",
          "text": [
            "                                                       "
          ]
        },
        {
          "output_type": "stream",
          "name": "stdout",
          "text": [
            "MoviePy - Done.\n",
            "Epoch: 1/10, Loss: 0.3234088122844696\n"
          ]
        },
        {
          "output_type": "stream",
          "name": "stderr",
          "text": [
            "\r"
          ]
        },
        {
          "output_type": "stream",
          "name": "stdout",
          "text": [
            "MoviePy - Writing audio in temp_audio.wav\n"
          ]
        },
        {
          "output_type": "stream",
          "name": "stderr",
          "text": [
            "                                                       "
          ]
        },
        {
          "output_type": "stream",
          "name": "stdout",
          "text": [
            "MoviePy - Done.\n",
            "Epoch: 1/10, Loss: 0.4484088122844696\n"
          ]
        },
        {
          "output_type": "stream",
          "name": "stderr",
          "text": [
            "\r"
          ]
        },
        {
          "output_type": "stream",
          "name": "stdout",
          "text": [
            "MoviePy - Writing audio in temp_audio.wav\n"
          ]
        },
        {
          "output_type": "stream",
          "name": "stderr",
          "text": [
            "                                                       "
          ]
        },
        {
          "output_type": "stream",
          "name": "stdout",
          "text": [
            "MoviePy - Done.\n",
            "Epoch: 1/10, Loss: 0.3234088122844696\n"
          ]
        },
        {
          "output_type": "stream",
          "name": "stderr",
          "text": [
            "\r"
          ]
        },
        {
          "output_type": "stream",
          "name": "stdout",
          "text": [
            "MoviePy - Writing audio in temp_audio.wav\n"
          ]
        },
        {
          "output_type": "stream",
          "name": "stderr",
          "text": [
            "                                                       "
          ]
        },
        {
          "output_type": "stream",
          "name": "stdout",
          "text": [
            "MoviePy - Done.\n",
            "Epoch: 1/10, Loss: 0.3234088122844696\n"
          ]
        },
        {
          "output_type": "stream",
          "name": "stderr",
          "text": [
            "\r"
          ]
        },
        {
          "output_type": "stream",
          "name": "stdout",
          "text": [
            "MoviePy - Writing audio in temp_audio.wav\n"
          ]
        },
        {
          "output_type": "stream",
          "name": "stderr",
          "text": [
            "                                                       "
          ]
        }
      ]
    }
  ],
  "metadata": {
    "colab": {
      "gpuType": "T4",
      "provenance": []
    },
    "kernelspec": {
      "display_name": "Python 3",
      "name": "python3"
    },
    "language_info": {
      "name": "python"
    },
    "accelerator": "GPU"
  },
  "nbformat": 4,
  "nbformat_minor": 0
}